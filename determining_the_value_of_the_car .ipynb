{
 "cells": [
  {
   "cell_type": "markdown",
   "metadata": {},
   "source": [
    "# Определение стоимости автомобилей"
   ]
  },
  {
   "cell_type": "markdown",
   "metadata": {},
   "source": [
    "Сервис по продаже автомобилей с пробегом разрабатывает приложение для привлечения новых клиентов. В нём можно быстро узнать рыночную стоимость своего автомобиля. В вашем распоряжении исторические данные: технические характеристики, комплектации и цены автомобилей. Нужно построить модель для определения стоимости. \n",
    "\n",
    "Заказчику важны:\n",
    "\n",
    "- качество предсказания;\n",
    "- скорость предсказания;\n",
    "- время обучения.\n",
    "\n",
    "В архиве есть следующие данные:   \n",
    "Признаки   \n",
    "DateCrawled — дата скачивания анкеты из базы   \n",
    "VehicleType — тип автомобильного кузова   \n",
    "RegistrationYear — год регистрации автомобиля   \n",
    "Gearbox — тип коробки передач   \n",
    "Power — мощность (л. с.)   \n",
    "Model — модель автомобиля   \n",
    "Kilometer — пробег (км)   \n",
    "RegistrationMonth — месяц регистрации автомобиля   \n",
    "FuelType — тип топлива   \n",
    "Brand — марка автомобиля   \n",
    "Repaired — была машина в ремонте или нет   \n",
    "DateCreated — дата создания анкеты   \n",
    "NumberOfPictures — количество фотографий автомобиля   \n",
    "PostalCode — почтовый индекс владельца анкеты (пользователя)   \n",
    "LastSeen — дата последней активности пользователя   \n",
    "Целевой признак   \n",
    "Price — цена (евро)   "
   ]
  },
  {
   "cell_type": "markdown",
   "metadata": {},
   "source": [
    "## Подготовка данных"
   ]
  },
  {
   "cell_type": "code",
   "execution_count": 1,
   "metadata": {},
   "outputs": [],
   "source": [
    "import pandas as pd\n",
    "import numpy as np\n",
    "import datetime\n",
    "import warnings\n",
    "\n",
    "from sklearn.preprocessing import OrdinalEncoder\n",
    "from sklearn.preprocessing import StandardScaler\n",
    "from sklearn.model_selection import train_test_split\n",
    "from sklearn.linear_model import LinearRegression\n",
    "from sklearn.tree import DecisionTreeRegressor\n",
    "from sklearn.metrics import mean_squared_error\n",
    "\n",
    "from lightgbm import LGBMRegressor\n",
    "warnings.filterwarnings('ignore')"
   ]
  },
  {
   "cell_type": "code",
   "execution_count": 2,
   "metadata": {},
   "outputs": [
    {
     "data": {
      "text/plain": [
       "4"
      ]
     },
     "execution_count": 2,
     "metadata": {},
     "output_type": "execute_result"
    }
   ],
   "source": [
    "try:\n",
    "    data = pd.read_csv(\"autos.csv\")\n",
    "except:\n",
    "    print('could not open the file')\n",
    "data.head()\n",
    "data.duplicated().sum()"
   ]
  },
  {
   "cell_type": "markdown",
   "metadata": {},
   "source": [
    "уберем дубликаты"
   ]
  },
  {
   "cell_type": "code",
   "execution_count": 3,
   "metadata": {},
   "outputs": [
    {
     "data": {
      "text/plain": [
       "0"
      ]
     },
     "execution_count": 3,
     "metadata": {},
     "output_type": "execute_result"
    }
   ],
   "source": [
    "data = data.drop_duplicates()\n",
    "data.duplicated().sum()"
   ]
  },
  {
   "cell_type": "markdown",
   "metadata": {},
   "source": [
    "Для дальнейшей работы стобцы DateCrawled, NumberOfPictures, PostalCode, LastSeen считаю неинформативными, удалю их"
   ]
  },
  {
   "cell_type": "code",
   "execution_count": 4,
   "metadata": {},
   "outputs": [],
   "source": [
    "data = data.drop(['DateCrawled', 'NumberOfPictures', 'PostalCode', 'LastSeen'], axis=1)"
   ]
  },
  {
   "cell_type": "code",
   "execution_count": 5,
   "metadata": {},
   "outputs": [
    {
     "data": {
      "text/html": [
       "<div>\n",
       "<style scoped>\n",
       "    .dataframe tbody tr th:only-of-type {\n",
       "        vertical-align: middle;\n",
       "    }\n",
       "\n",
       "    .dataframe tbody tr th {\n",
       "        vertical-align: top;\n",
       "    }\n",
       "\n",
       "    .dataframe thead th {\n",
       "        text-align: right;\n",
       "    }\n",
       "</style>\n",
       "<table border=\"1\" class=\"dataframe\">\n",
       "  <thead>\n",
       "    <tr style=\"text-align: right;\">\n",
       "      <th></th>\n",
       "      <th>Price</th>\n",
       "      <th>VehicleType</th>\n",
       "      <th>RegistrationYear</th>\n",
       "      <th>Gearbox</th>\n",
       "      <th>Power</th>\n",
       "      <th>Model</th>\n",
       "      <th>Kilometer</th>\n",
       "      <th>RegistrationMonth</th>\n",
       "      <th>FuelType</th>\n",
       "      <th>Brand</th>\n",
       "      <th>Repaired</th>\n",
       "      <th>DateCreated</th>\n",
       "    </tr>\n",
       "  </thead>\n",
       "  <tbody>\n",
       "    <tr>\n",
       "      <th>0</th>\n",
       "      <td>480</td>\n",
       "      <td>NaN</td>\n",
       "      <td>1993</td>\n",
       "      <td>manual</td>\n",
       "      <td>0</td>\n",
       "      <td>golf</td>\n",
       "      <td>150000</td>\n",
       "      <td>0</td>\n",
       "      <td>petrol</td>\n",
       "      <td>volkswagen</td>\n",
       "      <td>NaN</td>\n",
       "      <td>2016-03-24 00:00:00</td>\n",
       "    </tr>\n",
       "    <tr>\n",
       "      <th>1</th>\n",
       "      <td>18300</td>\n",
       "      <td>coupe</td>\n",
       "      <td>2011</td>\n",
       "      <td>manual</td>\n",
       "      <td>190</td>\n",
       "      <td>NaN</td>\n",
       "      <td>125000</td>\n",
       "      <td>5</td>\n",
       "      <td>gasoline</td>\n",
       "      <td>audi</td>\n",
       "      <td>yes</td>\n",
       "      <td>2016-03-24 00:00:00</td>\n",
       "    </tr>\n",
       "    <tr>\n",
       "      <th>2</th>\n",
       "      <td>9800</td>\n",
       "      <td>suv</td>\n",
       "      <td>2004</td>\n",
       "      <td>auto</td>\n",
       "      <td>163</td>\n",
       "      <td>grand</td>\n",
       "      <td>125000</td>\n",
       "      <td>8</td>\n",
       "      <td>gasoline</td>\n",
       "      <td>jeep</td>\n",
       "      <td>NaN</td>\n",
       "      <td>2016-03-14 00:00:00</td>\n",
       "    </tr>\n",
       "    <tr>\n",
       "      <th>3</th>\n",
       "      <td>1500</td>\n",
       "      <td>small</td>\n",
       "      <td>2001</td>\n",
       "      <td>manual</td>\n",
       "      <td>75</td>\n",
       "      <td>golf</td>\n",
       "      <td>150000</td>\n",
       "      <td>6</td>\n",
       "      <td>petrol</td>\n",
       "      <td>volkswagen</td>\n",
       "      <td>no</td>\n",
       "      <td>2016-03-17 00:00:00</td>\n",
       "    </tr>\n",
       "    <tr>\n",
       "      <th>4</th>\n",
       "      <td>3600</td>\n",
       "      <td>small</td>\n",
       "      <td>2008</td>\n",
       "      <td>manual</td>\n",
       "      <td>69</td>\n",
       "      <td>fabia</td>\n",
       "      <td>90000</td>\n",
       "      <td>7</td>\n",
       "      <td>gasoline</td>\n",
       "      <td>skoda</td>\n",
       "      <td>no</td>\n",
       "      <td>2016-03-31 00:00:00</td>\n",
       "    </tr>\n",
       "  </tbody>\n",
       "</table>\n",
       "</div>"
      ],
      "text/plain": [
       "   Price VehicleType  RegistrationYear Gearbox  Power  Model  Kilometer  \\\n",
       "0    480         NaN              1993  manual      0   golf     150000   \n",
       "1  18300       coupe              2011  manual    190    NaN     125000   \n",
       "2   9800         suv              2004    auto    163  grand     125000   \n",
       "3   1500       small              2001  manual     75   golf     150000   \n",
       "4   3600       small              2008  manual     69  fabia      90000   \n",
       "\n",
       "   RegistrationMonth  FuelType       Brand Repaired          DateCreated  \n",
       "0                  0    petrol  volkswagen      NaN  2016-03-24 00:00:00  \n",
       "1                  5  gasoline        audi      yes  2016-03-24 00:00:00  \n",
       "2                  8  gasoline        jeep      NaN  2016-03-14 00:00:00  \n",
       "3                  6    petrol  volkswagen       no  2016-03-17 00:00:00  \n",
       "4                  7  gasoline       skoda       no  2016-03-31 00:00:00  "
      ]
     },
     "execution_count": 5,
     "metadata": {},
     "output_type": "execute_result"
    }
   ],
   "source": [
    "data.head()"
   ]
  },
  {
   "cell_type": "code",
   "execution_count": 6,
   "metadata": {},
   "outputs": [
    {
     "name": "stdout",
     "output_type": "stream",
     "text": [
      "<class 'pandas.core.frame.DataFrame'>\n",
      "Int64Index: 354365 entries, 0 to 354368\n",
      "Data columns (total 12 columns):\n",
      " #   Column             Non-Null Count   Dtype \n",
      "---  ------             --------------   ----- \n",
      " 0   Price              354365 non-null  int64 \n",
      " 1   VehicleType        316875 non-null  object\n",
      " 2   RegistrationYear   354365 non-null  int64 \n",
      " 3   Gearbox            334532 non-null  object\n",
      " 4   Power              354365 non-null  int64 \n",
      " 5   Model              334660 non-null  object\n",
      " 6   Kilometer          354365 non-null  int64 \n",
      " 7   RegistrationMonth  354365 non-null  int64 \n",
      " 8   FuelType           321470 non-null  object\n",
      " 9   Brand              354365 non-null  object\n",
      " 10  Repaired           283211 non-null  object\n",
      " 11  DateCreated        354365 non-null  object\n",
      "dtypes: int64(5), object(7)\n",
      "memory usage: 35.1+ MB\n"
     ]
    }
   ],
   "source": [
    "data.info()"
   ]
  },
  {
   "cell_type": "code",
   "execution_count": 7,
   "metadata": {},
   "outputs": [
    {
     "data": {
      "text/plain": [
       "Price                    0\n",
       "VehicleType          37490\n",
       "RegistrationYear         0\n",
       "Gearbox              19833\n",
       "Power                    0\n",
       "Model                19705\n",
       "Kilometer                0\n",
       "RegistrationMonth        0\n",
       "FuelType             32895\n",
       "Brand                    0\n",
       "Repaired             71154\n",
       "DateCreated              0\n",
       "dtype: int64"
      ]
     },
     "execution_count": 7,
     "metadata": {},
     "output_type": "execute_result"
    }
   ],
   "source": [
    "data.isna().sum()"
   ]
  },
  {
   "cell_type": "markdown",
   "metadata": {},
   "source": [
    "Пропусков в столбце \"цена\" нет, попробуем посмотреть на диапазон значений"
   ]
  },
  {
   "cell_type": "code",
   "execution_count": 8,
   "metadata": {},
   "outputs": [
    {
     "data": {
      "text/plain": [
       "array([  0,   1,   2,   3,   4,   5,   7,   8,   9,  10,  11,  12,  13,\n",
       "        14,  15,  16,  17,  18,  19,  20,  21,  24,  25,  26,  27,  29,\n",
       "        30,  32,  33,  35,  38,  39,  40,  45,  47,  49,  50,  55,  58,\n",
       "        59,  60,  65,  66,  69,  70,  74,  75,  77,  79,  80,  85,  88,\n",
       "        89,  90,  95,  98,  99, 100, 101, 105, 106, 108, 110, 111, 112,\n",
       "       115, 117, 119, 120, 121, 122, 123, 125, 126, 127, 128, 129, 130,\n",
       "       132, 133, 135, 139, 140, 142, 145, 149, 150, 155, 156, 157, 158,\n",
       "       159, 160, 162, 165, 166, 169, 170, 173, 175])"
      ]
     },
     "execution_count": 8,
     "metadata": {},
     "output_type": "execute_result"
    }
   ],
   "source": [
    "data.sort_values(by = 'Price', ascending = True)['Price'].unique()[:100]"
   ]
  },
  {
   "cell_type": "code",
   "execution_count": 9,
   "metadata": {},
   "outputs": [
    {
     "data": {
      "text/plain": [
       "array([[<AxesSubplot:title={'center':'Price'}>]], dtype=object)"
      ]
     },
     "execution_count": 9,
     "metadata": {},
     "output_type": "execute_result"
    },
    {
     "data": {
      "image/png": "[encoded data removed]",
      "text/plain": [
       "<Figure size 432x288 with 1 Axes>"
      ]
     },
     "metadata": {
      "needs_background": "light"
     },
     "output_type": "display_data"
    }
   ],
   "source": [
    "data.hist('Price', bins = 50)"
   ]
  },
  {
   "cell_type": "markdown",
   "metadata": {},
   "source": [
    "У нас много машин с подозрительно низкой ценой, включая бесплатные. Думаю, стоит удалить данные с машинами, дешевле 100. Верхняя граница выглядит вполне убедительно"
   ]
  },
  {
   "cell_type": "code",
   "execution_count": 10,
   "metadata": {},
   "outputs": [],
   "source": [
    "data.drop(index=data.query('Price<100').index, inplace = True)"
   ]
  },
  {
   "cell_type": "code",
   "execution_count": 11,
   "metadata": {},
   "outputs": [
    {
     "data": {
      "text/plain": [
       "9.5622062389496"
      ]
     },
     "execution_count": 11,
     "metadata": {},
     "output_type": "execute_result"
    }
   ],
   "source": [
    "data['VehicleType'].isna().sum()/(len(data['VehicleType']))*100"
   ]
  },
  {
   "cell_type": "markdown",
   "metadata": {},
   "source": [
    "Пропусков в \"VehicleType\" почти 10%, удалять не стоит, заменять чем-нибудь средним тоже будет некорректно. Заменю на 'unknown'"
   ]
  },
  {
   "cell_type": "code",
   "execution_count": 12,
   "metadata": {},
   "outputs": [
    {
     "data": {
      "text/plain": [
       "0"
      ]
     },
     "execution_count": 12,
     "metadata": {},
     "output_type": "execute_result"
    }
   ],
   "source": [
    "data['VehicleType'] = data['VehicleType'].fillna(\"unknown\")\n",
    "data['VehicleType'].isna().sum()"
   ]
  },
  {
   "cell_type": "markdown",
   "metadata": {},
   "source": [
    "Разберём столбец 'RegistrationYear'. Здесь отсутствуют пропуски. Посмотрим на значения"
   ]
  },
  {
   "cell_type": "code",
   "execution_count": 13,
   "metadata": {},
   "outputs": [
    {
     "data": {
      "text/plain": [
       "array([1000, 1001, 1039, 1111, 1234, 1255, 1300, 1400, 1500, 1600, 1602,\n",
       "       1800, 1910, 1923, 1925])"
      ]
     },
     "execution_count": 13,
     "metadata": {},
     "output_type": "execute_result"
    }
   ],
   "source": [
    "data.sort_values(by = 'RegistrationYear', ascending = True)['RegistrationYear'].unique()[:15]"
   ]
  },
  {
   "cell_type": "code",
   "execution_count": 14,
   "metadata": {},
   "outputs": [
    {
     "data": {
      "text/plain": [
       "array([9999, 9450, 9000, 8888, 8500, 8200, 7800, 7100, 7000, 6000, 5911,\n",
       "       5900, 5600, 5555, 5300, 5000, 4800, 4500, 4100, 4000, 3800, 3700,\n",
       "       3200, 3000, 2900, 2800, 2500, 2290, 2222, 2200])"
      ]
     },
     "execution_count": 14,
     "metadata": {},
     "output_type": "execute_result"
    }
   ],
   "source": [
    "data.sort_values(by = 'RegistrationYear', ascending = False)['RegistrationYear'].unique()[:30]"
   ]
  },
  {
   "cell_type": "code",
   "execution_count": 15,
   "metadata": {},
   "outputs": [
    {
     "data": {
      "text/plain": [
       "0.03371929711392138"
      ]
     },
     "execution_count": 15,
     "metadata": {},
     "output_type": "execute_result"
    }
   ],
   "source": [
    "len(data.loc[(data['RegistrationYear']<1880)|(data['RegistrationYear']>2023)])/len(data['RegistrationYear'])*100"
   ]
  },
  {
   "cell_type": "markdown",
   "metadata": {},
   "source": [
    "Как видим, у нас есть в наличии машины из будущего и глубокого прошого. Но хорошо, что их совсем немного. Значит можно их удалить"
   ]
  },
  {
   "cell_type": "code",
   "execution_count": 16,
   "metadata": {},
   "outputs": [],
   "source": [
    "data.drop(index = data.query(('RegistrationYear<1880')).index, inplace = True)\n",
    "data.drop(index = data.query(('RegistrationYear>2023')).index, inplace = True)"
   ]
  },
  {
   "cell_type": "markdown",
   "metadata": {},
   "source": [
    "Много пропусков в столбце, отвечающем за коробку передач. Заменю наиболее популярным значением по модели. Поскольку в модели у нас тоже пропуски, а восстанавливать их будет некорректно, то сначала удалим строки с пропусками по модели"
   ]
  },
  {
   "cell_type": "code",
   "execution_count": 17,
   "metadata": {},
   "outputs": [
    {
     "data": {
      "text/plain": [
       "0"
      ]
     },
     "execution_count": 17,
     "metadata": {},
     "output_type": "execute_result"
    }
   ],
   "source": [
    "data.dropna(subset=['Model'], inplace=True)\n",
    "data['Model'].isna().sum()"
   ]
  },
  {
   "cell_type": "code",
   "execution_count": 18,
   "metadata": {},
   "outputs": [
    {
     "data": {
      "text/plain": [
       "0"
      ]
     },
     "execution_count": 18,
     "metadata": {},
     "output_type": "execute_result"
    }
   ],
   "source": [
    "data['Gearbox'] = data['Gearbox'].fillna(data.groupby('Model')['Gearbox'].transform(lambda x: x.value_counts().idxmax()))\n",
    "data['Gearbox'].isna().sum()"
   ]
  },
  {
   "cell_type": "code",
   "execution_count": 19,
   "metadata": {
    "scrolled": true
   },
   "outputs": [
    {
     "data": {
      "text/plain": [
       "array([20000, 19312, 19211, 19208, 17932, 17700, 17410, 17019, 17011,\n",
       "       16312, 16311, 16011, 15033, 15020, 15017, 15001, 13636, 13616,\n",
       "       12512, 12510, 12012, 11635, 11530, 11509, 11111, 11025, 11011,\n",
       "       10710, 10522, 10520, 10311, 10218, 10110,  9013,  9012,  9011,\n",
       "        9007,  9000,  8500,  8404,  8259,  7544,  7529,  7518,  7515,\n",
       "        7512,  7511,  7508,  6920,  6512,  6226,  6062,  6045,  6018,\n",
       "        6012,  6011,  6010,  6006,  5867,  5815,  5809,  5575,  5420,\n",
       "        5411,  4700,  4507,  4400,  3750,  3500,  3454,  3199,  2799,\n",
       "        2792,  2789,  2729,  2598,  2461,  2402,  2331,  2172,  2018,\n",
       "        2017,  2016,  2009,  2007,  2005,  2000,  1999,  1998,  1995,\n",
       "        1993,  1992,  1988,  1986,  1968,  1937,  1933,  1920,  1900,\n",
       "        1896,  1895,  1870,  1800,  1799,  1796,  1793,  1783,  1781,\n",
       "        1780,  1779,  1771,  1753,  1707,  1704,  1703,  1701,  1700,\n",
       "        1689,  1659,  1653,  1631,  1625,  1600,  1598,  1597,  1595,\n",
       "        1548,  1521,  1506,  1503,  1502,  1501,  1500,  1436,  1433,\n",
       "        1432,  1416,  1405,  1403,  1400,  1399,  1398,  1394,  1390,\n",
       "        1367,  1363,  1362,  1360,  1339,  1312,  1300,  1299,  1288,\n",
       "        1275,  1252,  1250,  1241,  1240,  1239,  1230,  1223,  1221,\n",
       "        1202,  1199,  1164,  1162,  1160,  1158,  1151,  1149,  1115,\n",
       "        1105,  1103,  1100,  1090,  1082,  1079,  1062,  1056,  1055,\n",
       "        1054,  1024,  1021,  1017,  1016,  1012,  1011,  1005,  1004,\n",
       "        1003,  1001,  1000,   999,   998,   953,   952,   950,   923,\n",
       "         909,   907,   903,   902,   901,   900,   871,   850,   808,\n",
       "         805,   800,   776,   771,   754,   750,   743,   703,   702,\n",
       "         700,   696,   685,   678,   671,   651,   650,   645,   640,\n",
       "         620,   612,   610,   607,   606,   604,   603,   601,   600,\n",
       "         599,   585,   584,   580,   579,   572,   560,   551,   550,\n",
       "         544,   541,   540,   525,   521,   520,   519,   517,   515,\n",
       "         514,   510,   508,   507,   505,   504,   500,   490,   489,\n",
       "         487,   476,   475,   460,   459,   457,   454,   450,   449,\n",
       "         445,   440,   435,   431,   430,   428,   426,   425,   421,\n",
       "         420,   416,   411,   409,   408,   405,   401,   400,   399,\n",
       "         398,   396,   394,   392,   390,   388,   387,   386,   385,\n",
       "         382,   381,   380,   379,   377,   376,   374,   371,   370,\n",
       "         368,   367,   365,   364,   363,   362,   361,   360,   358,\n",
       "         357,   356,   355,   354,   353,   352,   351,   350,   349,\n",
       "         348,   347,   346,   345,   344,   343,   341,   340,   339,\n",
       "         338,   337,   336,   335,   334,   333,   332,   331,   330,\n",
       "         329,   328,   327,   326,   325,   324,   323,   322,   321,\n",
       "         320,   318,   317,   316,   315,   314,   313,   311,   310,\n",
       "         309,   308,   307,   306,   305,   304,   303,   301,   300,\n",
       "         299,   298,   296,   295,   294,   293,   292,   290,   289,\n",
       "         288,   287,   286,   285,   284,   283,   282,   281,   280,\n",
       "         279,   278,   277,   276,   275,   274,   273,   272,   271,\n",
       "         270,   269,   268,   267,   266,   265,   264,   262,   261,\n",
       "         260,   259,   258,   257,   256,   255,   254,   253,   252,\n",
       "         251,   250,   249,   248,   247,   246,   245,   244,   243,\n",
       "         242,   241,   240,   239,   238,   237,   236,   235,   234,\n",
       "         233,   232,   231,   230,   229,   228,   227,   226,   225,\n",
       "         224,   223,   222,   221,   220,   219,   218,   217,   216,\n",
       "         215,   214,   213,   212,   211,   210,   209,   208,   207,\n",
       "         206,   205,   204,   203,   202,   201,   200,   199,   198,\n",
       "         197,   196,   195,   194,   193,   192,   191,   190,   189,\n",
       "         188,   187,   186,   185,   184,   183,   182,   181,   180,\n",
       "         179,   178,   177,   176,   175,   174,   173,   172,   171,\n",
       "         170,   169,   168,   167,   166,   165,   164,   163,   162,\n",
       "         161,   160,   159,   158,   157,   156,   155,   154,   153,\n",
       "         152,   151,   150,   149,   148,   147,   146,   145,   144,\n",
       "         143,   142,   141,   140,   139,   138,   137,   136,   135,\n",
       "         134,   133,   132,   131,   130,   129,   128,   127,   126,\n",
       "         125,   124,   123,   122,   121,   120,   119,   118,   117,\n",
       "         116,   115,   114,   113,   112,   111,   110,   109,   108,\n",
       "         107,   106,   105,   104,   103,   102,   101,   100,    99,\n",
       "          98,    97,    96,    95,    94,    93,    92,    91,    90,\n",
       "          89,    88,    87,    86,    85,    84,    83,    82,    81,\n",
       "          80,    79,    78,    77,    76,    75,    74,    73,    72,\n",
       "          71,    70,    69,    68,    67,    66,    65,    64,    63,\n",
       "          62,    61,    60,    59,    58,    57,    56,    55,    54,\n",
       "          53,    52,    51,    50,    49,    48,    47,    46,    45,\n",
       "          44,    43,    42,    41,    40,    39,    38,    37,    36,\n",
       "          35,    34,    33,    32,    31,    30,    29,    28,    27,\n",
       "          26,    25,    24,    23,    22,    21,    20,    19,    18,\n",
       "          17,    16,    15,    14,    13,    12,    11,    10,     9,\n",
       "           8,     7,     6,     5,     4,     3,     2,     1,     0])"
      ]
     },
     "execution_count": 19,
     "metadata": {},
     "output_type": "execute_result"
    }
   ],
   "source": [
    "data.sort_values(by = 'Power', ascending = False)['Power'].unique()"
   ]
  },
  {
   "cell_type": "markdown",
   "metadata": {},
   "source": [
    "Как видим, диапазон мощности широкий. Возьмем за минимум модель Benz Patent Motorwagen, мощностью 1лс, а за максимум самую мощную на данный момент Hennessey Venom F5, мощностью 1600 лс. Посмотрим, сколько у нас некорректных значений "
   ]
  },
  {
   "cell_type": "code",
   "execution_count": 20,
   "metadata": {},
   "outputs": [
    {
     "data": {
      "text/plain": [
       "9.412814244085544"
      ]
     },
     "execution_count": 20,
     "metadata": {},
     "output_type": "execute_result"
    }
   ],
   "source": [
    "len(data.loc[(data['Power']<1)|(data['Power']>1600)])/len(data['Power'])*100"
   ]
  },
  {
   "cell_type": "markdown",
   "metadata": {},
   "source": [
    "Многовато, но меньше 10%. Можно было бы заменить на медианное значение по модели, но у одной и той же модели может несколько вариантов мощности и этот параметр сильно влияет на формирование цены. Так что, пожалуй, лучше удалить."
   ]
  },
  {
   "cell_type": "code",
   "execution_count": 21,
   "metadata": {},
   "outputs": [],
   "source": [
    "data.drop(index = data.query('Power>1600').index, inplace = True)\n",
    "data.drop(index = data.query('Power<1').index, inplace =True)"
   ]
  },
  {
   "cell_type": "code",
   "execution_count": 22,
   "metadata": {},
   "outputs": [
    {
     "data": {
      "text/plain": [
       "array([[<AxesSubplot:title={'center':'Kilometer'}>]], dtype=object)"
      ]
     },
     "execution_count": 22,
     "metadata": {},
     "output_type": "execute_result"
    },
    {
     "data": {
      "image/png": "[encoded data removed]",
      "text/plain": [
       "<Figure size 432x288 with 1 Axes>"
      ]
     },
     "metadata": {
      "needs_background": "light"
     },
     "output_type": "display_data"
    }
   ],
   "source": [
    "data.hist('Kilometer', bins = 50)"
   ]
  },
  {
   "cell_type": "code",
   "execution_count": 23,
   "metadata": {},
   "outputs": [
    {
     "data": {
      "text/plain": [
       "array([  5000,  10000,  20000,  30000,  40000,  50000,  60000,  70000,\n",
       "        80000,  90000, 100000, 125000, 150000])"
      ]
     },
     "execution_count": 23,
     "metadata": {},
     "output_type": "execute_result"
    }
   ],
   "source": [
    "data.sort_values(by = 'Kilometer', ascending = True)['Kilometer'].unique()[:30]"
   ]
  },
  {
   "cell_type": "markdown",
   "metadata": {},
   "source": [
    "Здесь всё в порядке. Пропусков нет, все значения адекватные."
   ]
  },
  {
   "cell_type": "markdown",
   "metadata": {},
   "source": [
    "В столбце \"FuelType\" много пропусков. Можно заменить средним по модели"
   ]
  },
  {
   "cell_type": "code",
   "execution_count": 24,
   "metadata": {},
   "outputs": [],
   "source": [
    "data['FuelType'] = data['FuelType'].fillna(data.groupby('Model')['FuelType'].transform(lambda x: x.value_counts().idxmax()))"
   ]
  },
  {
   "cell_type": "code",
   "execution_count": 25,
   "metadata": {},
   "outputs": [],
   "source": [
    "data['FuelType'] = data['FuelType'].fillna(data.groupby('Model')['FuelType'].transform(lambda x: x.value_counts().idxmax()))"
   ]
  },
  {
   "cell_type": "markdown",
   "metadata": {},
   "source": [
    "Много пропусков в столбце \"Repaired\". Логично предположить, что не заполняли его в том случае, если автомобиль не ремонтировали. "
   ]
  },
  {
   "cell_type": "code",
   "execution_count": 26,
   "metadata": {},
   "outputs": [
    {
     "data": {
      "text/plain": [
       "array([nan, 'no', 'yes'], dtype=object)"
      ]
     },
     "execution_count": 26,
     "metadata": {},
     "output_type": "execute_result"
    }
   ],
   "source": [
    "data['Repaired'].unique()"
   ]
  },
  {
   "cell_type": "markdown",
   "metadata": {},
   "source": [
    "Заменю nan на 'no'"
   ]
  },
  {
   "cell_type": "code",
   "execution_count": 27,
   "metadata": {},
   "outputs": [],
   "source": [
    "data['Repaired'].fillna('no', inplace=True)"
   ]
  },
  {
   "cell_type": "code",
   "execution_count": 28,
   "metadata": {},
   "outputs": [
    {
     "data": {
      "text/plain": [
       "array(['2016-04-07 00:00:00'], dtype=object)"
      ]
     },
     "execution_count": 28,
     "metadata": {},
     "output_type": "execute_result"
    }
   ],
   "source": [
    "latest = data.sort_values(by ='DateCreated')['DateCreated'].unique()[-1:]\n",
    "latest"
   ]
  },
  {
   "cell_type": "markdown",
   "metadata": {},
   "source": [
    "Похоже, период создания объявлений охватывает два года. Каких-либо необычных дат не замечаю. Пропусков в этом столбце нет. Заменим строковые данные на время."
   ]
  },
  {
   "cell_type": "code",
   "execution_count": 29,
   "metadata": {},
   "outputs": [],
   "source": [
    "try:\n",
    "    data['DateCreated'] = pd.to_datetime(data['DateCreated'], format=\"%Y-%m-%d %H:%M:%S\")\n",
    "except:\n",
    "    print('failed date_created')"
   ]
  },
  {
   "cell_type": "markdown",
   "metadata": {},
   "source": [
    "Столбец \"DataCreated\" лучше представить в виде количества дней"
   ]
  },
  {
   "cell_type": "code",
   "execution_count": 30,
   "metadata": {},
   "outputs": [],
   "source": [
    "earliest = pd.Timestamp(min(data['DateCreated']))"
   ]
  },
  {
   "cell_type": "code",
   "execution_count": 31,
   "metadata": {},
   "outputs": [
    {
     "data": {
      "text/plain": [
       "2         360\n",
       "3         363\n",
       "4         377\n",
       "5         381\n",
       "6         378\n",
       "         ... \n",
       "354361    355\n",
       "354362    365\n",
       "354366    351\n",
       "354367    365\n",
       "354368    366\n",
       "Name: DateCreated, Length: 293459, dtype: int64"
      ]
     },
     "execution_count": 31,
     "metadata": {},
     "output_type": "execute_result"
    }
   ],
   "source": [
    "data['DateCreated'] = data['DateCreated'].map(lambda date : (pd.Timestamp(date) - earliest).days)\n",
    "data['DateCreated']"
   ]
  },
  {
   "cell_type": "code",
   "execution_count": 32,
   "metadata": {},
   "outputs": [
    {
     "name": "stdout",
     "output_type": "stream",
     "text": [
      "<class 'pandas.core.frame.DataFrame'>\n",
      "Int64Index: 293459 entries, 2 to 354368\n",
      "Data columns (total 12 columns):\n",
      " #   Column             Non-Null Count   Dtype \n",
      "---  ------             --------------   ----- \n",
      " 0   Price              293459 non-null  int64 \n",
      " 1   VehicleType        293459 non-null  object\n",
      " 2   RegistrationYear   293459 non-null  int64 \n",
      " 3   Gearbox            293459 non-null  object\n",
      " 4   Power              293459 non-null  int64 \n",
      " 5   Model              293459 non-null  object\n",
      " 6   Kilometer          293459 non-null  int64 \n",
      " 7   RegistrationMonth  293459 non-null  int64 \n",
      " 8   FuelType           293459 non-null  object\n",
      " 9   Brand              293459 non-null  object\n",
      " 10  Repaired           293459 non-null  object\n",
      " 11  DateCreated        293459 non-null  int64 \n",
      "dtypes: int64(6), object(6)\n",
      "memory usage: 29.1+ MB\n"
     ]
    }
   ],
   "source": [
    "data.info()"
   ]
  },
  {
   "cell_type": "markdown",
   "metadata": {},
   "source": [
    "Теперь надо разбить данные на target и features. Данные нужно разбить на три части: обучающую, валидационную и тестовую.\n",
    "Разобъем исходные данные в соотношении 3:1:1, сделав тестовый и валидационный наборы одинакового размера."
   ]
  },
  {
   "cell_type": "code",
   "execution_count": 33,
   "metadata": {},
   "outputs": [],
   "source": [
    "random = 12345\n",
    "data_train, data_test_valid = train_test_split(data, test_size = 0.4, random_state = random)\n",
    "features_train = data_train.drop('Price', axis = 1)\n",
    "target_train = data_train['Price']\n",
    "features_test_valid = data_test_valid.drop('Price', axis = 1)\n",
    "target_test_valid = data_test_valid['Price']\n",
    "features_valid, features_test, target_valid, target_test = train_test_split(features_test_valid, target_test_valid, test_size = 0.5, random_state = random)\n",
    "features_valid, features_test, target_valid, target_test = train_test_split(features_test_valid, target_test_valid, test_size = 0.5, random_state = 12345)"
   ]
  },
  {
   "cell_type": "markdown",
   "metadata": {},
   "source": [
    "разбилa данные на обучающий(60%), тестовый(20%) и валидационный(20%) наборы."
   ]
  },
  {
   "cell_type": "markdown",
   "metadata": {},
   "source": [
    "Подготовлю выборки для обучения моделей. Закодирую категориальные признаки. Это поможет ускорить работу с категориями и уменьшит использование памяти. Для типа кузова подойдет one-hot. Поскольку для кодирования коробки передач, типа топлива, и ремонта тоже подойдёт техника one-hot, то напишу функцию."
   ]
  },
  {
   "cell_type": "code",
   "execution_count": 34,
   "metadata": {},
   "outputs": [],
   "source": [
    "def one_hot(features_train, features_valid, features_test, name):\n",
    "    features_train = pd.get_dummies(features_train[name], prefix = name, drop_first=True)\n",
    "    features_valid = pd.get_dummies(features_valid[name], prefix = name, drop_first=True)\n",
    "    features_test = pd.get_dummies(features_test[name],prefix = name, drop_first=True)\n",
    "    common_columns = set(features_train.columns)&set(features_valid.columns)&set(features_test.columns)\n",
    "    features_train = features_train[list[common_columns]]\n",
    "    features_valid = features_valid[list[common_columns]]\n",
    "    features_test = features_test[list[common_columns]]\n",
    "    \n",
    "    return features_train, features_valid, features_test \n",
    "def to_cat(features_train, features_valid, features_test, column_name):\n",
    "    try:\n",
    "         features_train_ohe, features_valid_ohe, features_test_ohe = one_hot(features_train, features_valid, features_test, column_name)\n",
    "    except:\n",
    "        print(\"failed to convert \", column_name)\n",
    "    features_train_dr = features_train.drop(column_name, axis=1)\n",
    "    features_train_new1 = features_train_ohe.join(features_train_dr)\n",
    "    features_test_dr = features_test.drop(column_name, axis=1)\n",
    "    features_test_new1 = features_test_ohe.join(features_test_dr)\n",
    "    features_valid_dr = features_valid.drop(column_name, axis=1)\n",
    "    features_valid_new1 = features_valid_ohe.join(features_valid_dr)\n",
    "    return features_train_new1, features_valid_new1, features_test_new1"
   ]
  },
  {
   "cell_type": "code",
   "execution_count": 35,
   "metadata": {
    "scrolled": false
   },
   "outputs": [],
   "source": [
    "features_train, features_valid, features_test = to_cat(features_train, features_valid, features_test, 'VehicleType')\n",
    "features_train, features_valid, features_test = to_cat(features_train, features_valid, features_test, 'FuelType')\n",
    "features_train, features_valid, features_test = to_cat(features_train, features_valid, features_test, 'Gearbox')\n",
    "features_train, features_valid, features_test = to_cat(features_train, features_valid, features_test, 'Repaired')"
   ]
  },
  {
   "cell_type": "code",
   "execution_count": 36,
   "metadata": {
    "scrolled": true
   },
   "outputs": [
    {
     "data": {
      "text/plain": [
       "array(['grand', 'golf', 'fabia', '3er', '2_reihe', 'c_max', '3_reihe',\n",
       "       'passat', 'navara', 'polo', 'twingo', 'a_klasse', 'scirocco',\n",
       "       '5er', 'meriva', 'arosa', 'other', 'c4', 'civic', 'transporter',\n",
       "       'punto', 'e_klasse', 'clio', 'kadett', 'one', 'fortwo', '1er',\n",
       "       'b_klasse', 'a8', 'jetta', 'astra', 'fiesta', 'c_klasse', 'micra',\n",
       "       'vito', 'sprinter', '156', 'escort', 'forester', 'xc_reihe',\n",
       "       'scenic', 'ka', 'a1', 'focus', 'a4', 'tt', 'a6', 'jazz', 'omega',\n",
       "       'slk', '7er', 'combo', 'corsa', '80', '147', 'z_reihe', 'sportage',\n",
       "       'sorento', 'ibiza', 'mustang', 'eos', 'touran', 'getz', 'insignia',\n",
       "       'almera', 'megane', 'a3', 'lupo', 'r19', 'caddy', 'mondeo',\n",
       "       'cordoba', 'colt', 'impreza', 'vectra', 'berlingo', 'tiguan',\n",
       "       'i_reihe', '6_reihe', 'panda', 'up', 'ceed', 'kangoo', '5_reihe',\n",
       "       'yeti', 'octavia', 'zafira', 'mii', 'rx_reihe', '6er', 'modus',\n",
       "       'fox', 'matiz', 'beetle', 'rio', 'touareg', 'logan', 'spider',\n",
       "       'cuore', 's_max', 'a2', 'galaxy', 'c3', 'viano', 's_klasse',\n",
       "       '1_reihe', 'sharan', 'avensis', 'roomster', 'sl', 'kaefer',\n",
       "       'santa', 'leon', 'cooper', '4_reihe', 'a5', 'laguna', 'ptcruiser',\n",
       "       'clk', 'primera', 'espace', 'exeo', '159', 'transit', 'juke',\n",
       "       'x_reihe', 'v40', 'carisma', 'accord', 'corolla', 'lanos',\n",
       "       'phaeton', 'verso', 'swift', 'rav', 'qashqai', 'picanto',\n",
       "       'boxster', 'superb', 'stilo', 'alhambra', 'roadster', 'ypsilon',\n",
       "       'galant', 'justy', '90', 'sirion', 'signum', 'crossfire', 'agila',\n",
       "       'duster', 'v50', 'mx_reihe', '500', 'c_reihe', 'v_klasse',\n",
       "       'm_klasse', 'yaris', 'c5', 'aygo', 'seicento', 'cc', 'carnival',\n",
       "       'fusion', '911', 'bora', 'forfour', 'cl', 'tigra', '300c', '100',\n",
       "       'cr_reihe', 'spark', 'kuga', 'x_type', 'ducato', 's_type',\n",
       "       'x_trail', 'toledo', 'altea', 'voyager', 'calibra', 'v70', 'bravo',\n",
       "       'tucson', 'c1', 'citigo', 'jimny', 'cayenne', 'wrangler', 'lybra',\n",
       "       'lancer', 'captiva', 'c2', 'discovery', 'freelander', 'sandero',\n",
       "       'q7', 'note', 'antara', '900', 'cherokee', 'clubman', 'defender',\n",
       "       '601', 'cx_reihe', 'legacy', 'pajero', 'auris', 'niva', 's60',\n",
       "       'm_reihe', 'nubira', 'vivaro', 'g_klasse', 'lodgy', 'range_rover',\n",
       "       '850', 'q3', 'serie_2', 'glk', 'charade', 'croma', 'outlander',\n",
       "       'doblo', 'musa', '9000', 'kalos', 'v60', 'aveo', '200', '145',\n",
       "       'b_max', 'range_rover_sport', 'move', 'rangerover', 'q5',\n",
       "       'range_rover_evoque', 'materia', 'delta', 'terios', 'gl', 'kalina',\n",
       "       'elefantino', 'i3', 'samara', 'amarok', 'kappa', 'serie_3'],\n",
       "      dtype=object)"
      ]
     },
     "execution_count": 36,
     "metadata": {},
     "output_type": "execute_result"
    }
   ],
   "source": [
    "data['Model'].unique()"
   ]
  },
  {
   "cell_type": "code",
   "execution_count": 37,
   "metadata": {},
   "outputs": [
    {
     "data": {
      "text/plain": [
       "array(['jeep', 'volkswagen', 'skoda', 'bmw', 'peugeot', 'ford', 'mazda',\n",
       "       'nissan', 'renault', 'mercedes_benz', 'opel', 'seat', 'citroen',\n",
       "       'honda', 'fiat', 'mini', 'smart', 'hyundai', 'audi', 'alfa_romeo',\n",
       "       'subaru', 'volvo', 'mitsubishi', 'kia', 'suzuki', 'lancia',\n",
       "       'toyota', 'chevrolet', 'dacia', 'daihatsu', 'chrysler', 'jaguar',\n",
       "       'daewoo', 'rover', 'porsche', 'saab', 'land_rover', 'trabant',\n",
       "       'lada'], dtype=object)"
      ]
     },
     "execution_count": 37,
     "metadata": {},
     "output_type": "execute_result"
    }
   ],
   "source": [
    "data['Brand'].unique()"
   ]
  },
  {
   "cell_type": "markdown",
   "metadata": {},
   "source": [
    "У столбцов model и brand много категорий, лучше применить к ним ordinalEncoder"
   ]
  },
  {
   "cell_type": "code",
   "execution_count": 38,
   "metadata": {},
   "outputs": [
    {
     "data": {
      "text/html": [
       "<div>\n",
       "<style scoped>\n",
       "    .dataframe tbody tr th:only-of-type {\n",
       "        vertical-align: middle;\n",
       "    }\n",
       "\n",
       "    .dataframe tbody tr th {\n",
       "        vertical-align: top;\n",
       "    }\n",
       "\n",
       "    .dataframe thead th {\n",
       "        text-align: right;\n",
       "    }\n",
       "</style>\n",
       "<table border=\"1\" class=\"dataframe\">\n",
       "  <thead>\n",
       "    <tr style=\"text-align: right;\">\n",
       "      <th></th>\n",
       "      <th>Repaired_yes</th>\n",
       "      <th>Gearbox_manual</th>\n",
       "      <th>FuelType_electric</th>\n",
       "      <th>FuelType_gasoline</th>\n",
       "      <th>FuelType_hybrid</th>\n",
       "      <th>FuelType_lpg</th>\n",
       "      <th>FuelType_other</th>\n",
       "      <th>FuelType_petrol</th>\n",
       "      <th>VehicleType_convertible</th>\n",
       "      <th>VehicleType_coupe</th>\n",
       "      <th>...</th>\n",
       "      <th>VehicleType_suv</th>\n",
       "      <th>VehicleType_unknown</th>\n",
       "      <th>VehicleType_wagon</th>\n",
       "      <th>RegistrationYear</th>\n",
       "      <th>Power</th>\n",
       "      <th>Model</th>\n",
       "      <th>Kilometer</th>\n",
       "      <th>RegistrationMonth</th>\n",
       "      <th>Brand</th>\n",
       "      <th>DateCreated</th>\n",
       "    </tr>\n",
       "  </thead>\n",
       "  <tbody>\n",
       "    <tr>\n",
       "      <th>128032</th>\n",
       "      <td>0</td>\n",
       "      <td>1</td>\n",
       "      <td>0</td>\n",
       "      <td>1</td>\n",
       "      <td>0</td>\n",
       "      <td>0</td>\n",
       "      <td>0</td>\n",
       "      <td>0</td>\n",
       "      <td>0</td>\n",
       "      <td>0</td>\n",
       "      <td>...</td>\n",
       "      <td>0</td>\n",
       "      <td>0</td>\n",
       "      <td>1</td>\n",
       "      <td>2003</td>\n",
       "      <td>116</td>\n",
       "      <td>11.0</td>\n",
       "      <td>150000</td>\n",
       "      <td>7</td>\n",
       "      <td>2.0</td>\n",
       "      <td>380</td>\n",
       "    </tr>\n",
       "    <tr>\n",
       "      <th>354242</th>\n",
       "      <td>0</td>\n",
       "      <td>1</td>\n",
       "      <td>0</td>\n",
       "      <td>0</td>\n",
       "      <td>0</td>\n",
       "      <td>0</td>\n",
       "      <td>0</td>\n",
       "      <td>1</td>\n",
       "      <td>0</td>\n",
       "      <td>0</td>\n",
       "      <td>...</td>\n",
       "      <td>0</td>\n",
       "      <td>0</td>\n",
       "      <td>1</td>\n",
       "      <td>1999</td>\n",
       "      <td>164</td>\n",
       "      <td>31.0</td>\n",
       "      <td>150000</td>\n",
       "      <td>3</td>\n",
       "      <td>1.0</td>\n",
       "      <td>375</td>\n",
       "    </tr>\n",
       "    <tr>\n",
       "      <th>124295</th>\n",
       "      <td>0</td>\n",
       "      <td>1</td>\n",
       "      <td>0</td>\n",
       "      <td>0</td>\n",
       "      <td>0</td>\n",
       "      <td>0</td>\n",
       "      <td>0</td>\n",
       "      <td>1</td>\n",
       "      <td>0</td>\n",
       "      <td>0</td>\n",
       "      <td>...</td>\n",
       "      <td>0</td>\n",
       "      <td>0</td>\n",
       "      <td>0</td>\n",
       "      <td>2000</td>\n",
       "      <td>101</td>\n",
       "      <td>29.0</td>\n",
       "      <td>150000</td>\n",
       "      <td>6</td>\n",
       "      <td>1.0</td>\n",
       "      <td>356</td>\n",
       "    </tr>\n",
       "    <tr>\n",
       "      <th>54931</th>\n",
       "      <td>0</td>\n",
       "      <td>1</td>\n",
       "      <td>0</td>\n",
       "      <td>0</td>\n",
       "      <td>0</td>\n",
       "      <td>0</td>\n",
       "      <td>0</td>\n",
       "      <td>0</td>\n",
       "      <td>0</td>\n",
       "      <td>0</td>\n",
       "      <td>...</td>\n",
       "      <td>0</td>\n",
       "      <td>0</td>\n",
       "      <td>1</td>\n",
       "      <td>2006</td>\n",
       "      <td>108</td>\n",
       "      <td>62.0</td>\n",
       "      <td>100000</td>\n",
       "      <td>12</td>\n",
       "      <td>37.0</td>\n",
       "      <td>369</td>\n",
       "    </tr>\n",
       "    <tr>\n",
       "      <th>281788</th>\n",
       "      <td>0</td>\n",
       "      <td>1</td>\n",
       "      <td>0</td>\n",
       "      <td>0</td>\n",
       "      <td>0</td>\n",
       "      <td>0</td>\n",
       "      <td>0</td>\n",
       "      <td>1</td>\n",
       "      <td>1</td>\n",
       "      <td>0</td>\n",
       "      <td>...</td>\n",
       "      <td>0</td>\n",
       "      <td>0</td>\n",
       "      <td>0</td>\n",
       "      <td>2002</td>\n",
       "      <td>109</td>\n",
       "      <td>8.0</td>\n",
       "      <td>70000</td>\n",
       "      <td>6</td>\n",
       "      <td>25.0</td>\n",
       "      <td>381</td>\n",
       "    </tr>\n",
       "    <tr>\n",
       "      <th>...</th>\n",
       "      <td>...</td>\n",
       "      <td>...</td>\n",
       "      <td>...</td>\n",
       "      <td>...</td>\n",
       "      <td>...</td>\n",
       "      <td>...</td>\n",
       "      <td>...</td>\n",
       "      <td>...</td>\n",
       "      <td>...</td>\n",
       "      <td>...</td>\n",
       "      <td>...</td>\n",
       "      <td>...</td>\n",
       "      <td>...</td>\n",
       "      <td>...</td>\n",
       "      <td>...</td>\n",
       "      <td>...</td>\n",
       "      <td>...</td>\n",
       "      <td>...</td>\n",
       "      <td>...</td>\n",
       "      <td>...</td>\n",
       "      <td>...</td>\n",
       "    </tr>\n",
       "    <tr>\n",
       "      <th>53797</th>\n",
       "      <td>0</td>\n",
       "      <td>1</td>\n",
       "      <td>0</td>\n",
       "      <td>0</td>\n",
       "      <td>0</td>\n",
       "      <td>0</td>\n",
       "      <td>0</td>\n",
       "      <td>1</td>\n",
       "      <td>0</td>\n",
       "      <td>0</td>\n",
       "      <td>...</td>\n",
       "      <td>0</td>\n",
       "      <td>0</td>\n",
       "      <td>1</td>\n",
       "      <td>2001</td>\n",
       "      <td>101</td>\n",
       "      <td>166.0</td>\n",
       "      <td>150000</td>\n",
       "      <td>5</td>\n",
       "      <td>22.0</td>\n",
       "      <td>357</td>\n",
       "    </tr>\n",
       "    <tr>\n",
       "      <th>114850</th>\n",
       "      <td>0</td>\n",
       "      <td>1</td>\n",
       "      <td>0</td>\n",
       "      <td>0</td>\n",
       "      <td>0</td>\n",
       "      <td>0</td>\n",
       "      <td>0</td>\n",
       "      <td>1</td>\n",
       "      <td>0</td>\n",
       "      <td>0</td>\n",
       "      <td>...</td>\n",
       "      <td>1</td>\n",
       "      <td>0</td>\n",
       "      <td>0</td>\n",
       "      <td>2010</td>\n",
       "      <td>105</td>\n",
       "      <td>94.0</td>\n",
       "      <td>100000</td>\n",
       "      <td>7</td>\n",
       "      <td>6.0</td>\n",
       "      <td>357</td>\n",
       "    </tr>\n",
       "    <tr>\n",
       "      <th>34389</th>\n",
       "      <td>0</td>\n",
       "      <td>0</td>\n",
       "      <td>0</td>\n",
       "      <td>0</td>\n",
       "      <td>0</td>\n",
       "      <td>0</td>\n",
       "      <td>0</td>\n",
       "      <td>1</td>\n",
       "      <td>1</td>\n",
       "      <td>0</td>\n",
       "      <td>...</td>\n",
       "      <td>0</td>\n",
       "      <td>0</td>\n",
       "      <td>0</td>\n",
       "      <td>1999</td>\n",
       "      <td>193</td>\n",
       "      <td>206.0</td>\n",
       "      <td>125000</td>\n",
       "      <td>9</td>\n",
       "      <td>20.0</td>\n",
       "      <td>367</td>\n",
       "    </tr>\n",
       "    <tr>\n",
       "      <th>156929</th>\n",
       "      <td>0</td>\n",
       "      <td>1</td>\n",
       "      <td>0</td>\n",
       "      <td>1</td>\n",
       "      <td>0</td>\n",
       "      <td>0</td>\n",
       "      <td>0</td>\n",
       "      <td>0</td>\n",
       "      <td>0</td>\n",
       "      <td>0</td>\n",
       "      <td>...</td>\n",
       "      <td>0</td>\n",
       "      <td>0</td>\n",
       "      <td>1</td>\n",
       "      <td>2002</td>\n",
       "      <td>101</td>\n",
       "      <td>163.0</td>\n",
       "      <td>150000</td>\n",
       "      <td>10</td>\n",
       "      <td>31.0</td>\n",
       "      <td>354</td>\n",
       "    </tr>\n",
       "    <tr>\n",
       "      <th>336700</th>\n",
       "      <td>0</td>\n",
       "      <td>1</td>\n",
       "      <td>0</td>\n",
       "      <td>0</td>\n",
       "      <td>0</td>\n",
       "      <td>0</td>\n",
       "      <td>0</td>\n",
       "      <td>1</td>\n",
       "      <td>0</td>\n",
       "      <td>0</td>\n",
       "      <td>...</td>\n",
       "      <td>0</td>\n",
       "      <td>0</td>\n",
       "      <td>0</td>\n",
       "      <td>2001</td>\n",
       "      <td>58</td>\n",
       "      <td>225.0</td>\n",
       "      <td>70000</td>\n",
       "      <td>8</td>\n",
       "      <td>27.0</td>\n",
       "      <td>352</td>\n",
       "    </tr>\n",
       "  </tbody>\n",
       "</table>\n",
       "<p>58692 rows × 23 columns</p>\n",
       "</div>"
      ],
      "text/plain": [
       "        Repaired_yes  Gearbox_manual  FuelType_electric  FuelType_gasoline  \\\n",
       "128032             0               1                  0                  1   \n",
       "354242             0               1                  0                  0   \n",
       "124295             0               1                  0                  0   \n",
       "54931              0               1                  0                  0   \n",
       "281788             0               1                  0                  0   \n",
       "...              ...             ...                ...                ...   \n",
       "53797              0               1                  0                  0   \n",
       "114850             0               1                  0                  0   \n",
       "34389              0               0                  0                  0   \n",
       "156929             0               1                  0                  1   \n",
       "336700             0               1                  0                  0   \n",
       "\n",
       "        FuelType_hybrid  FuelType_lpg  FuelType_other  FuelType_petrol  \\\n",
       "128032                0             0               0                0   \n",
       "354242                0             0               0                1   \n",
       "124295                0             0               0                1   \n",
       "54931                 0             0               0                0   \n",
       "281788                0             0               0                1   \n",
       "...                 ...           ...             ...              ...   \n",
       "53797                 0             0               0                1   \n",
       "114850                0             0               0                1   \n",
       "34389                 0             0               0                1   \n",
       "156929                0             0               0                0   \n",
       "336700                0             0               0                1   \n",
       "\n",
       "        VehicleType_convertible  VehicleType_coupe  ...  VehicleType_suv  \\\n",
       "128032                        0                  0  ...                0   \n",
       "354242                        0                  0  ...                0   \n",
       "124295                        0                  0  ...                0   \n",
       "54931                         0                  0  ...                0   \n",
       "281788                        1                  0  ...                0   \n",
       "...                         ...                ...  ...              ...   \n",
       "53797                         0                  0  ...                0   \n",
       "114850                        0                  0  ...                1   \n",
       "34389                         1                  0  ...                0   \n",
       "156929                        0                  0  ...                0   \n",
       "336700                        0                  0  ...                0   \n",
       "\n",
       "        VehicleType_unknown  VehicleType_wagon  RegistrationYear  Power  \\\n",
       "128032                    0                  1              2003    116   \n",
       "354242                    0                  1              1999    164   \n",
       "124295                    0                  0              2000    101   \n",
       "54931                     0                  1              2006    108   \n",
       "281788                    0                  0              2002    109   \n",
       "...                     ...                ...               ...    ...   \n",
       "53797                     0                  1              2001    101   \n",
       "114850                    0                  0              2010    105   \n",
       "34389                     0                  0              1999    193   \n",
       "156929                    0                  1              2002    101   \n",
       "336700                    0                  0              2001     58   \n",
       "\n",
       "        Model  Kilometer  RegistrationMonth  Brand  DateCreated  \n",
       "128032   11.0     150000                  7    2.0          380  \n",
       "354242   31.0     150000                  3    1.0          375  \n",
       "124295   29.0     150000                  6    1.0          356  \n",
       "54931    62.0     100000                 12   37.0          369  \n",
       "281788    8.0      70000                  6   25.0          381  \n",
       "...       ...        ...                ...    ...          ...  \n",
       "53797   166.0     150000                  5   22.0          357  \n",
       "114850   94.0     100000                  7    6.0          357  \n",
       "34389   206.0     125000                  9   20.0          367  \n",
       "156929  163.0     150000                 10   31.0          354  \n",
       "336700  225.0      70000                  8   27.0          352  \n",
       "\n",
       "[58692 rows x 23 columns]"
      ]
     },
     "execution_count": 38,
     "metadata": {},
     "output_type": "execute_result"
    }
   ],
   "source": [
    "ordinalencoder = OrdinalEncoder(handle_unknown='use_encoded_value', unknown_value=9999)\n",
    "\n",
    "features_train_ord = features_train.copy()\n",
    "features_valid_ord = features_valid.copy()\n",
    "features_test_ord = features_test.copy()\n",
    "\n",
    "features_train_ord.loc[:,'Brand'] = ordinalencoder.fit_transform(features_train_ord.loc[:,'Brand'].to_frame())\n",
    "features_train_ord.loc[:,'Model'] = ordinalencoder.fit_transform(features_train_ord.loc[:,'Model'].to_frame())\n",
    "\n",
    "features_valid_ord.loc[:,'Brand'] = ordinalencoder.fit_transform(features_valid_ord.loc[:,'Brand'].to_frame())\n",
    "features_valid_ord.loc[:,'Model'] = ordinalencoder.fit_transform(features_valid_ord.loc[:,'Model'].to_frame())\n",
    "\n",
    "features_test_ord.loc[:,'Brand'] = ordinalencoder.fit_transform(features_test_ord.loc[:,'Brand'].to_frame())\n",
    "features_test_ord.loc[:,'Model'] = ordinalencoder.fit_transform(features_test_ord.loc[:,'Model'].to_frame())\n",
    "\n",
    "\n",
    "\n",
    "features_train['Brand'] = features_train_ord['Brand']\n",
    "features_train['Model'] = features_train_ord['Model']\n",
    "\n",
    "features_test['Brand'] = features_test_ord['Brand']\n",
    "features_test['Model'] = features_test_ord['Model']\n",
    "\n",
    "features_valid['Brand'] = features_valid_ord['Brand']\n",
    "features_valid['Model'] = features_valid_ord['Model']\n",
    "features_valid"
   ]
  },
  {
   "cell_type": "markdown",
   "metadata": {},
   "source": [
    "Для того, чтобы улучшить работу модели машинного обучения и предотвратить черезмерное влияние некоторых переменных, приведу значения признаков к стандартному виду."
   ]
  },
  {
   "cell_type": "code",
   "execution_count": 39,
   "metadata": {},
   "outputs": [],
   "source": [
    "num_data = ['Brand', 'Model', 'RegistrationYear', 'RegistrationMonth', 'Power', 'Kilometer']"
   ]
  },
  {
   "cell_type": "code",
   "execution_count": 40,
   "metadata": {},
   "outputs": [],
   "source": [
    "sc = StandardScaler()\n",
    "sc.fit(features_train[num_data])\n",
    "features_train[num_data] = sc.transform(features_train[num_data])\n",
    "features_test[num_data] = sc.transform(features_test[num_data])\n",
    "features_valid[num_data] = sc.transform(features_valid[num_data])"
   ]
  },
  {
   "cell_type": "code",
   "execution_count": 41,
   "metadata": {
    "scrolled": true
   },
   "outputs": [
    {
     "name": "stdout",
     "output_type": "stream",
     "text": [
      "<class 'pandas.core.frame.DataFrame'>\n",
      "Int64Index: 293459 entries, 2 to 354368\n",
      "Data columns (total 12 columns):\n",
      " #   Column             Non-Null Count   Dtype \n",
      "---  ------             --------------   ----- \n",
      " 0   Price              293459 non-null  int64 \n",
      " 1   VehicleType        293459 non-null  object\n",
      " 2   RegistrationYear   293459 non-null  int64 \n",
      " 3   Gearbox            293459 non-null  object\n",
      " 4   Power              293459 non-null  int64 \n",
      " 5   Model              293459 non-null  object\n",
      " 6   Kilometer          293459 non-null  int64 \n",
      " 7   RegistrationMonth  293459 non-null  int64 \n",
      " 8   FuelType           293459 non-null  object\n",
      " 9   Brand              293459 non-null  object\n",
      " 10  Repaired           293459 non-null  object\n",
      " 11  DateCreated        293459 non-null  int64 \n",
      "dtypes: int64(6), object(6)\n",
      "memory usage: 29.1+ MB\n"
     ]
    }
   ],
   "source": [
    "data.info()"
   ]
  },
  {
   "cell_type": "markdown",
   "metadata": {},
   "source": [
    "В ходе подготовки данных были убраны дубликаты, удалены неинформативные стобцы, обработаны аномалии и заполнены пропущенные значения. Часть данных, в которых пропуски не поддавались корректному восстановлению, были удалены. Столбец 'DataCreated' был трансформирован сначала в datetype, а затем заполнен целочисленными значениями. \n",
    "Были подготовлены выборки для обучения моделей. Для категориальных данных с небольшим количеством категорий была применена кодировка one-hot, для признаков с большим количеством категорий - ordinal_encoder. Затем часть признаков была стандартизирована. Данные были разбиты на target и features."
   ]
  },
  {
   "cell_type": "markdown",
   "metadata": {},
   "source": [
    "## Обучение моделей"
   ]
  },
  {
   "cell_type": "markdown",
   "metadata": {},
   "source": [
    "Обучим разные модели среди которых одна - LightGBM, применив разные гиперпараметры. Получим время обучения, время предсказания и качество моделей. Для оценки качества будем применять метрику RMSE. Её значение должно быть меньше 2500."
   ]
  },
  {
   "cell_type": "markdown",
   "metadata": {},
   "source": [
    "### LightGBM"
   ]
  },
  {
   "cell_type": "code",
   "execution_count": 42,
   "metadata": {},
   "outputs": [
    {
     "name": "stdout",
     "output_type": "stream",
     "text": [
      "CPU times: user 4min 22s, sys: 3.31 s, total: 4min 26s\n",
      "Wall time: 4min 28s\n"
     ]
    },
    {
     "data": {
      "text/plain": [
       "LGBMRegressor(num_leaves=150, random_state=12345)"
      ]
     },
     "execution_count": 42,
     "metadata": {},
     "output_type": "execute_result"
    }
   ],
   "source": [
    "%%time\n",
    "mod_l_g_b_m = LGBMRegressor(learning_rate = 0.1, num_leaves = 150, random_state = random)\n",
    "mod_l_g_b_m.fit(features_train, target_train)"
   ]
  },
  {
   "cell_type": "code",
   "execution_count": 43,
   "metadata": {},
   "outputs": [
    {
     "name": "stdout",
     "output_type": "stream",
     "text": [
      "CPU times: user 765 ms, sys: 1.94 ms, total: 767 ms\n",
      "Wall time: 802 ms\n"
     ]
    }
   ],
   "source": [
    "%%time\n",
    "pred_l_g_b_m = mod_l_g_b_m.predict(features_valid)"
   ]
  },
  {
   "cell_type": "code",
   "execution_count": 44,
   "metadata": {},
   "outputs": [
    {
     "name": "stdout",
     "output_type": "stream",
     "text": [
      "rmse для LightGBM 1635.193751320232\n"
     ]
    }
   ],
   "source": [
    "rmse_l_g_b_m = mean_squared_error(target_valid, pred_l_g_b_m)**0.5\n",
    "print(\"rmse для LightGBM\", rmse_l_g_b_m)"
   ]
  },
  {
   "cell_type": "markdown",
   "metadata": {},
   "source": [
    "### линейная регрессия"
   ]
  },
  {
   "cell_type": "code",
   "execution_count": 45,
   "metadata": {},
   "outputs": [
    {
     "name": "stdout",
     "output_type": "stream",
     "text": [
      "CPU times: user 206 ms, sys: 128 ms, total: 334 ms\n",
      "Wall time: 346 ms\n"
     ]
    },
    {
     "data": {
      "text/plain": [
       "LinearRegression()"
      ]
     },
     "execution_count": 45,
     "metadata": {},
     "output_type": "execute_result"
    }
   ],
   "source": [
    "%%time\n",
    "mod_lin_reg = LinearRegression()\n",
    "mod_lin_reg.fit(features_train, target_train)"
   ]
  },
  {
   "cell_type": "code",
   "execution_count": 46,
   "metadata": {},
   "outputs": [
    {
     "name": "stdout",
     "output_type": "stream",
     "text": [
      "CPU times: user 21.2 ms, sys: 38.9 ms, total: 60.1 ms\n",
      "Wall time: 89.1 ms\n"
     ]
    }
   ],
   "source": [
    "%%time\n",
    "pred_lin_reg = mod_lin_reg.predict(features_valid)"
   ]
  },
  {
   "cell_type": "code",
   "execution_count": 47,
   "metadata": {},
   "outputs": [
    {
     "name": "stdout",
     "output_type": "stream",
     "text": [
      "rmse для линейной регрессии 2920.566776975759\n"
     ]
    }
   ],
   "source": [
    "rmse_lin_reg = mean_squared_error(target_valid, pred_lin_reg)**0.5\n",
    "print(\"rmse для линейной регрессии\", rmse_lin_reg)"
   ]
  },
  {
   "cell_type": "markdown",
   "metadata": {},
   "source": [
    "### DecisionTreeRegressor"
   ]
  },
  {
   "cell_type": "code",
   "execution_count": 48,
   "metadata": {},
   "outputs": [
    {
     "name": "stdout",
     "output_type": "stream",
     "text": [
      "\t depth, spl and cr: 1 best mse\n",
      "14005006.79909153\n",
      "\t depth, spl and cr: 2 best mse\n",
      "10559123.032299062\n",
      "\t depth, spl and cr: 3 best mse\n",
      "8784648.534371825\n",
      "\t depth, spl and cr: 4 best mse\n",
      "7096652.152544513\n",
      "\t depth, spl and cr: 5 best mse\n",
      "6022242.456158118\n",
      "\t depth, spl and cr: 6 best mse\n",
      "5344232.5997347105\n",
      "\t depth, spl and cr: 7 best mse\n",
      "4857897.871939093\n",
      "\t depth, spl and cr: 8 best mse\n",
      "4525738.514356566\n",
      "\t depth, spl and cr: 9 best mse\n",
      "4238246.411721712\n",
      "\t depth, spl and cr: 10 best mse\n",
      "4033002.584790106\n",
      "\t depth, spl and cr: 11 best mse\n",
      "3911295.2593572354\n",
      "\t depth, spl and cr: 12 best mse\n",
      "3812488.839412691\n",
      "\t depth, spl and cr: 13 best mse\n",
      "3752631.94515479\n",
      "\t depth, spl and cr: 14 best mse\n",
      "3725242.0334694744\n",
      "\t depth, spl and cr: 15 best mse\n",
      "3781186.439929336\n",
      "\t depth, spl and cr: 16 best mse\n",
      "3832608.2605601028\n",
      "\t depth, spl and cr: 17 best mse\n",
      "3998748.009459017\n",
      "\t depth, spl and cr: 1 best poisson\n",
      "21043148.642446168\n",
      "\t depth, spl and cr: 2 best poisson\n",
      "20938670.651025355\n",
      "\t depth, spl and cr: 3 best poisson\n",
      "20666209.642539784\n",
      "\t depth, spl and cr: 4 best poisson\n",
      "20655936.492493276\n",
      "\t depth, spl and cr: 5 best poisson\n",
      "19570064.097561657\n",
      "\t depth, spl and cr: 6 best poisson\n",
      "19351241.006124005\n",
      "\t depth, spl and cr: 7 best poisson\n",
      "19339179.435138665\n",
      "\t depth, spl and cr: 8 best poisson\n",
      "19093187.43237615\n",
      "\t depth, spl and cr: 9 best poisson\n",
      "19017484.785117257\n",
      "\t depth, spl and cr: 10 best poisson\n",
      "18987223.555537082\n",
      "\t depth, spl and cr: 11 best poisson\n",
      "18557586.29646792\n",
      "\t depth, spl and cr: 12 best poisson\n",
      "18209367.919642538\n",
      "\t depth, spl and cr: 13 best poisson\n",
      "17605575.447598066\n",
      "\t depth, spl and cr: 14 best poisson\n",
      "16552186.135054458\n",
      "\t depth, spl and cr: 15 best poisson\n",
      "16523636.268109845\n",
      "\t depth, spl and cr: 16 best poisson\n",
      "16001714.458829895\n",
      "\t depth, spl and cr: 17 best poisson\n",
      "15941501.784020921\n",
      "\t depth, spl and cr: 1 best friedman_mse\n",
      "14005006.79909153\n",
      "\t depth, spl and cr: 2 best friedman_mse\n",
      "10559123.032299062\n",
      "\t depth, spl and cr: 3 best friedman_mse\n",
      "8784648.534371825\n",
      "\t depth, spl and cr: 4 best friedman_mse\n",
      "7096652.152544513\n",
      "\t depth, spl and cr: 5 best friedman_mse\n",
      "6022242.456158118\n",
      "\t depth, spl and cr: 6 best friedman_mse\n",
      "5344232.5997347105\n",
      "\t depth, spl and cr: 7 best friedman_mse\n",
      "4857897.871939093\n",
      "\t depth, spl and cr: 8 best friedman_mse\n",
      "4525738.514356566\n",
      "\t depth, spl and cr: 9 best friedman_mse\n",
      "4238246.411721712\n",
      "\t depth, spl and cr: 10 best friedman_mse\n",
      "4033002.584790106\n",
      "\t depth, spl and cr: 11 best friedman_mse\n",
      "3911295.2593572354\n",
      "\t depth, spl and cr: 12 best friedman_mse\n",
      "3812488.839412691\n",
      "\t depth, spl and cr: 13 best friedman_mse\n",
      "3752631.94515479\n",
      "\t depth, spl and cr: 14 best friedman_mse\n",
      "3725242.0334694744\n",
      "\t depth, spl and cr: 15 best friedman_mse\n",
      "3781186.439929336\n",
      "\t depth, spl and cr: 16 best friedman_mse\n",
      "3833900.734419705\n",
      "\t depth, spl and cr: 17 best friedman_mse\n",
      "3955541.008819129\n",
      "\t depth, spl and cr: 1 random mse\n",
      "18302193.70052305\n",
      "\t depth, spl and cr: 2 random mse\n",
      "15714031.300240135\n",
      "\t depth, spl and cr: 3 random mse\n",
      "13705440.585925564\n",
      "\t depth, spl and cr: 4 random mse\n",
      "12210082.05699239\n",
      "\t depth, spl and cr: 5 random mse\n",
      "9253830.917404173\n",
      "\t depth, spl and cr: 6 random mse\n",
      "10247512.292404886\n",
      "\t depth, spl and cr: 7 random mse\n",
      "8774346.183685154\n",
      "\t depth, spl and cr: 8 random mse\n",
      "7535377.85325886\n",
      "\t depth, spl and cr: 9 random mse\n",
      "7759053.683685588\n",
      "\t depth, spl and cr: 10 random mse\n",
      "6976456.117034313\n",
      "\t depth, spl and cr: 11 random mse\n",
      "5429548.729286241\n",
      "\t depth, spl and cr: 12 random mse\n",
      "4711931.032954183\n",
      "\t depth, spl and cr: 13 random mse\n",
      "5727009.529420498\n",
      "\t depth, spl and cr: 14 random mse\n",
      "4869256.882227479\n",
      "\t depth, spl and cr: 15 random mse\n",
      "4288741.496960512\n",
      "\t depth, spl and cr: 16 random mse\n",
      "4191176.724623366\n",
      "\t depth, spl and cr: 17 random mse\n",
      "4260188.124278276\n",
      "\t depth, spl and cr: 1 random poisson\n",
      "21026498.140897334\n",
      "\t depth, spl and cr: 2 random poisson\n",
      "20334704.441814166\n",
      "\t depth, spl and cr: 3 random poisson\n",
      "16140403.469789894\n",
      "\t depth, spl and cr: 4 random poisson\n",
      "15935033.607431244\n",
      "\t depth, spl and cr: 5 random poisson\n",
      "15746738.464119507\n",
      "\t depth, spl and cr: 6 random poisson\n",
      "14923508.8041546\n",
      "\t depth, spl and cr: 7 random poisson\n",
      "13199754.61113269\n",
      "\t depth, spl and cr: 8 random poisson\n",
      "13687820.178869586\n",
      "\t depth, spl and cr: 9 random poisson\n",
      "12800660.607472511\n",
      "\t depth, spl and cr: 10 random poisson\n",
      "9825710.93665027\n",
      "\t depth, spl and cr: 11 random poisson\n",
      "10321101.839207804\n",
      "\t depth, spl and cr: 12 random poisson\n",
      "11021240.415556028\n",
      "\t depth, spl and cr: 13 random poisson\n",
      "9974761.739768606\n",
      "\t depth, spl and cr: 14 random poisson\n",
      "8336357.595612985\n",
      "\t depth, spl and cr: 15 random poisson\n",
      "9155765.56692355\n",
      "\t depth, spl and cr: 16 random poisson\n",
      "8335125.307650556\n",
      "\t depth, spl and cr: 17 random poisson\n",
      "8910811.42066749\n",
      "\t depth, spl and cr: 1 random friedman_mse\n",
      "18302193.70052305\n",
      "\t depth, spl and cr: 2 random friedman_mse\n",
      "15714031.300240135\n",
      "\t depth, spl and cr: 3 random friedman_mse\n",
      "13705440.585925564\n",
      "\t depth, spl and cr: 4 random friedman_mse\n",
      "12210082.05699239\n",
      "\t depth, spl and cr: 5 random friedman_mse\n",
      "9253830.917404173\n",
      "\t depth, spl and cr: 6 random friedman_mse\n",
      "10247512.292404886\n",
      "\t depth, spl and cr: 7 random friedman_mse\n",
      "8774346.183685154\n",
      "\t depth, spl and cr: 8 random friedman_mse\n",
      "7535377.85325886\n",
      "\t depth, spl and cr: 9 random friedman_mse\n",
      "7759053.683685588\n",
      "\t depth, spl and cr: 10 random friedman_mse\n",
      "6976456.117034313\n",
      "\t depth, spl and cr: 11 random friedman_mse\n",
      "5386502.922787404\n",
      "\t depth, spl and cr: 12 random friedman_mse\n",
      "4711931.032954183\n",
      "\t depth, spl and cr: 13 random friedman_mse\n",
      "5727009.529420498\n",
      "\t depth, spl and cr: 14 random friedman_mse\n",
      "4869256.882227479\n",
      "\t depth, spl and cr: 15 random friedman_mse\n",
      "4288741.496960512\n",
      "\t depth, spl and cr: 16 random friedman_mse\n",
      "4191166.5017650547\n",
      "\t depth, spl and cr: 17 random friedman_mse\n",
      "4364083.558219902\n",
      "Лучшее значение rmse 1930.0886076730972 Лучшая глубина 14 Лучший splitter best Лучший criterion mse\n"
     ]
    }
   ],
   "source": [
    "best_depth = 0\n",
    "best_mse = 5000**2\n",
    "best_criterion = 'squared_error'\n",
    "best_splitter = 'best'\n",
    "\n",
    "p_criterion = ['mse', 'poisson', 'friedman_mse']\n",
    "p_splitter = ['best', 'random']\n",
    "for spl in p_splitter:\n",
    "    for cr in p_criterion:\n",
    "        for depth in range(1, 18):\n",
    "            print('\\t depth, spl and cr:', depth, spl, cr)\n",
    "            mod_d_t_r = DecisionTreeRegressor(max_depth = depth, random_state = random, criterion=cr, splitter=spl)\n",
    "            mod_d_t_r.fit(features_train, target_train)\n",
    "            pred_d_t_r = mod_d_t_r.predict(features_valid)\n",
    "            mse_d_t_r = mean_squared_error(target_valid, pred_d_t_r)\n",
    "            print(mse_d_t_r)\n",
    "            if mse_d_t_r < best_mse:\n",
    "                best_mse = mse_d_t_r\n",
    "                best_depth = depth\n",
    "                best_criterion = cr\n",
    "                p_splitter = spl\n",
    "                \n",
    "        \n",
    "print('Лучшее значение rmse', best_mse**0.5, 'Лучшая глубина', best_depth, \"Лучший splitter\", p_splitter, \"Лучший criterion\", best_criterion)\n"
   ]
  },
  {
   "cell_type": "markdown",
   "metadata": {},
   "source": [
    "Применим оптимальные гиперпараметры"
   ]
  },
  {
   "cell_type": "code",
   "execution_count": 49,
   "metadata": {},
   "outputs": [
    {
     "name": "stdout",
     "output_type": "stream",
     "text": [
      "CPU times: user 915 ms, sys: 8.12 ms, total: 923 ms\n",
      "Wall time: 933 ms\n"
     ]
    },
    {
     "data": {
      "text/plain": [
       "DecisionTreeRegressor(max_depth=14, random_state=12345)"
      ]
     },
     "execution_count": 49,
     "metadata": {},
     "output_type": "execute_result"
    }
   ],
   "source": [
    "%%time\n",
    "\n",
    "mod_d_t_r = DecisionTreeRegressor(max_depth = 14, random_state = random, criterion='mse', splitter='best')\n",
    "mod_d_t_r.fit(features_train, target_train)"
   ]
  },
  {
   "cell_type": "code",
   "execution_count": 50,
   "metadata": {},
   "outputs": [
    {
     "name": "stdout",
     "output_type": "stream",
     "text": [
      "CPU times: user 23.5 ms, sys: 2 µs, total: 23.5 ms\n",
      "Wall time: 22.2 ms\n"
     ]
    }
   ],
   "source": [
    "%%time\n",
    "pred_d_t_r = mod_d_t_r.predict(features_valid)"
   ]
  },
  {
   "cell_type": "code",
   "execution_count": 51,
   "metadata": {},
   "outputs": [
    {
     "name": "stdout",
     "output_type": "stream",
     "text": [
      "rmse для дерева решений 1930.0886076730972\n"
     ]
    }
   ],
   "source": [
    "rmse_d_t_r = mean_squared_error(target_valid, pred_d_t_r)**0.5\n",
    "print(\"rmse для дерева решений\", rmse_d_t_r)"
   ]
  },
  {
   "cell_type": "markdown",
   "metadata": {},
   "source": [
    "Обучила разные модели: LightGBM, LinearRegression, DecisionTreeRegressor, применяя разные гиперпараметры. Получила время обучения, время предсказания и качество по метрике RMSE. "
   ]
  },
  {
   "cell_type": "markdown",
   "metadata": {},
   "source": [
    "## Анализ моделей"
   ]
  },
  {
   "cell_type": "code",
   "execution_count": 53,
   "metadata": {},
   "outputs": [],
   "source": [
    "df = [[\"45.2s\", \"764 ms\", 1635],\n",
    "        [\"330 ms\", \"10.3 ms\", 2920],\n",
    "        [\"870 ms\", \"19.8 ms\", 1930]]\n",
    "model = [\"LGBM\", \"Regression\", \"DecisionTreeRegressor\"]"
   ]
  },
  {
   "cell_type": "code",
   "execution_count": 54,
   "metadata": {},
   "outputs": [
    {
     "data": {
      "text/html": [
       "<div>\n",
       "<style scoped>\n",
       "    .dataframe tbody tr th:only-of-type {\n",
       "        vertical-align: middle;\n",
       "    }\n",
       "\n",
       "    .dataframe tbody tr th {\n",
       "        vertical-align: top;\n",
       "    }\n",
       "\n",
       "    .dataframe thead th {\n",
       "        text-align: right;\n",
       "    }\n",
       "</style>\n",
       "<table border=\"1\" class=\"dataframe\">\n",
       "  <thead>\n",
       "    <tr style=\"text-align: right;\">\n",
       "      <th></th>\n",
       "      <th>fit_time</th>\n",
       "      <th>predict_time</th>\n",
       "      <th>RMSE</th>\n",
       "    </tr>\n",
       "  </thead>\n",
       "  <tbody>\n",
       "    <tr>\n",
       "      <th>LGBM</th>\n",
       "      <td>45.2s</td>\n",
       "      <td>764 ms</td>\n",
       "      <td>1635</td>\n",
       "    </tr>\n",
       "    <tr>\n",
       "      <th>Regression</th>\n",
       "      <td>330 ms</td>\n",
       "      <td>10.3 ms</td>\n",
       "      <td>2920</td>\n",
       "    </tr>\n",
       "    <tr>\n",
       "      <th>DecisionTreeRegressor</th>\n",
       "      <td>870 ms</td>\n",
       "      <td>19.8 ms</td>\n",
       "      <td>1930</td>\n",
       "    </tr>\n",
       "  </tbody>\n",
       "</table>\n",
       "</div>"
      ],
      "text/plain": [
       "                      fit_time predict_time  RMSE\n",
       "LGBM                     45.2s       764 ms  1635\n",
       "Regression              330 ms      10.3 ms  2920\n",
       "DecisionTreeRegressor   870 ms      19.8 ms  1930"
      ]
     },
     "execution_count": 54,
     "metadata": {},
     "output_type": "execute_result"
    }
   ],
   "source": [
    "pd.DataFrame(data=df, index=model, columns=[\"fit_time\", \"predict_time\", \"RMSE\"])"
   ]
  },
  {
   "cell_type": "markdown",
   "metadata": {},
   "source": [
    "Самый плохой результат показала линейная регрессия, RMSE 2956 не удовлетворяет требованию до 2500.\n",
    "DecisionTree показал свой лучший результат на глубине 14. Лучший splitter 'best' Лучший criterion 'mse'. RMSE составила 1930, время обучения - 904ms, время предсказания - 20.2.\n",
    "Самый лучший результат показал LightGBM при гиперпараметрах learning_rate = 0.1, num_leaves = 150. RMSE этой модели - 1642. Время обучения - 5min, 5s, время предсказания 770ms.    \n",
    "Поскольку линейная регрессия не вошла в список, так как не подходит под критерии заказчика (RMSE выше положенного), то остаётся выбор между LightGBM и DecisionTree. RMSE LightGBM гораздо ниже. Не смотря на большое время обучения, время предсказания достаточно неплохое. Я бы посоветовала заказчику модель LightGBM."
   ]
  },
  {
   "cell_type": "markdown",
   "metadata": {},
   "source": [
    "## Тестирование лучшей модели"
   ]
  },
  {
   "cell_type": "markdown",
   "metadata": {},
   "source": [
    "Проведем финальное тестирование рекомендованной модели на тестовой выборке"
   ]
  },
  {
   "cell_type": "code",
   "execution_count": 55,
   "metadata": {},
   "outputs": [
    {
     "name": "stdout",
     "output_type": "stream",
     "text": [
      "rmse для LightGBM для тестовой выборки 1642.1614551006594\n"
     ]
    }
   ],
   "source": [
    "pred_l_g_b_m = mod_l_g_b_m.predict(features_test)\n",
    "rmse_l_g_b_m = mean_squared_error(target_test, pred_l_g_b_m)**0.5\n",
    "print(\"rmse для LightGBM для тестовой выборки\", rmse_l_g_b_m)"
   ]
  },
  {
   "cell_type": "markdown",
   "metadata": {},
   "source": [
    "## Вывод"
   ]
  },
  {
   "cell_type": "markdown",
   "metadata": {},
   "source": [
    "В процессе работы над проектом из архива данных были удалены неинформативные столбцы, обработаны аномалии, заполнены пропущенные значения, удалены дубликаты, изменены типы данных. Выборки были подготовлены для дальнейшего обучения моделей, применены кодировки и стандартизация.      \n",
    "    На данных были обучены модели LightGBM, LinearRegression, DecisionTreeRegressor с использованием разных гиперпараметров, измерением времени обучения, предсказания и метрики качества RMSE.    \n",
    "    Лучшее качество показала модель LightGBM. RMSE = 1635, а время обучения составило 45.2сек.    \n",
    "    Несколько ниже качество у  модели DecisionTree. RMSE = 1930, но время обучения значительно ниже - 870msec.     \n",
    "    Поскольку время предсказания у LightGBM составило менее 1сек, а качество такой модели значительно выше остальных, то считаю, что эту модель лучше рекомендовать заказчику. Финальное тестирование показало значения RMSE 1642, что не очень отличается от прогнозируемого."
   ]
  }
 ],
 "metadata": {
  "ExecuteTimeLog": [
   {
    "duration": 9,
    "start_time": "2023-06-15T07:50:15.904Z"
   },
   {
    "duration": 3,
    "start_time": "2023-06-15T07:50:46.196Z"
   },
   {
    "duration": 420,
    "start_time": "2023-06-15T07:50:50.925Z"
   },
   {
    "duration": 2888,
    "start_time": "2023-06-15T07:50:51.399Z"
   },
   {
    "duration": 21,
    "start_time": "2023-06-15T07:51:11.996Z"
   },
   {
    "duration": 66,
    "start_time": "2023-06-15T08:31:58.027Z"
   },
   {
    "duration": 124,
    "start_time": "2023-06-15T08:32:08.673Z"
   },
   {
    "duration": 127,
    "start_time": "2023-06-15T08:32:20.123Z"
   },
   {
    "duration": 125,
    "start_time": "2023-06-15T08:32:35.265Z"
   },
   {
    "duration": 674,
    "start_time": "2023-06-15T10:39:36.897Z"
   },
   {
    "duration": 594,
    "start_time": "2023-06-15T10:39:45.769Z"
   },
   {
    "duration": 667,
    "start_time": "2023-06-15T10:40:46.904Z"
   },
   {
    "duration": 40,
    "start_time": "2023-06-15T10:53:24.351Z"
   },
   {
    "duration": 16,
    "start_time": "2023-06-15T10:53:44.004Z"
   },
   {
    "duration": 296,
    "start_time": "2023-06-15T11:17:00.188Z"
   },
   {
    "duration": 102,
    "start_time": "2023-06-15T11:18:28.895Z"
   },
   {
    "duration": 258,
    "start_time": "2023-06-15T11:20:49.682Z"
   },
   {
    "duration": 261,
    "start_time": "2023-06-15T11:21:34.175Z"
   },
   {
    "duration": 326,
    "start_time": "2023-06-15T11:26:24.311Z"
   },
   {
    "duration": 613,
    "start_time": "2023-06-15T11:26:45.109Z"
   },
   {
    "duration": 657,
    "start_time": "2023-06-15T11:27:02.794Z"
   },
   {
    "duration": 96,
    "start_time": "2023-06-15T11:27:43.026Z"
   },
   {
    "duration": 6,
    "start_time": "2023-06-15T11:45:23.435Z"
   },
   {
    "duration": 15,
    "start_time": "2023-06-15T11:45:39.516Z"
   },
   {
    "duration": 15,
    "start_time": "2023-06-15T11:48:06.719Z"
   },
   {
    "duration": 19,
    "start_time": "2023-06-15T11:49:19.454Z"
   },
   {
    "duration": 16,
    "start_time": "2023-06-15T11:50:22.256Z"
   },
   {
    "duration": 158,
    "start_time": "2023-06-15T11:50:38.509Z"
   },
   {
    "duration": 164,
    "start_time": "2023-06-15T11:50:47.277Z"
   },
   {
    "duration": 149,
    "start_time": "2023-06-15T11:51:08.161Z"
   },
   {
    "duration": 139,
    "start_time": "2023-06-15T11:51:19.599Z"
   },
   {
    "duration": 134,
    "start_time": "2023-06-15T11:51:40.017Z"
   },
   {
    "duration": 134,
    "start_time": "2023-06-15T11:51:50.302Z"
   },
   {
    "duration": 191,
    "start_time": "2023-06-15T11:52:09.348Z"
   },
   {
    "duration": 139,
    "start_time": "2023-06-15T11:52:15.312Z"
   },
   {
    "duration": 942,
    "start_time": "2023-06-15T11:55:08.106Z"
   },
   {
    "duration": 70,
    "start_time": "2023-06-15T12:02:47.547Z"
   },
   {
    "duration": 240,
    "start_time": "2023-06-15T12:02:53.019Z"
   },
   {
    "duration": 104,
    "start_time": "2023-06-15T12:02:59.837Z"
   },
   {
    "duration": 115,
    "start_time": "2023-06-15T12:05:09.160Z"
   },
   {
    "duration": 96,
    "start_time": "2023-06-15T12:06:06.110Z"
   },
   {
    "duration": 285,
    "start_time": "2023-06-15T12:06:10.006Z"
   },
   {
    "duration": 80,
    "start_time": "2023-06-15T12:06:19.155Z"
   },
   {
    "duration": 66,
    "start_time": "2023-06-15T12:07:58.012Z"
   },
   {
    "duration": 64,
    "start_time": "2023-06-15T12:11:05.306Z"
   },
   {
    "duration": 19,
    "start_time": "2023-06-15T12:11:31.902Z"
   },
   {
    "duration": 15,
    "start_time": "2023-06-15T12:12:02.991Z"
   },
   {
    "duration": 15,
    "start_time": "2023-06-15T12:12:21.132Z"
   },
   {
    "duration": 31,
    "start_time": "2023-06-15T12:18:01.538Z"
   },
   {
    "duration": 35,
    "start_time": "2023-06-15T12:18:29.453Z"
   },
   {
    "duration": 88,
    "start_time": "2023-06-15T12:42:52.442Z"
   },
   {
    "duration": 79,
    "start_time": "2023-06-15T12:43:15.473Z"
   },
   {
    "duration": 84,
    "start_time": "2023-06-15T12:43:25.767Z"
   },
   {
    "duration": 83,
    "start_time": "2023-06-15T12:43:33.647Z"
   },
   {
    "duration": 91,
    "start_time": "2023-06-15T12:45:07.706Z"
   },
   {
    "duration": 107,
    "start_time": "2023-06-15T12:45:19.912Z"
   },
   {
    "duration": 87,
    "start_time": "2023-06-15T12:45:23.506Z"
   },
   {
    "duration": 88,
    "start_time": "2023-06-15T12:45:24.812Z"
   },
   {
    "duration": 86,
    "start_time": "2023-06-15T12:45:37.520Z"
   },
   {
    "duration": 84,
    "start_time": "2023-06-15T12:45:48.028Z"
   },
   {
    "duration": 88,
    "start_time": "2023-06-15T12:45:56.002Z"
   },
   {
    "duration": 10,
    "start_time": "2023-06-15T12:49:21.349Z"
   },
   {
    "duration": 7,
    "start_time": "2023-06-15T12:49:27.720Z"
   },
   {
    "duration": 7,
    "start_time": "2023-06-15T12:52:44.328Z"
   },
   {
    "duration": 9,
    "start_time": "2023-06-15T12:53:51.776Z"
   },
   {
    "duration": 37,
    "start_time": "2023-06-15T12:54:09.711Z"
   },
   {
    "duration": 86,
    "start_time": "2023-06-15T12:54:30.919Z"
   },
   {
    "duration": 84,
    "start_time": "2023-06-15T12:54:39.327Z"
   },
   {
    "duration": 92,
    "start_time": "2023-06-15T12:56:05.704Z"
   },
   {
    "duration": 85,
    "start_time": "2023-06-15T12:56:08.378Z"
   },
   {
    "duration": 100,
    "start_time": "2023-06-15T12:56:09.175Z"
   },
   {
    "duration": 505,
    "start_time": "2023-06-15T14:51:00.006Z"
   },
   {
    "duration": 379,
    "start_time": "2023-06-15T14:52:05.307Z"
   },
   {
    "duration": 2907,
    "start_time": "2023-06-15T14:52:05.688Z"
   },
   {
    "duration": 22,
    "start_time": "2023-06-15T14:52:08.597Z"
   },
   {
    "duration": 542,
    "start_time": "2023-06-15T14:52:08.621Z"
   },
   {
    "duration": 1031,
    "start_time": "2023-06-15T14:52:09.167Z"
   },
   {
    "duration": 44,
    "start_time": "2023-06-15T14:52:10.200Z"
   },
   {
    "duration": 13,
    "start_time": "2023-06-15T14:52:10.257Z"
   },
   {
    "duration": 96,
    "start_time": "2023-06-15T14:52:10.271Z"
   },
   {
    "duration": 77,
    "start_time": "2023-06-15T14:52:10.369Z"
   },
   {
    "duration": 109,
    "start_time": "2023-06-15T14:52:10.448Z"
   },
   {
    "duration": 485,
    "start_time": "2023-06-15T14:52:10.559Z"
   },
   {
    "duration": 58,
    "start_time": "2023-06-15T14:52:11.046Z"
   },
   {
    "duration": 15,
    "start_time": "2023-06-15T14:52:11.106Z"
   },
   {
    "duration": 68,
    "start_time": "2023-06-15T14:52:11.124Z"
   },
   {
    "duration": 0,
    "start_time": "2023-06-15T14:52:11.194Z"
   },
   {
    "duration": 0,
    "start_time": "2023-06-15T14:52:11.195Z"
   },
   {
    "duration": 0,
    "start_time": "2023-06-15T14:52:11.196Z"
   },
   {
    "duration": 0,
    "start_time": "2023-06-15T14:52:11.196Z"
   },
   {
    "duration": 0,
    "start_time": "2023-06-15T14:52:11.197Z"
   },
   {
    "duration": 0,
    "start_time": "2023-06-15T14:52:11.199Z"
   },
   {
    "duration": 0,
    "start_time": "2023-06-15T14:52:11.200Z"
   },
   {
    "duration": 30,
    "start_time": "2023-06-15T14:52:43.706Z"
   },
   {
    "duration": 96,
    "start_time": "2023-06-15T14:52:46.024Z"
   },
   {
    "duration": 79,
    "start_time": "2023-06-15T14:52:46.510Z"
   },
   {
    "duration": 7,
    "start_time": "2023-06-15T14:52:47.576Z"
   },
   {
    "duration": 94,
    "start_time": "2023-06-15T14:52:52.859Z"
   },
   {
    "duration": 572,
    "start_time": "2023-06-15T14:52:55.832Z"
   },
   {
    "duration": 8,
    "start_time": "2023-06-15T15:02:49.367Z"
   },
   {
    "duration": 44,
    "start_time": "2023-06-15T15:02:57.273Z"
   },
   {
    "duration": 77,
    "start_time": "2023-06-15T15:03:28.817Z"
   },
   {
    "duration": 300,
    "start_time": "2023-06-15T15:03:32.455Z"
   },
   {
    "duration": 252,
    "start_time": "2023-06-15T15:04:26.811Z"
   },
   {
    "duration": 248,
    "start_time": "2023-06-15T15:05:10.375Z"
   },
   {
    "duration": 496,
    "start_time": "2023-06-16T06:01:57.253Z"
   },
   {
    "duration": 3731,
    "start_time": "2023-06-16T06:01:57.752Z"
   },
   {
    "duration": 36,
    "start_time": "2023-06-16T06:02:01.485Z"
   },
   {
    "duration": 796,
    "start_time": "2023-06-16T06:02:01.529Z"
   },
   {
    "duration": 1343,
    "start_time": "2023-06-16T06:02:02.332Z"
   },
   {
    "duration": 51,
    "start_time": "2023-06-16T06:02:03.678Z"
   },
   {
    "duration": 16,
    "start_time": "2023-06-16T06:02:03.731Z"
   },
   {
    "duration": 128,
    "start_time": "2023-06-16T06:02:03.749Z"
   },
   {
    "duration": 161,
    "start_time": "2023-06-16T06:02:03.879Z"
   },
   {
    "duration": 183,
    "start_time": "2023-06-16T06:02:04.042Z"
   },
   {
    "duration": 1058,
    "start_time": "2023-06-16T06:02:04.237Z"
   },
   {
    "duration": 73,
    "start_time": "2023-06-16T06:02:05.297Z"
   },
   {
    "duration": 19,
    "start_time": "2023-06-16T06:02:05.372Z"
   },
   {
    "duration": 61,
    "start_time": "2023-06-16T06:02:05.395Z"
   },
   {
    "duration": 100,
    "start_time": "2023-06-16T06:02:05.458Z"
   },
   {
    "duration": 96,
    "start_time": "2023-06-16T06:02:05.560Z"
   },
   {
    "duration": 8,
    "start_time": "2023-06-16T06:02:05.658Z"
   },
   {
    "duration": 133,
    "start_time": "2023-06-16T06:02:05.668Z"
   },
   {
    "duration": 61,
    "start_time": "2023-06-16T06:02:05.803Z"
   },
   {
    "duration": 318,
    "start_time": "2023-06-16T06:02:05.866Z"
   },
   {
    "duration": 108,
    "start_time": "2023-06-16T06:02:28.535Z"
   },
   {
    "duration": 22,
    "start_time": "2023-06-16T06:08:37.497Z"
   },
   {
    "duration": 24,
    "start_time": "2023-06-16T06:13:30.575Z"
   },
   {
    "duration": 47,
    "start_time": "2023-06-16T06:15:59.295Z"
   },
   {
    "duration": 9,
    "start_time": "2023-06-16T06:16:14.684Z"
   },
   {
    "duration": 146,
    "start_time": "2023-06-16T06:16:21.438Z"
   },
   {
    "duration": 168,
    "start_time": "2023-06-16T06:16:59.041Z"
   },
   {
    "duration": 79,
    "start_time": "2023-06-16T06:17:11.206Z"
   },
   {
    "duration": 48,
    "start_time": "2023-06-16T06:17:22.652Z"
   },
   {
    "duration": 40,
    "start_time": "2023-06-16T06:17:32.639Z"
   },
   {
    "duration": 54,
    "start_time": "2023-06-16T06:18:09.096Z"
   },
   {
    "duration": 3,
    "start_time": "2023-06-16T06:20:23.737Z"
   },
   {
    "duration": 51,
    "start_time": "2023-06-16T06:20:30.704Z"
   },
   {
    "duration": 40,
    "start_time": "2023-06-16T06:21:07.129Z"
   },
   {
    "duration": 111,
    "start_time": "2023-06-16T06:21:12.783Z"
   },
   {
    "duration": 48,
    "start_time": "2023-06-16T06:21:25.990Z"
   },
   {
    "duration": 100,
    "start_time": "2023-06-16T06:21:33.275Z"
   },
   {
    "duration": 437,
    "start_time": "2023-06-16T06:24:32.400Z"
   },
   {
    "duration": 906,
    "start_time": "2023-06-16T06:24:32.840Z"
   },
   {
    "duration": 32,
    "start_time": "2023-06-16T06:24:33.748Z"
   },
   {
    "duration": 587,
    "start_time": "2023-06-16T06:24:33.782Z"
   },
   {
    "duration": 1033,
    "start_time": "2023-06-16T06:24:34.371Z"
   },
   {
    "duration": 50,
    "start_time": "2023-06-16T06:24:35.406Z"
   },
   {
    "duration": 12,
    "start_time": "2023-06-16T06:24:35.458Z"
   },
   {
    "duration": 154,
    "start_time": "2023-06-16T06:24:35.474Z"
   },
   {
    "duration": 104,
    "start_time": "2023-06-16T06:24:35.632Z"
   },
   {
    "duration": 136,
    "start_time": "2023-06-16T06:24:35.740Z"
   },
   {
    "duration": 528,
    "start_time": "2023-06-16T06:24:35.878Z"
   },
   {
    "duration": 64,
    "start_time": "2023-06-16T06:24:36.409Z"
   },
   {
    "duration": 17,
    "start_time": "2023-06-16T06:24:36.475Z"
   },
   {
    "duration": 55,
    "start_time": "2023-06-16T06:24:36.494Z"
   },
   {
    "duration": 149,
    "start_time": "2023-06-16T06:24:36.551Z"
   },
   {
    "duration": 87,
    "start_time": "2023-06-16T06:24:36.702Z"
   },
   {
    "duration": 10,
    "start_time": "2023-06-16T06:24:36.791Z"
   },
   {
    "duration": 131,
    "start_time": "2023-06-16T06:24:36.817Z"
   },
   {
    "duration": 87,
    "start_time": "2023-06-16T06:24:36.951Z"
   },
   {
    "duration": 323,
    "start_time": "2023-06-16T06:24:37.039Z"
   },
   {
    "duration": 93,
    "start_time": "2023-06-16T06:24:37.363Z"
   },
   {
    "duration": 13,
    "start_time": "2023-06-16T06:24:37.458Z"
   },
   {
    "duration": 59,
    "start_time": "2023-06-16T06:24:37.472Z"
   },
   {
    "duration": 133,
    "start_time": "2023-06-16T06:25:38.556Z"
   },
   {
    "duration": 52,
    "start_time": "2023-06-16T06:25:56.816Z"
   },
   {
    "duration": 109,
    "start_time": "2023-06-16T06:26:07.528Z"
   },
   {
    "duration": 13,
    "start_time": "2023-06-16T08:06:55.801Z"
   },
   {
    "duration": 73,
    "start_time": "2023-06-16T08:07:17.586Z"
   },
   {
    "duration": 66,
    "start_time": "2023-06-16T08:07:20.651Z"
   },
   {
    "duration": 78,
    "start_time": "2023-06-16T08:07:44.860Z"
   },
   {
    "duration": 66,
    "start_time": "2023-06-16T08:08:24.955Z"
   },
   {
    "duration": 70,
    "start_time": "2023-06-16T08:08:32.525Z"
   },
   {
    "duration": 54,
    "start_time": "2023-06-16T08:08:44.272Z"
   },
   {
    "duration": 8,
    "start_time": "2023-06-16T08:08:55.397Z"
   },
   {
    "duration": 427,
    "start_time": "2023-06-16T08:09:06.540Z"
   },
   {
    "duration": 2816,
    "start_time": "2023-06-16T08:09:06.969Z"
   },
   {
    "duration": 19,
    "start_time": "2023-06-16T08:09:09.787Z"
   },
   {
    "duration": 442,
    "start_time": "2023-06-16T08:09:09.808Z"
   },
   {
    "duration": 903,
    "start_time": "2023-06-16T08:09:10.252Z"
   },
   {
    "duration": 36,
    "start_time": "2023-06-16T08:09:11.157Z"
   },
   {
    "duration": 17,
    "start_time": "2023-06-16T08:09:11.194Z"
   },
   {
    "duration": 114,
    "start_time": "2023-06-16T08:09:11.212Z"
   },
   {
    "duration": 92,
    "start_time": "2023-06-16T08:09:11.327Z"
   },
   {
    "duration": 128,
    "start_time": "2023-06-16T08:09:11.421Z"
   },
   {
    "duration": 626,
    "start_time": "2023-06-16T08:09:11.551Z"
   },
   {
    "duration": 54,
    "start_time": "2023-06-16T08:09:12.179Z"
   },
   {
    "duration": 29,
    "start_time": "2023-06-16T08:09:12.235Z"
   },
   {
    "duration": 29,
    "start_time": "2023-06-16T08:09:12.267Z"
   },
   {
    "duration": 97,
    "start_time": "2023-06-16T08:09:12.298Z"
   },
   {
    "duration": 83,
    "start_time": "2023-06-16T08:09:12.397Z"
   },
   {
    "duration": 8,
    "start_time": "2023-06-16T08:09:12.482Z"
   },
   {
    "duration": 118,
    "start_time": "2023-06-16T08:09:12.492Z"
   },
   {
    "duration": 51,
    "start_time": "2023-06-16T08:09:12.611Z"
   },
   {
    "duration": 270,
    "start_time": "2023-06-16T08:09:12.664Z"
   },
   {
    "duration": 79,
    "start_time": "2023-06-16T08:09:12.935Z"
   },
   {
    "duration": 11,
    "start_time": "2023-06-16T08:09:13.015Z"
   },
   {
    "duration": 88,
    "start_time": "2023-06-16T08:09:13.028Z"
   },
   {
    "duration": 0,
    "start_time": "2023-06-16T08:09:13.118Z"
   },
   {
    "duration": 0,
    "start_time": "2023-06-16T08:09:13.119Z"
   },
   {
    "duration": 88,
    "start_time": "2023-06-16T08:11:02.981Z"
   },
   {
    "duration": 8,
    "start_time": "2023-06-16T08:11:09.984Z"
   },
   {
    "duration": 65,
    "start_time": "2023-06-16T08:11:15.291Z"
   },
   {
    "duration": 214,
    "start_time": "2023-06-16T08:14:48.831Z"
   },
   {
    "duration": 57,
    "start_time": "2023-06-16T08:17:40.271Z"
   },
   {
    "duration": 48,
    "start_time": "2023-06-16T08:17:55.175Z"
   },
   {
    "duration": 286,
    "start_time": "2023-06-16T08:22:18.186Z"
   },
   {
    "duration": 222,
    "start_time": "2023-06-16T08:23:12.867Z"
   },
   {
    "duration": 10,
    "start_time": "2023-06-16T08:26:17.312Z"
   },
   {
    "duration": 388,
    "start_time": "2023-06-16T08:46:54.156Z"
   },
   {
    "duration": 84,
    "start_time": "2023-06-16T08:48:13.138Z"
   },
   {
    "duration": 161,
    "start_time": "2023-06-16T09:15:34.558Z"
   },
   {
    "duration": 14,
    "start_time": "2023-06-16T09:17:19.403Z"
   },
   {
    "duration": 1181,
    "start_time": "2023-06-16T09:17:22.917Z"
   },
   {
    "duration": 204,
    "start_time": "2023-06-16T09:17:29.763Z"
   },
   {
    "duration": 413,
    "start_time": "2023-06-16T12:02:27.823Z"
   },
   {
    "duration": 2882,
    "start_time": "2023-06-16T12:02:28.238Z"
   },
   {
    "duration": 20,
    "start_time": "2023-06-16T12:02:31.121Z"
   },
   {
    "duration": 567,
    "start_time": "2023-06-16T12:02:31.143Z"
   },
   {
    "duration": 1007,
    "start_time": "2023-06-16T12:02:31.712Z"
   },
   {
    "duration": 42,
    "start_time": "2023-06-16T12:02:32.721Z"
   },
   {
    "duration": 25,
    "start_time": "2023-06-16T12:02:32.765Z"
   },
   {
    "duration": 88,
    "start_time": "2023-06-16T12:02:32.791Z"
   },
   {
    "duration": 89,
    "start_time": "2023-06-16T12:02:32.881Z"
   },
   {
    "duration": 114,
    "start_time": "2023-06-16T12:02:32.972Z"
   },
   {
    "duration": 646,
    "start_time": "2023-06-16T12:02:33.088Z"
   },
   {
    "duration": 71,
    "start_time": "2023-06-16T12:02:33.737Z"
   },
   {
    "duration": 16,
    "start_time": "2023-06-16T12:02:33.810Z"
   },
   {
    "duration": 57,
    "start_time": "2023-06-16T12:02:33.829Z"
   },
   {
    "duration": 112,
    "start_time": "2023-06-16T12:02:33.888Z"
   },
   {
    "duration": 79,
    "start_time": "2023-06-16T12:02:34.002Z"
   },
   {
    "duration": 7,
    "start_time": "2023-06-16T12:02:34.082Z"
   },
   {
    "duration": 101,
    "start_time": "2023-06-16T12:02:34.091Z"
   },
   {
    "duration": 51,
    "start_time": "2023-06-16T12:02:34.193Z"
   },
   {
    "duration": 278,
    "start_time": "2023-06-16T12:02:34.256Z"
   },
   {
    "duration": 79,
    "start_time": "2023-06-16T12:02:34.535Z"
   },
   {
    "duration": 12,
    "start_time": "2023-06-16T12:02:34.615Z"
   },
   {
    "duration": 109,
    "start_time": "2023-06-16T12:02:34.629Z"
   },
   {
    "duration": 229,
    "start_time": "2023-06-16T12:02:34.739Z"
   },
   {
    "duration": 52,
    "start_time": "2023-06-16T12:02:34.969Z"
   },
   {
    "duration": 318,
    "start_time": "2023-06-16T12:02:35.023Z"
   },
   {
    "duration": 243,
    "start_time": "2023-06-16T12:02:35.343Z"
   },
   {
    "duration": 161,
    "start_time": "2023-06-16T12:02:35.588Z"
   },
   {
    "duration": 17,
    "start_time": "2023-06-16T12:02:35.750Z"
   },
   {
    "duration": 15,
    "start_time": "2023-06-16T12:04:49.724Z"
   },
   {
    "duration": 190,
    "start_time": "2023-06-16T12:05:24.414Z"
   },
   {
    "duration": 18,
    "start_time": "2023-06-16T12:05:47.045Z"
   },
   {
    "duration": 285,
    "start_time": "2023-06-16T12:06:41.890Z"
   },
   {
    "duration": 96,
    "start_time": "2023-06-16T12:07:06.924Z"
   },
   {
    "duration": 246,
    "start_time": "2023-06-16T12:07:13.048Z"
   },
   {
    "duration": 458,
    "start_time": "2023-06-16T12:07:33.055Z"
   },
   {
    "duration": 234,
    "start_time": "2023-06-16T12:07:59.411Z"
   },
   {
    "duration": 252,
    "start_time": "2023-06-16T12:08:18.015Z"
   },
   {
    "duration": 241,
    "start_time": "2023-06-16T12:08:26.603Z"
   },
   {
    "duration": 254,
    "start_time": "2023-06-16T12:13:44.703Z"
   },
   {
    "duration": 241,
    "start_time": "2023-06-16T12:14:00.241Z"
   },
   {
    "duration": 271,
    "start_time": "2023-06-16T12:15:43.068Z"
   },
   {
    "duration": 250,
    "start_time": "2023-06-16T12:15:44.349Z"
   },
   {
    "duration": 249,
    "start_time": "2023-06-16T12:15:54.091Z"
   },
   {
    "duration": 272,
    "start_time": "2023-06-16T12:16:02.906Z"
   },
   {
    "duration": 427,
    "start_time": "2023-06-16T12:20:30.416Z"
   },
   {
    "duration": 272,
    "start_time": "2023-06-16T12:20:42.090Z"
   },
   {
    "duration": 63,
    "start_time": "2023-06-16T12:30:53.958Z"
   },
   {
    "duration": 4,
    "start_time": "2023-06-16T12:31:15.753Z"
   },
   {
    "duration": 107,
    "start_time": "2023-06-16T12:31:32.891Z"
   },
   {
    "duration": 1152,
    "start_time": "2023-06-16T12:31:41.473Z"
   },
   {
    "duration": 4,
    "start_time": "2023-06-16T12:32:05.706Z"
   },
   {
    "duration": 3,
    "start_time": "2023-06-16T12:33:23.118Z"
   },
   {
    "duration": 3,
    "start_time": "2023-06-16T12:33:28.634Z"
   },
   {
    "duration": 3,
    "start_time": "2023-06-16T12:33:44.417Z"
   },
   {
    "duration": 71,
    "start_time": "2023-06-16T12:34:01.492Z"
   },
   {
    "duration": 3,
    "start_time": "2023-06-16T12:34:24.794Z"
   },
   {
    "duration": 3,
    "start_time": "2023-06-16T12:34:29.213Z"
   },
   {
    "duration": 74,
    "start_time": "2023-06-16T12:34:43.194Z"
   },
   {
    "duration": 44,
    "start_time": "2023-06-16T12:35:06.194Z"
   },
   {
    "duration": 67,
    "start_time": "2023-06-16T12:35:15.208Z"
   },
   {
    "duration": 4,
    "start_time": "2023-06-16T12:39:34.738Z"
   },
   {
    "duration": 6,
    "start_time": "2023-06-16T12:39:42.344Z"
   },
   {
    "duration": 19,
    "start_time": "2023-06-16T12:40:50.873Z"
   },
   {
    "duration": 34686,
    "start_time": "2023-06-16T12:44:01.483Z"
   },
   {
    "duration": 12,
    "start_time": "2023-06-16T12:46:47.736Z"
   },
   {
    "duration": 795,
    "start_time": "2023-06-16T12:48:30.940Z"
   },
   {
    "duration": 822,
    "start_time": "2023-06-16T12:48:43.967Z"
   },
   {
    "duration": 402,
    "start_time": "2023-06-16T12:50:03.608Z"
   },
   {
    "duration": 838,
    "start_time": "2023-06-16T12:50:04.013Z"
   },
   {
    "duration": 21,
    "start_time": "2023-06-16T12:50:04.852Z"
   },
   {
    "duration": 504,
    "start_time": "2023-06-16T12:50:04.875Z"
   },
   {
    "duration": 994,
    "start_time": "2023-06-16T12:50:05.381Z"
   },
   {
    "duration": 40,
    "start_time": "2023-06-16T12:50:06.377Z"
   },
   {
    "duration": 18,
    "start_time": "2023-06-16T12:50:06.418Z"
   },
   {
    "duration": 93,
    "start_time": "2023-06-16T12:50:06.438Z"
   },
   {
    "duration": 79,
    "start_time": "2023-06-16T12:50:06.533Z"
   },
   {
    "duration": 113,
    "start_time": "2023-06-16T12:50:06.614Z"
   },
   {
    "duration": 472,
    "start_time": "2023-06-16T12:50:06.728Z"
   },
   {
    "duration": 65,
    "start_time": "2023-06-16T12:50:07.202Z"
   },
   {
    "duration": 16,
    "start_time": "2023-06-16T12:50:07.269Z"
   },
   {
    "duration": 30,
    "start_time": "2023-06-16T12:50:07.289Z"
   },
   {
    "duration": 106,
    "start_time": "2023-06-16T12:50:07.321Z"
   },
   {
    "duration": 86,
    "start_time": "2023-06-16T12:50:07.429Z"
   },
   {
    "duration": 7,
    "start_time": "2023-06-16T12:50:07.517Z"
   },
   {
    "duration": 108,
    "start_time": "2023-06-16T12:50:07.526Z"
   },
   {
    "duration": 57,
    "start_time": "2023-06-16T12:50:07.636Z"
   },
   {
    "duration": 289,
    "start_time": "2023-06-16T12:50:07.695Z"
   },
   {
    "duration": 82,
    "start_time": "2023-06-16T12:50:07.986Z"
   },
   {
    "duration": 12,
    "start_time": "2023-06-16T12:50:08.069Z"
   },
   {
    "duration": 100,
    "start_time": "2023-06-16T12:50:08.083Z"
   },
   {
    "duration": 218,
    "start_time": "2023-06-16T12:50:08.184Z"
   },
   {
    "duration": 55,
    "start_time": "2023-06-16T12:50:08.404Z"
   },
   {
    "duration": 237,
    "start_time": "2023-06-16T12:50:08.461Z"
   },
   {
    "duration": 236,
    "start_time": "2023-06-16T12:50:08.700Z"
   },
   {
    "duration": 22,
    "start_time": "2023-06-16T12:50:08.937Z"
   },
   {
    "duration": 17,
    "start_time": "2023-06-16T12:50:08.960Z"
   },
   {
    "duration": 256,
    "start_time": "2023-06-16T12:50:08.979Z"
   },
   {
    "duration": 265,
    "start_time": "2023-06-16T12:50:09.237Z"
   },
   {
    "duration": 68,
    "start_time": "2023-06-16T12:50:09.503Z"
   },
   {
    "duration": 6,
    "start_time": "2023-06-16T12:50:09.573Z"
   },
   {
    "duration": 375075,
    "start_time": "2023-06-16T12:50:09.580Z"
   },
   {
    "duration": 11843,
    "start_time": "2023-06-16T12:56:24.657Z"
   },
   {
    "duration": 898,
    "start_time": "2023-06-16T13:10:38.910Z"
   },
   {
    "duration": 418,
    "start_time": "2023-06-16T13:11:07.925Z"
   },
   {
    "duration": 843,
    "start_time": "2023-06-16T13:11:08.345Z"
   },
   {
    "duration": 20,
    "start_time": "2023-06-16T13:11:09.190Z"
   },
   {
    "duration": 491,
    "start_time": "2023-06-16T13:11:09.212Z"
   },
   {
    "duration": 973,
    "start_time": "2023-06-16T13:11:09.707Z"
   },
   {
    "duration": 40,
    "start_time": "2023-06-16T13:11:10.682Z"
   },
   {
    "duration": 15,
    "start_time": "2023-06-16T13:11:10.724Z"
   },
   {
    "duration": 103,
    "start_time": "2023-06-16T13:11:10.756Z"
   },
   {
    "duration": 82,
    "start_time": "2023-06-16T13:11:10.861Z"
   },
   {
    "duration": 112,
    "start_time": "2023-06-16T13:11:10.945Z"
   },
   {
    "duration": 441,
    "start_time": "2023-06-16T13:11:11.059Z"
   },
   {
    "duration": 61,
    "start_time": "2023-06-16T13:11:11.502Z"
   },
   {
    "duration": 13,
    "start_time": "2023-06-16T13:11:11.565Z"
   },
   {
    "duration": 37,
    "start_time": "2023-06-16T13:11:11.581Z"
   },
   {
    "duration": 101,
    "start_time": "2023-06-16T13:11:11.620Z"
   },
   {
    "duration": 87,
    "start_time": "2023-06-16T13:11:11.723Z"
   },
   {
    "duration": 8,
    "start_time": "2023-06-16T13:11:11.811Z"
   },
   {
    "duration": 102,
    "start_time": "2023-06-16T13:11:11.820Z"
   },
   {
    "duration": 59,
    "start_time": "2023-06-16T13:11:11.923Z"
   },
   {
    "duration": 257,
    "start_time": "2023-06-16T13:11:11.985Z"
   },
   {
    "duration": 78,
    "start_time": "2023-06-16T13:11:12.244Z"
   },
   {
    "duration": 13,
    "start_time": "2023-06-16T13:11:12.324Z"
   },
   {
    "duration": 109,
    "start_time": "2023-06-16T13:11:12.339Z"
   },
   {
    "duration": 210,
    "start_time": "2023-06-16T13:11:12.451Z"
   },
   {
    "duration": 49,
    "start_time": "2023-06-16T13:11:12.662Z"
   },
   {
    "duration": 241,
    "start_time": "2023-06-16T13:11:12.712Z"
   },
   {
    "duration": 233,
    "start_time": "2023-06-16T13:11:12.955Z"
   },
   {
    "duration": 16,
    "start_time": "2023-06-16T13:11:13.190Z"
   },
   {
    "duration": 25,
    "start_time": "2023-06-16T13:11:13.207Z"
   },
   {
    "duration": 252,
    "start_time": "2023-06-16T13:11:13.234Z"
   },
   {
    "duration": 251,
    "start_time": "2023-06-16T13:11:13.487Z"
   },
   {
    "duration": 53,
    "start_time": "2023-06-16T13:11:13.740Z"
   },
   {
    "duration": 5,
    "start_time": "2023-06-16T13:11:13.794Z"
   },
   {
    "duration": 369810,
    "start_time": "2023-06-16T13:11:13.801Z"
   },
   {
    "duration": 3,
    "start_time": "2023-06-16T13:21:39.506Z"
   },
   {
    "duration": 412,
    "start_time": "2023-06-16T13:21:59.846Z"
   },
   {
    "duration": 831,
    "start_time": "2023-06-16T13:22:00.260Z"
   },
   {
    "duration": 18,
    "start_time": "2023-06-16T13:22:01.094Z"
   },
   {
    "duration": 497,
    "start_time": "2023-06-16T13:22:01.114Z"
   },
   {
    "duration": 1060,
    "start_time": "2023-06-16T13:22:01.612Z"
   },
   {
    "duration": 40,
    "start_time": "2023-06-16T13:22:02.674Z"
   },
   {
    "duration": 35,
    "start_time": "2023-06-16T13:22:02.717Z"
   },
   {
    "duration": 120,
    "start_time": "2023-06-16T13:22:02.754Z"
   },
   {
    "duration": 83,
    "start_time": "2023-06-16T13:22:02.875Z"
   },
   {
    "duration": 103,
    "start_time": "2023-06-16T13:22:02.959Z"
   },
   {
    "duration": 427,
    "start_time": "2023-06-16T13:22:03.064Z"
   },
   {
    "duration": 52,
    "start_time": "2023-06-16T13:22:03.493Z"
   },
   {
    "duration": 14,
    "start_time": "2023-06-16T13:22:03.556Z"
   },
   {
    "duration": 47,
    "start_time": "2023-06-16T13:22:03.572Z"
   },
   {
    "duration": 83,
    "start_time": "2023-06-16T13:22:03.621Z"
   },
   {
    "duration": 78,
    "start_time": "2023-06-16T13:22:03.706Z"
   },
   {
    "duration": 7,
    "start_time": "2023-06-16T13:22:03.786Z"
   },
   {
    "duration": 104,
    "start_time": "2023-06-16T13:22:03.795Z"
   },
   {
    "duration": 57,
    "start_time": "2023-06-16T13:22:03.901Z"
   },
   {
    "duration": 307,
    "start_time": "2023-06-16T13:22:03.960Z"
   },
   {
    "duration": 72,
    "start_time": "2023-06-16T13:22:04.269Z"
   },
   {
    "duration": 23,
    "start_time": "2023-06-16T13:22:04.342Z"
   },
   {
    "duration": 104,
    "start_time": "2023-06-16T13:22:04.366Z"
   },
   {
    "duration": 209,
    "start_time": "2023-06-16T13:22:04.471Z"
   },
   {
    "duration": 65,
    "start_time": "2023-06-16T13:22:04.682Z"
   },
   {
    "duration": 241,
    "start_time": "2023-06-16T13:22:04.756Z"
   },
   {
    "duration": 240,
    "start_time": "2023-06-16T13:22:04.999Z"
   },
   {
    "duration": 19,
    "start_time": "2023-06-16T13:22:05.240Z"
   },
   {
    "duration": 14,
    "start_time": "2023-06-16T13:22:05.260Z"
   },
   {
    "duration": 258,
    "start_time": "2023-06-16T13:22:05.275Z"
   },
   {
    "duration": 253,
    "start_time": "2023-06-16T13:22:05.534Z"
   },
   {
    "duration": 50,
    "start_time": "2023-06-16T13:22:05.788Z"
   },
   {
    "duration": 20,
    "start_time": "2023-06-16T13:22:05.840Z"
   },
   {
    "duration": 34901,
    "start_time": "2023-06-16T13:22:05.862Z"
   },
   {
    "duration": 3,
    "start_time": "2023-06-16T13:36:17.122Z"
   },
   {
    "duration": 410,
    "start_time": "2023-06-16T13:36:27.651Z"
   },
   {
    "duration": 853,
    "start_time": "2023-06-16T13:36:28.063Z"
   },
   {
    "duration": 20,
    "start_time": "2023-06-16T13:36:28.918Z"
   },
   {
    "duration": 625,
    "start_time": "2023-06-16T13:36:28.940Z"
   },
   {
    "duration": 994,
    "start_time": "2023-06-16T13:36:29.566Z"
   },
   {
    "duration": 40,
    "start_time": "2023-06-16T13:36:30.562Z"
   },
   {
    "duration": 37,
    "start_time": "2023-06-16T13:36:30.603Z"
   },
   {
    "duration": 112,
    "start_time": "2023-06-16T13:36:30.642Z"
   },
   {
    "duration": 89,
    "start_time": "2023-06-16T13:36:30.755Z"
   },
   {
    "duration": 137,
    "start_time": "2023-06-16T13:36:30.847Z"
   },
   {
    "duration": 449,
    "start_time": "2023-06-16T13:36:30.986Z"
   },
   {
    "duration": 63,
    "start_time": "2023-06-16T13:36:31.437Z"
   },
   {
    "duration": 15,
    "start_time": "2023-06-16T13:36:31.502Z"
   },
   {
    "duration": 50,
    "start_time": "2023-06-16T13:36:31.518Z"
   },
   {
    "duration": 118,
    "start_time": "2023-06-16T13:36:31.570Z"
   },
   {
    "duration": 84,
    "start_time": "2023-06-16T13:36:31.690Z"
   },
   {
    "duration": 8,
    "start_time": "2023-06-16T13:36:31.776Z"
   },
   {
    "duration": 144,
    "start_time": "2023-06-16T13:36:31.786Z"
   },
   {
    "duration": 55,
    "start_time": "2023-06-16T13:36:31.932Z"
   },
   {
    "duration": 291,
    "start_time": "2023-06-16T13:36:31.989Z"
   },
   {
    "duration": 85,
    "start_time": "2023-06-16T13:36:32.283Z"
   },
   {
    "duration": 13,
    "start_time": "2023-06-16T13:36:32.369Z"
   },
   {
    "duration": 108,
    "start_time": "2023-06-16T13:36:32.384Z"
   },
   {
    "duration": 209,
    "start_time": "2023-06-16T13:36:32.494Z"
   },
   {
    "duration": 58,
    "start_time": "2023-06-16T13:36:32.705Z"
   },
   {
    "duration": 254,
    "start_time": "2023-06-16T13:36:32.765Z"
   },
   {
    "duration": 237,
    "start_time": "2023-06-16T13:36:33.020Z"
   },
   {
    "duration": 17,
    "start_time": "2023-06-16T13:36:33.260Z"
   },
   {
    "duration": 37,
    "start_time": "2023-06-16T13:36:33.279Z"
   },
   {
    "duration": 247,
    "start_time": "2023-06-16T13:36:33.318Z"
   },
   {
    "duration": 251,
    "start_time": "2023-06-16T13:36:33.566Z"
   },
   {
    "duration": 59,
    "start_time": "2023-06-16T13:36:33.819Z"
   },
   {
    "duration": 6,
    "start_time": "2023-06-16T13:36:33.880Z"
   },
   {
    "duration": 35151,
    "start_time": "2023-06-16T13:36:33.888Z"
   },
   {
    "duration": 1216,
    "start_time": "2023-06-16T13:39:29.857Z"
   },
   {
    "duration": 15,
    "start_time": "2023-06-16T13:39:52.207Z"
   },
   {
    "duration": 450,
    "start_time": "2023-06-16T13:40:31.038Z"
   },
   {
    "duration": 922,
    "start_time": "2023-06-16T13:40:31.490Z"
   },
   {
    "duration": 20,
    "start_time": "2023-06-16T13:40:32.414Z"
   },
   {
    "duration": 570,
    "start_time": "2023-06-16T13:40:32.436Z"
   },
   {
    "duration": 1097,
    "start_time": "2023-06-16T13:40:33.008Z"
   },
   {
    "duration": 43,
    "start_time": "2023-06-16T13:40:34.106Z"
   },
   {
    "duration": 23,
    "start_time": "2023-06-16T13:40:34.157Z"
   },
   {
    "duration": 108,
    "start_time": "2023-06-16T13:40:34.181Z"
   },
   {
    "duration": 97,
    "start_time": "2023-06-16T13:40:34.290Z"
   },
   {
    "duration": 115,
    "start_time": "2023-06-16T13:40:34.390Z"
   },
   {
    "duration": 484,
    "start_time": "2023-06-16T13:40:34.506Z"
   },
   {
    "duration": 52,
    "start_time": "2023-06-16T13:40:34.991Z"
   },
   {
    "duration": 26,
    "start_time": "2023-06-16T13:40:35.045Z"
   },
   {
    "duration": 42,
    "start_time": "2023-06-16T13:40:35.073Z"
   },
   {
    "duration": 91,
    "start_time": "2023-06-16T13:40:35.117Z"
   },
   {
    "duration": 86,
    "start_time": "2023-06-16T13:40:35.210Z"
   },
   {
    "duration": 6,
    "start_time": "2023-06-16T13:40:35.298Z"
   },
   {
    "duration": 107,
    "start_time": "2023-06-16T13:40:35.306Z"
   },
   {
    "duration": 60,
    "start_time": "2023-06-16T13:40:35.415Z"
   },
   {
    "duration": 269,
    "start_time": "2023-06-16T13:40:35.477Z"
   },
   {
    "duration": 78,
    "start_time": "2023-06-16T13:40:35.747Z"
   },
   {
    "duration": 13,
    "start_time": "2023-06-16T13:40:35.827Z"
   },
   {
    "duration": 129,
    "start_time": "2023-06-16T13:40:35.842Z"
   },
   {
    "duration": 221,
    "start_time": "2023-06-16T13:40:35.973Z"
   },
   {
    "duration": 48,
    "start_time": "2023-06-16T13:40:36.196Z"
   },
   {
    "duration": 257,
    "start_time": "2023-06-16T13:40:36.245Z"
   },
   {
    "duration": 251,
    "start_time": "2023-06-16T13:40:36.503Z"
   },
   {
    "duration": 22,
    "start_time": "2023-06-16T13:40:36.760Z"
   },
   {
    "duration": 14,
    "start_time": "2023-06-16T13:40:36.783Z"
   },
   {
    "duration": 285,
    "start_time": "2023-06-16T13:40:36.799Z"
   },
   {
    "duration": 285,
    "start_time": "2023-06-16T13:40:37.085Z"
   },
   {
    "duration": 52,
    "start_time": "2023-06-16T13:40:37.372Z"
   },
   {
    "duration": 5,
    "start_time": "2023-06-16T13:40:37.426Z"
   },
   {
    "duration": 85,
    "start_time": "2023-06-16T13:40:37.433Z"
   },
   {
    "duration": 0,
    "start_time": "2023-06-16T13:40:37.520Z"
   },
   {
    "duration": 389782,
    "start_time": "2023-06-16T13:41:49.514Z"
   },
   {
    "duration": 88,
    "start_time": "2023-06-16T13:49:11.330Z"
   },
   {
    "duration": 101,
    "start_time": "2023-06-16T13:51:47.768Z"
   },
   {
    "duration": 5,
    "start_time": "2023-06-16T13:52:05.235Z"
   },
   {
    "duration": 110,
    "start_time": "2023-06-16T13:52:08.546Z"
   },
   {
    "duration": 17,
    "start_time": "2023-06-16T13:52:39.513Z"
   },
   {
    "duration": 412,
    "start_time": "2023-06-16T13:53:01.154Z"
   },
   {
    "duration": 956,
    "start_time": "2023-06-16T13:53:01.569Z"
   },
   {
    "duration": 20,
    "start_time": "2023-06-16T13:53:02.527Z"
   },
   {
    "duration": 516,
    "start_time": "2023-06-16T13:53:02.558Z"
   },
   {
    "duration": 1160,
    "start_time": "2023-06-16T13:53:03.076Z"
   },
   {
    "duration": 45,
    "start_time": "2023-06-16T13:53:04.238Z"
   },
   {
    "duration": 18,
    "start_time": "2023-06-16T13:53:04.285Z"
   },
   {
    "duration": 114,
    "start_time": "2023-06-16T13:53:04.304Z"
   },
   {
    "duration": 151,
    "start_time": "2023-06-16T13:53:04.421Z"
   },
   {
    "duration": 121,
    "start_time": "2023-06-16T13:53:04.574Z"
   },
   {
    "duration": 523,
    "start_time": "2023-06-16T13:53:04.697Z"
   },
   {
    "duration": 71,
    "start_time": "2023-06-16T13:53:05.221Z"
   },
   {
    "duration": 20,
    "start_time": "2023-06-16T13:53:05.294Z"
   },
   {
    "duration": 49,
    "start_time": "2023-06-16T13:53:05.317Z"
   },
   {
    "duration": 111,
    "start_time": "2023-06-16T13:53:05.368Z"
   },
   {
    "duration": 95,
    "start_time": "2023-06-16T13:53:05.481Z"
   },
   {
    "duration": 9,
    "start_time": "2023-06-16T13:53:05.578Z"
   },
   {
    "duration": 112,
    "start_time": "2023-06-16T13:53:05.589Z"
   },
   {
    "duration": 57,
    "start_time": "2023-06-16T13:53:05.703Z"
   },
   {
    "duration": 269,
    "start_time": "2023-06-16T13:53:05.761Z"
   },
   {
    "duration": 82,
    "start_time": "2023-06-16T13:53:06.032Z"
   },
   {
    "duration": 14,
    "start_time": "2023-06-16T13:53:06.116Z"
   },
   {
    "duration": 125,
    "start_time": "2023-06-16T13:53:06.132Z"
   },
   {
    "duration": 238,
    "start_time": "2023-06-16T13:53:06.259Z"
   },
   {
    "duration": 59,
    "start_time": "2023-06-16T13:53:06.499Z"
   },
   {
    "duration": 252,
    "start_time": "2023-06-16T13:53:06.560Z"
   },
   {
    "duration": 257,
    "start_time": "2023-06-16T13:53:06.814Z"
   },
   {
    "duration": 16,
    "start_time": "2023-06-16T13:53:07.072Z"
   },
   {
    "duration": 31,
    "start_time": "2023-06-16T13:53:07.090Z"
   },
   {
    "duration": 282,
    "start_time": "2023-06-16T13:53:07.124Z"
   },
   {
    "duration": 274,
    "start_time": "2023-06-16T13:53:07.410Z"
   },
   {
    "duration": 74,
    "start_time": "2023-06-16T13:53:07.686Z"
   },
   {
    "duration": 59,
    "start_time": "2023-06-16T13:53:07.762Z"
   },
   {
    "duration": 80,
    "start_time": "2023-06-16T13:53:23.224Z"
   },
   {
    "duration": 565,
    "start_time": "2023-06-16T16:11:01.412Z"
   },
   {
    "duration": 17,
    "start_time": "2023-06-16T16:11:48.511Z"
   },
   {
    "duration": 502,
    "start_time": "2023-06-16T16:11:51.492Z"
   },
   {
    "duration": 9,
    "start_time": "2023-06-16T16:16:34.937Z"
   },
   {
    "duration": 60,
    "start_time": "2023-06-16T16:16:38.179Z"
   },
   {
    "duration": 4,
    "start_time": "2023-06-16T16:16:48.383Z"
   },
   {
    "duration": 62,
    "start_time": "2023-06-16T16:16:49.628Z"
   },
   {
    "duration": 1173,
    "start_time": "2023-06-17T09:02:06.515Z"
   },
   {
    "duration": 4,
    "start_time": "2023-06-17T09:16:53.569Z"
   },
   {
    "duration": 1206,
    "start_time": "2023-06-17T09:17:33.629Z"
   },
   {
    "duration": 1583,
    "start_time": "2023-06-17T09:17:34.837Z"
   },
   {
    "duration": 19,
    "start_time": "2023-06-17T09:17:36.422Z"
   },
   {
    "duration": 507,
    "start_time": "2023-06-17T09:17:36.443Z"
   },
   {
    "duration": 1012,
    "start_time": "2023-06-17T09:17:36.958Z"
   },
   {
    "duration": 43,
    "start_time": "2023-06-17T09:17:37.971Z"
   },
   {
    "duration": 15,
    "start_time": "2023-06-17T09:17:38.016Z"
   },
   {
    "duration": 133,
    "start_time": "2023-06-17T09:17:38.032Z"
   },
   {
    "duration": 106,
    "start_time": "2023-06-17T09:17:38.170Z"
   },
   {
    "duration": 140,
    "start_time": "2023-06-17T09:17:38.280Z"
   },
   {
    "duration": 850,
    "start_time": "2023-06-17T09:17:38.423Z"
   },
   {
    "duration": 64,
    "start_time": "2023-06-17T09:17:39.275Z"
   },
   {
    "duration": 43,
    "start_time": "2023-06-17T09:17:39.342Z"
   },
   {
    "duration": 45,
    "start_time": "2023-06-17T09:17:39.391Z"
   },
   {
    "duration": 97,
    "start_time": "2023-06-17T09:17:39.438Z"
   },
   {
    "duration": 87,
    "start_time": "2023-06-17T09:17:39.537Z"
   },
   {
    "duration": 6,
    "start_time": "2023-06-17T09:17:39.626Z"
   },
   {
    "duration": 107,
    "start_time": "2023-06-17T09:17:39.633Z"
   },
   {
    "duration": 73,
    "start_time": "2023-06-17T09:17:39.741Z"
   },
   {
    "duration": 308,
    "start_time": "2023-06-17T09:17:39.816Z"
   },
   {
    "duration": 101,
    "start_time": "2023-06-17T09:17:40.126Z"
   },
   {
    "duration": 35,
    "start_time": "2023-06-17T09:17:40.229Z"
   },
   {
    "duration": 117,
    "start_time": "2023-06-17T09:17:40.267Z"
   },
   {
    "duration": 291,
    "start_time": "2023-06-17T09:17:40.393Z"
   },
   {
    "duration": 58,
    "start_time": "2023-06-17T09:17:40.691Z"
   },
   {
    "duration": 278,
    "start_time": "2023-06-17T09:17:40.756Z"
   },
   {
    "duration": 281,
    "start_time": "2023-06-17T09:17:41.035Z"
   },
   {
    "duration": 19,
    "start_time": "2023-06-17T09:17:41.320Z"
   },
   {
    "duration": 39,
    "start_time": "2023-06-17T09:17:41.353Z"
   },
   {
    "duration": 340,
    "start_time": "2023-06-17T09:17:41.398Z"
   },
   {
    "duration": 316,
    "start_time": "2023-06-17T09:17:41.740Z"
   },
   {
    "duration": 71,
    "start_time": "2023-06-17T09:17:42.058Z"
   },
   {
    "duration": 87,
    "start_time": "2023-06-17T09:17:42.130Z"
   },
   {
    "duration": 3,
    "start_time": "2023-06-17T09:17:42.221Z"
   },
   {
    "duration": 88,
    "start_time": "2023-06-17T09:20:33.413Z"
   },
   {
    "duration": 2032,
    "start_time": "2023-06-17T09:20:54.549Z"
   },
   {
    "duration": 4,
    "start_time": "2023-06-17T09:23:17.192Z"
   },
   {
    "duration": 1788,
    "start_time": "2023-06-17T09:23:37.916Z"
   },
   {
    "duration": 1792,
    "start_time": "2023-06-17T09:25:22.010Z"
   },
   {
    "duration": 10,
    "start_time": "2023-06-17T09:27:19.195Z"
   },
   {
    "duration": 4,
    "start_time": "2023-06-17T09:27:23.402Z"
   },
   {
    "duration": 1753,
    "start_time": "2023-06-17T09:27:24.078Z"
   },
   {
    "duration": 3,
    "start_time": "2023-06-17T09:27:50.645Z"
   },
   {
    "duration": 6,
    "start_time": "2023-06-17T09:27:53.640Z"
   },
   {
    "duration": 1681,
    "start_time": "2023-06-17T09:27:54.347Z"
   },
   {
    "duration": 73,
    "start_time": "2023-06-17T09:54:08.675Z"
   },
   {
    "duration": 100,
    "start_time": "2023-06-17T09:56:26.675Z"
   },
   {
    "duration": 1561,
    "start_time": "2023-06-17T09:58:04.417Z"
   },
   {
    "duration": 83,
    "start_time": "2023-06-17T10:00:05.826Z"
   },
   {
    "duration": 2164,
    "start_time": "2023-06-17T10:21:14.818Z"
   },
   {
    "duration": 1181,
    "start_time": "2023-06-17T10:21:32.397Z"
   },
   {
    "duration": 808,
    "start_time": "2023-06-17T10:21:33.581Z"
   },
   {
    "duration": 20,
    "start_time": "2023-06-17T10:21:34.390Z"
   },
   {
    "duration": 498,
    "start_time": "2023-06-17T10:21:34.412Z"
   },
   {
    "duration": 1014,
    "start_time": "2023-06-17T10:21:34.912Z"
   },
   {
    "duration": 47,
    "start_time": "2023-06-17T10:21:35.927Z"
   },
   {
    "duration": 25,
    "start_time": "2023-06-17T10:21:35.975Z"
   },
   {
    "duration": 105,
    "start_time": "2023-06-17T10:21:36.002Z"
   },
   {
    "duration": 89,
    "start_time": "2023-06-17T10:21:36.109Z"
   },
   {
    "duration": 116,
    "start_time": "2023-06-17T10:21:36.200Z"
   },
   {
    "duration": 510,
    "start_time": "2023-06-17T10:21:36.318Z"
   },
   {
    "duration": 61,
    "start_time": "2023-06-17T10:21:36.829Z"
   },
   {
    "duration": 15,
    "start_time": "2023-06-17T10:21:36.892Z"
   },
   {
    "duration": 38,
    "start_time": "2023-06-17T10:21:36.910Z"
   },
   {
    "duration": 109,
    "start_time": "2023-06-17T10:21:36.954Z"
   },
   {
    "duration": 80,
    "start_time": "2023-06-17T10:21:37.065Z"
   },
   {
    "duration": 24,
    "start_time": "2023-06-17T10:21:37.146Z"
   },
   {
    "duration": 108,
    "start_time": "2023-06-17T10:21:37.171Z"
   },
   {
    "duration": 51,
    "start_time": "2023-06-17T10:21:37.281Z"
   },
   {
    "duration": 282,
    "start_time": "2023-06-17T10:21:37.334Z"
   },
   {
    "duration": 87,
    "start_time": "2023-06-17T10:21:37.618Z"
   },
   {
    "duration": 12,
    "start_time": "2023-06-17T10:21:37.707Z"
   },
   {
    "duration": 116,
    "start_time": "2023-06-17T10:21:37.721Z"
   },
   {
    "duration": 221,
    "start_time": "2023-06-17T10:21:37.839Z"
   },
   {
    "duration": 61,
    "start_time": "2023-06-17T10:21:38.065Z"
   },
   {
    "duration": 289,
    "start_time": "2023-06-17T10:21:38.128Z"
   },
   {
    "duration": 278,
    "start_time": "2023-06-17T10:21:38.418Z"
   },
   {
    "duration": 16,
    "start_time": "2023-06-17T10:21:38.698Z"
   },
   {
    "duration": 18,
    "start_time": "2023-06-17T10:21:38.716Z"
   },
   {
    "duration": 285,
    "start_time": "2023-06-17T10:21:38.735Z"
   },
   {
    "duration": 284,
    "start_time": "2023-06-17T10:21:39.021Z"
   },
   {
    "duration": 71,
    "start_time": "2023-06-17T10:21:39.306Z"
   },
   {
    "duration": 2426,
    "start_time": "2023-06-17T10:21:39.384Z"
   },
   {
    "duration": 0,
    "start_time": "2023-06-17T10:21:41.811Z"
   },
   {
    "duration": 0,
    "start_time": "2023-06-17T10:21:41.812Z"
   },
   {
    "duration": 1,
    "start_time": "2023-06-17T10:21:41.813Z"
   },
   {
    "duration": 0,
    "start_time": "2023-06-17T10:21:41.815Z"
   },
   {
    "duration": 0,
    "start_time": "2023-06-17T10:21:41.815Z"
   },
   {
    "duration": 0,
    "start_time": "2023-06-17T10:21:41.816Z"
   },
   {
    "duration": 0,
    "start_time": "2023-06-17T10:21:41.817Z"
   },
   {
    "duration": 17,
    "start_time": "2023-06-17T10:51:56.628Z"
   },
   {
    "duration": 75,
    "start_time": "2023-06-17T10:55:07.153Z"
   },
   {
    "duration": 61,
    "start_time": "2023-06-17T10:55:11.775Z"
   },
   {
    "duration": 4,
    "start_time": "2023-06-17T10:55:15.275Z"
   },
   {
    "duration": 108,
    "start_time": "2023-06-17T10:55:50.415Z"
   },
   {
    "duration": 1308,
    "start_time": "2023-06-17T10:57:06.810Z"
   },
   {
    "duration": 96,
    "start_time": "2023-06-17T11:00:04.881Z"
   },
   {
    "duration": 1111,
    "start_time": "2023-06-17T11:00:25.048Z"
   },
   {
    "duration": 1139,
    "start_time": "2023-06-17T11:00:26.162Z"
   },
   {
    "duration": 19,
    "start_time": "2023-06-17T11:00:27.303Z"
   },
   {
    "duration": 563,
    "start_time": "2023-06-17T11:00:27.325Z"
   },
   {
    "duration": 1091,
    "start_time": "2023-06-17T11:00:27.891Z"
   },
   {
    "duration": 45,
    "start_time": "2023-06-17T11:00:28.984Z"
   },
   {
    "duration": 26,
    "start_time": "2023-06-17T11:00:29.031Z"
   },
   {
    "duration": 87,
    "start_time": "2023-06-17T11:00:29.058Z"
   },
   {
    "duration": 89,
    "start_time": "2023-06-17T11:00:29.156Z"
   },
   {
    "duration": 115,
    "start_time": "2023-06-17T11:00:29.252Z"
   },
   {
    "duration": 508,
    "start_time": "2023-06-17T11:00:29.370Z"
   },
   {
    "duration": 51,
    "start_time": "2023-06-17T11:00:29.880Z"
   },
   {
    "duration": 36,
    "start_time": "2023-06-17T11:00:29.933Z"
   },
   {
    "duration": 30,
    "start_time": "2023-06-17T11:00:29.974Z"
   },
   {
    "duration": 108,
    "start_time": "2023-06-17T11:00:30.006Z"
   },
   {
    "duration": 87,
    "start_time": "2023-06-17T11:00:30.116Z"
   },
   {
    "duration": 7,
    "start_time": "2023-06-17T11:00:30.205Z"
   },
   {
    "duration": 101,
    "start_time": "2023-06-17T11:00:30.214Z"
   },
   {
    "duration": 65,
    "start_time": "2023-06-17T11:00:30.317Z"
   },
   {
    "duration": 307,
    "start_time": "2023-06-17T11:00:30.384Z"
   },
   {
    "duration": 90,
    "start_time": "2023-06-17T11:00:30.692Z"
   },
   {
    "duration": 14,
    "start_time": "2023-06-17T11:00:30.784Z"
   },
   {
    "duration": 144,
    "start_time": "2023-06-17T11:00:30.799Z"
   },
   {
    "duration": 237,
    "start_time": "2023-06-17T11:00:30.945Z"
   },
   {
    "duration": 70,
    "start_time": "2023-06-17T11:00:31.183Z"
   },
   {
    "duration": 269,
    "start_time": "2023-06-17T11:00:31.254Z"
   },
   {
    "duration": 250,
    "start_time": "2023-06-17T11:00:31.525Z"
   },
   {
    "duration": 17,
    "start_time": "2023-06-17T11:00:31.778Z"
   },
   {
    "duration": 30,
    "start_time": "2023-06-17T11:00:31.796Z"
   },
   {
    "duration": 281,
    "start_time": "2023-06-17T11:00:31.828Z"
   },
   {
    "duration": 291,
    "start_time": "2023-06-17T11:00:32.110Z"
   },
   {
    "duration": 79,
    "start_time": "2023-06-17T11:00:32.403Z"
   },
   {
    "duration": 85,
    "start_time": "2023-06-17T11:00:32.484Z"
   },
   {
    "duration": 9,
    "start_time": "2023-06-17T11:00:32.571Z"
   },
   {
    "duration": 93,
    "start_time": "2023-06-17T11:00:32.582Z"
   },
   {
    "duration": 76,
    "start_time": "2023-06-17T11:00:32.677Z"
   },
   {
    "duration": 119,
    "start_time": "2023-06-17T11:00:32.756Z"
   },
   {
    "duration": 0,
    "start_time": "2023-06-17T11:00:32.876Z"
   },
   {
    "duration": 0,
    "start_time": "2023-06-17T11:00:32.877Z"
   },
   {
    "duration": 0,
    "start_time": "2023-06-17T11:00:32.879Z"
   },
   {
    "duration": 62,
    "start_time": "2023-06-17T11:01:36.938Z"
   },
   {
    "duration": 64,
    "start_time": "2023-06-17T11:02:12.568Z"
   },
   {
    "duration": 23,
    "start_time": "2023-06-17T11:02:28.195Z"
   },
   {
    "duration": 4,
    "start_time": "2023-06-17T12:25:40.625Z"
   },
   {
    "duration": 46,
    "start_time": "2023-06-17T14:25:11.976Z"
   },
   {
    "duration": 1058,
    "start_time": "2023-06-17T14:25:33.658Z"
   },
   {
    "duration": 2862,
    "start_time": "2023-06-17T14:25:34.718Z"
   },
   {
    "duration": 18,
    "start_time": "2023-06-17T14:25:37.582Z"
   },
   {
    "duration": 441,
    "start_time": "2023-06-17T14:25:37.601Z"
   },
   {
    "duration": 893,
    "start_time": "2023-06-17T14:25:38.044Z"
   },
   {
    "duration": 45,
    "start_time": "2023-06-17T14:25:38.938Z"
   },
   {
    "duration": 11,
    "start_time": "2023-06-17T14:25:38.986Z"
   },
   {
    "duration": 112,
    "start_time": "2023-06-17T14:25:38.998Z"
   },
   {
    "duration": 106,
    "start_time": "2023-06-17T14:25:39.113Z"
   },
   {
    "duration": 110,
    "start_time": "2023-06-17T14:25:39.220Z"
   },
   {
    "duration": 633,
    "start_time": "2023-06-17T14:25:39.331Z"
   },
   {
    "duration": 64,
    "start_time": "2023-06-17T14:25:39.967Z"
   },
   {
    "duration": 16,
    "start_time": "2023-06-17T14:25:40.033Z"
   },
   {
    "duration": 55,
    "start_time": "2023-06-17T14:25:40.051Z"
   },
   {
    "duration": 79,
    "start_time": "2023-06-17T14:25:40.108Z"
   },
   {
    "duration": 64,
    "start_time": "2023-06-17T14:25:40.188Z"
   },
   {
    "duration": 26,
    "start_time": "2023-06-17T14:25:40.253Z"
   },
   {
    "duration": 77,
    "start_time": "2023-06-17T14:25:40.281Z"
   },
   {
    "duration": 60,
    "start_time": "2023-06-17T14:25:40.360Z"
   },
   {
    "duration": 274,
    "start_time": "2023-06-17T14:25:40.422Z"
   },
   {
    "duration": 82,
    "start_time": "2023-06-17T14:25:40.697Z"
   },
   {
    "duration": 11,
    "start_time": "2023-06-17T14:25:40.780Z"
   },
   {
    "duration": 91,
    "start_time": "2023-06-17T14:25:40.793Z"
   },
   {
    "duration": 203,
    "start_time": "2023-06-17T14:25:40.886Z"
   },
   {
    "duration": 47,
    "start_time": "2023-06-17T14:25:41.091Z"
   },
   {
    "duration": 254,
    "start_time": "2023-06-17T14:25:41.140Z"
   },
   {
    "duration": 231,
    "start_time": "2023-06-17T14:25:41.396Z"
   },
   {
    "duration": 17,
    "start_time": "2023-06-17T14:25:41.629Z"
   },
   {
    "duration": 39,
    "start_time": "2023-06-17T14:25:41.647Z"
   },
   {
    "duration": 278,
    "start_time": "2023-06-17T14:25:41.687Z"
   },
   {
    "duration": 277,
    "start_time": "2023-06-17T14:25:41.966Z"
   },
   {
    "duration": 62,
    "start_time": "2023-06-17T14:25:42.245Z"
   },
   {
    "duration": 79,
    "start_time": "2023-06-17T14:25:42.308Z"
   },
   {
    "duration": 3,
    "start_time": "2023-06-17T14:25:42.389Z"
   },
   {
    "duration": 93,
    "start_time": "2023-06-17T14:25:42.394Z"
   },
   {
    "duration": 59,
    "start_time": "2023-06-17T14:25:42.489Z"
   },
   {
    "duration": 64,
    "start_time": "2023-06-17T14:25:42.550Z"
   },
   {
    "duration": 64,
    "start_time": "2023-06-17T14:25:42.616Z"
   },
   {
    "duration": 17,
    "start_time": "2023-06-17T14:25:42.681Z"
   },
   {
    "duration": 20,
    "start_time": "2023-06-17T14:25:42.699Z"
   },
   {
    "duration": 821,
    "start_time": "2023-06-17T14:25:42.722Z"
   },
   {
    "duration": 0,
    "start_time": "2023-06-17T14:25:43.545Z"
   },
   {
    "duration": 7,
    "start_time": "2023-06-17T14:26:16.358Z"
   },
   {
    "duration": 20,
    "start_time": "2023-06-17T14:48:00.498Z"
   },
   {
    "duration": 1182,
    "start_time": "2023-06-19T08:53:17.650Z"
   },
   {
    "duration": 2918,
    "start_time": "2023-06-19T08:53:18.834Z"
   },
   {
    "duration": 22,
    "start_time": "2023-06-19T08:53:21.754Z"
   },
   {
    "duration": 541,
    "start_time": "2023-06-19T08:53:21.778Z"
   },
   {
    "duration": 1087,
    "start_time": "2023-06-19T08:53:22.321Z"
   },
   {
    "duration": 56,
    "start_time": "2023-06-19T08:53:23.409Z"
   },
   {
    "duration": 72,
    "start_time": "2023-06-19T08:53:23.467Z"
   },
   {
    "duration": 146,
    "start_time": "2023-06-19T08:53:23.542Z"
   },
   {
    "duration": 85,
    "start_time": "2023-06-19T08:53:23.689Z"
   },
   {
    "duration": 121,
    "start_time": "2023-06-19T08:53:23.777Z"
   },
   {
    "duration": 691,
    "start_time": "2023-06-19T08:53:23.899Z"
   },
   {
    "duration": 82,
    "start_time": "2023-06-19T08:53:24.592Z"
   },
   {
    "duration": 18,
    "start_time": "2023-06-19T08:53:24.675Z"
   },
   {
    "duration": 31,
    "start_time": "2023-06-19T08:53:24.696Z"
   },
   {
    "duration": 110,
    "start_time": "2023-06-19T08:53:24.729Z"
   },
   {
    "duration": 97,
    "start_time": "2023-06-19T08:53:24.840Z"
   },
   {
    "duration": 20,
    "start_time": "2023-06-19T08:53:24.938Z"
   },
   {
    "duration": 108,
    "start_time": "2023-06-19T08:53:24.960Z"
   },
   {
    "duration": 51,
    "start_time": "2023-06-19T08:53:25.070Z"
   },
   {
    "duration": 333,
    "start_time": "2023-06-19T08:53:25.123Z"
   },
   {
    "duration": 83,
    "start_time": "2023-06-19T08:53:25.458Z"
   },
   {
    "duration": 22,
    "start_time": "2023-06-19T08:53:25.543Z"
   },
   {
    "duration": 111,
    "start_time": "2023-06-19T08:53:25.566Z"
   },
   {
    "duration": 307,
    "start_time": "2023-06-19T08:53:25.679Z"
   },
   {
    "duration": 69,
    "start_time": "2023-06-19T08:53:25.989Z"
   },
   {
    "duration": 272,
    "start_time": "2023-06-19T08:53:26.061Z"
   },
   {
    "duration": 259,
    "start_time": "2023-06-19T08:53:26.335Z"
   },
   {
    "duration": 18,
    "start_time": "2023-06-19T08:53:26.597Z"
   },
   {
    "duration": 14,
    "start_time": "2023-06-19T08:53:26.617Z"
   },
   {
    "duration": 276,
    "start_time": "2023-06-19T08:53:26.633Z"
   },
   {
    "duration": 337,
    "start_time": "2023-06-19T08:53:26.911Z"
   },
   {
    "duration": 62,
    "start_time": "2023-06-19T08:53:27.256Z"
   },
   {
    "duration": 102,
    "start_time": "2023-06-19T08:53:27.320Z"
   },
   {
    "duration": 3,
    "start_time": "2023-06-19T08:53:27.424Z"
   },
   {
    "duration": 103,
    "start_time": "2023-06-19T08:53:27.429Z"
   },
   {
    "duration": 73,
    "start_time": "2023-06-19T08:53:27.534Z"
   },
   {
    "duration": 80,
    "start_time": "2023-06-19T08:53:27.609Z"
   },
   {
    "duration": 53,
    "start_time": "2023-06-19T08:53:27.691Z"
   },
   {
    "duration": 28,
    "start_time": "2023-06-19T08:53:27.746Z"
   },
   {
    "duration": 34,
    "start_time": "2023-06-19T08:53:27.775Z"
   },
   {
    "duration": 46,
    "start_time": "2023-06-19T08:53:27.811Z"
   },
   {
    "duration": 962,
    "start_time": "2023-06-19T08:53:27.860Z"
   },
   {
    "duration": 0,
    "start_time": "2023-06-19T08:53:28.825Z"
   },
   {
    "duration": 0,
    "start_time": "2023-06-19T08:53:28.826Z"
   },
   {
    "duration": 0,
    "start_time": "2023-06-19T08:53:28.827Z"
   },
   {
    "duration": 26,
    "start_time": "2023-06-19T08:54:17.817Z"
   },
   {
    "duration": 27,
    "start_time": "2023-06-19T08:56:41.007Z"
   },
   {
    "duration": 37,
    "start_time": "2023-06-19T09:59:31.392Z"
   },
   {
    "duration": 26,
    "start_time": "2023-06-19T10:00:11.904Z"
   },
   {
    "duration": 1554,
    "start_time": "2023-06-19T10:00:52.189Z"
   },
   {
    "duration": 1052,
    "start_time": "2023-06-19T10:01:24.401Z"
   },
   {
    "duration": 14,
    "start_time": "2023-06-19T10:01:43.046Z"
   },
   {
    "duration": 1288,
    "start_time": "2023-06-19T10:01:57.756Z"
   },
   {
    "duration": 1518,
    "start_time": "2023-06-19T10:02:10.896Z"
   },
   {
    "duration": 170,
    "start_time": "2023-06-19T12:33:30.071Z"
   },
   {
    "duration": 1234,
    "start_time": "2023-06-19T12:35:16.439Z"
   },
   {
    "duration": 905,
    "start_time": "2023-06-19T12:35:17.676Z"
   },
   {
    "duration": 32,
    "start_time": "2023-06-19T12:35:18.583Z"
   },
   {
    "duration": 666,
    "start_time": "2023-06-19T12:35:18.618Z"
   },
   {
    "duration": 1056,
    "start_time": "2023-06-19T12:35:19.287Z"
   },
   {
    "duration": 54,
    "start_time": "2023-06-19T12:35:20.345Z"
   },
   {
    "duration": 12,
    "start_time": "2023-06-19T12:35:20.402Z"
   },
   {
    "duration": 121,
    "start_time": "2023-06-19T12:35:20.416Z"
   },
   {
    "duration": 99,
    "start_time": "2023-06-19T12:35:20.539Z"
   },
   {
    "duration": 140,
    "start_time": "2023-06-19T12:35:20.642Z"
   },
   {
    "duration": 538,
    "start_time": "2023-06-19T12:35:20.785Z"
   },
   {
    "duration": 98,
    "start_time": "2023-06-19T12:35:21.324Z"
   },
   {
    "duration": 17,
    "start_time": "2023-06-19T12:35:21.424Z"
   },
   {
    "duration": 66,
    "start_time": "2023-06-19T12:35:21.443Z"
   },
   {
    "duration": 107,
    "start_time": "2023-06-19T12:35:21.511Z"
   },
   {
    "duration": 87,
    "start_time": "2023-06-19T12:35:21.620Z"
   },
   {
    "duration": 7,
    "start_time": "2023-06-19T12:35:21.709Z"
   },
   {
    "duration": 111,
    "start_time": "2023-06-19T12:35:21.717Z"
   },
   {
    "duration": 64,
    "start_time": "2023-06-19T12:35:21.829Z"
   },
   {
    "duration": 303,
    "start_time": "2023-06-19T12:35:21.895Z"
   },
   {
    "duration": 101,
    "start_time": "2023-06-19T12:35:22.201Z"
   },
   {
    "duration": 15,
    "start_time": "2023-06-19T12:35:22.304Z"
   },
   {
    "duration": 141,
    "start_time": "2023-06-19T12:35:22.321Z"
   },
   {
    "duration": 262,
    "start_time": "2023-06-19T12:35:22.467Z"
   },
   {
    "duration": 65,
    "start_time": "2023-06-19T12:35:22.731Z"
   },
   {
    "duration": 282,
    "start_time": "2023-06-19T12:35:22.798Z"
   },
   {
    "duration": 289,
    "start_time": "2023-06-19T12:35:23.082Z"
   },
   {
    "duration": 20,
    "start_time": "2023-06-19T12:35:23.376Z"
   },
   {
    "duration": 31,
    "start_time": "2023-06-19T12:35:23.398Z"
   },
   {
    "duration": 309,
    "start_time": "2023-06-19T12:35:23.432Z"
   },
   {
    "duration": 315,
    "start_time": "2023-06-19T12:35:23.743Z"
   },
   {
    "duration": 64,
    "start_time": "2023-06-19T12:35:24.062Z"
   },
   {
    "duration": 87,
    "start_time": "2023-06-19T12:35:24.128Z"
   },
   {
    "duration": 4,
    "start_time": "2023-06-19T12:35:24.217Z"
   },
   {
    "duration": 101,
    "start_time": "2023-06-19T12:35:24.223Z"
   },
   {
    "duration": 86,
    "start_time": "2023-06-19T12:35:24.326Z"
   },
   {
    "duration": 79,
    "start_time": "2023-06-19T12:35:24.414Z"
   },
   {
    "duration": 76,
    "start_time": "2023-06-19T12:35:24.495Z"
   },
   {
    "duration": 25,
    "start_time": "2023-06-19T12:35:24.573Z"
   },
   {
    "duration": 22,
    "start_time": "2023-06-19T12:35:24.600Z"
   },
   {
    "duration": 51,
    "start_time": "2023-06-19T12:35:24.623Z"
   },
   {
    "duration": 1072,
    "start_time": "2023-06-19T12:35:24.677Z"
   },
   {
    "duration": 0,
    "start_time": "2023-06-19T12:35:25.751Z"
   },
   {
    "duration": 0,
    "start_time": "2023-06-19T12:35:25.753Z"
   },
   {
    "duration": 0,
    "start_time": "2023-06-19T12:35:25.754Z"
   },
   {
    "duration": 0,
    "start_time": "2023-06-19T12:35:25.755Z"
   },
   {
    "duration": 910,
    "start_time": "2023-06-19T12:36:55.278Z"
   },
   {
    "duration": 28,
    "start_time": "2023-06-19T12:37:06.904Z"
   },
   {
    "duration": 228,
    "start_time": "2023-06-19T12:39:05.395Z"
   },
   {
    "duration": 166,
    "start_time": "2023-06-19T12:50:19.200Z"
   },
   {
    "duration": 182,
    "start_time": "2023-06-19T12:50:37.028Z"
   },
   {
    "duration": 133,
    "start_time": "2023-06-19T12:50:58.502Z"
   },
   {
    "duration": 111,
    "start_time": "2023-06-19T12:51:17.977Z"
   },
   {
    "duration": 135,
    "start_time": "2023-06-19T12:51:32.483Z"
   },
   {
    "duration": 97,
    "start_time": "2023-06-19T12:52:47.531Z"
   },
   {
    "duration": 238,
    "start_time": "2023-06-19T12:57:11.158Z"
   },
   {
    "duration": 241,
    "start_time": "2023-06-19T12:59:54.921Z"
   },
   {
    "duration": 23,
    "start_time": "2023-06-19T13:56:14.997Z"
   },
   {
    "duration": 50,
    "start_time": "2023-06-19T14:00:23.488Z"
   },
   {
    "duration": 28,
    "start_time": "2023-06-19T14:00:43.744Z"
   },
   {
    "duration": 3,
    "start_time": "2023-06-19T14:00:48.686Z"
   },
   {
    "duration": 85,
    "start_time": "2023-06-19T14:00:49.350Z"
   },
   {
    "duration": 74,
    "start_time": "2023-06-19T14:01:06.631Z"
   },
   {
    "duration": 112,
    "start_time": "2023-06-19T14:01:14.234Z"
   },
   {
    "duration": 121,
    "start_time": "2023-06-19T14:01:30.774Z"
   },
   {
    "duration": 11,
    "start_time": "2023-06-19T15:25:16.752Z"
   },
   {
    "duration": 10,
    "start_time": "2023-06-19T15:25:25.996Z"
   },
   {
    "duration": 10,
    "start_time": "2023-06-19T15:25:35.839Z"
   },
   {
    "duration": 10,
    "start_time": "2023-06-19T15:25:44.236Z"
   },
   {
    "duration": 3,
    "start_time": "2023-06-19T15:27:03.594Z"
   },
   {
    "duration": 11,
    "start_time": "2023-06-19T15:27:11.330Z"
   },
   {
    "duration": 68,
    "start_time": "2023-06-19T15:27:23.044Z"
   },
   {
    "duration": 3,
    "start_time": "2023-06-19T15:27:25.295Z"
   },
   {
    "duration": 15,
    "start_time": "2023-06-19T15:27:26.684Z"
   },
   {
    "duration": 3,
    "start_time": "2023-06-19T15:27:57.554Z"
   },
   {
    "duration": 93,
    "start_time": "2023-06-19T15:28:36.516Z"
   },
   {
    "duration": 20,
    "start_time": "2023-06-19T15:42:49.955Z"
   },
   {
    "duration": 1177,
    "start_time": "2023-06-19T15:43:17.915Z"
   },
   {
    "duration": 928,
    "start_time": "2023-06-19T15:43:19.095Z"
   },
   {
    "duration": 32,
    "start_time": "2023-06-19T15:43:20.025Z"
   },
   {
    "duration": 528,
    "start_time": "2023-06-19T15:43:20.060Z"
   },
   {
    "duration": 1046,
    "start_time": "2023-06-19T15:43:20.589Z"
   },
   {
    "duration": 51,
    "start_time": "2023-06-19T15:43:21.637Z"
   },
   {
    "duration": 12,
    "start_time": "2023-06-19T15:43:21.690Z"
   },
   {
    "duration": 111,
    "start_time": "2023-06-19T15:43:21.704Z"
   },
   {
    "duration": 87,
    "start_time": "2023-06-19T15:43:21.817Z"
   },
   {
    "duration": 119,
    "start_time": "2023-06-19T15:43:21.907Z"
   },
   {
    "duration": 527,
    "start_time": "2023-06-19T15:43:22.028Z"
   },
   {
    "duration": 94,
    "start_time": "2023-06-19T15:43:22.557Z"
   },
   {
    "duration": 17,
    "start_time": "2023-06-19T15:43:22.653Z"
   },
   {
    "duration": 32,
    "start_time": "2023-06-19T15:43:22.673Z"
   },
   {
    "duration": 123,
    "start_time": "2023-06-19T15:43:22.708Z"
   },
   {
    "duration": 88,
    "start_time": "2023-06-19T15:43:22.833Z"
   },
   {
    "duration": 7,
    "start_time": "2023-06-19T15:43:22.922Z"
   },
   {
    "duration": 125,
    "start_time": "2023-06-19T15:43:22.931Z"
   },
   {
    "duration": 56,
    "start_time": "2023-06-19T15:43:23.058Z"
   },
   {
    "duration": 309,
    "start_time": "2023-06-19T15:43:23.117Z"
   },
   {
    "duration": 93,
    "start_time": "2023-06-19T15:43:23.428Z"
   },
   {
    "duration": 14,
    "start_time": "2023-06-19T15:43:23.523Z"
   },
   {
    "duration": 144,
    "start_time": "2023-06-19T15:43:23.538Z"
   },
   {
    "duration": 237,
    "start_time": "2023-06-19T15:43:23.684Z"
   },
   {
    "duration": 68,
    "start_time": "2023-06-19T15:43:23.923Z"
   },
   {
    "duration": 269,
    "start_time": "2023-06-19T15:43:23.992Z"
   },
   {
    "duration": 256,
    "start_time": "2023-06-19T15:43:24.263Z"
   },
   {
    "duration": 20,
    "start_time": "2023-06-19T15:43:24.522Z"
   },
   {
    "duration": 48,
    "start_time": "2023-06-19T15:43:24.543Z"
   },
   {
    "duration": 258,
    "start_time": "2023-06-19T15:43:24.593Z"
   },
   {
    "duration": 279,
    "start_time": "2023-06-19T15:43:24.857Z"
   },
   {
    "duration": 49,
    "start_time": "2023-06-19T15:43:25.138Z"
   },
   {
    "duration": 99,
    "start_time": "2023-06-19T15:43:25.189Z"
   },
   {
    "duration": 17,
    "start_time": "2023-06-19T15:43:25.290Z"
   },
   {
    "duration": 102,
    "start_time": "2023-06-19T15:43:25.309Z"
   },
   {
    "duration": 89,
    "start_time": "2023-06-19T15:43:25.413Z"
   },
   {
    "duration": 91,
    "start_time": "2023-06-19T15:43:25.504Z"
   },
   {
    "duration": 78,
    "start_time": "2023-06-19T15:43:25.596Z"
   },
   {
    "duration": 19,
    "start_time": "2023-06-19T15:43:25.676Z"
   },
   {
    "duration": 22,
    "start_time": "2023-06-19T15:43:25.696Z"
   },
   {
    "duration": 45,
    "start_time": "2023-06-19T15:43:25.721Z"
   },
   {
    "duration": 269,
    "start_time": "2023-06-19T15:43:25.768Z"
   },
   {
    "duration": 3,
    "start_time": "2023-06-19T15:43:26.038Z"
   },
   {
    "duration": 128,
    "start_time": "2023-06-19T15:43:26.043Z"
   },
   {
    "duration": 65,
    "start_time": "2023-06-19T15:43:26.173Z"
   },
   {
    "duration": 0,
    "start_time": "2023-06-19T15:43:26.240Z"
   },
   {
    "duration": 0,
    "start_time": "2023-06-19T15:43:26.242Z"
   },
   {
    "duration": 3,
    "start_time": "2023-06-19T15:44:18.675Z"
   },
   {
    "duration": 3,
    "start_time": "2023-06-19T15:44:49.384Z"
   },
   {
    "duration": 223,
    "start_time": "2023-06-19T15:44:50.877Z"
   },
   {
    "duration": 3,
    "start_time": "2023-06-19T15:45:45.844Z"
   },
   {
    "duration": 39,
    "start_time": "2023-06-19T15:45:49.114Z"
   },
   {
    "duration": 67,
    "start_time": "2023-06-19T15:46:21.910Z"
   },
   {
    "duration": 44,
    "start_time": "2023-06-19T15:47:40.917Z"
   },
   {
    "duration": 66,
    "start_time": "2023-06-19T15:47:55.535Z"
   },
   {
    "duration": 4,
    "start_time": "2023-06-19T15:47:57.439Z"
   },
   {
    "duration": 67,
    "start_time": "2023-06-19T15:48:01.505Z"
   },
   {
    "duration": 65,
    "start_time": "2023-06-19T15:48:23.079Z"
   },
   {
    "duration": 1135,
    "start_time": "2023-06-19T15:48:35.443Z"
   },
   {
    "duration": 912,
    "start_time": "2023-06-19T15:48:36.580Z"
   },
   {
    "duration": 21,
    "start_time": "2023-06-19T15:48:37.494Z"
   },
   {
    "duration": 571,
    "start_time": "2023-06-19T15:48:37.517Z"
   },
   {
    "duration": 1170,
    "start_time": "2023-06-19T15:48:38.090Z"
   },
   {
    "duration": 47,
    "start_time": "2023-06-19T15:48:39.262Z"
   },
   {
    "duration": 12,
    "start_time": "2023-06-19T15:48:39.310Z"
   },
   {
    "duration": 113,
    "start_time": "2023-06-19T15:48:39.324Z"
   },
   {
    "duration": 88,
    "start_time": "2023-06-19T15:48:39.439Z"
   },
   {
    "duration": 115,
    "start_time": "2023-06-19T15:48:39.529Z"
   },
   {
    "duration": 510,
    "start_time": "2023-06-19T15:48:39.646Z"
   },
   {
    "duration": 64,
    "start_time": "2023-06-19T15:48:40.158Z"
   },
   {
    "duration": 39,
    "start_time": "2023-06-19T15:48:40.224Z"
   },
   {
    "duration": 35,
    "start_time": "2023-06-19T15:48:40.267Z"
   },
   {
    "duration": 123,
    "start_time": "2023-06-19T15:48:40.304Z"
   },
   {
    "duration": 97,
    "start_time": "2023-06-19T15:48:40.429Z"
   },
   {
    "duration": 8,
    "start_time": "2023-06-19T15:48:40.527Z"
   },
   {
    "duration": 127,
    "start_time": "2023-06-19T15:48:40.536Z"
   },
   {
    "duration": 56,
    "start_time": "2023-06-19T15:48:40.665Z"
   },
   {
    "duration": 307,
    "start_time": "2023-06-19T15:48:40.723Z"
   },
   {
    "duration": 96,
    "start_time": "2023-06-19T15:48:41.032Z"
   },
   {
    "duration": 27,
    "start_time": "2023-06-19T15:48:41.130Z"
   },
   {
    "duration": 126,
    "start_time": "2023-06-19T15:48:41.159Z"
   },
   {
    "duration": 238,
    "start_time": "2023-06-19T15:48:41.287Z"
   },
   {
    "duration": 66,
    "start_time": "2023-06-19T15:48:41.527Z"
   },
   {
    "duration": 263,
    "start_time": "2023-06-19T15:48:41.595Z"
   },
   {
    "duration": 257,
    "start_time": "2023-06-19T15:48:41.860Z"
   },
   {
    "duration": 18,
    "start_time": "2023-06-19T15:48:42.119Z"
   },
   {
    "duration": 30,
    "start_time": "2023-06-19T15:48:42.139Z"
   },
   {
    "duration": 295,
    "start_time": "2023-06-19T15:48:42.170Z"
   },
   {
    "duration": 298,
    "start_time": "2023-06-19T15:48:42.467Z"
   },
   {
    "duration": 69,
    "start_time": "2023-06-19T15:48:42.766Z"
   },
   {
    "duration": 82,
    "start_time": "2023-06-19T15:48:42.837Z"
   },
   {
    "duration": 3,
    "start_time": "2023-06-19T15:48:42.921Z"
   },
   {
    "duration": 118,
    "start_time": "2023-06-19T15:48:42.926Z"
   },
   {
    "duration": 87,
    "start_time": "2023-06-19T15:48:43.046Z"
   },
   {
    "duration": 81,
    "start_time": "2023-06-19T15:48:43.134Z"
   },
   {
    "duration": 75,
    "start_time": "2023-06-19T15:48:43.218Z"
   },
   {
    "duration": 20,
    "start_time": "2023-06-19T15:48:43.295Z"
   },
   {
    "duration": 45,
    "start_time": "2023-06-19T15:48:43.318Z"
   },
   {
    "duration": 19,
    "start_time": "2023-06-19T15:48:43.367Z"
   },
   {
    "duration": 255,
    "start_time": "2023-06-19T15:48:43.388Z"
   },
   {
    "duration": 3,
    "start_time": "2023-06-19T15:48:43.645Z"
   },
   {
    "duration": 108,
    "start_time": "2023-06-19T15:48:43.656Z"
   },
   {
    "duration": 4,
    "start_time": "2023-06-19T15:48:43.766Z"
   },
   {
    "duration": 90,
    "start_time": "2023-06-19T15:48:43.771Z"
   },
   {
    "duration": 119,
    "start_time": "2023-06-19T15:48:43.863Z"
   },
   {
    "duration": 1208,
    "start_time": "2023-06-20T17:40:58.576Z"
   },
   {
    "duration": 1387,
    "start_time": "2023-06-20T17:40:59.786Z"
   },
   {
    "duration": 22,
    "start_time": "2023-06-20T17:41:01.176Z"
   },
   {
    "duration": 595,
    "start_time": "2023-06-20T17:41:01.199Z"
   },
   {
    "duration": 1202,
    "start_time": "2023-06-20T17:41:01.796Z"
   },
   {
    "duration": 53,
    "start_time": "2023-06-20T17:41:03.000Z"
   },
   {
    "duration": 58,
    "start_time": "2023-06-20T17:41:03.055Z"
   },
   {
    "duration": 119,
    "start_time": "2023-06-20T17:41:03.115Z"
   },
   {
    "duration": 99,
    "start_time": "2023-06-20T17:41:03.236Z"
   },
   {
    "duration": 166,
    "start_time": "2023-06-20T17:41:03.337Z"
   },
   {
    "duration": 773,
    "start_time": "2023-06-20T17:41:03.504Z"
   },
   {
    "duration": 64,
    "start_time": "2023-06-20T17:41:04.279Z"
   },
   {
    "duration": 25,
    "start_time": "2023-06-20T17:41:04.363Z"
   },
   {
    "duration": 83,
    "start_time": "2023-06-20T17:41:04.391Z"
   },
   {
    "duration": 106,
    "start_time": "2023-06-20T17:41:04.476Z"
   },
   {
    "duration": 99,
    "start_time": "2023-06-20T17:41:04.585Z"
   },
   {
    "duration": 8,
    "start_time": "2023-06-20T17:41:04.686Z"
   },
   {
    "duration": 120,
    "start_time": "2023-06-20T17:41:04.696Z"
   },
   {
    "duration": 79,
    "start_time": "2023-06-20T17:41:04.818Z"
   },
   {
    "duration": 344,
    "start_time": "2023-06-20T17:41:04.899Z"
   },
   {
    "duration": 92,
    "start_time": "2023-06-20T17:41:05.245Z"
   },
   {
    "duration": 30,
    "start_time": "2023-06-20T17:41:05.340Z"
   },
   {
    "duration": 133,
    "start_time": "2023-06-20T17:41:05.372Z"
   },
   {
    "duration": 234,
    "start_time": "2023-06-20T17:41:05.507Z"
   },
   {
    "duration": 69,
    "start_time": "2023-06-20T17:41:05.743Z"
   },
   {
    "duration": 276,
    "start_time": "2023-06-20T17:41:05.814Z"
   },
   {
    "duration": 263,
    "start_time": "2023-06-20T17:41:06.092Z"
   },
   {
    "duration": 25,
    "start_time": "2023-06-20T17:41:06.358Z"
   },
   {
    "duration": 18,
    "start_time": "2023-06-20T17:41:06.385Z"
   },
   {
    "duration": 305,
    "start_time": "2023-06-20T17:41:06.405Z"
   },
   {
    "duration": 67,
    "start_time": "2023-06-20T17:41:06.712Z"
   },
   {
    "duration": 63,
    "start_time": "2023-06-20T17:41:06.781Z"
   },
   {
    "duration": 26,
    "start_time": "2023-06-20T17:41:06.854Z"
   },
   {
    "duration": 104,
    "start_time": "2023-06-20T17:41:06.881Z"
   },
   {
    "duration": 74,
    "start_time": "2023-06-20T17:41:06.987Z"
   },
   {
    "duration": 71,
    "start_time": "2023-06-20T17:41:07.063Z"
   },
   {
    "duration": 74,
    "start_time": "2023-06-20T17:41:07.137Z"
   },
   {
    "duration": 19,
    "start_time": "2023-06-20T17:41:07.213Z"
   },
   {
    "duration": 44,
    "start_time": "2023-06-20T17:41:07.234Z"
   },
   {
    "duration": 161,
    "start_time": "2023-06-20T17:41:07.281Z"
   },
   {
    "duration": 235,
    "start_time": "2023-06-20T17:41:07.446Z"
   },
   {
    "duration": 0,
    "start_time": "2023-06-20T17:41:07.683Z"
   },
   {
    "duration": 0,
    "start_time": "2023-06-20T17:41:07.684Z"
   },
   {
    "duration": 0,
    "start_time": "2023-06-20T17:41:07.686Z"
   },
   {
    "duration": 0,
    "start_time": "2023-06-20T17:41:07.687Z"
   },
   {
    "duration": 0,
    "start_time": "2023-06-20T17:41:07.688Z"
   },
   {
    "duration": 0,
    "start_time": "2023-06-20T17:41:07.688Z"
   },
   {
    "duration": 0,
    "start_time": "2023-06-20T17:41:07.690Z"
   },
   {
    "duration": 879,
    "start_time": "2023-06-20T17:41:19.653Z"
   },
   {
    "duration": 523,
    "start_time": "2023-06-20T17:43:37.647Z"
   },
   {
    "duration": 560,
    "start_time": "2023-06-20T17:44:34.581Z"
   },
   {
    "duration": 551,
    "start_time": "2023-06-20T17:46:12.274Z"
   },
   {
    "duration": 2016,
    "start_time": "2023-06-20T17:46:18.087Z"
   },
   {
    "duration": 510,
    "start_time": "2023-06-20T17:46:52.509Z"
   },
   {
    "duration": 3839,
    "start_time": "2023-06-20T17:47:16.424Z"
   },
   {
    "duration": 22,
    "start_time": "2023-06-20T17:48:00.092Z"
   },
   {
    "duration": 2935,
    "start_time": "2023-06-20T17:48:00.914Z"
   },
   {
    "duration": 1288,
    "start_time": "2023-06-20T17:53:44.279Z"
   },
   {
    "duration": 932,
    "start_time": "2023-06-20T17:53:45.569Z"
   },
   {
    "duration": 24,
    "start_time": "2023-06-20T17:53:46.503Z"
   },
   {
    "duration": 573,
    "start_time": "2023-06-20T17:53:46.529Z"
   },
   {
    "duration": 1098,
    "start_time": "2023-06-20T17:53:47.105Z"
   },
   {
    "duration": 60,
    "start_time": "2023-06-20T17:53:48.204Z"
   },
   {
    "duration": 30,
    "start_time": "2023-06-20T17:53:48.266Z"
   },
   {
    "duration": 112,
    "start_time": "2023-06-20T17:53:48.297Z"
   },
   {
    "duration": 125,
    "start_time": "2023-06-20T17:53:48.411Z"
   },
   {
    "duration": 145,
    "start_time": "2023-06-20T17:53:48.540Z"
   },
   {
    "duration": 582,
    "start_time": "2023-06-20T17:53:48.689Z"
   },
   {
    "duration": 59,
    "start_time": "2023-06-20T17:53:49.272Z"
   },
   {
    "duration": 42,
    "start_time": "2023-06-20T17:53:49.333Z"
   },
   {
    "duration": 38,
    "start_time": "2023-06-20T17:53:49.380Z"
   },
   {
    "duration": 95,
    "start_time": "2023-06-20T17:53:49.419Z"
   },
   {
    "duration": 93,
    "start_time": "2023-06-20T17:53:49.516Z"
   },
   {
    "duration": 6,
    "start_time": "2023-06-20T17:53:49.611Z"
   },
   {
    "duration": 113,
    "start_time": "2023-06-20T17:53:49.618Z"
   },
   {
    "duration": 66,
    "start_time": "2023-06-20T17:53:49.733Z"
   },
   {
    "duration": 302,
    "start_time": "2023-06-20T17:53:49.801Z"
   },
   {
    "duration": 99,
    "start_time": "2023-06-20T17:53:50.104Z"
   },
   {
    "duration": 14,
    "start_time": "2023-06-20T17:53:50.205Z"
   },
   {
    "duration": 124,
    "start_time": "2023-06-20T17:53:50.221Z"
   },
   {
    "duration": 267,
    "start_time": "2023-06-20T17:53:50.347Z"
   },
   {
    "duration": 69,
    "start_time": "2023-06-20T17:53:50.616Z"
   },
   {
    "duration": 283,
    "start_time": "2023-06-20T17:53:50.686Z"
   },
   {
    "duration": 274,
    "start_time": "2023-06-20T17:53:50.970Z"
   },
   {
    "duration": 26,
    "start_time": "2023-06-20T17:53:51.246Z"
   },
   {
    "duration": 26,
    "start_time": "2023-06-20T17:53:51.274Z"
   },
   {
    "duration": 310,
    "start_time": "2023-06-20T17:53:51.302Z"
   },
   {
    "duration": 65,
    "start_time": "2023-06-20T17:53:51.614Z"
   },
   {
    "duration": 61,
    "start_time": "2023-06-20T17:53:51.681Z"
   },
   {
    "duration": 11,
    "start_time": "2023-06-20T17:53:51.758Z"
   },
   {
    "duration": 105,
    "start_time": "2023-06-20T17:53:51.773Z"
   },
   {
    "duration": 79,
    "start_time": "2023-06-20T17:53:51.881Z"
   },
   {
    "duration": 71,
    "start_time": "2023-06-20T17:53:51.967Z"
   },
   {
    "duration": 62,
    "start_time": "2023-06-20T17:53:52.040Z"
   },
   {
    "duration": 19,
    "start_time": "2023-06-20T17:53:52.103Z"
   },
   {
    "duration": 43,
    "start_time": "2023-06-20T17:53:52.123Z"
   },
   {
    "duration": 24,
    "start_time": "2023-06-20T17:53:52.168Z"
   },
   {
    "duration": 273,
    "start_time": "2023-06-20T17:53:52.196Z"
   },
   {
    "duration": 524,
    "start_time": "2023-06-20T17:53:52.474Z"
   },
   {
    "duration": 3512,
    "start_time": "2023-06-20T17:53:53.000Z"
   },
   {
    "duration": 3,
    "start_time": "2023-06-20T17:53:56.514Z"
   },
   {
    "duration": 104,
    "start_time": "2023-06-20T17:53:56.519Z"
   },
   {
    "duration": 3,
    "start_time": "2023-06-20T17:53:56.626Z"
   },
   {
    "duration": 89,
    "start_time": "2023-06-20T17:53:56.630Z"
   },
   {
    "duration": 121,
    "start_time": "2023-06-20T17:53:56.722Z"
   },
   {
    "duration": 2881,
    "start_time": "2023-06-20T18:01:03.998Z"
   },
   {
    "duration": 3014,
    "start_time": "2023-06-20T18:01:14.209Z"
   },
   {
    "duration": 3293,
    "start_time": "2023-06-20T18:01:42.441Z"
   },
   {
    "duration": 3183,
    "start_time": "2023-06-20T18:01:59.477Z"
   },
   {
    "duration": 36,
    "start_time": "2023-06-20T18:02:12.645Z"
   },
   {
    "duration": 3385,
    "start_time": "2023-06-20T18:03:19.085Z"
   },
   {
    "duration": 3469,
    "start_time": "2023-06-20T18:04:05.278Z"
   },
   {
    "duration": 3292,
    "start_time": "2023-06-20T18:04:14.755Z"
   },
   {
    "duration": 3470,
    "start_time": "2023-06-20T18:04:26.043Z"
   },
   {
    "duration": 3237,
    "start_time": "2023-06-20T18:04:46.592Z"
   },
   {
    "duration": 78,
    "start_time": "2023-06-20T18:05:22.903Z"
   },
   {
    "duration": 49,
    "start_time": "2023-06-20T18:05:36.901Z"
   },
   {
    "duration": 1198,
    "start_time": "2023-06-20T18:05:58.500Z"
   },
   {
    "duration": 1075,
    "start_time": "2023-06-20T18:05:59.700Z"
   },
   {
    "duration": 31,
    "start_time": "2023-06-20T18:06:00.782Z"
   },
   {
    "duration": 758,
    "start_time": "2023-06-20T18:06:00.814Z"
   },
   {
    "duration": 1494,
    "start_time": "2023-06-20T18:06:01.576Z"
   },
   {
    "duration": 53,
    "start_time": "2023-06-20T18:06:03.072Z"
   },
   {
    "duration": 24,
    "start_time": "2023-06-20T18:06:03.127Z"
   },
   {
    "duration": 166,
    "start_time": "2023-06-20T18:06:03.159Z"
   },
   {
    "duration": 203,
    "start_time": "2023-06-20T18:06:03.328Z"
   },
   {
    "duration": 124,
    "start_time": "2023-06-20T18:06:03.534Z"
   },
   {
    "duration": 686,
    "start_time": "2023-06-20T18:06:03.663Z"
   },
   {
    "duration": 78,
    "start_time": "2023-06-20T18:06:04.354Z"
   },
   {
    "duration": 20,
    "start_time": "2023-06-20T18:06:04.434Z"
   },
   {
    "duration": 82,
    "start_time": "2023-06-20T18:06:04.461Z"
   },
   {
    "duration": 177,
    "start_time": "2023-06-20T18:06:04.545Z"
   },
   {
    "duration": 109,
    "start_time": "2023-06-20T18:06:04.724Z"
   },
   {
    "duration": 36,
    "start_time": "2023-06-20T18:06:04.835Z"
   },
   {
    "duration": 390,
    "start_time": "2023-06-20T18:06:04.879Z"
   },
   {
    "duration": 99,
    "start_time": "2023-06-20T18:06:05.277Z"
   },
   {
    "duration": 413,
    "start_time": "2023-06-20T18:06:05.390Z"
   },
   {
    "duration": 112,
    "start_time": "2023-06-20T18:06:05.806Z"
   },
   {
    "duration": 15,
    "start_time": "2023-06-20T18:06:05.919Z"
   },
   {
    "duration": 155,
    "start_time": "2023-06-20T18:06:05.937Z"
   },
   {
    "duration": 274,
    "start_time": "2023-06-20T18:06:06.097Z"
   },
   {
    "duration": 69,
    "start_time": "2023-06-20T18:06:06.375Z"
   },
   {
    "duration": 294,
    "start_time": "2023-06-20T18:06:06.446Z"
   },
   {
    "duration": 296,
    "start_time": "2023-06-20T18:06:06.741Z"
   },
   {
    "duration": 47,
    "start_time": "2023-06-20T18:06:07.040Z"
   },
   {
    "duration": 31,
    "start_time": "2023-06-20T18:06:07.097Z"
   },
   {
    "duration": 391,
    "start_time": "2023-06-20T18:06:07.130Z"
   },
   {
    "duration": 78,
    "start_time": "2023-06-20T18:06:07.522Z"
   },
   {
    "duration": 85,
    "start_time": "2023-06-20T18:06:07.602Z"
   },
   {
    "duration": 8,
    "start_time": "2023-06-20T18:06:07.691Z"
   },
   {
    "duration": 104,
    "start_time": "2023-06-20T18:06:07.701Z"
   },
   {
    "duration": 80,
    "start_time": "2023-06-20T18:06:07.807Z"
   },
   {
    "duration": 76,
    "start_time": "2023-06-20T18:06:07.891Z"
   },
   {
    "duration": 66,
    "start_time": "2023-06-20T18:06:07.969Z"
   },
   {
    "duration": 29,
    "start_time": "2023-06-20T18:06:08.036Z"
   },
   {
    "duration": 37,
    "start_time": "2023-06-20T18:06:08.067Z"
   },
   {
    "duration": 21,
    "start_time": "2023-06-20T18:06:08.106Z"
   },
   {
    "duration": 367,
    "start_time": "2023-06-20T18:06:08.130Z"
   },
   {
    "duration": 529,
    "start_time": "2023-06-20T18:06:08.500Z"
   },
   {
    "duration": 3712,
    "start_time": "2023-06-20T18:06:09.031Z"
   },
   {
    "duration": 8,
    "start_time": "2023-06-20T18:06:12.745Z"
   },
   {
    "duration": 140,
    "start_time": "2023-06-20T18:06:12.755Z"
   },
   {
    "duration": 3,
    "start_time": "2023-06-20T18:06:12.897Z"
   },
   {
    "duration": 146,
    "start_time": "2023-06-20T18:06:12.901Z"
   },
   {
    "duration": 1254,
    "start_time": "2023-06-20T18:06:57.935Z"
   },
   {
    "duration": 1051,
    "start_time": "2023-06-20T18:06:59.193Z"
   },
   {
    "duration": 41,
    "start_time": "2023-06-20T18:07:00.247Z"
   },
   {
    "duration": 701,
    "start_time": "2023-06-20T18:07:00.290Z"
   },
   {
    "duration": 1402,
    "start_time": "2023-06-20T18:07:00.995Z"
   },
   {
    "duration": 50,
    "start_time": "2023-06-20T18:07:02.399Z"
   },
   {
    "duration": 57,
    "start_time": "2023-06-20T18:07:02.465Z"
   },
   {
    "duration": 185,
    "start_time": "2023-06-20T18:07:02.524Z"
   },
   {
    "duration": 136,
    "start_time": "2023-06-20T18:07:02.711Z"
   },
   {
    "duration": 172,
    "start_time": "2023-06-20T18:07:02.848Z"
   },
   {
    "duration": 597,
    "start_time": "2023-06-20T18:07:03.022Z"
   },
   {
    "duration": 75,
    "start_time": "2023-06-20T18:07:03.621Z"
   },
   {
    "duration": 16,
    "start_time": "2023-06-20T18:07:03.698Z"
   },
   {
    "duration": 71,
    "start_time": "2023-06-20T18:07:03.718Z"
   },
   {
    "duration": 111,
    "start_time": "2023-06-20T18:07:03.791Z"
   },
   {
    "duration": 101,
    "start_time": "2023-06-20T18:07:03.904Z"
   },
   {
    "duration": 7,
    "start_time": "2023-06-20T18:07:04.007Z"
   },
   {
    "duration": 130,
    "start_time": "2023-06-20T18:07:04.016Z"
   },
   {
    "duration": 76,
    "start_time": "2023-06-20T18:07:04.147Z"
   },
   {
    "duration": 349,
    "start_time": "2023-06-20T18:07:04.226Z"
   },
   {
    "duration": 110,
    "start_time": "2023-06-20T18:07:04.584Z"
   },
   {
    "duration": 16,
    "start_time": "2023-06-20T18:07:04.697Z"
   },
   {
    "duration": 131,
    "start_time": "2023-06-20T18:07:04.714Z"
   },
   {
    "duration": 298,
    "start_time": "2023-06-20T18:07:04.847Z"
   },
   {
    "duration": 73,
    "start_time": "2023-06-20T18:07:05.152Z"
   },
   {
    "duration": 352,
    "start_time": "2023-06-20T18:07:05.226Z"
   },
   {
    "duration": 326,
    "start_time": "2023-06-20T18:07:05.582Z"
   },
   {
    "duration": 20,
    "start_time": "2023-06-20T18:07:05.910Z"
   },
   {
    "duration": 55,
    "start_time": "2023-06-20T18:07:05.932Z"
   },
   {
    "duration": 374,
    "start_time": "2023-06-20T18:07:05.989Z"
   },
   {
    "duration": 79,
    "start_time": "2023-06-20T18:07:06.369Z"
   },
   {
    "duration": 106,
    "start_time": "2023-06-20T18:07:06.451Z"
   },
   {
    "duration": 54,
    "start_time": "2023-06-20T18:07:06.564Z"
   },
   {
    "duration": 200,
    "start_time": "2023-06-20T18:07:06.621Z"
   },
   {
    "duration": 85,
    "start_time": "2023-06-20T18:07:06.823Z"
   },
   {
    "duration": 91,
    "start_time": "2023-06-20T18:07:06.911Z"
   },
   {
    "duration": 76,
    "start_time": "2023-06-20T18:07:07.006Z"
   },
   {
    "duration": 24,
    "start_time": "2023-06-20T18:07:07.089Z"
   },
   {
    "duration": 25,
    "start_time": "2023-06-20T18:07:07.115Z"
   },
   {
    "duration": 60,
    "start_time": "2023-06-20T18:07:07.160Z"
   },
   {
    "duration": 320,
    "start_time": "2023-06-20T18:07:07.224Z"
   },
   {
    "duration": 590,
    "start_time": "2023-06-20T18:07:07.556Z"
   },
   {
    "duration": 4014,
    "start_time": "2023-06-20T18:07:08.149Z"
   },
   {
    "duration": 15,
    "start_time": "2023-06-20T18:07:12.172Z"
   },
   {
    "duration": 123,
    "start_time": "2023-06-20T18:07:12.193Z"
   },
   {
    "duration": 3,
    "start_time": "2023-06-20T18:07:12.318Z"
   },
   {
    "duration": 85,
    "start_time": "2023-06-20T18:07:12.323Z"
   },
   {
    "duration": 44,
    "start_time": "2023-06-20T18:07:33.646Z"
   },
   {
    "duration": 23,
    "start_time": "2023-06-20T18:07:46.306Z"
   },
   {
    "duration": 1121,
    "start_time": "2023-06-23T04:28:02.476Z"
   },
   {
    "duration": 906,
    "start_time": "2023-06-23T04:28:03.599Z"
   },
   {
    "duration": 18,
    "start_time": "2023-06-23T04:28:04.507Z"
   },
   {
    "duration": 377,
    "start_time": "2023-06-23T04:28:04.526Z"
   },
   {
    "duration": 805,
    "start_time": "2023-06-23T04:28:04.905Z"
   },
   {
    "duration": 36,
    "start_time": "2023-06-23T04:28:05.712Z"
   },
   {
    "duration": 122,
    "start_time": "2023-06-23T04:28:05.750Z"
   },
   {
    "duration": 136,
    "start_time": "2023-06-23T04:28:05.874Z"
   },
   {
    "duration": 75,
    "start_time": "2023-06-23T04:28:06.012Z"
   },
   {
    "duration": 81,
    "start_time": "2023-06-23T04:28:06.089Z"
   },
   {
    "duration": 577,
    "start_time": "2023-06-23T04:28:06.171Z"
   },
   {
    "duration": 52,
    "start_time": "2023-06-23T04:28:06.749Z"
   },
   {
    "duration": 13,
    "start_time": "2023-06-23T04:28:06.802Z"
   },
   {
    "duration": 34,
    "start_time": "2023-06-23T04:28:06.818Z"
   },
   {
    "duration": 74,
    "start_time": "2023-06-23T04:28:06.853Z"
   },
   {
    "duration": 54,
    "start_time": "2023-06-23T04:28:06.928Z"
   },
   {
    "duration": 5,
    "start_time": "2023-06-23T04:28:06.983Z"
   },
   {
    "duration": 65,
    "start_time": "2023-06-23T04:28:06.999Z"
   },
   {
    "duration": 55,
    "start_time": "2023-06-23T04:28:07.066Z"
   },
   {
    "duration": 226,
    "start_time": "2023-06-23T04:28:07.123Z"
   },
   {
    "duration": 61,
    "start_time": "2023-06-23T04:28:07.351Z"
   },
   {
    "duration": 10,
    "start_time": "2023-06-23T04:28:07.414Z"
   },
   {
    "duration": 92,
    "start_time": "2023-06-23T04:28:07.426Z"
   },
   {
    "duration": 180,
    "start_time": "2023-06-23T04:28:07.519Z"
   },
   {
    "duration": 38,
    "start_time": "2023-06-23T04:28:07.701Z"
   },
   {
    "duration": 211,
    "start_time": "2023-06-23T04:28:07.741Z"
   },
   {
    "duration": 207,
    "start_time": "2023-06-23T04:28:07.953Z"
   },
   {
    "duration": 15,
    "start_time": "2023-06-23T04:28:08.162Z"
   },
   {
    "duration": 26,
    "start_time": "2023-06-23T04:28:08.179Z"
   },
   {
    "duration": 224,
    "start_time": "2023-06-23T04:28:08.207Z"
   },
   {
    "duration": 49,
    "start_time": "2023-06-23T04:28:08.433Z"
   },
   {
    "duration": 69,
    "start_time": "2023-06-23T04:28:08.484Z"
   },
   {
    "duration": 8,
    "start_time": "2023-06-23T04:28:08.555Z"
   },
   {
    "duration": 86,
    "start_time": "2023-06-23T04:28:08.564Z"
   },
   {
    "duration": 64,
    "start_time": "2023-06-23T04:28:08.652Z"
   },
   {
    "duration": 54,
    "start_time": "2023-06-23T04:28:08.717Z"
   },
   {
    "duration": 56,
    "start_time": "2023-06-23T04:28:08.772Z"
   },
   {
    "duration": 15,
    "start_time": "2023-06-23T04:28:08.830Z"
   },
   {
    "duration": 20,
    "start_time": "2023-06-23T04:28:08.846Z"
   },
   {
    "duration": 33,
    "start_time": "2023-06-23T04:28:08.867Z"
   },
   {
    "duration": 219,
    "start_time": "2023-06-23T04:28:08.903Z"
   },
   {
    "duration": 317,
    "start_time": "2023-06-23T04:28:09.123Z"
   },
   {
    "duration": 2705,
    "start_time": "2023-06-23T04:28:09.441Z"
   },
   {
    "duration": 2,
    "start_time": "2023-06-23T04:28:12.148Z"
   },
   {
    "duration": 69,
    "start_time": "2023-06-23T04:28:12.151Z"
   },
   {
    "duration": 2,
    "start_time": "2023-06-23T04:28:12.222Z"
   },
   {
    "duration": 37,
    "start_time": "2023-06-23T04:28:12.226Z"
   },
   {
    "duration": 18,
    "start_time": "2023-06-23T04:28:12.265Z"
   },
   {
    "duration": 252,
    "start_time": "2023-06-23T04:36:08.612Z"
   },
   {
    "duration": 23,
    "start_time": "2023-06-23T04:37:24.980Z"
   },
   {
    "duration": 5013,
    "start_time": "2023-06-23T04:37:33.394Z"
   },
   {
    "duration": 4967,
    "start_time": "2023-06-23T04:38:10.735Z"
   },
   {
    "duration": 113,
    "start_time": "2023-06-23T04:41:03.738Z"
   },
   {
    "duration": 6088,
    "start_time": "2023-06-23T04:41:07.023Z"
   },
   {
    "duration": 586,
    "start_time": "2023-06-23T04:41:28.418Z"
   },
   {
    "duration": 8,
    "start_time": "2023-06-23T04:45:00.250Z"
   },
   {
    "duration": 4,
    "start_time": "2023-06-23T04:47:26.102Z"
   },
   {
    "duration": 8,
    "start_time": "2023-06-23T04:47:39.115Z"
   },
   {
    "duration": 37,
    "start_time": "2023-06-23T04:47:58.178Z"
   },
   {
    "duration": 3,
    "start_time": "2023-06-23T04:48:06.370Z"
   },
   {
    "duration": 25,
    "start_time": "2023-06-23T04:48:06.793Z"
   },
   {
    "duration": 20,
    "start_time": "2023-06-23T04:48:07.395Z"
   },
   {
    "duration": 5364,
    "start_time": "2023-06-23T04:48:11.247Z"
   },
   {
    "duration": 804,
    "start_time": "2023-06-23T04:48:16.613Z"
   },
   {
    "duration": 4,
    "start_time": "2023-06-23T04:48:17.419Z"
   },
   {
    "duration": 125,
    "start_time": "2023-06-23T05:57:05.297Z"
   },
   {
    "duration": 112,
    "start_time": "2023-06-23T06:02:15.333Z"
   },
   {
    "duration": 114,
    "start_time": "2023-06-23T06:02:43.508Z"
   },
   {
    "duration": 1137,
    "start_time": "2023-06-23T06:07:54.644Z"
   },
   {
    "duration": 877,
    "start_time": "2023-06-23T06:07:55.783Z"
   },
   {
    "duration": 20,
    "start_time": "2023-06-23T06:07:56.662Z"
   },
   {
    "duration": 452,
    "start_time": "2023-06-23T06:07:56.684Z"
   },
   {
    "duration": 895,
    "start_time": "2023-06-23T06:07:57.139Z"
   },
   {
    "duration": 39,
    "start_time": "2023-06-23T06:07:58.036Z"
   },
   {
    "duration": 29,
    "start_time": "2023-06-23T06:07:58.076Z"
   },
   {
    "duration": 106,
    "start_time": "2023-06-23T06:07:58.106Z"
   },
   {
    "duration": 90,
    "start_time": "2023-06-23T06:07:58.215Z"
   },
   {
    "duration": 84,
    "start_time": "2023-06-23T06:07:58.306Z"
   },
   {
    "duration": 353,
    "start_time": "2023-06-23T06:07:58.391Z"
   },
   {
    "duration": 40,
    "start_time": "2023-06-23T06:07:58.746Z"
   },
   {
    "duration": 26,
    "start_time": "2023-06-23T06:07:58.787Z"
   },
   {
    "duration": 33,
    "start_time": "2023-06-23T06:07:58.815Z"
   },
   {
    "duration": 84,
    "start_time": "2023-06-23T06:07:58.850Z"
   },
   {
    "duration": 66,
    "start_time": "2023-06-23T06:07:58.935Z"
   },
   {
    "duration": 12,
    "start_time": "2023-06-23T06:07:59.002Z"
   },
   {
    "duration": 72,
    "start_time": "2023-06-23T06:07:59.016Z"
   },
   {
    "duration": 64,
    "start_time": "2023-06-23T06:07:59.089Z"
   },
   {
    "duration": 224,
    "start_time": "2023-06-23T06:07:59.154Z"
   },
   {
    "duration": 63,
    "start_time": "2023-06-23T06:07:59.379Z"
   },
   {
    "duration": 9,
    "start_time": "2023-06-23T06:07:59.444Z"
   },
   {
    "duration": 92,
    "start_time": "2023-06-23T06:07:59.455Z"
   },
   {
    "duration": 183,
    "start_time": "2023-06-23T06:07:59.548Z"
   },
   {
    "duration": 39,
    "start_time": "2023-06-23T06:07:59.732Z"
   },
   {
    "duration": 216,
    "start_time": "2023-06-23T06:07:59.772Z"
   },
   {
    "duration": 230,
    "start_time": "2023-06-23T06:07:59.990Z"
   },
   {
    "duration": 15,
    "start_time": "2023-06-23T06:08:00.222Z"
   },
   {
    "duration": 52,
    "start_time": "2023-06-23T06:08:00.239Z"
   },
   {
    "duration": 275,
    "start_time": "2023-06-23T06:08:00.292Z"
   },
   {
    "duration": 60,
    "start_time": "2023-06-23T06:08:00.568Z"
   },
   {
    "duration": 58,
    "start_time": "2023-06-23T06:08:00.629Z"
   },
   {
    "duration": 48,
    "start_time": "2023-06-23T06:08:00.688Z"
   },
   {
    "duration": 101,
    "start_time": "2023-06-23T06:08:00.737Z"
   },
   {
    "duration": 67,
    "start_time": "2023-06-23T06:08:00.840Z"
   },
   {
    "duration": 85,
    "start_time": "2023-06-23T06:08:00.912Z"
   },
   {
    "duration": 51,
    "start_time": "2023-06-23T06:08:00.999Z"
   },
   {
    "duration": 18,
    "start_time": "2023-06-23T06:08:01.051Z"
   },
   {
    "duration": 47,
    "start_time": "2023-06-23T06:08:01.071Z"
   },
   {
    "duration": 48,
    "start_time": "2023-06-23T06:08:01.119Z"
   },
   {
    "duration": 242,
    "start_time": "2023-06-23T06:08:01.170Z"
   },
   {
    "duration": 368,
    "start_time": "2023-06-23T06:08:01.413Z"
   },
   {
    "duration": 2961,
    "start_time": "2023-06-23T06:08:01.783Z"
   },
   {
    "duration": 2,
    "start_time": "2023-06-23T06:08:04.745Z"
   },
   {
    "duration": 68,
    "start_time": "2023-06-23T06:08:04.749Z"
   },
   {
    "duration": 2,
    "start_time": "2023-06-23T06:08:04.819Z"
   },
   {
    "duration": 32,
    "start_time": "2023-06-23T06:08:04.823Z"
   },
   {
    "duration": 17,
    "start_time": "2023-06-23T06:08:04.857Z"
   },
   {
    "duration": 1231,
    "start_time": "2023-06-23T06:23:58.725Z"
   },
   {
    "duration": 783,
    "start_time": "2023-06-23T06:23:59.958Z"
   },
   {
    "duration": 19,
    "start_time": "2023-06-23T06:24:00.742Z"
   },
   {
    "duration": 431,
    "start_time": "2023-06-23T06:24:00.763Z"
   },
   {
    "duration": 866,
    "start_time": "2023-06-23T06:24:01.196Z"
   },
   {
    "duration": 51,
    "start_time": "2023-06-23T06:24:02.064Z"
   },
   {
    "duration": 62,
    "start_time": "2023-06-23T06:24:02.124Z"
   },
   {
    "duration": 160,
    "start_time": "2023-06-23T06:24:02.188Z"
   },
   {
    "duration": 129,
    "start_time": "2023-06-23T06:24:02.350Z"
   },
   {
    "duration": 176,
    "start_time": "2023-06-23T06:24:02.481Z"
   },
   {
    "duration": 359,
    "start_time": "2023-06-23T06:24:02.658Z"
   },
   {
    "duration": 38,
    "start_time": "2023-06-23T06:24:03.019Z"
   },
   {
    "duration": 14,
    "start_time": "2023-06-23T06:24:03.058Z"
   },
   {
    "duration": 49,
    "start_time": "2023-06-23T06:24:03.076Z"
   },
   {
    "duration": 123,
    "start_time": "2023-06-23T06:24:03.127Z"
   },
   {
    "duration": 69,
    "start_time": "2023-06-23T06:24:03.252Z"
   },
   {
    "duration": 5,
    "start_time": "2023-06-23T06:24:03.323Z"
   },
   {
    "duration": 83,
    "start_time": "2023-06-23T06:24:03.330Z"
   },
   {
    "duration": 49,
    "start_time": "2023-06-23T06:24:03.414Z"
   },
   {
    "duration": 259,
    "start_time": "2023-06-23T06:24:03.464Z"
   },
   {
    "duration": 65,
    "start_time": "2023-06-23T06:24:03.725Z"
   },
   {
    "duration": 24,
    "start_time": "2023-06-23T06:24:03.791Z"
   },
   {
    "duration": 77,
    "start_time": "2023-06-23T06:24:03.816Z"
   },
   {
    "duration": 184,
    "start_time": "2023-06-23T06:24:03.894Z"
   },
   {
    "duration": 56,
    "start_time": "2023-06-23T06:24:04.080Z"
   },
   {
    "duration": 245,
    "start_time": "2023-06-23T06:24:04.138Z"
   },
   {
    "duration": 224,
    "start_time": "2023-06-23T06:24:04.385Z"
   },
   {
    "duration": 18,
    "start_time": "2023-06-23T06:24:04.611Z"
   },
   {
    "duration": 36,
    "start_time": "2023-06-23T06:24:04.631Z"
   },
   {
    "duration": 284,
    "start_time": "2023-06-23T06:24:04.669Z"
   },
   {
    "duration": 62,
    "start_time": "2023-06-23T06:24:04.955Z"
   },
   {
    "duration": 60,
    "start_time": "2023-06-23T06:24:05.019Z"
   },
   {
    "duration": 3,
    "start_time": "2023-06-23T06:24:05.081Z"
   },
   {
    "duration": 80,
    "start_time": "2023-06-23T06:24:05.085Z"
   },
   {
    "duration": 87,
    "start_time": "2023-06-23T06:24:05.166Z"
   },
   {
    "duration": 63,
    "start_time": "2023-06-23T06:24:05.255Z"
   },
   {
    "duration": 49,
    "start_time": "2023-06-23T06:24:05.320Z"
   },
   {
    "duration": 46,
    "start_time": "2023-06-23T06:24:05.371Z"
   },
   {
    "duration": 20,
    "start_time": "2023-06-23T06:24:05.419Z"
   },
   {
    "duration": 34,
    "start_time": "2023-06-23T06:24:05.441Z"
   },
   {
    "duration": 237,
    "start_time": "2023-06-23T06:24:05.479Z"
   },
   {
    "duration": 391,
    "start_time": "2023-06-23T06:24:05.717Z"
   },
   {
    "duration": 3058,
    "start_time": "2023-06-23T06:24:06.119Z"
   },
   {
    "duration": 2,
    "start_time": "2023-06-23T06:24:09.179Z"
   },
   {
    "duration": 98,
    "start_time": "2023-06-23T06:24:09.183Z"
   },
   {
    "duration": 3,
    "start_time": "2023-06-23T06:24:09.283Z"
   },
   {
    "duration": 66,
    "start_time": "2023-06-23T06:24:09.287Z"
   },
   {
    "duration": 20,
    "start_time": "2023-06-23T06:24:09.355Z"
   },
   {
    "duration": 439,
    "start_time": "2023-06-23T06:24:09.376Z"
   },
   {
    "duration": 109,
    "start_time": "2023-06-23T06:24:09.817Z"
   },
   {
    "duration": 151,
    "start_time": "2023-06-23T06:24:09.999Z"
   },
   {
    "duration": 4,
    "start_time": "2023-06-23T06:24:57.227Z"
   },
   {
    "duration": 19,
    "start_time": "2023-06-23T06:25:46.180Z"
   },
   {
    "duration": 13,
    "start_time": "2023-06-23T06:25:50.785Z"
   },
   {
    "duration": 8,
    "start_time": "2023-06-23T06:26:32.970Z"
   },
   {
    "duration": 5,
    "start_time": "2023-06-23T06:26:43.115Z"
   },
   {
    "duration": 988874,
    "start_time": "2023-06-23T06:27:58.750Z"
   },
   {
    "duration": 708,
    "start_time": "2023-06-23T06:44:27.700Z"
   },
   {
    "duration": 8,
    "start_time": "2023-06-23T06:44:28.409Z"
   },
   {
    "duration": 18,
    "start_time": "2023-06-23T06:44:28.418Z"
   },
   {
    "duration": 1378,
    "start_time": "2023-06-23T15:23:47.399Z"
   },
   {
    "duration": 3239,
    "start_time": "2023-06-23T15:23:48.780Z"
   },
   {
    "duration": 25,
    "start_time": "2023-06-23T15:23:52.020Z"
   },
   {
    "duration": 585,
    "start_time": "2023-06-23T15:23:52.047Z"
   },
   {
    "duration": 1302,
    "start_time": "2023-06-23T15:23:52.636Z"
   },
   {
    "duration": 63,
    "start_time": "2023-06-23T15:23:53.941Z"
   },
   {
    "duration": 14,
    "start_time": "2023-06-23T15:23:54.007Z"
   },
   {
    "duration": 128,
    "start_time": "2023-06-23T15:23:54.023Z"
   },
   {
    "duration": 130,
    "start_time": "2023-06-23T15:23:54.154Z"
   },
   {
    "duration": 149,
    "start_time": "2023-06-23T15:23:54.286Z"
   },
   {
    "duration": 804,
    "start_time": "2023-06-23T15:23:54.437Z"
   },
   {
    "duration": 93,
    "start_time": "2023-06-23T15:23:55.243Z"
   },
   {
    "duration": 17,
    "start_time": "2023-06-23T15:23:55.338Z"
   },
   {
    "duration": 41,
    "start_time": "2023-06-23T15:23:55.370Z"
   },
   {
    "duration": 122,
    "start_time": "2023-06-23T15:23:55.414Z"
   },
   {
    "duration": 95,
    "start_time": "2023-06-23T15:23:55.538Z"
   },
   {
    "duration": 7,
    "start_time": "2023-06-23T15:23:55.635Z"
   },
   {
    "duration": 133,
    "start_time": "2023-06-23T15:23:55.645Z"
   },
   {
    "duration": 69,
    "start_time": "2023-06-23T15:23:55.780Z"
   },
   {
    "duration": 339,
    "start_time": "2023-06-23T15:23:55.851Z"
   },
   {
    "duration": 100,
    "start_time": "2023-06-23T15:23:56.192Z"
   },
   {
    "duration": 14,
    "start_time": "2023-06-23T15:23:56.294Z"
   },
   {
    "duration": 146,
    "start_time": "2023-06-23T15:23:56.310Z"
   },
   {
    "duration": 284,
    "start_time": "2023-06-23T15:23:56.458Z"
   },
   {
    "duration": 77,
    "start_time": "2023-06-23T15:23:56.744Z"
   },
   {
    "duration": 315,
    "start_time": "2023-06-23T15:23:56.825Z"
   },
   {
    "duration": 295,
    "start_time": "2023-06-23T15:23:57.142Z"
   },
   {
    "duration": 20,
    "start_time": "2023-06-23T15:23:57.438Z"
   },
   {
    "duration": 23,
    "start_time": "2023-06-23T15:23:57.466Z"
   },
   {
    "duration": 337,
    "start_time": "2023-06-23T15:23:57.491Z"
   },
   {
    "duration": 85,
    "start_time": "2023-06-23T15:23:57.830Z"
   },
   {
    "duration": 105,
    "start_time": "2023-06-23T15:23:57.917Z"
   },
   {
    "duration": 57,
    "start_time": "2023-06-23T15:23:58.025Z"
   },
   {
    "duration": 113,
    "start_time": "2023-06-23T15:23:58.085Z"
   },
   {
    "duration": 87,
    "start_time": "2023-06-23T15:23:58.200Z"
   },
   {
    "duration": 64,
    "start_time": "2023-06-23T15:23:58.289Z"
   },
   {
    "duration": 75,
    "start_time": "2023-06-23T15:23:58.355Z"
   },
   {
    "duration": 23,
    "start_time": "2023-06-23T15:23:58.433Z"
   },
   {
    "duration": 38,
    "start_time": "2023-06-23T15:23:58.468Z"
   },
   {
    "duration": 37,
    "start_time": "2023-06-23T15:23:58.508Z"
   },
   {
    "duration": 280,
    "start_time": "2023-06-23T15:23:58.571Z"
   },
   {
    "duration": 658,
    "start_time": "2023-06-23T15:23:58.853Z"
   },
   {
    "duration": 3966,
    "start_time": "2023-06-23T15:23:59.513Z"
   },
   {
    "duration": 5,
    "start_time": "2023-06-23T15:24:03.481Z"
   },
   {
    "duration": 140,
    "start_time": "2023-06-23T15:24:03.488Z"
   },
   {
    "duration": 4,
    "start_time": "2023-06-23T15:24:03.629Z"
   },
   {
    "duration": 67,
    "start_time": "2023-06-23T15:24:03.634Z"
   },
   {
    "duration": 24,
    "start_time": "2023-06-23T15:24:03.704Z"
   },
   {
    "duration": 480139,
    "start_time": "2023-06-23T15:24:03.730Z"
   },
   {
    "duration": 624,
    "start_time": "2023-06-23T15:32:03.872Z"
   },
   {
    "duration": 69,
    "start_time": "2023-06-23T15:32:04.498Z"
   },
   {
    "duration": 509,
    "start_time": "2023-06-23T15:32:04.569Z"
   },
   {
    "duration": 87,
    "start_time": "2023-06-23T15:32:05.081Z"
   },
   {
    "duration": 5,
    "start_time": "2023-06-23T15:32:05.171Z"
   },
   {
    "duration": 229,
    "start_time": "2023-06-23T15:32:05.179Z"
   },
   {
    "duration": 0,
    "start_time": "2023-06-23T15:32:05.409Z"
   },
   {
    "duration": 1166,
    "start_time": "2023-06-24T04:07:46.312Z"
   },
   {
    "duration": 1100,
    "start_time": "2023-06-24T04:07:47.479Z"
   },
   {
    "duration": 28,
    "start_time": "2023-06-24T04:07:48.580Z"
   },
   {
    "duration": 443,
    "start_time": "2023-06-24T04:07:48.610Z"
   },
   {
    "duration": 894,
    "start_time": "2023-06-24T04:07:49.055Z"
   },
   {
    "duration": 39,
    "start_time": "2023-06-24T04:07:49.950Z"
   },
   {
    "duration": 14,
    "start_time": "2023-06-24T04:07:50.004Z"
   },
   {
    "duration": 115,
    "start_time": "2023-06-24T04:07:50.019Z"
   },
   {
    "duration": 102,
    "start_time": "2023-06-24T04:07:50.136Z"
   },
   {
    "duration": 100,
    "start_time": "2023-06-24T04:07:50.240Z"
   },
   {
    "duration": 584,
    "start_time": "2023-06-24T04:07:50.341Z"
   },
   {
    "duration": 50,
    "start_time": "2023-06-24T04:07:50.927Z"
   },
   {
    "duration": 27,
    "start_time": "2023-06-24T04:07:50.979Z"
   },
   {
    "duration": 46,
    "start_time": "2023-06-24T04:07:51.010Z"
   },
   {
    "duration": 78,
    "start_time": "2023-06-24T04:07:51.058Z"
   },
   {
    "duration": 62,
    "start_time": "2023-06-24T04:07:51.138Z"
   },
   {
    "duration": 7,
    "start_time": "2023-06-24T04:07:51.204Z"
   },
   {
    "duration": 118,
    "start_time": "2023-06-24T04:07:51.213Z"
   },
   {
    "duration": 48,
    "start_time": "2023-06-24T04:07:51.333Z"
   },
   {
    "duration": 258,
    "start_time": "2023-06-24T04:07:51.383Z"
   },
   {
    "duration": 74,
    "start_time": "2023-06-24T04:07:51.642Z"
   },
   {
    "duration": 11,
    "start_time": "2023-06-24T04:07:51.718Z"
   },
   {
    "duration": 110,
    "start_time": "2023-06-24T04:07:51.731Z"
   },
   {
    "duration": 201,
    "start_time": "2023-06-24T04:07:51.842Z"
   },
   {
    "duration": 43,
    "start_time": "2023-06-24T04:07:52.045Z"
   },
   {
    "duration": 238,
    "start_time": "2023-06-24T04:07:52.089Z"
   },
   {
    "duration": 211,
    "start_time": "2023-06-24T04:07:52.328Z"
   },
   {
    "duration": 16,
    "start_time": "2023-06-24T04:07:52.540Z"
   },
   {
    "duration": 20,
    "start_time": "2023-06-24T04:07:52.558Z"
   },
   {
    "duration": 271,
    "start_time": "2023-06-24T04:07:52.579Z"
   },
   {
    "duration": 61,
    "start_time": "2023-06-24T04:07:52.852Z"
   },
   {
    "duration": 61,
    "start_time": "2023-06-24T04:07:52.915Z"
   },
   {
    "duration": 12,
    "start_time": "2023-06-24T04:07:52.977Z"
   },
   {
    "duration": 109,
    "start_time": "2023-06-24T04:07:52.990Z"
   },
   {
    "duration": 70,
    "start_time": "2023-06-24T04:07:53.100Z"
   },
   {
    "duration": 67,
    "start_time": "2023-06-24T04:07:53.171Z"
   },
   {
    "duration": 48,
    "start_time": "2023-06-24T04:07:53.239Z"
   },
   {
    "duration": 20,
    "start_time": "2023-06-24T04:07:53.300Z"
   },
   {
    "duration": 35,
    "start_time": "2023-06-24T04:07:53.322Z"
   },
   {
    "duration": 45,
    "start_time": "2023-06-24T04:07:53.359Z"
   },
   {
    "duration": 299,
    "start_time": "2023-06-24T04:07:53.408Z"
   },
   {
    "duration": 459,
    "start_time": "2023-06-24T04:07:53.708Z"
   },
   {
    "duration": 3074,
    "start_time": "2023-06-24T04:07:54.168Z"
   },
   {
    "duration": 3,
    "start_time": "2023-06-24T04:07:57.243Z"
   },
   {
    "duration": 82,
    "start_time": "2023-06-24T04:07:57.247Z"
   },
   {
    "duration": 3,
    "start_time": "2023-06-24T04:07:57.331Z"
   },
   {
    "duration": 47,
    "start_time": "2023-06-24T04:07:57.335Z"
   },
   {
    "duration": 22,
    "start_time": "2023-06-24T04:07:57.384Z"
   },
   {
    "duration": 77115,
    "start_time": "2023-06-24T04:07:57.408Z"
   },
   {
    "duration": 700,
    "start_time": "2023-06-24T04:09:14.524Z"
   },
   {
    "duration": 76,
    "start_time": "2023-06-24T04:09:15.225Z"
   },
   {
    "duration": 399,
    "start_time": "2023-06-24T04:09:15.303Z"
   },
   {
    "duration": 18,
    "start_time": "2023-06-24T04:09:15.704Z"
   },
   {
    "duration": 79,
    "start_time": "2023-06-24T04:09:15.724Z"
   },
   {
    "duration": 242,
    "start_time": "2023-06-24T04:09:15.806Z"
   },
   {
    "duration": 0,
    "start_time": "2023-06-24T04:09:16.050Z"
   },
   {
    "duration": 24,
    "start_time": "2023-06-24T04:14:46.398Z"
   },
   {
    "duration": 752,
    "start_time": "2023-06-24T04:14:57.025Z"
   },
   {
    "duration": 125,
    "start_time": "2023-06-24T04:15:04.688Z"
   },
   {
    "duration": 742,
    "start_time": "2023-06-24T04:15:50.742Z"
   },
   {
    "duration": 14,
    "start_time": "2023-06-24T04:16:40.881Z"
   },
   {
    "duration": 4,
    "start_time": "2023-06-24T04:18:21.236Z"
   },
   {
    "duration": 872,
    "start_time": "2023-06-24T04:21:35.952Z"
   },
   {
    "duration": 18,
    "start_time": "2023-06-24T04:21:38.195Z"
   },
   {
    "duration": 4,
    "start_time": "2023-06-24T04:21:40.258Z"
   },
   {
    "duration": 1004,
    "start_time": "2023-06-24T04:21:46.640Z"
   },
   {
    "duration": 22,
    "start_time": "2023-06-24T04:22:01.715Z"
   },
   {
    "duration": 4,
    "start_time": "2023-06-24T04:22:03.251Z"
   },
   {
    "duration": 1220,
    "start_time": "2023-06-24T04:22:10.871Z"
   },
   {
    "duration": 32,
    "start_time": "2023-06-24T04:22:12.332Z"
   },
   {
    "duration": 5,
    "start_time": "2023-06-24T04:22:13.969Z"
   },
   {
    "duration": 1121,
    "start_time": "2023-06-24T04:22:20.070Z"
   },
   {
    "duration": 26,
    "start_time": "2023-06-24T04:22:21.866Z"
   },
   {
    "duration": 4,
    "start_time": "2023-06-24T04:22:22.854Z"
   },
   {
    "duration": 1071,
    "start_time": "2023-06-24T04:22:27.724Z"
   },
   {
    "duration": 29,
    "start_time": "2023-06-24T04:22:28.886Z"
   },
   {
    "duration": 4,
    "start_time": "2023-06-24T04:22:32.341Z"
   },
   {
    "duration": 1009,
    "start_time": "2023-06-24T04:22:39.138Z"
   },
   {
    "duration": 21,
    "start_time": "2023-06-24T04:22:40.148Z"
   },
   {
    "duration": 4,
    "start_time": "2023-06-24T04:22:41.459Z"
   },
   {
    "duration": 983,
    "start_time": "2023-06-24T04:22:46.784Z"
   },
   {
    "duration": 19,
    "start_time": "2023-06-24T04:22:47.769Z"
   },
   {
    "duration": 5,
    "start_time": "2023-06-24T04:22:48.172Z"
   },
   {
    "duration": 1035,
    "start_time": "2023-06-24T04:22:56.797Z"
   },
   {
    "duration": 21,
    "start_time": "2023-06-24T04:22:57.833Z"
   },
   {
    "duration": 5,
    "start_time": "2023-06-24T04:22:59.669Z"
   },
   {
    "duration": 328657,
    "start_time": "2023-06-24T04:24:22.052Z"
   },
   {
    "duration": 861,
    "start_time": "2023-06-24T04:30:22.473Z"
   },
   {
    "duration": 4,
    "start_time": "2023-06-24T04:30:27.691Z"
   },
   {
    "duration": 1314862,
    "start_time": "2023-06-24T04:30:48.743Z"
   },
   {
    "duration": 867,
    "start_time": "2023-06-24T04:53:46.356Z"
   },
   {
    "duration": 5,
    "start_time": "2023-06-24T04:53:49.611Z"
   },
   {
    "duration": 441399,
    "start_time": "2023-06-24T04:53:59.912Z"
   },
   {
    "duration": 847,
    "start_time": "2023-06-24T05:03:05.464Z"
   },
   {
    "duration": 4,
    "start_time": "2023-06-24T05:03:06.527Z"
   },
   {
    "duration": 1549,
    "start_time": "2023-06-25T13:59:01.093Z"
   },
   {
    "duration": 1642,
    "start_time": "2023-06-25T13:59:02.645Z"
   },
   {
    "duration": 22,
    "start_time": "2023-06-25T13:59:04.289Z"
   },
   {
    "duration": 695,
    "start_time": "2023-06-25T13:59:04.314Z"
   },
   {
    "duration": 1231,
    "start_time": "2023-06-25T13:59:05.011Z"
   },
   {
    "duration": 52,
    "start_time": "2023-06-25T13:59:06.244Z"
   },
   {
    "duration": 21,
    "start_time": "2023-06-25T13:59:06.298Z"
   },
   {
    "duration": 125,
    "start_time": "2023-06-25T13:59:06.321Z"
   },
   {
    "duration": 138,
    "start_time": "2023-06-25T13:59:06.457Z"
   },
   {
    "duration": 190,
    "start_time": "2023-06-25T13:59:06.600Z"
   },
   {
    "duration": 912,
    "start_time": "2023-06-25T13:59:06.792Z"
   },
   {
    "duration": 89,
    "start_time": "2023-06-25T13:59:07.707Z"
   },
   {
    "duration": 28,
    "start_time": "2023-06-25T13:59:07.801Z"
   },
   {
    "duration": 99,
    "start_time": "2023-06-25T13:59:07.831Z"
   },
   {
    "duration": 107,
    "start_time": "2023-06-25T13:59:07.932Z"
   },
   {
    "duration": 134,
    "start_time": "2023-06-25T13:59:08.041Z"
   },
   {
    "duration": 16,
    "start_time": "2023-06-25T13:59:08.181Z"
   },
   {
    "duration": 143,
    "start_time": "2023-06-25T13:59:08.203Z"
   },
   {
    "duration": 88,
    "start_time": "2023-06-25T13:59:08.349Z"
   },
   {
    "duration": 519,
    "start_time": "2023-06-25T13:59:08.441Z"
   },
   {
    "duration": 125,
    "start_time": "2023-06-25T13:59:08.962Z"
   },
   {
    "duration": 19,
    "start_time": "2023-06-25T13:59:09.097Z"
   },
   {
    "duration": 171,
    "start_time": "2023-06-25T13:59:09.119Z"
   },
   {
    "duration": 316,
    "start_time": "2023-06-25T13:59:09.296Z"
   },
   {
    "duration": 78,
    "start_time": "2023-06-25T13:59:09.614Z"
   },
   {
    "duration": 412,
    "start_time": "2023-06-25T13:59:09.695Z"
   },
   {
    "duration": 292,
    "start_time": "2023-06-25T13:59:10.109Z"
   },
   {
    "duration": 26,
    "start_time": "2023-06-25T13:59:10.406Z"
   },
   {
    "duration": 44,
    "start_time": "2023-06-25T13:59:10.434Z"
   },
   {
    "duration": 342,
    "start_time": "2023-06-25T13:59:10.483Z"
   },
   {
    "duration": 70,
    "start_time": "2023-06-25T13:59:10.827Z"
   },
   {
    "duration": 80,
    "start_time": "2023-06-25T13:59:10.899Z"
   },
   {
    "duration": 16,
    "start_time": "2023-06-25T13:59:10.981Z"
   },
   {
    "duration": 107,
    "start_time": "2023-06-25T13:59:10.999Z"
   },
   {
    "duration": 96,
    "start_time": "2023-06-25T13:59:11.108Z"
   },
   {
    "duration": 84,
    "start_time": "2023-06-25T13:59:11.207Z"
   },
   {
    "duration": 77,
    "start_time": "2023-06-25T13:59:11.293Z"
   },
   {
    "duration": 35,
    "start_time": "2023-06-25T13:59:11.372Z"
   },
   {
    "duration": 30,
    "start_time": "2023-06-25T13:59:11.409Z"
   },
   {
    "duration": 35,
    "start_time": "2023-06-25T13:59:11.440Z"
   },
   {
    "duration": 298,
    "start_time": "2023-06-25T13:59:11.482Z"
   },
   {
    "duration": 543,
    "start_time": "2023-06-25T13:59:11.782Z"
   },
   {
    "duration": 3605,
    "start_time": "2023-06-25T13:59:12.327Z"
   },
   {
    "duration": 3,
    "start_time": "2023-06-25T13:59:15.934Z"
   },
   {
    "duration": 102,
    "start_time": "2023-06-25T13:59:15.953Z"
   },
   {
    "duration": 4,
    "start_time": "2023-06-25T13:59:16.061Z"
   },
   {
    "duration": 65,
    "start_time": "2023-06-25T13:59:16.066Z"
   },
   {
    "duration": 30,
    "start_time": "2023-06-25T13:59:16.133Z"
   },
   {
    "duration": 1305,
    "start_time": "2023-06-25T13:59:49.809Z"
   },
   {
    "duration": 974,
    "start_time": "2023-06-25T13:59:51.117Z"
   },
   {
    "duration": 22,
    "start_time": "2023-06-25T13:59:52.093Z"
   },
   {
    "duration": 577,
    "start_time": "2023-06-25T13:59:52.117Z"
   },
   {
    "duration": 1140,
    "start_time": "2023-06-25T13:59:52.696Z"
   },
   {
    "duration": 55,
    "start_time": "2023-06-25T13:59:53.838Z"
   },
   {
    "duration": 18,
    "start_time": "2023-06-25T13:59:53.895Z"
   },
   {
    "duration": 110,
    "start_time": "2023-06-25T13:59:53.915Z"
   },
   {
    "duration": 99,
    "start_time": "2023-06-25T13:59:54.027Z"
   },
   {
    "duration": 166,
    "start_time": "2023-06-25T13:59:54.128Z"
   },
   {
    "duration": 509,
    "start_time": "2023-06-25T13:59:54.295Z"
   },
   {
    "duration": 76,
    "start_time": "2023-06-25T13:59:54.807Z"
   },
   {
    "duration": 35,
    "start_time": "2023-06-25T13:59:54.887Z"
   },
   {
    "duration": 97,
    "start_time": "2023-06-25T13:59:54.926Z"
   },
   {
    "duration": 165,
    "start_time": "2023-06-25T13:59:55.025Z"
   },
   {
    "duration": 106,
    "start_time": "2023-06-25T13:59:55.194Z"
   },
   {
    "duration": 8,
    "start_time": "2023-06-25T13:59:55.302Z"
   },
   {
    "duration": 184,
    "start_time": "2023-06-25T13:59:55.311Z"
   },
   {
    "duration": 70,
    "start_time": "2023-06-25T13:59:55.497Z"
   },
   {
    "duration": 319,
    "start_time": "2023-06-25T13:59:55.574Z"
   },
   {
    "duration": 105,
    "start_time": "2023-06-25T13:59:55.895Z"
   },
   {
    "duration": 15,
    "start_time": "2023-06-25T13:59:56.002Z"
   },
   {
    "duration": 130,
    "start_time": "2023-06-25T13:59:56.020Z"
   },
   {
    "duration": 264,
    "start_time": "2023-06-25T13:59:56.154Z"
   },
   {
    "duration": 68,
    "start_time": "2023-06-25T13:59:56.419Z"
   },
   {
    "duration": 292,
    "start_time": "2023-06-25T13:59:56.489Z"
   },
   {
    "duration": 286,
    "start_time": "2023-06-25T13:59:56.785Z"
   },
   {
    "duration": 22,
    "start_time": "2023-06-25T13:59:57.073Z"
   },
   {
    "duration": 197,
    "start_time": "2023-06-25T13:59:57.097Z"
   },
   {
    "duration": 320,
    "start_time": "2023-06-25T13:59:57.297Z"
   },
   {
    "duration": 71,
    "start_time": "2023-06-25T13:59:57.618Z"
   },
   {
    "duration": 82,
    "start_time": "2023-06-25T13:59:57.691Z"
   },
   {
    "duration": 7,
    "start_time": "2023-06-25T13:59:57.774Z"
   },
   {
    "duration": 85,
    "start_time": "2023-06-25T13:59:57.785Z"
   },
   {
    "duration": 68,
    "start_time": "2023-06-25T13:59:57.881Z"
   },
   {
    "duration": 73,
    "start_time": "2023-06-25T13:59:57.955Z"
   },
   {
    "duration": 71,
    "start_time": "2023-06-25T13:59:58.030Z"
   },
   {
    "duration": 20,
    "start_time": "2023-06-25T13:59:58.103Z"
   },
   {
    "duration": 39,
    "start_time": "2023-06-25T13:59:58.125Z"
   },
   {
    "duration": 25,
    "start_time": "2023-06-25T13:59:58.165Z"
   },
   {
    "duration": 339,
    "start_time": "2023-06-25T13:59:58.194Z"
   },
   {
    "duration": 611,
    "start_time": "2023-06-25T13:59:58.535Z"
   },
   {
    "duration": 3690,
    "start_time": "2023-06-25T13:59:59.148Z"
   },
   {
    "duration": 3,
    "start_time": "2023-06-25T14:00:02.840Z"
   },
   {
    "duration": 156,
    "start_time": "2023-06-25T14:00:02.844Z"
   },
   {
    "duration": 3,
    "start_time": "2023-06-25T14:00:03.002Z"
   },
   {
    "duration": 78,
    "start_time": "2023-06-25T14:00:03.007Z"
   },
   {
    "duration": 41,
    "start_time": "2023-06-25T14:00:03.087Z"
   },
   {
    "duration": 1398,
    "start_time": "2023-06-25T14:01:31.748Z"
   },
   {
    "duration": 950,
    "start_time": "2023-06-25T14:01:33.148Z"
   },
   {
    "duration": 22,
    "start_time": "2023-06-25T14:01:34.100Z"
   },
   {
    "duration": 585,
    "start_time": "2023-06-25T14:01:34.124Z"
   },
   {
    "duration": 1186,
    "start_time": "2023-06-25T14:01:34.711Z"
   },
   {
    "duration": 66,
    "start_time": "2023-06-25T14:01:35.900Z"
   },
   {
    "duration": 63,
    "start_time": "2023-06-25T14:01:35.971Z"
   },
   {
    "duration": 157,
    "start_time": "2023-06-25T14:01:36.036Z"
   },
   {
    "duration": 127,
    "start_time": "2023-06-25T14:01:36.196Z"
   },
   {
    "duration": 150,
    "start_time": "2023-06-25T14:01:36.325Z"
   },
   {
    "duration": 520,
    "start_time": "2023-06-25T14:01:36.483Z"
   },
   {
    "duration": 69,
    "start_time": "2023-06-25T14:01:37.004Z"
   },
   {
    "duration": 18,
    "start_time": "2023-06-25T14:01:37.079Z"
   },
   {
    "duration": 69,
    "start_time": "2023-06-25T14:01:37.101Z"
   },
   {
    "duration": 134,
    "start_time": "2023-06-25T14:01:37.177Z"
   },
   {
    "duration": 112,
    "start_time": "2023-06-25T14:01:37.312Z"
   },
   {
    "duration": 7,
    "start_time": "2023-06-25T14:01:37.426Z"
   },
   {
    "duration": 122,
    "start_time": "2023-06-25T14:01:37.435Z"
   },
   {
    "duration": 67,
    "start_time": "2023-06-25T14:01:37.559Z"
   },
   {
    "duration": 303,
    "start_time": "2023-06-25T14:01:37.628Z"
   },
   {
    "duration": 92,
    "start_time": "2023-06-25T14:01:37.933Z"
   },
   {
    "duration": 27,
    "start_time": "2023-06-25T14:01:38.027Z"
   },
   {
    "duration": 121,
    "start_time": "2023-06-25T14:01:38.062Z"
   },
   {
    "duration": 268,
    "start_time": "2023-06-25T14:01:38.185Z"
   },
   {
    "duration": 69,
    "start_time": "2023-06-25T14:01:38.463Z"
   },
   {
    "duration": 324,
    "start_time": "2023-06-25T14:01:38.535Z"
   },
   {
    "duration": 280,
    "start_time": "2023-06-25T14:01:38.861Z"
   },
   {
    "duration": 33,
    "start_time": "2023-06-25T14:01:39.143Z"
   },
   {
    "duration": 28,
    "start_time": "2023-06-25T14:01:39.180Z"
   },
   {
    "duration": 366,
    "start_time": "2023-06-25T14:01:39.210Z"
   },
   {
    "duration": 57,
    "start_time": "2023-06-25T14:01:39.578Z"
   },
   {
    "duration": 88,
    "start_time": "2023-06-25T14:01:39.637Z"
   },
   {
    "duration": 57,
    "start_time": "2023-06-25T14:01:39.727Z"
   },
   {
    "duration": 103,
    "start_time": "2023-06-25T14:01:39.786Z"
   },
   {
    "duration": 80,
    "start_time": "2023-06-25T14:01:39.891Z"
   },
   {
    "duration": 69,
    "start_time": "2023-06-25T14:01:39.973Z"
   },
   {
    "duration": 68,
    "start_time": "2023-06-25T14:01:40.044Z"
   },
   {
    "duration": 19,
    "start_time": "2023-06-25T14:01:40.114Z"
   },
   {
    "duration": 52,
    "start_time": "2023-06-25T14:01:40.135Z"
   },
   {
    "duration": 34,
    "start_time": "2023-06-25T14:01:40.189Z"
   },
   {
    "duration": 300,
    "start_time": "2023-06-25T14:01:40.227Z"
   },
   {
    "duration": 607,
    "start_time": "2023-06-25T14:01:40.529Z"
   },
   {
    "duration": 3581,
    "start_time": "2023-06-25T14:01:41.138Z"
   },
   {
    "duration": 4,
    "start_time": "2023-06-25T14:01:44.721Z"
   },
   {
    "duration": 107,
    "start_time": "2023-06-25T14:01:44.727Z"
   },
   {
    "duration": 3,
    "start_time": "2023-06-25T14:01:44.837Z"
   },
   {
    "duration": 69,
    "start_time": "2023-06-25T14:01:44.855Z"
   },
   {
    "duration": 40,
    "start_time": "2023-06-25T14:01:44.927Z"
   },
   {
    "duration": 1959000,
    "start_time": "2023-06-25T14:01:44.969Z"
   },
   {
    "duration": 984,
    "start_time": "2023-06-25T14:34:23.973Z"
   },
   {
    "duration": 12,
    "start_time": "2023-06-25T14:34:24.960Z"
   },
   {
    "duration": 601,
    "start_time": "2023-06-25T14:34:24.975Z"
   },
   {
    "duration": 203,
    "start_time": "2023-06-25T14:34:25.578Z"
   },
   {
    "duration": 72,
    "start_time": "2023-06-25T14:34:25.787Z"
   },
   {
    "duration": 1442,
    "start_time": "2023-06-25T14:34:25.861Z"
   },
   {
    "duration": 32,
    "start_time": "2023-06-25T14:34:27.306Z"
   },
   {
    "duration": 5,
    "start_time": "2023-06-25T14:34:27.340Z"
   },
   {
    "duration": 3486,
    "start_time": "2023-06-25T14:34:27.349Z"
   },
   {
    "duration": 3211,
    "start_time": "2023-06-25T14:45:44.110Z"
   },
   {
    "duration": 4,
    "start_time": "2023-06-25T14:54:38.694Z"
   },
   {
    "duration": 62,
    "start_time": "2023-06-25T14:54:39.282Z"
   },
   {
    "duration": 9,
    "start_time": "2023-06-25T14:55:32.029Z"
   },
   {
    "duration": 16,
    "start_time": "2023-06-25T14:55:39.047Z"
   },
   {
    "duration": 4,
    "start_time": "2023-06-25T14:57:26.276Z"
   },
   {
    "duration": 70,
    "start_time": "2023-06-25T14:57:26.885Z"
   },
   {
    "duration": 8,
    "start_time": "2023-06-25T14:59:00.915Z"
   },
   {
    "duration": 49,
    "start_time": "2023-06-26T14:23:53.993Z"
   },
   {
    "duration": 6,
    "start_time": "2023-06-26T14:31:09.717Z"
   },
   {
    "duration": 1306,
    "start_time": "2023-06-26T14:32:14.121Z"
   },
   {
    "duration": 1088,
    "start_time": "2023-06-26T14:32:15.429Z"
   },
   {
    "duration": 19,
    "start_time": "2023-06-26T14:32:16.519Z"
   },
   {
    "duration": 484,
    "start_time": "2023-06-26T14:32:16.540Z"
   },
   {
    "duration": 974,
    "start_time": "2023-06-26T14:32:17.027Z"
   },
   {
    "duration": 38,
    "start_time": "2023-06-26T14:32:18.003Z"
   },
   {
    "duration": 11,
    "start_time": "2023-06-26T14:32:18.054Z"
   },
   {
    "duration": 109,
    "start_time": "2023-06-26T14:32:18.066Z"
   },
   {
    "duration": 105,
    "start_time": "2023-06-26T14:32:18.176Z"
   },
   {
    "duration": 107,
    "start_time": "2023-06-26T14:32:18.283Z"
   },
   {
    "duration": 613,
    "start_time": "2023-06-26T14:32:18.392Z"
   },
   {
    "duration": 69,
    "start_time": "2023-06-26T14:32:19.006Z"
   },
   {
    "duration": 17,
    "start_time": "2023-06-26T14:32:19.077Z"
   },
   {
    "duration": 55,
    "start_time": "2023-06-26T14:32:19.097Z"
   },
   {
    "duration": 79,
    "start_time": "2023-06-26T14:32:19.154Z"
   },
   {
    "duration": 77,
    "start_time": "2023-06-26T14:32:19.235Z"
   },
   {
    "duration": 7,
    "start_time": "2023-06-26T14:32:19.313Z"
   },
   {
    "duration": 112,
    "start_time": "2023-06-26T14:32:19.321Z"
   },
   {
    "duration": 61,
    "start_time": "2023-06-26T14:32:19.435Z"
   },
   {
    "duration": 285,
    "start_time": "2023-06-26T14:32:19.497Z"
   },
   {
    "duration": 85,
    "start_time": "2023-06-26T14:32:19.784Z"
   },
   {
    "duration": 14,
    "start_time": "2023-06-26T14:32:19.871Z"
   },
   {
    "duration": 108,
    "start_time": "2023-06-26T14:32:19.887Z"
   },
   {
    "duration": 240,
    "start_time": "2023-06-26T14:32:19.997Z"
   },
   {
    "duration": 58,
    "start_time": "2023-06-26T14:32:20.239Z"
   },
   {
    "duration": 343,
    "start_time": "2023-06-26T14:32:20.299Z"
   },
   {
    "duration": 244,
    "start_time": "2023-06-26T14:32:20.644Z"
   },
   {
    "duration": 19,
    "start_time": "2023-06-26T14:32:20.890Z"
   },
   {
    "duration": 33,
    "start_time": "2023-06-26T14:32:20.911Z"
   },
   {
    "duration": 302,
    "start_time": "2023-06-26T14:32:20.946Z"
   },
   {
    "duration": 52,
    "start_time": "2023-06-26T14:32:21.250Z"
   },
   {
    "duration": 95,
    "start_time": "2023-06-26T14:32:21.304Z"
   },
   {
    "duration": 18,
    "start_time": "2023-06-26T14:32:21.401Z"
   },
   {
    "duration": 80,
    "start_time": "2023-06-26T14:32:21.421Z"
   },
   {
    "duration": 10,
    "start_time": "2023-06-26T14:32:21.503Z"
   },
   {
    "duration": 93,
    "start_time": "2023-06-26T14:32:21.515Z"
   },
   {
    "duration": 0,
    "start_time": "2023-06-26T14:32:21.611Z"
   },
   {
    "duration": 0,
    "start_time": "2023-06-26T14:32:21.612Z"
   },
   {
    "duration": 0,
    "start_time": "2023-06-26T14:32:21.613Z"
   },
   {
    "duration": 0,
    "start_time": "2023-06-26T14:32:21.614Z"
   },
   {
    "duration": 0,
    "start_time": "2023-06-26T14:32:21.616Z"
   },
   {
    "duration": 0,
    "start_time": "2023-06-26T14:32:21.617Z"
   },
   {
    "duration": 0,
    "start_time": "2023-06-26T14:32:21.618Z"
   },
   {
    "duration": 0,
    "start_time": "2023-06-26T14:32:21.619Z"
   },
   {
    "duration": 0,
    "start_time": "2023-06-26T14:32:21.619Z"
   },
   {
    "duration": 0,
    "start_time": "2023-06-26T14:32:21.620Z"
   },
   {
    "duration": 0,
    "start_time": "2023-06-26T14:32:21.622Z"
   },
   {
    "duration": 0,
    "start_time": "2023-06-26T14:32:21.623Z"
   },
   {
    "duration": 0,
    "start_time": "2023-06-26T14:32:21.625Z"
   },
   {
    "duration": 0,
    "start_time": "2023-06-26T14:32:21.626Z"
   },
   {
    "duration": 0,
    "start_time": "2023-06-26T14:32:21.627Z"
   },
   {
    "duration": 0,
    "start_time": "2023-06-26T14:32:21.629Z"
   },
   {
    "duration": 0,
    "start_time": "2023-06-26T14:32:21.630Z"
   },
   {
    "duration": 1,
    "start_time": "2023-06-26T14:32:21.631Z"
   },
   {
    "duration": 0,
    "start_time": "2023-06-26T14:32:21.632Z"
   },
   {
    "duration": 0,
    "start_time": "2023-06-26T14:32:21.633Z"
   },
   {
    "duration": 0,
    "start_time": "2023-06-26T14:32:21.635Z"
   },
   {
    "duration": 0,
    "start_time": "2023-06-26T14:32:21.636Z"
   },
   {
    "duration": 0,
    "start_time": "2023-06-26T14:32:21.637Z"
   },
   {
    "duration": 0,
    "start_time": "2023-06-26T14:32:21.638Z"
   },
   {
    "duration": 0,
    "start_time": "2023-06-26T14:32:21.639Z"
   },
   {
    "duration": 0,
    "start_time": "2023-06-26T14:32:21.640Z"
   },
   {
    "duration": 12,
    "start_time": "2023-06-26T14:32:33.277Z"
   },
   {
    "duration": 36,
    "start_time": "2023-06-26T14:32:34.896Z"
   },
   {
    "duration": 33,
    "start_time": "2023-06-26T14:32:39.202Z"
   },
   {
    "duration": 94,
    "start_time": "2023-06-26T14:32:41.517Z"
   },
   {
    "duration": 6,
    "start_time": "2023-06-26T15:46:22.509Z"
   },
   {
    "duration": 45,
    "start_time": "2023-06-26T15:46:26.763Z"
   },
   {
    "duration": 24,
    "start_time": "2023-06-26T16:13:15.608Z"
   },
   {
    "duration": 5,
    "start_time": "2023-06-26T16:13:48.020Z"
   },
   {
    "duration": 8,
    "start_time": "2023-06-26T16:13:51.969Z"
   },
   {
    "duration": 1147,
    "start_time": "2023-06-27T07:34:20.549Z"
   },
   {
    "duration": 869,
    "start_time": "2023-06-27T07:34:21.698Z"
   },
   {
    "duration": 16,
    "start_time": "2023-06-27T07:34:22.568Z"
   },
   {
    "duration": 340,
    "start_time": "2023-06-27T07:34:22.586Z"
   },
   {
    "duration": 756,
    "start_time": "2023-06-27T07:34:22.927Z"
   },
   {
    "duration": 42,
    "start_time": "2023-06-27T07:34:23.685Z"
   },
   {
    "duration": 20,
    "start_time": "2023-06-27T07:34:23.729Z"
   },
   {
    "duration": 101,
    "start_time": "2023-06-27T07:34:23.750Z"
   },
   {
    "duration": 97,
    "start_time": "2023-06-27T07:34:23.853Z"
   },
   {
    "duration": 104,
    "start_time": "2023-06-27T07:34:23.952Z"
   },
   {
    "duration": 545,
    "start_time": "2023-06-27T07:34:24.058Z"
   },
   {
    "duration": 47,
    "start_time": "2023-06-27T07:34:24.605Z"
   },
   {
    "duration": 16,
    "start_time": "2023-06-27T07:34:24.654Z"
   },
   {
    "duration": 50,
    "start_time": "2023-06-27T07:34:24.671Z"
   },
   {
    "duration": 66,
    "start_time": "2023-06-27T07:34:24.722Z"
   },
   {
    "duration": 59,
    "start_time": "2023-06-27T07:34:24.800Z"
   },
   {
    "duration": 8,
    "start_time": "2023-06-27T07:34:24.860Z"
   },
   {
    "duration": 89,
    "start_time": "2023-06-27T07:34:24.870Z"
   },
   {
    "duration": 56,
    "start_time": "2023-06-27T07:34:24.961Z"
   },
   {
    "duration": 254,
    "start_time": "2023-06-27T07:34:25.019Z"
   },
   {
    "duration": 75,
    "start_time": "2023-06-27T07:34:25.275Z"
   },
   {
    "duration": 11,
    "start_time": "2023-06-27T07:34:25.351Z"
   },
   {
    "duration": 97,
    "start_time": "2023-06-27T07:34:25.363Z"
   },
   {
    "duration": 204,
    "start_time": "2023-06-27T07:34:25.461Z"
   },
   {
    "duration": 51,
    "start_time": "2023-06-27T07:34:25.667Z"
   },
   {
    "duration": 324,
    "start_time": "2023-06-27T07:34:25.719Z"
   },
   {
    "duration": 250,
    "start_time": "2023-06-27T07:34:26.045Z"
   },
   {
    "duration": 13,
    "start_time": "2023-06-27T07:34:26.299Z"
   },
   {
    "duration": 14,
    "start_time": "2023-06-27T07:34:26.313Z"
   },
   {
    "duration": 256,
    "start_time": "2023-06-27T07:34:26.329Z"
   },
   {
    "duration": 48,
    "start_time": "2023-06-27T07:34:26.587Z"
   },
   {
    "duration": 68,
    "start_time": "2023-06-27T07:34:26.637Z"
   },
   {
    "duration": 3,
    "start_time": "2023-06-27T07:34:26.706Z"
   },
   {
    "duration": 47,
    "start_time": "2023-06-27T07:34:26.710Z"
   },
   {
    "duration": 10,
    "start_time": "2023-06-27T07:34:26.758Z"
   },
   {
    "duration": 26,
    "start_time": "2023-06-27T07:34:26.769Z"
   },
   {
    "duration": 56,
    "start_time": "2023-06-27T07:34:26.797Z"
   },
   {
    "duration": 24,
    "start_time": "2023-06-27T07:34:26.855Z"
   },
   {
    "duration": 5,
    "start_time": "2023-06-27T07:34:26.880Z"
   },
   {
    "duration": 120,
    "start_time": "2023-06-27T07:34:26.886Z"
   },
   {
    "duration": 0,
    "start_time": "2023-06-27T07:34:27.007Z"
   },
   {
    "duration": 0,
    "start_time": "2023-06-27T07:34:27.008Z"
   },
   {
    "duration": 0,
    "start_time": "2023-06-27T07:34:27.009Z"
   },
   {
    "duration": 0,
    "start_time": "2023-06-27T07:34:27.010Z"
   },
   {
    "duration": 0,
    "start_time": "2023-06-27T07:34:27.011Z"
   },
   {
    "duration": 0,
    "start_time": "2023-06-27T07:34:27.012Z"
   },
   {
    "duration": 0,
    "start_time": "2023-06-27T07:34:27.013Z"
   },
   {
    "duration": 0,
    "start_time": "2023-06-27T07:34:27.014Z"
   },
   {
    "duration": 0,
    "start_time": "2023-06-27T07:34:27.014Z"
   },
   {
    "duration": 0,
    "start_time": "2023-06-27T07:34:27.015Z"
   },
   {
    "duration": 0,
    "start_time": "2023-06-27T07:34:27.016Z"
   },
   {
    "duration": 0,
    "start_time": "2023-06-27T07:34:27.017Z"
   },
   {
    "duration": 0,
    "start_time": "2023-06-27T07:34:27.018Z"
   },
   {
    "duration": 0,
    "start_time": "2023-06-27T07:34:27.018Z"
   },
   {
    "duration": 0,
    "start_time": "2023-06-27T07:34:27.019Z"
   },
   {
    "duration": 0,
    "start_time": "2023-06-27T07:34:27.020Z"
   },
   {
    "duration": 0,
    "start_time": "2023-06-27T07:34:27.020Z"
   },
   {
    "duration": 0,
    "start_time": "2023-06-27T07:34:27.021Z"
   },
   {
    "duration": 0,
    "start_time": "2023-06-27T07:34:27.022Z"
   },
   {
    "duration": 0,
    "start_time": "2023-06-27T07:34:27.022Z"
   },
   {
    "duration": 0,
    "start_time": "2023-06-27T07:34:27.023Z"
   },
   {
    "duration": 0,
    "start_time": "2023-06-27T07:34:27.024Z"
   },
   {
    "duration": 0,
    "start_time": "2023-06-27T07:34:27.026Z"
   },
   {
    "duration": 4,
    "start_time": "2023-06-27T07:35:13.956Z"
   },
   {
    "duration": 8,
    "start_time": "2023-06-27T07:35:53.532Z"
   },
   {
    "duration": 38,
    "start_time": "2023-06-27T07:38:20.316Z"
   },
   {
    "duration": 3,
    "start_time": "2023-06-27T07:44:48.158Z"
   },
   {
    "duration": 21,
    "start_time": "2023-06-27T07:44:52.890Z"
   },
   {
    "duration": 3,
    "start_time": "2023-06-27T07:45:12.631Z"
   },
   {
    "duration": 19,
    "start_time": "2023-06-27T07:45:15.981Z"
   },
   {
    "duration": 4,
    "start_time": "2023-06-27T07:45:42.955Z"
   },
   {
    "duration": 520,
    "start_time": "2023-06-27T07:45:44.390Z"
   },
   {
    "duration": 4,
    "start_time": "2023-06-27T07:46:27.717Z"
   },
   {
    "duration": 535,
    "start_time": "2023-06-27T07:46:28.721Z"
   },
   {
    "duration": 3,
    "start_time": "2023-06-27T07:47:09.863Z"
   },
   {
    "duration": 557,
    "start_time": "2023-06-27T07:47:10.929Z"
   },
   {
    "duration": 3,
    "start_time": "2023-06-27T07:48:12.939Z"
   },
   {
    "duration": 838,
    "start_time": "2023-06-27T07:48:14.385Z"
   },
   {
    "duration": 1034,
    "start_time": "2023-06-27T07:51:00.732Z"
   },
   {
    "duration": 13,
    "start_time": "2023-06-27T07:51:56.031Z"
   },
   {
    "duration": 3,
    "start_time": "2023-06-27T07:52:21.565Z"
   },
   {
    "duration": 843,
    "start_time": "2023-06-27T07:52:40.090Z"
   },
   {
    "duration": 3,
    "start_time": "2023-06-27T07:52:43.781Z"
   },
   {
    "duration": 3,
    "start_time": "2023-06-27T07:52:44.253Z"
   },
   {
    "duration": 3,
    "start_time": "2023-06-27T07:52:46.647Z"
   },
   {
    "duration": 909,
    "start_time": "2023-06-27T07:54:21.587Z"
   },
   {
    "duration": 893,
    "start_time": "2023-06-27T07:54:22.497Z"
   },
   {
    "duration": 919,
    "start_time": "2023-06-27T07:54:23.392Z"
   },
   {
    "duration": 4,
    "start_time": "2023-06-27T07:57:22.627Z"
   },
   {
    "duration": 87,
    "start_time": "2023-06-27T08:00:29.062Z"
   },
   {
    "duration": 994,
    "start_time": "2023-06-27T08:00:37.988Z"
   },
   {
    "duration": 1072,
    "start_time": "2023-06-27T08:03:03.034Z"
   },
   {
    "duration": 1049,
    "start_time": "2023-06-27T08:03:04.108Z"
   },
   {
    "duration": 1123,
    "start_time": "2023-06-27T08:03:05.159Z"
   },
   {
    "duration": 1047,
    "start_time": "2023-06-27T08:03:06.284Z"
   },
   {
    "duration": 17,
    "start_time": "2023-06-27T08:03:26.975Z"
   },
   {
    "duration": 10,
    "start_time": "2023-06-27T08:04:13.443Z"
   },
   {
    "duration": 12,
    "start_time": "2023-06-27T08:04:30.746Z"
   },
   {
    "duration": 9,
    "start_time": "2023-06-27T08:06:53.864Z"
   },
   {
    "duration": 18,
    "start_time": "2023-06-27T08:07:01.731Z"
   },
   {
    "duration": 15,
    "start_time": "2023-06-27T08:07:29.035Z"
   },
   {
    "duration": 4,
    "start_time": "2023-06-27T08:12:53.799Z"
   },
   {
    "duration": 5,
    "start_time": "2023-06-27T08:22:09.671Z"
   },
   {
    "duration": 898,
    "start_time": "2023-06-27T08:22:33.438Z"
   },
   {
    "duration": 975,
    "start_time": "2023-06-27T08:22:34.338Z"
   },
   {
    "duration": 1028,
    "start_time": "2023-06-27T08:22:35.314Z"
   },
   {
    "duration": 975,
    "start_time": "2023-06-27T08:22:37.333Z"
   },
   {
    "duration": 15,
    "start_time": "2023-06-27T08:22:50.781Z"
   },
   {
    "duration": 18,
    "start_time": "2023-06-27T08:22:58.853Z"
   },
   {
    "duration": 4,
    "start_time": "2023-06-27T08:23:35.539Z"
   },
   {
    "duration": 937,
    "start_time": "2023-06-27T08:23:43.727Z"
   },
   {
    "duration": 988,
    "start_time": "2023-06-27T08:23:44.776Z"
   },
   {
    "duration": 902,
    "start_time": "2023-06-27T08:27:58.792Z"
   },
   {
    "duration": 3,
    "start_time": "2023-06-27T08:28:04.567Z"
   },
   {
    "duration": 45,
    "start_time": "2023-06-27T08:28:06.536Z"
   },
   {
    "duration": 9,
    "start_time": "2023-06-27T08:28:53.470Z"
   },
   {
    "duration": 13,
    "start_time": "2023-06-27T08:29:09.710Z"
   },
   {
    "duration": 4,
    "start_time": "2023-06-27T08:30:15.740Z"
   },
   {
    "duration": 12,
    "start_time": "2023-06-27T08:30:20.948Z"
   },
   {
    "duration": 2,
    "start_time": "2023-06-27T08:30:43.847Z"
   },
   {
    "duration": 19,
    "start_time": "2023-06-27T08:30:47.385Z"
   },
   {
    "duration": 5,
    "start_time": "2023-06-27T08:32:09.517Z"
   },
   {
    "duration": 19,
    "start_time": "2023-06-27T08:33:12.843Z"
   },
   {
    "duration": 22,
    "start_time": "2023-06-27T08:34:53.818Z"
   },
   {
    "duration": 3,
    "start_time": "2023-06-27T08:35:00.816Z"
   },
   {
    "duration": 20,
    "start_time": "2023-06-27T08:35:03.658Z"
   },
   {
    "duration": 4,
    "start_time": "2023-06-27T08:35:26.610Z"
   },
   {
    "duration": 21,
    "start_time": "2023-06-27T08:35:49.846Z"
   },
   {
    "duration": 9,
    "start_time": "2023-06-27T08:37:40.639Z"
   },
   {
    "duration": 4,
    "start_time": "2023-06-27T08:37:48.913Z"
   },
   {
    "duration": 33,
    "start_time": "2023-06-27T08:37:51.766Z"
   },
   {
    "duration": 1265,
    "start_time": "2023-06-27T08:38:27.915Z"
   },
   {
    "duration": 24,
    "start_time": "2023-06-27T08:38:51.927Z"
   },
   {
    "duration": 27,
    "start_time": "2023-06-27T08:38:54.931Z"
   },
   {
    "duration": 36,
    "start_time": "2023-06-27T08:38:55.545Z"
   },
   {
    "duration": 39,
    "start_time": "2023-06-27T08:38:56.051Z"
   },
   {
    "duration": 15,
    "start_time": "2023-06-27T08:39:42.030Z"
   },
   {
    "duration": 33,
    "start_time": "2023-06-27T08:44:00.915Z"
   },
   {
    "duration": 40,
    "start_time": "2023-06-27T08:45:22.531Z"
   },
   {
    "duration": 32,
    "start_time": "2023-06-27T08:46:22.627Z"
   },
   {
    "duration": 14,
    "start_time": "2023-06-27T08:46:33.925Z"
   },
   {
    "duration": 1133,
    "start_time": "2023-06-27T08:47:27.815Z"
   },
   {
    "duration": 667,
    "start_time": "2023-06-27T08:47:28.950Z"
   },
   {
    "duration": 16,
    "start_time": "2023-06-27T08:47:29.619Z"
   },
   {
    "duration": 357,
    "start_time": "2023-06-27T08:47:29.636Z"
   },
   {
    "duration": 730,
    "start_time": "2023-06-27T08:47:29.995Z"
   },
   {
    "duration": 34,
    "start_time": "2023-06-27T08:47:30.726Z"
   },
   {
    "duration": 55,
    "start_time": "2023-06-27T08:47:30.761Z"
   },
   {
    "duration": 104,
    "start_time": "2023-06-27T08:47:30.817Z"
   },
   {
    "duration": 118,
    "start_time": "2023-06-27T08:47:30.922Z"
   },
   {
    "duration": 122,
    "start_time": "2023-06-27T08:47:31.042Z"
   },
   {
    "duration": 345,
    "start_time": "2023-06-27T08:47:31.165Z"
   },
   {
    "duration": 39,
    "start_time": "2023-06-27T08:47:31.511Z"
   },
   {
    "duration": 15,
    "start_time": "2023-06-27T08:47:31.551Z"
   },
   {
    "duration": 53,
    "start_time": "2023-06-27T08:47:31.570Z"
   },
   {
    "duration": 68,
    "start_time": "2023-06-27T08:47:31.624Z"
   },
   {
    "duration": 59,
    "start_time": "2023-06-27T08:47:31.693Z"
   },
   {
    "duration": 6,
    "start_time": "2023-06-27T08:47:31.754Z"
   },
   {
    "duration": 87,
    "start_time": "2023-06-27T08:47:31.762Z"
   },
   {
    "duration": 45,
    "start_time": "2023-06-27T08:47:31.850Z"
   },
   {
    "duration": 215,
    "start_time": "2023-06-27T08:47:31.896Z"
   },
   {
    "duration": 53,
    "start_time": "2023-06-27T08:47:32.112Z"
   },
   {
    "duration": 9,
    "start_time": "2023-06-27T08:47:32.167Z"
   },
   {
    "duration": 81,
    "start_time": "2023-06-27T08:47:32.177Z"
   },
   {
    "duration": 179,
    "start_time": "2023-06-27T08:47:32.259Z"
   },
   {
    "duration": 37,
    "start_time": "2023-06-27T08:47:32.440Z"
   },
   {
    "duration": 213,
    "start_time": "2023-06-27T08:47:32.478Z"
   },
   {
    "duration": 186,
    "start_time": "2023-06-27T08:47:32.692Z"
   },
   {
    "duration": 19,
    "start_time": "2023-06-27T08:47:32.880Z"
   },
   {
    "duration": 16,
    "start_time": "2023-06-27T08:47:32.901Z"
   },
   {
    "duration": 249,
    "start_time": "2023-06-27T08:47:32.918Z"
   },
   {
    "duration": 46,
    "start_time": "2023-06-27T08:47:33.168Z"
   },
   {
    "duration": 56,
    "start_time": "2023-06-27T08:47:33.215Z"
   },
   {
    "duration": 3,
    "start_time": "2023-06-27T08:47:33.272Z"
   },
   {
    "duration": 58,
    "start_time": "2023-06-27T08:47:33.276Z"
   },
   {
    "duration": 10,
    "start_time": "2023-06-27T08:47:33.335Z"
   },
   {
    "duration": 14,
    "start_time": "2023-06-27T08:47:33.346Z"
   },
   {
    "duration": 31,
    "start_time": "2023-06-27T08:47:33.361Z"
   },
   {
    "duration": 26,
    "start_time": "2023-06-27T08:47:33.393Z"
   },
   {
    "duration": 3,
    "start_time": "2023-06-27T08:47:33.421Z"
   },
   {
    "duration": 14,
    "start_time": "2023-06-27T08:47:33.426Z"
   },
   {
    "duration": 82,
    "start_time": "2023-06-27T08:47:33.443Z"
   },
   {
    "duration": 23,
    "start_time": "2023-06-27T08:47:33.527Z"
   },
   {
    "duration": 28,
    "start_time": "2023-06-27T08:47:33.552Z"
   },
   {
    "duration": 37,
    "start_time": "2023-06-27T08:47:33.581Z"
   },
   {
    "duration": 16,
    "start_time": "2023-06-27T08:47:33.620Z"
   },
   {
    "duration": 429,
    "start_time": "2023-06-27T08:47:33.637Z"
   },
   {
    "duration": 10,
    "start_time": "2023-06-27T08:47:34.067Z"
   },
   {
    "duration": 30,
    "start_time": "2023-06-27T08:47:34.078Z"
   },
   {
    "duration": 17,
    "start_time": "2023-06-27T08:47:34.109Z"
   },
   {
    "duration": 240,
    "start_time": "2023-06-27T08:47:34.127Z"
   },
   {
    "duration": 341,
    "start_time": "2023-06-27T08:47:34.369Z"
   },
   {
    "duration": 2606,
    "start_time": "2023-06-27T08:47:34.711Z"
   },
   {
    "duration": 2,
    "start_time": "2023-06-27T08:47:37.319Z"
   },
   {
    "duration": 154,
    "start_time": "2023-06-27T08:47:37.322Z"
   },
   {
    "duration": 0,
    "start_time": "2023-06-27T08:47:37.477Z"
   },
   {
    "duration": 0,
    "start_time": "2023-06-27T08:47:37.478Z"
   },
   {
    "duration": 0,
    "start_time": "2023-06-27T08:47:37.479Z"
   },
   {
    "duration": 0,
    "start_time": "2023-06-27T08:47:37.480Z"
   },
   {
    "duration": 0,
    "start_time": "2023-06-27T08:47:37.480Z"
   },
   {
    "duration": 0,
    "start_time": "2023-06-27T08:47:37.481Z"
   },
   {
    "duration": 0,
    "start_time": "2023-06-27T08:47:37.482Z"
   },
   {
    "duration": 0,
    "start_time": "2023-06-27T08:47:37.483Z"
   },
   {
    "duration": 0,
    "start_time": "2023-06-27T08:47:37.484Z"
   },
   {
    "duration": 0,
    "start_time": "2023-06-27T08:47:37.484Z"
   },
   {
    "duration": 20,
    "start_time": "2023-06-27T08:50:42.314Z"
   },
   {
    "duration": 27,
    "start_time": "2023-06-27T08:51:43.869Z"
   },
   {
    "duration": 24,
    "start_time": "2023-06-27T08:55:08.748Z"
   },
   {
    "duration": 12,
    "start_time": "2023-06-27T08:55:38.431Z"
   },
   {
    "duration": 1660,
    "start_time": "2023-06-27T08:56:06.113Z"
   },
   {
    "duration": 657,
    "start_time": "2023-06-27T08:56:07.775Z"
   },
   {
    "duration": 16,
    "start_time": "2023-06-27T08:56:08.433Z"
   },
   {
    "duration": 345,
    "start_time": "2023-06-27T08:56:08.451Z"
   },
   {
    "duration": 687,
    "start_time": "2023-06-27T08:56:08.799Z"
   },
   {
    "duration": 37,
    "start_time": "2023-06-27T08:56:09.487Z"
   },
   {
    "duration": 15,
    "start_time": "2023-06-27T08:56:09.525Z"
   },
   {
    "duration": 87,
    "start_time": "2023-06-27T08:56:09.542Z"
   },
   {
    "duration": 75,
    "start_time": "2023-06-27T08:56:09.630Z"
   },
   {
    "duration": 70,
    "start_time": "2023-06-27T08:56:09.707Z"
   },
   {
    "duration": 328,
    "start_time": "2023-06-27T08:56:09.778Z"
   },
   {
    "duration": 36,
    "start_time": "2023-06-27T08:56:10.107Z"
   },
   {
    "duration": 13,
    "start_time": "2023-06-27T08:56:10.144Z"
   },
   {
    "duration": 44,
    "start_time": "2023-06-27T08:56:10.158Z"
   },
   {
    "duration": 66,
    "start_time": "2023-06-27T08:56:10.203Z"
   },
   {
    "duration": 54,
    "start_time": "2023-06-27T08:56:10.271Z"
   },
   {
    "duration": 5,
    "start_time": "2023-06-27T08:56:10.326Z"
   },
   {
    "duration": 75,
    "start_time": "2023-06-27T08:56:10.333Z"
   },
   {
    "duration": 45,
    "start_time": "2023-06-27T08:56:10.409Z"
   },
   {
    "duration": 219,
    "start_time": "2023-06-27T08:56:10.455Z"
   },
   {
    "duration": 60,
    "start_time": "2023-06-27T08:56:10.675Z"
   },
   {
    "duration": 9,
    "start_time": "2023-06-27T08:56:10.737Z"
   },
   {
    "duration": 86,
    "start_time": "2023-06-27T08:56:10.748Z"
   },
   {
    "duration": 165,
    "start_time": "2023-06-27T08:56:10.836Z"
   },
   {
    "duration": 39,
    "start_time": "2023-06-27T08:56:11.003Z"
   },
   {
    "duration": 202,
    "start_time": "2023-06-27T08:56:11.043Z"
   },
   {
    "duration": 191,
    "start_time": "2023-06-27T08:56:11.246Z"
   },
   {
    "duration": 13,
    "start_time": "2023-06-27T08:56:11.440Z"
   },
   {
    "duration": 17,
    "start_time": "2023-06-27T08:56:11.454Z"
   },
   {
    "duration": 220,
    "start_time": "2023-06-27T08:56:11.472Z"
   },
   {
    "duration": 46,
    "start_time": "2023-06-27T08:56:11.694Z"
   },
   {
    "duration": 65,
    "start_time": "2023-06-27T08:56:11.741Z"
   },
   {
    "duration": 2,
    "start_time": "2023-06-27T08:56:11.808Z"
   },
   {
    "duration": 61,
    "start_time": "2023-06-27T08:56:11.812Z"
   },
   {
    "duration": 13,
    "start_time": "2023-06-27T08:56:11.874Z"
   },
   {
    "duration": 10,
    "start_time": "2023-06-27T08:56:11.899Z"
   },
   {
    "duration": 30,
    "start_time": "2023-06-27T08:56:11.911Z"
   },
   {
    "duration": 24,
    "start_time": "2023-06-27T08:56:11.943Z"
   },
   {
    "duration": 4,
    "start_time": "2023-06-27T08:56:11.968Z"
   },
   {
    "duration": 42,
    "start_time": "2023-06-27T08:56:11.973Z"
   },
   {
    "duration": 49,
    "start_time": "2023-06-27T08:56:12.017Z"
   },
   {
    "duration": 117,
    "start_time": "2023-06-27T08:56:12.067Z"
   },
   {
    "duration": 35,
    "start_time": "2023-06-27T08:56:12.185Z"
   },
   {
    "duration": 23,
    "start_time": "2023-06-27T08:56:12.221Z"
   },
   {
    "duration": 16,
    "start_time": "2023-06-27T08:56:12.246Z"
   },
   {
    "duration": 445,
    "start_time": "2023-06-27T08:56:12.264Z"
   },
   {
    "duration": 10,
    "start_time": "2023-06-27T08:56:12.711Z"
   },
   {
    "duration": 21,
    "start_time": "2023-06-27T08:56:12.722Z"
   },
   {
    "duration": 17,
    "start_time": "2023-06-27T08:56:12.744Z"
   },
   {
    "duration": 238,
    "start_time": "2023-06-27T08:56:12.762Z"
   },
   {
    "duration": 307,
    "start_time": "2023-06-27T08:56:13.001Z"
   },
   {
    "duration": 2585,
    "start_time": "2023-06-27T08:56:13.309Z"
   },
   {
    "duration": 3,
    "start_time": "2023-06-27T08:56:15.896Z"
   },
   {
    "duration": 170,
    "start_time": "2023-06-27T08:56:15.900Z"
   },
   {
    "duration": 0,
    "start_time": "2023-06-27T08:56:16.072Z"
   },
   {
    "duration": 0,
    "start_time": "2023-06-27T08:56:16.073Z"
   },
   {
    "duration": 0,
    "start_time": "2023-06-27T08:56:16.075Z"
   },
   {
    "duration": 0,
    "start_time": "2023-06-27T08:56:16.076Z"
   },
   {
    "duration": 0,
    "start_time": "2023-06-27T08:56:16.076Z"
   },
   {
    "duration": 0,
    "start_time": "2023-06-27T08:56:16.078Z"
   },
   {
    "duration": 0,
    "start_time": "2023-06-27T08:56:16.079Z"
   },
   {
    "duration": 0,
    "start_time": "2023-06-27T08:56:16.080Z"
   },
   {
    "duration": 0,
    "start_time": "2023-06-27T08:56:16.082Z"
   },
   {
    "duration": 0,
    "start_time": "2023-06-27T08:56:16.099Z"
   },
   {
    "duration": 14,
    "start_time": "2023-06-27T09:01:11.046Z"
   },
   {
    "duration": 1387,
    "start_time": "2023-06-27T09:01:28.108Z"
   },
   {
    "duration": 686,
    "start_time": "2023-06-27T09:01:29.497Z"
   },
   {
    "duration": 23,
    "start_time": "2023-06-27T09:01:30.185Z"
   },
   {
    "duration": 419,
    "start_time": "2023-06-27T09:01:30.209Z"
   },
   {
    "duration": 788,
    "start_time": "2023-06-27T09:01:30.630Z"
   },
   {
    "duration": 35,
    "start_time": "2023-06-27T09:01:31.419Z"
   },
   {
    "duration": 39,
    "start_time": "2023-06-27T09:01:31.455Z"
   },
   {
    "duration": 109,
    "start_time": "2023-06-27T09:01:31.496Z"
   },
   {
    "duration": 115,
    "start_time": "2023-06-27T09:01:31.607Z"
   },
   {
    "duration": 102,
    "start_time": "2023-06-27T09:01:31.723Z"
   },
   {
    "duration": 366,
    "start_time": "2023-06-27T09:01:31.826Z"
   },
   {
    "duration": 47,
    "start_time": "2023-06-27T09:01:32.193Z"
   },
   {
    "duration": 16,
    "start_time": "2023-06-27T09:01:32.243Z"
   },
   {
    "duration": 50,
    "start_time": "2023-06-27T09:01:32.262Z"
   },
   {
    "duration": 96,
    "start_time": "2023-06-27T09:01:32.314Z"
   },
   {
    "duration": 57,
    "start_time": "2023-06-27T09:01:32.412Z"
   },
   {
    "duration": 5,
    "start_time": "2023-06-27T09:01:32.471Z"
   },
   {
    "duration": 87,
    "start_time": "2023-06-27T09:01:32.478Z"
   },
   {
    "duration": 52,
    "start_time": "2023-06-27T09:01:32.567Z"
   },
   {
    "duration": 227,
    "start_time": "2023-06-27T09:01:32.621Z"
   },
   {
    "duration": 63,
    "start_time": "2023-06-27T09:01:32.850Z"
   },
   {
    "duration": 10,
    "start_time": "2023-06-27T09:01:32.914Z"
   },
   {
    "duration": 84,
    "start_time": "2023-06-27T09:01:32.925Z"
   },
   {
    "duration": 173,
    "start_time": "2023-06-27T09:01:33.010Z"
   },
   {
    "duration": 49,
    "start_time": "2023-06-27T09:01:33.185Z"
   },
   {
    "duration": 230,
    "start_time": "2023-06-27T09:01:33.236Z"
   },
   {
    "duration": 220,
    "start_time": "2023-06-27T09:01:33.468Z"
   },
   {
    "duration": 21,
    "start_time": "2023-06-27T09:01:33.690Z"
   },
   {
    "duration": 18,
    "start_time": "2023-06-27T09:01:33.713Z"
   },
   {
    "duration": 236,
    "start_time": "2023-06-27T09:01:33.733Z"
   },
   {
    "duration": 52,
    "start_time": "2023-06-27T09:01:33.970Z"
   },
   {
    "duration": 57,
    "start_time": "2023-06-27T09:01:34.024Z"
   },
   {
    "duration": 18,
    "start_time": "2023-06-27T09:01:34.082Z"
   },
   {
    "duration": 60,
    "start_time": "2023-06-27T09:01:34.101Z"
   },
   {
    "duration": 10,
    "start_time": "2023-06-27T09:01:34.163Z"
   },
   {
    "duration": 31,
    "start_time": "2023-06-27T09:01:34.175Z"
   },
   {
    "duration": 34,
    "start_time": "2023-06-27T09:01:34.208Z"
   },
   {
    "duration": 27,
    "start_time": "2023-06-27T09:01:34.244Z"
   },
   {
    "duration": 4,
    "start_time": "2023-06-27T09:01:34.272Z"
   },
   {
    "duration": 34,
    "start_time": "2023-06-27T09:01:34.277Z"
   },
   {
    "duration": 97,
    "start_time": "2023-06-27T09:01:34.314Z"
   },
   {
    "duration": 106,
    "start_time": "2023-06-27T09:01:34.413Z"
   },
   {
    "duration": 26,
    "start_time": "2023-06-27T09:01:34.520Z"
   },
   {
    "duration": 59,
    "start_time": "2023-06-27T09:01:34.548Z"
   },
   {
    "duration": 31,
    "start_time": "2023-06-27T09:01:34.609Z"
   },
   {
    "duration": 401,
    "start_time": "2023-06-27T09:01:34.642Z"
   },
   {
    "duration": 0,
    "start_time": "2023-06-27T09:01:35.045Z"
   },
   {
    "duration": 0,
    "start_time": "2023-06-27T09:01:35.046Z"
   },
   {
    "duration": 0,
    "start_time": "2023-06-27T09:01:35.048Z"
   },
   {
    "duration": 0,
    "start_time": "2023-06-27T09:01:35.049Z"
   },
   {
    "duration": 0,
    "start_time": "2023-06-27T09:01:35.050Z"
   },
   {
    "duration": 0,
    "start_time": "2023-06-27T09:01:35.052Z"
   },
   {
    "duration": 0,
    "start_time": "2023-06-27T09:01:35.053Z"
   },
   {
    "duration": 0,
    "start_time": "2023-06-27T09:01:35.055Z"
   },
   {
    "duration": 0,
    "start_time": "2023-06-27T09:01:35.056Z"
   },
   {
    "duration": 0,
    "start_time": "2023-06-27T09:01:35.057Z"
   },
   {
    "duration": 0,
    "start_time": "2023-06-27T09:01:35.059Z"
   },
   {
    "duration": 0,
    "start_time": "2023-06-27T09:01:35.060Z"
   },
   {
    "duration": 0,
    "start_time": "2023-06-27T09:01:35.061Z"
   },
   {
    "duration": 0,
    "start_time": "2023-06-27T09:01:35.062Z"
   },
   {
    "duration": 0,
    "start_time": "2023-06-27T09:01:35.064Z"
   },
   {
    "duration": 0,
    "start_time": "2023-06-27T09:01:35.065Z"
   },
   {
    "duration": 0,
    "start_time": "2023-06-27T09:01:35.100Z"
   },
   {
    "duration": 0,
    "start_time": "2023-06-27T09:01:35.101Z"
   },
   {
    "duration": 16,
    "start_time": "2023-06-27T09:02:34.011Z"
   },
   {
    "duration": 25,
    "start_time": "2023-06-27T09:06:35.297Z"
   },
   {
    "duration": 66,
    "start_time": "2023-06-27T09:08:03.651Z"
   },
   {
    "duration": 1191,
    "start_time": "2023-06-27T09:08:58.732Z"
   },
   {
    "duration": 710,
    "start_time": "2023-06-27T09:08:59.924Z"
   },
   {
    "duration": 18,
    "start_time": "2023-06-27T09:09:00.635Z"
   },
   {
    "duration": 420,
    "start_time": "2023-06-27T09:09:00.655Z"
   },
   {
    "duration": 846,
    "start_time": "2023-06-27T09:09:01.077Z"
   },
   {
    "duration": 34,
    "start_time": "2023-06-27T09:09:01.925Z"
   },
   {
    "duration": 40,
    "start_time": "2023-06-27T09:09:01.960Z"
   },
   {
    "duration": 118,
    "start_time": "2023-06-27T09:09:02.002Z"
   },
   {
    "duration": 122,
    "start_time": "2023-06-27T09:09:02.122Z"
   },
   {
    "duration": 99,
    "start_time": "2023-06-27T09:09:02.245Z"
   },
   {
    "duration": 469,
    "start_time": "2023-06-27T09:09:02.345Z"
   },
   {
    "duration": 39,
    "start_time": "2023-06-27T09:09:02.815Z"
   },
   {
    "duration": 15,
    "start_time": "2023-06-27T09:09:02.855Z"
   },
   {
    "duration": 34,
    "start_time": "2023-06-27T09:09:02.872Z"
   },
   {
    "duration": 64,
    "start_time": "2023-06-27T09:09:02.907Z"
   },
   {
    "duration": 57,
    "start_time": "2023-06-27T09:09:02.972Z"
   },
   {
    "duration": 27,
    "start_time": "2023-06-27T09:09:03.031Z"
   },
   {
    "duration": 85,
    "start_time": "2023-06-27T09:09:03.060Z"
   },
   {
    "duration": 46,
    "start_time": "2023-06-27T09:09:03.146Z"
   },
   {
    "duration": 225,
    "start_time": "2023-06-27T09:09:03.199Z"
   },
   {
    "duration": 58,
    "start_time": "2023-06-27T09:09:03.425Z"
   },
   {
    "duration": 24,
    "start_time": "2023-06-27T09:09:03.484Z"
   },
   {
    "duration": 93,
    "start_time": "2023-06-27T09:09:03.510Z"
   },
   {
    "duration": 177,
    "start_time": "2023-06-27T09:09:03.604Z"
   },
   {
    "duration": 48,
    "start_time": "2023-06-27T09:09:03.783Z"
   },
   {
    "duration": 214,
    "start_time": "2023-06-27T09:09:03.833Z"
   },
   {
    "duration": 201,
    "start_time": "2023-06-27T09:09:04.049Z"
   },
   {
    "duration": 15,
    "start_time": "2023-06-27T09:09:04.252Z"
   },
   {
    "duration": 33,
    "start_time": "2023-06-27T09:09:04.269Z"
   },
   {
    "duration": 219,
    "start_time": "2023-06-27T09:09:04.304Z"
   },
   {
    "duration": 49,
    "start_time": "2023-06-27T09:09:04.525Z"
   },
   {
    "duration": 67,
    "start_time": "2023-06-27T09:09:04.576Z"
   },
   {
    "duration": 2,
    "start_time": "2023-06-27T09:09:04.645Z"
   },
   {
    "duration": 62,
    "start_time": "2023-06-27T09:09:04.648Z"
   },
   {
    "duration": 14,
    "start_time": "2023-06-27T09:09:04.711Z"
   },
   {
    "duration": 17,
    "start_time": "2023-06-27T09:09:04.726Z"
   },
   {
    "duration": 31,
    "start_time": "2023-06-27T09:09:04.744Z"
   },
   {
    "duration": 37,
    "start_time": "2023-06-27T09:09:04.776Z"
   },
   {
    "duration": 4,
    "start_time": "2023-06-27T09:09:04.814Z"
   },
   {
    "duration": 99,
    "start_time": "2023-06-27T09:09:04.820Z"
   },
   {
    "duration": 120,
    "start_time": "2023-06-27T09:09:04.922Z"
   },
   {
    "duration": 149,
    "start_time": "2023-06-27T09:09:05.043Z"
   },
   {
    "duration": 26,
    "start_time": "2023-06-27T09:09:05.193Z"
   },
   {
    "duration": 54,
    "start_time": "2023-06-27T09:09:05.221Z"
   },
   {
    "duration": 339,
    "start_time": "2023-06-27T09:09:05.276Z"
   },
   {
    "duration": 0,
    "start_time": "2023-06-27T09:09:05.616Z"
   },
   {
    "duration": 0,
    "start_time": "2023-06-27T09:09:05.617Z"
   },
   {
    "duration": 0,
    "start_time": "2023-06-27T09:09:05.618Z"
   },
   {
    "duration": 0,
    "start_time": "2023-06-27T09:09:05.618Z"
   },
   {
    "duration": 0,
    "start_time": "2023-06-27T09:09:05.619Z"
   },
   {
    "duration": 0,
    "start_time": "2023-06-27T09:09:05.620Z"
   },
   {
    "duration": 0,
    "start_time": "2023-06-27T09:09:05.621Z"
   },
   {
    "duration": 0,
    "start_time": "2023-06-27T09:09:05.622Z"
   },
   {
    "duration": 0,
    "start_time": "2023-06-27T09:09:05.623Z"
   },
   {
    "duration": 0,
    "start_time": "2023-06-27T09:09:05.624Z"
   },
   {
    "duration": 0,
    "start_time": "2023-06-27T09:09:05.625Z"
   },
   {
    "duration": 0,
    "start_time": "2023-06-27T09:09:05.626Z"
   },
   {
    "duration": 0,
    "start_time": "2023-06-27T09:09:05.627Z"
   },
   {
    "duration": 0,
    "start_time": "2023-06-27T09:09:05.627Z"
   },
   {
    "duration": 0,
    "start_time": "2023-06-27T09:09:05.628Z"
   },
   {
    "duration": 0,
    "start_time": "2023-06-27T09:09:05.629Z"
   },
   {
    "duration": 0,
    "start_time": "2023-06-27T09:09:05.630Z"
   },
   {
    "duration": 0,
    "start_time": "2023-06-27T09:09:05.631Z"
   },
   {
    "duration": 60,
    "start_time": "2023-06-27T09:14:54.140Z"
   },
   {
    "duration": 1280,
    "start_time": "2023-06-27T09:18:13.263Z"
   },
   {
    "duration": 664,
    "start_time": "2023-06-27T09:18:14.545Z"
   },
   {
    "duration": 21,
    "start_time": "2023-06-27T09:18:15.211Z"
   },
   {
    "duration": 421,
    "start_time": "2023-06-27T09:18:15.235Z"
   },
   {
    "duration": 820,
    "start_time": "2023-06-27T09:18:15.658Z"
   },
   {
    "duration": 39,
    "start_time": "2023-06-27T09:18:16.479Z"
   },
   {
    "duration": 17,
    "start_time": "2023-06-27T09:18:16.519Z"
   },
   {
    "duration": 109,
    "start_time": "2023-06-27T09:18:16.538Z"
   },
   {
    "duration": 103,
    "start_time": "2023-06-27T09:18:16.649Z"
   },
   {
    "duration": 97,
    "start_time": "2023-06-27T09:18:16.754Z"
   },
   {
    "duration": 356,
    "start_time": "2023-06-27T09:18:16.852Z"
   },
   {
    "duration": 38,
    "start_time": "2023-06-27T09:18:17.209Z"
   },
   {
    "duration": 14,
    "start_time": "2023-06-27T09:18:17.249Z"
   },
   {
    "duration": 42,
    "start_time": "2023-06-27T09:18:17.264Z"
   },
   {
    "duration": 70,
    "start_time": "2023-06-27T09:18:17.307Z"
   },
   {
    "duration": 63,
    "start_time": "2023-06-27T09:18:17.379Z"
   },
   {
    "duration": 6,
    "start_time": "2023-06-27T09:18:17.443Z"
   },
   {
    "duration": 77,
    "start_time": "2023-06-27T09:18:17.450Z"
   },
   {
    "duration": 44,
    "start_time": "2023-06-27T09:18:17.529Z"
   },
   {
    "duration": 227,
    "start_time": "2023-06-27T09:18:17.575Z"
   },
   {
    "duration": 56,
    "start_time": "2023-06-27T09:18:17.803Z"
   },
   {
    "duration": 10,
    "start_time": "2023-06-27T09:18:17.860Z"
   },
   {
    "duration": 88,
    "start_time": "2023-06-27T09:18:17.872Z"
   },
   {
    "duration": 178,
    "start_time": "2023-06-27T09:18:17.961Z"
   },
   {
    "duration": 42,
    "start_time": "2023-06-27T09:18:18.141Z"
   },
   {
    "duration": 263,
    "start_time": "2023-06-27T09:18:18.185Z"
   },
   {
    "duration": 232,
    "start_time": "2023-06-27T09:18:18.450Z"
   },
   {
    "duration": 16,
    "start_time": "2023-06-27T09:18:18.685Z"
   },
   {
    "duration": 18,
    "start_time": "2023-06-27T09:18:18.702Z"
   },
   {
    "duration": 234,
    "start_time": "2023-06-27T09:18:18.721Z"
   },
   {
    "duration": 50,
    "start_time": "2023-06-27T09:18:18.957Z"
   },
   {
    "duration": 57,
    "start_time": "2023-06-27T09:18:19.009Z"
   },
   {
    "duration": 3,
    "start_time": "2023-06-27T09:18:19.067Z"
   },
   {
    "duration": 59,
    "start_time": "2023-06-27T09:18:19.071Z"
   },
   {
    "duration": 9,
    "start_time": "2023-06-27T09:18:19.132Z"
   },
   {
    "duration": 16,
    "start_time": "2023-06-27T09:18:19.142Z"
   },
   {
    "duration": 39,
    "start_time": "2023-06-27T09:18:19.160Z"
   },
   {
    "duration": 23,
    "start_time": "2023-06-27T09:18:19.200Z"
   },
   {
    "duration": 16,
    "start_time": "2023-06-27T09:18:19.224Z"
   },
   {
    "duration": 105,
    "start_time": "2023-06-27T09:18:19.241Z"
   },
   {
    "duration": 175,
    "start_time": "2023-06-27T09:18:19.348Z"
   },
   {
    "duration": 118,
    "start_time": "2023-06-27T09:18:19.525Z"
   },
   {
    "duration": 88,
    "start_time": "2023-06-27T09:18:19.645Z"
   },
   {
    "duration": 44,
    "start_time": "2023-06-27T09:18:19.735Z"
   },
   {
    "duration": 291,
    "start_time": "2023-06-27T09:18:19.781Z"
   },
   {
    "duration": 10,
    "start_time": "2023-06-27T09:18:20.074Z"
   },
   {
    "duration": 37,
    "start_time": "2023-06-27T09:18:20.085Z"
   },
   {
    "duration": 20,
    "start_time": "2023-06-27T09:18:20.123Z"
   },
   {
    "duration": 246,
    "start_time": "2023-06-27T09:18:20.144Z"
   },
   {
    "duration": 334,
    "start_time": "2023-06-27T09:18:20.391Z"
   },
   {
    "duration": 2725,
    "start_time": "2023-06-27T09:18:20.727Z"
   },
   {
    "duration": 2,
    "start_time": "2023-06-27T09:18:23.454Z"
   },
   {
    "duration": 152,
    "start_time": "2023-06-27T09:18:23.458Z"
   },
   {
    "duration": 0,
    "start_time": "2023-06-27T09:18:23.611Z"
   },
   {
    "duration": 0,
    "start_time": "2023-06-27T09:18:23.612Z"
   },
   {
    "duration": 0,
    "start_time": "2023-06-27T09:18:23.613Z"
   },
   {
    "duration": 0,
    "start_time": "2023-06-27T09:18:23.614Z"
   },
   {
    "duration": 0,
    "start_time": "2023-06-27T09:18:23.615Z"
   },
   {
    "duration": 0,
    "start_time": "2023-06-27T09:18:23.616Z"
   },
   {
    "duration": 0,
    "start_time": "2023-06-27T09:18:23.617Z"
   },
   {
    "duration": 0,
    "start_time": "2023-06-27T09:18:23.618Z"
   },
   {
    "duration": 0,
    "start_time": "2023-06-27T09:18:23.619Z"
   },
   {
    "duration": 0,
    "start_time": "2023-06-27T09:18:23.620Z"
   },
   {
    "duration": 21,
    "start_time": "2023-06-27T09:31:39.195Z"
   },
   {
    "duration": 2232,
    "start_time": "2023-06-27T09:31:39.751Z"
   },
   {
    "duration": 43,
    "start_time": "2023-06-27T09:31:46.901Z"
   },
   {
    "duration": 33,
    "start_time": "2023-06-27T15:26:30.898Z"
   },
   {
    "duration": 53,
    "start_time": "2023-06-27T15:27:46.139Z"
   },
   {
    "duration": 1230,
    "start_time": "2023-06-27T15:28:33.529Z"
   },
   {
    "duration": 863,
    "start_time": "2023-06-27T15:28:34.761Z"
   },
   {
    "duration": 22,
    "start_time": "2023-06-27T15:28:35.626Z"
   },
   {
    "duration": 498,
    "start_time": "2023-06-27T15:28:35.649Z"
   },
   {
    "duration": 998,
    "start_time": "2023-06-27T15:28:36.150Z"
   },
   {
    "duration": 51,
    "start_time": "2023-06-27T15:28:37.150Z"
   },
   {
    "duration": 12,
    "start_time": "2023-06-27T15:28:37.203Z"
   },
   {
    "duration": 106,
    "start_time": "2023-06-27T15:28:37.217Z"
   },
   {
    "duration": 94,
    "start_time": "2023-06-27T15:28:37.325Z"
   },
   {
    "duration": 102,
    "start_time": "2023-06-27T15:28:37.422Z"
   },
   {
    "duration": 424,
    "start_time": "2023-06-27T15:28:37.526Z"
   },
   {
    "duration": 58,
    "start_time": "2023-06-27T15:28:37.952Z"
   },
   {
    "duration": 17,
    "start_time": "2023-06-27T15:28:38.012Z"
   },
   {
    "duration": 36,
    "start_time": "2023-06-27T15:28:38.032Z"
   },
   {
    "duration": 96,
    "start_time": "2023-06-27T15:28:38.069Z"
   },
   {
    "duration": 79,
    "start_time": "2023-06-27T15:28:38.167Z"
   },
   {
    "duration": 8,
    "start_time": "2023-06-27T15:28:38.248Z"
   },
   {
    "duration": 95,
    "start_time": "2023-06-27T15:28:38.257Z"
   },
   {
    "duration": 60,
    "start_time": "2023-06-27T15:28:38.354Z"
   },
   {
    "duration": 271,
    "start_time": "2023-06-27T15:28:38.416Z"
   },
   {
    "duration": 75,
    "start_time": "2023-06-27T15:28:38.690Z"
   },
   {
    "duration": 14,
    "start_time": "2023-06-27T15:28:38.767Z"
   },
   {
    "duration": 88,
    "start_time": "2023-06-27T15:28:38.799Z"
   },
   {
    "duration": 210,
    "start_time": "2023-06-27T15:28:38.899Z"
   },
   {
    "duration": 47,
    "start_time": "2023-06-27T15:28:39.111Z"
   },
   {
    "duration": 254,
    "start_time": "2023-06-27T15:28:39.160Z"
   },
   {
    "duration": 240,
    "start_time": "2023-06-27T15:28:39.416Z"
   },
   {
    "duration": 17,
    "start_time": "2023-06-27T15:28:39.658Z"
   },
   {
    "duration": 24,
    "start_time": "2023-06-27T15:28:39.677Z"
   },
   {
    "duration": 264,
    "start_time": "2023-06-27T15:28:39.703Z"
   },
   {
    "duration": 65,
    "start_time": "2023-06-27T15:28:39.970Z"
   },
   {
    "duration": 490,
    "start_time": "2023-06-27T15:28:40.037Z"
   },
   {
    "duration": 3181,
    "start_time": "2023-06-27T15:28:40.529Z"
   },
   {
    "duration": 66,
    "start_time": "2023-06-27T15:28:43.711Z"
   },
   {
    "duration": 2,
    "start_time": "2023-06-27T15:28:43.779Z"
   },
   {
    "duration": 58,
    "start_time": "2023-06-27T15:28:43.800Z"
   },
   {
    "duration": 13,
    "start_time": "2023-06-27T15:28:43.861Z"
   },
   {
    "duration": 25,
    "start_time": "2023-06-27T15:28:43.876Z"
   },
   {
    "duration": 30,
    "start_time": "2023-06-27T15:28:43.903Z"
   },
   {
    "duration": 30,
    "start_time": "2023-06-27T15:28:43.935Z"
   },
   {
    "duration": 4,
    "start_time": "2023-06-27T15:28:43.970Z"
   },
   {
    "duration": 135,
    "start_time": "2023-06-27T15:28:43.976Z"
   },
   {
    "duration": 140,
    "start_time": "2023-06-27T15:28:44.113Z"
   },
   {
    "duration": 119,
    "start_time": "2023-06-27T15:28:44.255Z"
   },
   {
    "duration": 114,
    "start_time": "2023-06-27T15:28:44.375Z"
   },
   {
    "duration": 57,
    "start_time": "2023-06-27T15:28:44.491Z"
   },
   {
    "duration": 23,
    "start_time": "2023-06-27T15:28:44.550Z"
   },
   {
    "duration": 39,
    "start_time": "2023-06-27T15:28:44.575Z"
   },
   {
    "duration": 153,
    "start_time": "2023-06-27T15:28:44.616Z"
   },
   {
    "duration": 0,
    "start_time": "2023-06-27T15:28:44.771Z"
   },
   {
    "duration": 0,
    "start_time": "2023-06-27T15:28:44.772Z"
   },
   {
    "duration": 0,
    "start_time": "2023-06-27T15:28:44.773Z"
   },
   {
    "duration": 0,
    "start_time": "2023-06-27T15:28:44.774Z"
   },
   {
    "duration": 0,
    "start_time": "2023-06-27T15:28:44.775Z"
   },
   {
    "duration": 0,
    "start_time": "2023-06-27T15:28:44.776Z"
   },
   {
    "duration": 0,
    "start_time": "2023-06-27T15:28:44.778Z"
   },
   {
    "duration": 0,
    "start_time": "2023-06-27T15:28:44.779Z"
   },
   {
    "duration": 0,
    "start_time": "2023-06-27T15:28:44.780Z"
   },
   {
    "duration": 0,
    "start_time": "2023-06-27T15:28:44.781Z"
   },
   {
    "duration": 0,
    "start_time": "2023-06-27T15:28:44.782Z"
   },
   {
    "duration": 0,
    "start_time": "2023-06-27T15:28:44.799Z"
   },
   {
    "duration": 0,
    "start_time": "2023-06-27T15:28:44.801Z"
   },
   {
    "duration": 0,
    "start_time": "2023-06-27T15:28:44.802Z"
   },
   {
    "duration": 13,
    "start_time": "2023-06-27T15:34:34.927Z"
   },
   {
    "duration": 10,
    "start_time": "2023-06-27T15:34:40.742Z"
   },
   {
    "duration": 16,
    "start_time": "2023-06-27T15:34:41.435Z"
   },
   {
    "duration": 1523,
    "start_time": "2023-06-27T15:35:55.049Z"
   },
   {
    "duration": 31,
    "start_time": "2023-06-27T15:44:45.468Z"
   },
   {
    "duration": 25,
    "start_time": "2023-06-27T15:45:07.239Z"
   },
   {
    "duration": 178,
    "start_time": "2023-06-27T15:45:28.078Z"
   },
   {
    "duration": 1483,
    "start_time": "2023-06-27T16:33:13.087Z"
   },
   {
    "duration": 873,
    "start_time": "2023-06-27T16:33:14.572Z"
   },
   {
    "duration": 23,
    "start_time": "2023-06-27T16:33:15.447Z"
   },
   {
    "duration": 496,
    "start_time": "2023-06-27T16:33:15.472Z"
   },
   {
    "duration": 1102,
    "start_time": "2023-06-27T16:33:15.971Z"
   },
   {
    "duration": 45,
    "start_time": "2023-06-27T16:33:17.076Z"
   },
   {
    "duration": 13,
    "start_time": "2023-06-27T16:33:17.123Z"
   },
   {
    "duration": 119,
    "start_time": "2023-06-27T16:33:17.138Z"
   },
   {
    "duration": 89,
    "start_time": "2023-06-27T16:33:17.259Z"
   },
   {
    "duration": 109,
    "start_time": "2023-06-27T16:33:17.350Z"
   },
   {
    "duration": 431,
    "start_time": "2023-06-27T16:33:17.461Z"
   },
   {
    "duration": 49,
    "start_time": "2023-06-27T16:33:17.894Z"
   },
   {
    "duration": 16,
    "start_time": "2023-06-27T16:33:17.945Z"
   },
   {
    "duration": 52,
    "start_time": "2023-06-27T16:33:17.964Z"
   },
   {
    "duration": 82,
    "start_time": "2023-06-27T16:33:18.018Z"
   },
   {
    "duration": 75,
    "start_time": "2023-06-27T16:33:18.102Z"
   },
   {
    "duration": 25,
    "start_time": "2023-06-27T16:33:18.179Z"
   },
   {
    "duration": 101,
    "start_time": "2023-06-27T16:33:18.207Z"
   },
   {
    "duration": 62,
    "start_time": "2023-06-27T16:33:18.309Z"
   },
   {
    "duration": 275,
    "start_time": "2023-06-27T16:33:18.373Z"
   },
   {
    "duration": 75,
    "start_time": "2023-06-27T16:33:18.650Z"
   },
   {
    "duration": 12,
    "start_time": "2023-06-27T16:33:18.727Z"
   },
   {
    "duration": 110,
    "start_time": "2023-06-27T16:33:18.741Z"
   },
   {
    "duration": 211,
    "start_time": "2023-06-27T16:33:18.852Z"
   },
   {
    "duration": 58,
    "start_time": "2023-06-27T16:33:19.065Z"
   },
   {
    "duration": 258,
    "start_time": "2023-06-27T16:33:19.125Z"
   },
   {
    "duration": 245,
    "start_time": "2023-06-27T16:33:19.385Z"
   },
   {
    "duration": 18,
    "start_time": "2023-06-27T16:33:19.632Z"
   },
   {
    "duration": 17,
    "start_time": "2023-06-27T16:33:19.652Z"
   },
   {
    "duration": 280,
    "start_time": "2023-06-27T16:33:19.671Z"
   },
   {
    "duration": 59,
    "start_time": "2023-06-27T16:33:19.953Z"
   },
   {
    "duration": 506,
    "start_time": "2023-06-27T16:33:20.014Z"
   },
   {
    "duration": 3171,
    "start_time": "2023-06-27T16:33:20.522Z"
   },
   {
    "duration": 68,
    "start_time": "2023-06-27T16:33:23.695Z"
   },
   {
    "duration": 46,
    "start_time": "2023-06-27T16:33:23.765Z"
   },
   {
    "duration": 104,
    "start_time": "2023-06-27T16:33:23.813Z"
   },
   {
    "duration": 11,
    "start_time": "2023-06-27T16:33:23.919Z"
   },
   {
    "duration": 12,
    "start_time": "2023-06-27T16:33:23.931Z"
   },
   {
    "duration": 28,
    "start_time": "2023-06-27T16:33:23.945Z"
   },
   {
    "duration": 46,
    "start_time": "2023-06-27T16:33:23.974Z"
   },
   {
    "duration": 5,
    "start_time": "2023-06-27T16:33:24.024Z"
   },
   {
    "duration": 122,
    "start_time": "2023-06-27T16:33:24.031Z"
   },
   {
    "duration": 144,
    "start_time": "2023-06-27T16:33:24.155Z"
   },
   {
    "duration": 123,
    "start_time": "2023-06-27T16:33:24.301Z"
   },
   {
    "duration": 119,
    "start_time": "2023-06-27T16:33:24.425Z"
   },
   {
    "duration": 67,
    "start_time": "2023-06-27T16:33:24.546Z"
   },
   {
    "duration": 24,
    "start_time": "2023-06-27T16:33:24.614Z"
   },
   {
    "duration": 23,
    "start_time": "2023-06-27T16:33:24.639Z"
   },
   {
    "duration": 10,
    "start_time": "2023-06-27T16:33:24.664Z"
   },
   {
    "duration": 304,
    "start_time": "2023-06-27T16:33:24.676Z"
   },
   {
    "duration": 0,
    "start_time": "2023-06-27T16:33:24.981Z"
   },
   {
    "duration": 0,
    "start_time": "2023-06-27T16:33:24.982Z"
   },
   {
    "duration": 0,
    "start_time": "2023-06-27T16:33:24.983Z"
   },
   {
    "duration": 0,
    "start_time": "2023-06-27T16:33:24.984Z"
   },
   {
    "duration": 0,
    "start_time": "2023-06-27T16:33:24.984Z"
   },
   {
    "duration": 0,
    "start_time": "2023-06-27T16:33:24.986Z"
   },
   {
    "duration": 0,
    "start_time": "2023-06-27T16:33:24.987Z"
   },
   {
    "duration": 0,
    "start_time": "2023-06-27T16:33:25.000Z"
   },
   {
    "duration": 0,
    "start_time": "2023-06-27T16:33:25.001Z"
   },
   {
    "duration": 0,
    "start_time": "2023-06-27T16:33:25.002Z"
   },
   {
    "duration": 0,
    "start_time": "2023-06-27T16:33:25.002Z"
   },
   {
    "duration": 0,
    "start_time": "2023-06-27T16:33:25.003Z"
   },
   {
    "duration": 0,
    "start_time": "2023-06-27T16:33:25.004Z"
   },
   {
    "duration": 26,
    "start_time": "2023-06-27T16:34:13.740Z"
   },
   {
    "duration": 1296,
    "start_time": "2023-06-27T16:34:26.291Z"
   },
   {
    "duration": 853,
    "start_time": "2023-06-27T16:34:27.589Z"
   },
   {
    "duration": 20,
    "start_time": "2023-06-27T16:34:28.444Z"
   },
   {
    "duration": 507,
    "start_time": "2023-06-27T16:34:28.465Z"
   },
   {
    "duration": 984,
    "start_time": "2023-06-27T16:34:28.975Z"
   },
   {
    "duration": 48,
    "start_time": "2023-06-27T16:34:29.961Z"
   },
   {
    "duration": 23,
    "start_time": "2023-06-27T16:34:30.010Z"
   },
   {
    "duration": 124,
    "start_time": "2023-06-27T16:34:30.035Z"
   },
   {
    "duration": 96,
    "start_time": "2023-06-27T16:34:30.160Z"
   },
   {
    "duration": 119,
    "start_time": "2023-06-27T16:34:30.258Z"
   },
   {
    "duration": 444,
    "start_time": "2023-06-27T16:34:30.379Z"
   },
   {
    "duration": 50,
    "start_time": "2023-06-27T16:34:30.824Z"
   },
   {
    "duration": 26,
    "start_time": "2023-06-27T16:34:30.876Z"
   },
   {
    "duration": 48,
    "start_time": "2023-06-27T16:34:30.907Z"
   },
   {
    "duration": 88,
    "start_time": "2023-06-27T16:34:30.957Z"
   },
   {
    "duration": 76,
    "start_time": "2023-06-27T16:34:31.047Z"
   },
   {
    "duration": 6,
    "start_time": "2023-06-27T16:34:31.125Z"
   },
   {
    "duration": 136,
    "start_time": "2023-06-27T16:34:31.133Z"
   },
   {
    "duration": 61,
    "start_time": "2023-06-27T16:34:31.271Z"
   },
   {
    "duration": 265,
    "start_time": "2023-06-27T16:34:31.335Z"
   },
   {
    "duration": 70,
    "start_time": "2023-06-27T16:34:31.602Z"
   },
   {
    "duration": 26,
    "start_time": "2023-06-27T16:34:31.674Z"
   },
   {
    "duration": 102,
    "start_time": "2023-06-27T16:34:31.702Z"
   },
   {
    "duration": 217,
    "start_time": "2023-06-27T16:34:31.807Z"
   },
   {
    "duration": 48,
    "start_time": "2023-06-27T16:34:32.026Z"
   },
   {
    "duration": 252,
    "start_time": "2023-06-27T16:34:32.076Z"
   },
   {
    "duration": 252,
    "start_time": "2023-06-27T16:34:32.330Z"
   },
   {
    "duration": 22,
    "start_time": "2023-06-27T16:34:32.584Z"
   },
   {
    "duration": 19,
    "start_time": "2023-06-27T16:34:32.608Z"
   },
   {
    "duration": 287,
    "start_time": "2023-06-27T16:34:32.629Z"
   },
   {
    "duration": 56,
    "start_time": "2023-06-27T16:34:32.917Z"
   },
   {
    "duration": 507,
    "start_time": "2023-06-27T16:34:32.974Z"
   },
   {
    "duration": 3178,
    "start_time": "2023-06-27T16:34:33.483Z"
   },
   {
    "duration": 66,
    "start_time": "2023-06-27T16:34:36.662Z"
   },
   {
    "duration": 16,
    "start_time": "2023-06-27T16:34:36.730Z"
   },
   {
    "duration": 59,
    "start_time": "2023-06-27T16:34:36.748Z"
   },
   {
    "duration": 15,
    "start_time": "2023-06-27T16:34:36.809Z"
   },
   {
    "duration": 33,
    "start_time": "2023-06-27T16:34:36.826Z"
   },
   {
    "duration": 33,
    "start_time": "2023-06-27T16:34:36.861Z"
   },
   {
    "duration": 29,
    "start_time": "2023-06-27T16:34:36.896Z"
   },
   {
    "duration": 4,
    "start_time": "2023-06-27T16:34:36.930Z"
   },
   {
    "duration": 124,
    "start_time": "2023-06-27T16:34:36.937Z"
   },
   {
    "duration": 139,
    "start_time": "2023-06-27T16:34:37.063Z"
   },
   {
    "duration": 121,
    "start_time": "2023-06-27T16:34:37.204Z"
   },
   {
    "duration": 104,
    "start_time": "2023-06-27T16:34:37.327Z"
   },
   {
    "duration": 68,
    "start_time": "2023-06-27T16:34:37.433Z"
   },
   {
    "duration": 33,
    "start_time": "2023-06-27T16:34:37.503Z"
   },
   {
    "duration": 34,
    "start_time": "2023-06-27T16:34:37.538Z"
   },
   {
    "duration": 34,
    "start_time": "2023-06-27T16:34:37.574Z"
   },
   {
    "duration": 293,
    "start_time": "2023-06-27T16:34:37.611Z"
   },
   {
    "duration": 0,
    "start_time": "2023-06-27T16:34:37.906Z"
   },
   {
    "duration": 0,
    "start_time": "2023-06-27T16:34:37.907Z"
   },
   {
    "duration": 0,
    "start_time": "2023-06-27T16:34:37.908Z"
   },
   {
    "duration": 0,
    "start_time": "2023-06-27T16:34:37.909Z"
   },
   {
    "duration": 0,
    "start_time": "2023-06-27T16:34:37.909Z"
   },
   {
    "duration": 0,
    "start_time": "2023-06-27T16:34:37.910Z"
   },
   {
    "duration": 0,
    "start_time": "2023-06-27T16:34:37.911Z"
   },
   {
    "duration": 0,
    "start_time": "2023-06-27T16:34:37.912Z"
   },
   {
    "duration": 0,
    "start_time": "2023-06-27T16:34:37.913Z"
   },
   {
    "duration": 0,
    "start_time": "2023-06-27T16:34:37.914Z"
   },
   {
    "duration": 0,
    "start_time": "2023-06-27T16:34:37.915Z"
   },
   {
    "duration": 0,
    "start_time": "2023-06-27T16:34:37.916Z"
   },
   {
    "duration": 0,
    "start_time": "2023-06-27T16:34:37.917Z"
   },
   {
    "duration": 24,
    "start_time": "2023-06-27T16:35:35.978Z"
   },
   {
    "duration": 1293,
    "start_time": "2023-06-27T16:35:56.750Z"
   },
   {
    "duration": 848,
    "start_time": "2023-06-27T16:35:58.045Z"
   },
   {
    "duration": 23,
    "start_time": "2023-06-27T16:35:58.894Z"
   },
   {
    "duration": 483,
    "start_time": "2023-06-27T16:35:58.918Z"
   },
   {
    "duration": 956,
    "start_time": "2023-06-27T16:35:59.403Z"
   },
   {
    "duration": 48,
    "start_time": "2023-06-27T16:36:00.360Z"
   },
   {
    "duration": 28,
    "start_time": "2023-06-27T16:36:00.409Z"
   },
   {
    "duration": 104,
    "start_time": "2023-06-27T16:36:00.439Z"
   },
   {
    "duration": 112,
    "start_time": "2023-06-27T16:36:00.545Z"
   },
   {
    "duration": 108,
    "start_time": "2023-06-27T16:36:00.659Z"
   },
   {
    "duration": 431,
    "start_time": "2023-06-27T16:36:00.768Z"
   },
   {
    "duration": 45,
    "start_time": "2023-06-27T16:36:01.201Z"
   },
   {
    "duration": 16,
    "start_time": "2023-06-27T16:36:01.248Z"
   },
   {
    "duration": 79,
    "start_time": "2023-06-27T16:36:01.268Z"
   },
   {
    "duration": 111,
    "start_time": "2023-06-27T16:36:01.348Z"
   },
   {
    "duration": 78,
    "start_time": "2023-06-27T16:36:01.461Z"
   },
   {
    "duration": 5,
    "start_time": "2023-06-27T16:36:01.542Z"
   },
   {
    "duration": 119,
    "start_time": "2023-06-27T16:36:01.548Z"
   },
   {
    "duration": 60,
    "start_time": "2023-06-27T16:36:01.668Z"
   },
   {
    "duration": 246,
    "start_time": "2023-06-27T16:36:01.730Z"
   },
   {
    "duration": 62,
    "start_time": "2023-06-27T16:36:01.977Z"
   },
   {
    "duration": 10,
    "start_time": "2023-06-27T16:36:02.040Z"
   },
   {
    "duration": 84,
    "start_time": "2023-06-27T16:36:02.052Z"
   },
   {
    "duration": 174,
    "start_time": "2023-06-27T16:36:02.138Z"
   },
   {
    "duration": 39,
    "start_time": "2023-06-27T16:36:02.313Z"
   },
   {
    "duration": 228,
    "start_time": "2023-06-27T16:36:02.353Z"
   },
   {
    "duration": 199,
    "start_time": "2023-06-27T16:36:02.583Z"
   },
   {
    "duration": 17,
    "start_time": "2023-06-27T16:36:02.784Z"
   },
   {
    "duration": 18,
    "start_time": "2023-06-27T16:36:02.802Z"
   },
   {
    "duration": 226,
    "start_time": "2023-06-27T16:36:02.821Z"
   },
   {
    "duration": 51,
    "start_time": "2023-06-27T16:36:03.049Z"
   },
   {
    "duration": 392,
    "start_time": "2023-06-27T16:36:03.101Z"
   },
   {
    "duration": 2992,
    "start_time": "2023-06-27T16:36:03.495Z"
   },
   {
    "duration": 67,
    "start_time": "2023-06-27T16:36:06.488Z"
   },
   {
    "duration": 2,
    "start_time": "2023-06-27T16:36:06.556Z"
   },
   {
    "duration": 67,
    "start_time": "2023-06-27T16:36:06.560Z"
   },
   {
    "duration": 11,
    "start_time": "2023-06-27T16:36:06.629Z"
   },
   {
    "duration": 14,
    "start_time": "2023-06-27T16:36:06.642Z"
   },
   {
    "duration": 42,
    "start_time": "2023-06-27T16:36:06.658Z"
   },
   {
    "duration": 29,
    "start_time": "2023-06-27T16:36:06.701Z"
   },
   {
    "duration": 4,
    "start_time": "2023-06-27T16:36:06.734Z"
   },
   {
    "duration": 118,
    "start_time": "2023-06-27T16:36:06.740Z"
   },
   {
    "duration": 132,
    "start_time": "2023-06-27T16:36:06.860Z"
   },
   {
    "duration": 126,
    "start_time": "2023-06-27T16:36:06.994Z"
   },
   {
    "duration": 102,
    "start_time": "2023-06-27T16:36:07.122Z"
   },
   {
    "duration": 53,
    "start_time": "2023-06-27T16:36:07.226Z"
   },
   {
    "duration": 39,
    "start_time": "2023-06-27T16:36:07.281Z"
   },
   {
    "duration": 22,
    "start_time": "2023-06-27T16:36:07.322Z"
   },
   {
    "duration": 10,
    "start_time": "2023-06-27T16:36:07.346Z"
   },
   {
    "duration": 310,
    "start_time": "2023-06-27T16:36:07.357Z"
   },
   {
    "duration": 0,
    "start_time": "2023-06-27T16:36:07.669Z"
   },
   {
    "duration": 0,
    "start_time": "2023-06-27T16:36:07.670Z"
   },
   {
    "duration": 0,
    "start_time": "2023-06-27T16:36:07.671Z"
   },
   {
    "duration": 0,
    "start_time": "2023-06-27T16:36:07.672Z"
   },
   {
    "duration": 0,
    "start_time": "2023-06-27T16:36:07.673Z"
   },
   {
    "duration": 0,
    "start_time": "2023-06-27T16:36:07.674Z"
   },
   {
    "duration": 0,
    "start_time": "2023-06-27T16:36:07.675Z"
   },
   {
    "duration": 0,
    "start_time": "2023-06-27T16:36:07.676Z"
   },
   {
    "duration": 0,
    "start_time": "2023-06-27T16:36:07.677Z"
   },
   {
    "duration": 0,
    "start_time": "2023-06-27T16:36:07.699Z"
   },
   {
    "duration": 0,
    "start_time": "2023-06-27T16:36:07.701Z"
   },
   {
    "duration": 0,
    "start_time": "2023-06-27T16:36:07.702Z"
   },
   {
    "duration": 0,
    "start_time": "2023-06-27T16:36:07.703Z"
   },
   {
    "duration": 1230,
    "start_time": "2023-06-27T16:40:13.941Z"
   },
   {
    "duration": 1033,
    "start_time": "2023-06-27T16:40:15.173Z"
   },
   {
    "duration": 30,
    "start_time": "2023-06-27T16:40:16.208Z"
   },
   {
    "duration": 501,
    "start_time": "2023-06-27T16:40:16.241Z"
   },
   {
    "duration": 969,
    "start_time": "2023-06-27T16:40:16.744Z"
   },
   {
    "duration": 42,
    "start_time": "2023-06-27T16:40:17.714Z"
   },
   {
    "duration": 12,
    "start_time": "2023-06-27T16:40:17.758Z"
   },
   {
    "duration": 109,
    "start_time": "2023-06-27T16:40:17.771Z"
   },
   {
    "duration": 88,
    "start_time": "2023-06-27T16:40:17.882Z"
   },
   {
    "duration": 121,
    "start_time": "2023-06-27T16:40:17.973Z"
   },
   {
    "duration": 431,
    "start_time": "2023-06-27T16:40:18.095Z"
   },
   {
    "duration": 45,
    "start_time": "2023-06-27T16:40:18.527Z"
   },
   {
    "duration": 26,
    "start_time": "2023-06-27T16:40:18.574Z"
   },
   {
    "duration": 31,
    "start_time": "2023-06-27T16:40:18.602Z"
   },
   {
    "duration": 90,
    "start_time": "2023-06-27T16:40:18.634Z"
   },
   {
    "duration": 75,
    "start_time": "2023-06-27T16:40:18.726Z"
   },
   {
    "duration": 6,
    "start_time": "2023-06-27T16:40:18.802Z"
   },
   {
    "duration": 96,
    "start_time": "2023-06-27T16:40:18.810Z"
   },
   {
    "duration": 53,
    "start_time": "2023-06-27T16:40:18.908Z"
   },
   {
    "duration": 266,
    "start_time": "2023-06-27T16:40:18.963Z"
   },
   {
    "duration": 74,
    "start_time": "2023-06-27T16:40:19.230Z"
   },
   {
    "duration": 13,
    "start_time": "2023-06-27T16:40:19.305Z"
   },
   {
    "duration": 118,
    "start_time": "2023-06-27T16:40:19.319Z"
   },
   {
    "duration": 204,
    "start_time": "2023-06-27T16:40:19.438Z"
   },
   {
    "duration": 57,
    "start_time": "2023-06-27T16:40:19.644Z"
   },
   {
    "duration": 238,
    "start_time": "2023-06-27T16:40:19.703Z"
   },
   {
    "duration": 233,
    "start_time": "2023-06-27T16:40:19.943Z"
   },
   {
    "duration": 22,
    "start_time": "2023-06-27T16:40:20.180Z"
   },
   {
    "duration": 16,
    "start_time": "2023-06-27T16:40:20.203Z"
   },
   {
    "duration": 281,
    "start_time": "2023-06-27T16:40:20.220Z"
   },
   {
    "duration": 58,
    "start_time": "2023-06-27T16:40:20.503Z"
   },
   {
    "duration": 502,
    "start_time": "2023-06-27T16:40:20.563Z"
   },
   {
    "duration": 3070,
    "start_time": "2023-06-27T16:40:21.067Z"
   },
   {
    "duration": 72,
    "start_time": "2023-06-27T16:40:24.139Z"
   },
   {
    "duration": 3,
    "start_time": "2023-06-27T16:40:24.212Z"
   },
   {
    "duration": 64,
    "start_time": "2023-06-27T16:40:24.216Z"
   },
   {
    "duration": 31,
    "start_time": "2023-06-27T16:40:24.282Z"
   },
   {
    "duration": 14,
    "start_time": "2023-06-27T16:40:24.314Z"
   },
   {
    "duration": 34,
    "start_time": "2023-06-27T16:40:24.330Z"
   },
   {
    "duration": 41,
    "start_time": "2023-06-27T16:40:24.366Z"
   },
   {
    "duration": 4,
    "start_time": "2023-06-27T16:40:24.409Z"
   },
   {
    "duration": 120,
    "start_time": "2023-06-27T16:40:24.415Z"
   },
   {
    "duration": 139,
    "start_time": "2023-06-27T16:40:24.537Z"
   },
   {
    "duration": 134,
    "start_time": "2023-06-27T16:40:24.678Z"
   },
   {
    "duration": 105,
    "start_time": "2023-06-27T16:40:24.813Z"
   },
   {
    "duration": 54,
    "start_time": "2023-06-27T16:40:24.920Z"
   },
   {
    "duration": 34,
    "start_time": "2023-06-27T16:40:24.976Z"
   },
   {
    "duration": 29,
    "start_time": "2023-06-27T16:40:25.012Z"
   },
   {
    "duration": 30,
    "start_time": "2023-06-27T16:40:25.043Z"
   },
   {
    "duration": 296,
    "start_time": "2023-06-27T16:40:25.075Z"
   },
   {
    "duration": 0,
    "start_time": "2023-06-27T16:40:25.373Z"
   },
   {
    "duration": 0,
    "start_time": "2023-06-27T16:40:25.374Z"
   },
   {
    "duration": 0,
    "start_time": "2023-06-27T16:40:25.375Z"
   },
   {
    "duration": 0,
    "start_time": "2023-06-27T16:40:25.376Z"
   },
   {
    "duration": 0,
    "start_time": "2023-06-27T16:40:25.377Z"
   },
   {
    "duration": 0,
    "start_time": "2023-06-27T16:40:25.378Z"
   },
   {
    "duration": 0,
    "start_time": "2023-06-27T16:40:25.380Z"
   },
   {
    "duration": 0,
    "start_time": "2023-06-27T16:40:25.381Z"
   },
   {
    "duration": 0,
    "start_time": "2023-06-27T16:40:25.383Z"
   },
   {
    "duration": 0,
    "start_time": "2023-06-27T16:40:25.384Z"
   },
   {
    "duration": 0,
    "start_time": "2023-06-27T16:40:25.385Z"
   },
   {
    "duration": 0,
    "start_time": "2023-06-27T16:40:25.386Z"
   },
   {
    "duration": 0,
    "start_time": "2023-06-27T16:40:25.388Z"
   },
   {
    "duration": 64,
    "start_time": "2023-06-27T16:42:54.441Z"
   },
   {
    "duration": 1221,
    "start_time": "2023-06-27T16:45:16.982Z"
   },
   {
    "duration": 907,
    "start_time": "2023-06-27T16:45:18.206Z"
   },
   {
    "duration": 21,
    "start_time": "2023-06-27T16:45:19.115Z"
   },
   {
    "duration": 534,
    "start_time": "2023-06-27T16:45:19.138Z"
   },
   {
    "duration": 1056,
    "start_time": "2023-06-27T16:45:19.676Z"
   },
   {
    "duration": 44,
    "start_time": "2023-06-27T16:45:20.734Z"
   },
   {
    "duration": 22,
    "start_time": "2023-06-27T16:45:20.780Z"
   },
   {
    "duration": 107,
    "start_time": "2023-06-27T16:45:20.804Z"
   },
   {
    "duration": 96,
    "start_time": "2023-06-27T16:45:20.913Z"
   },
   {
    "duration": 135,
    "start_time": "2023-06-27T16:45:21.011Z"
   },
   {
    "duration": 446,
    "start_time": "2023-06-27T16:45:21.148Z"
   },
   {
    "duration": 51,
    "start_time": "2023-06-27T16:45:21.595Z"
   },
   {
    "duration": 17,
    "start_time": "2023-06-27T16:45:21.647Z"
   },
   {
    "duration": 58,
    "start_time": "2023-06-27T16:45:21.667Z"
   },
   {
    "duration": 83,
    "start_time": "2023-06-27T16:45:21.727Z"
   },
   {
    "duration": 69,
    "start_time": "2023-06-27T16:45:21.812Z"
   },
   {
    "duration": 23,
    "start_time": "2023-06-27T16:45:21.883Z"
   },
   {
    "duration": 99,
    "start_time": "2023-06-27T16:45:21.908Z"
   },
   {
    "duration": 58,
    "start_time": "2023-06-27T16:45:22.009Z"
   },
   {
    "duration": 291,
    "start_time": "2023-06-27T16:45:22.069Z"
   },
   {
    "duration": 79,
    "start_time": "2023-06-27T16:45:22.362Z"
   },
   {
    "duration": 13,
    "start_time": "2023-06-27T16:45:22.443Z"
   },
   {
    "duration": 115,
    "start_time": "2023-06-27T16:45:22.458Z"
   },
   {
    "duration": 232,
    "start_time": "2023-06-27T16:45:22.574Z"
   },
   {
    "duration": 48,
    "start_time": "2023-06-27T16:45:22.808Z"
   },
   {
    "duration": 261,
    "start_time": "2023-06-27T16:45:22.858Z"
   },
   {
    "duration": 247,
    "start_time": "2023-06-27T16:45:23.120Z"
   },
   {
    "duration": 17,
    "start_time": "2023-06-27T16:45:23.369Z"
   },
   {
    "duration": 33,
    "start_time": "2023-06-27T16:45:23.387Z"
   },
   {
    "duration": 290,
    "start_time": "2023-06-27T16:45:23.422Z"
   },
   {
    "duration": 56,
    "start_time": "2023-06-27T16:45:23.713Z"
   },
   {
    "duration": 533,
    "start_time": "2023-06-27T16:45:23.771Z"
   },
   {
    "duration": 3560,
    "start_time": "2023-06-27T16:45:24.306Z"
   },
   {
    "duration": 74,
    "start_time": "2023-06-27T16:45:27.868Z"
   },
   {
    "duration": 3,
    "start_time": "2023-06-27T16:45:27.944Z"
   },
   {
    "duration": 96,
    "start_time": "2023-06-27T16:45:27.948Z"
   },
   {
    "duration": 18,
    "start_time": "2023-06-27T16:45:28.046Z"
   },
   {
    "duration": 16,
    "start_time": "2023-06-27T16:45:28.066Z"
   },
   {
    "duration": 35,
    "start_time": "2023-06-27T16:45:28.099Z"
   },
   {
    "duration": 35,
    "start_time": "2023-06-27T16:45:28.137Z"
   },
   {
    "duration": 28,
    "start_time": "2023-06-27T16:45:28.178Z"
   },
   {
    "duration": 146,
    "start_time": "2023-06-27T16:45:28.209Z"
   },
   {
    "duration": 147,
    "start_time": "2023-06-27T16:45:28.356Z"
   },
   {
    "duration": 153,
    "start_time": "2023-06-27T16:45:28.504Z"
   },
   {
    "duration": 145,
    "start_time": "2023-06-27T16:45:28.659Z"
   },
   {
    "duration": 61,
    "start_time": "2023-06-27T16:45:28.806Z"
   },
   {
    "duration": 37,
    "start_time": "2023-06-27T16:45:28.868Z"
   },
   {
    "duration": 22,
    "start_time": "2023-06-27T16:45:28.907Z"
   },
   {
    "duration": 11,
    "start_time": "2023-06-27T16:45:28.931Z"
   },
   {
    "duration": 327,
    "start_time": "2023-06-27T16:45:28.944Z"
   },
   {
    "duration": 0,
    "start_time": "2023-06-27T16:45:29.273Z"
   },
   {
    "duration": 0,
    "start_time": "2023-06-27T16:45:29.274Z"
   },
   {
    "duration": 0,
    "start_time": "2023-06-27T16:45:29.275Z"
   },
   {
    "duration": 0,
    "start_time": "2023-06-27T16:45:29.276Z"
   },
   {
    "duration": 0,
    "start_time": "2023-06-27T16:45:29.277Z"
   },
   {
    "duration": 0,
    "start_time": "2023-06-27T16:45:29.278Z"
   },
   {
    "duration": 1,
    "start_time": "2023-06-27T16:45:29.278Z"
   },
   {
    "duration": 0,
    "start_time": "2023-06-27T16:45:29.279Z"
   },
   {
    "duration": 0,
    "start_time": "2023-06-27T16:45:29.280Z"
   },
   {
    "duration": 0,
    "start_time": "2023-06-27T16:45:29.281Z"
   },
   {
    "duration": 0,
    "start_time": "2023-06-27T16:45:29.282Z"
   },
   {
    "duration": 0,
    "start_time": "2023-06-27T16:45:29.283Z"
   },
   {
    "duration": 0,
    "start_time": "2023-06-27T16:45:29.284Z"
   },
   {
    "duration": 1369,
    "start_time": "2023-06-27T16:47:54.855Z"
   },
   {
    "duration": 850,
    "start_time": "2023-06-27T16:47:56.227Z"
   },
   {
    "duration": 22,
    "start_time": "2023-06-27T16:47:57.079Z"
   },
   {
    "duration": 479,
    "start_time": "2023-06-27T16:47:57.103Z"
   },
   {
    "duration": 962,
    "start_time": "2023-06-27T16:47:57.585Z"
   },
   {
    "duration": 51,
    "start_time": "2023-06-27T16:47:58.549Z"
   },
   {
    "duration": 16,
    "start_time": "2023-06-27T16:47:58.601Z"
   },
   {
    "duration": 99,
    "start_time": "2023-06-27T16:47:58.619Z"
   },
   {
    "duration": 89,
    "start_time": "2023-06-27T16:47:58.720Z"
   },
   {
    "duration": 99,
    "start_time": "2023-06-27T16:47:58.811Z"
   },
   {
    "duration": 423,
    "start_time": "2023-06-27T16:47:58.912Z"
   },
   {
    "duration": 47,
    "start_time": "2023-06-27T16:47:59.336Z"
   },
   {
    "duration": 26,
    "start_time": "2023-06-27T16:47:59.385Z"
   },
   {
    "duration": 37,
    "start_time": "2023-06-27T16:47:59.414Z"
   },
   {
    "duration": 89,
    "start_time": "2023-06-27T16:47:59.453Z"
   },
   {
    "duration": 71,
    "start_time": "2023-06-27T16:47:59.544Z"
   },
   {
    "duration": 7,
    "start_time": "2023-06-27T16:47:59.616Z"
   },
   {
    "duration": 103,
    "start_time": "2023-06-27T16:47:59.624Z"
   },
   {
    "duration": 54,
    "start_time": "2023-06-27T16:47:59.729Z"
   },
   {
    "duration": 268,
    "start_time": "2023-06-27T16:47:59.785Z"
   },
   {
    "duration": 74,
    "start_time": "2023-06-27T16:48:00.055Z"
   },
   {
    "duration": 12,
    "start_time": "2023-06-27T16:48:00.131Z"
   },
   {
    "duration": 126,
    "start_time": "2023-06-27T16:48:00.144Z"
   },
   {
    "duration": 223,
    "start_time": "2023-06-27T16:48:00.271Z"
   },
   {
    "duration": 49,
    "start_time": "2023-06-27T16:48:00.495Z"
   },
   {
    "duration": 279,
    "start_time": "2023-06-27T16:48:00.547Z"
   },
   {
    "duration": 239,
    "start_time": "2023-06-27T16:48:00.828Z"
   },
   {
    "duration": 17,
    "start_time": "2023-06-27T16:48:01.069Z"
   },
   {
    "duration": 64,
    "start_time": "2023-06-27T16:48:01.088Z"
   },
   {
    "duration": 315,
    "start_time": "2023-06-27T16:48:01.154Z"
   },
   {
    "duration": 64,
    "start_time": "2023-06-27T16:48:01.471Z"
   },
   {
    "duration": 517,
    "start_time": "2023-06-27T16:48:01.537Z"
   },
   {
    "duration": 3199,
    "start_time": "2023-06-27T16:48:02.056Z"
   },
   {
    "duration": 71,
    "start_time": "2023-06-27T16:48:05.257Z"
   },
   {
    "duration": 3,
    "start_time": "2023-06-27T16:48:05.331Z"
   },
   {
    "duration": 112,
    "start_time": "2023-06-27T16:48:05.336Z"
   },
   {
    "duration": 17,
    "start_time": "2023-06-27T16:48:05.450Z"
   },
   {
    "duration": 27,
    "start_time": "2023-06-27T16:48:05.469Z"
   },
   {
    "duration": 57,
    "start_time": "2023-06-27T16:48:05.500Z"
   },
   {
    "duration": 47,
    "start_time": "2023-06-27T16:48:05.559Z"
   },
   {
    "duration": 5,
    "start_time": "2023-06-27T16:48:05.611Z"
   },
   {
    "duration": 124,
    "start_time": "2023-06-27T16:48:05.618Z"
   },
   {
    "duration": 128,
    "start_time": "2023-06-27T16:48:05.744Z"
   },
   {
    "duration": 143,
    "start_time": "2023-06-27T16:48:05.874Z"
   },
   {
    "duration": 108,
    "start_time": "2023-06-27T16:48:06.019Z"
   },
   {
    "duration": 54,
    "start_time": "2023-06-27T16:48:06.129Z"
   },
   {
    "duration": 31,
    "start_time": "2023-06-27T16:48:06.185Z"
   },
   {
    "duration": 22,
    "start_time": "2023-06-27T16:48:06.217Z"
   },
   {
    "duration": 8,
    "start_time": "2023-06-27T16:48:06.241Z"
   },
   {
    "duration": 254,
    "start_time": "2023-06-27T16:48:06.251Z"
   },
   {
    "duration": 0,
    "start_time": "2023-06-27T16:48:06.506Z"
   },
   {
    "duration": 0,
    "start_time": "2023-06-27T16:48:06.507Z"
   },
   {
    "duration": 0,
    "start_time": "2023-06-27T16:48:06.508Z"
   },
   {
    "duration": 0,
    "start_time": "2023-06-27T16:48:06.509Z"
   },
   {
    "duration": 0,
    "start_time": "2023-06-27T16:48:06.510Z"
   },
   {
    "duration": 0,
    "start_time": "2023-06-27T16:48:06.511Z"
   },
   {
    "duration": 0,
    "start_time": "2023-06-27T16:48:06.512Z"
   },
   {
    "duration": 0,
    "start_time": "2023-06-27T16:48:06.513Z"
   },
   {
    "duration": 0,
    "start_time": "2023-06-27T16:48:06.514Z"
   },
   {
    "duration": 0,
    "start_time": "2023-06-27T16:48:06.515Z"
   },
   {
    "duration": 0,
    "start_time": "2023-06-27T16:48:06.516Z"
   },
   {
    "duration": 0,
    "start_time": "2023-06-27T16:48:06.517Z"
   },
   {
    "duration": 0,
    "start_time": "2023-06-27T16:48:06.518Z"
   },
   {
    "duration": 1223,
    "start_time": "2023-06-27T17:37:42.363Z"
   },
   {
    "duration": 875,
    "start_time": "2023-06-27T17:37:54.160Z"
   },
   {
    "duration": 44,
    "start_time": "2023-06-27T17:38:06.674Z"
   },
   {
    "duration": 12,
    "start_time": "2023-06-27T17:38:13.648Z"
   },
   {
    "duration": 89,
    "start_time": "2023-06-27T17:38:25.064Z"
   },
   {
    "duration": 76,
    "start_time": "2023-06-27T17:38:28.425Z"
   },
   {
    "duration": 77,
    "start_time": "2023-06-27T17:38:36.245Z"
   },
   {
    "duration": 203,
    "start_time": "2023-06-27T17:38:46.430Z"
   },
   {
    "duration": 34,
    "start_time": "2023-06-27T17:39:19.615Z"
   },
   {
    "duration": 21,
    "start_time": "2023-06-27T17:39:26.119Z"
   },
   {
    "duration": 31,
    "start_time": "2023-06-27T17:39:33.432Z"
   },
   {
    "duration": 73,
    "start_time": "2023-06-27T17:40:11.410Z"
   },
   {
    "duration": 67,
    "start_time": "2023-06-27T17:40:42.897Z"
   },
   {
    "duration": 9,
    "start_time": "2023-06-27T17:40:46.646Z"
   },
   {
    "duration": 87,
    "start_time": "2023-06-27T17:40:52.164Z"
   },
   {
    "duration": 51,
    "start_time": "2023-06-27T17:41:08.845Z"
   },
   {
    "duration": 250,
    "start_time": "2023-06-27T17:41:10.719Z"
   },
   {
    "duration": 67,
    "start_time": "2023-06-27T17:42:18.488Z"
   },
   {
    "duration": 13,
    "start_time": "2023-06-27T17:42:44.577Z"
   },
   {
    "duration": 92,
    "start_time": "2023-06-27T17:43:01.536Z"
   },
   {
    "duration": 261,
    "start_time": "2023-06-27T17:43:13.528Z"
   },
   {
    "duration": 132,
    "start_time": "2023-06-27T17:43:17.140Z"
   },
   {
    "duration": 194,
    "start_time": "2023-06-27T17:43:20.642Z"
   },
   {
    "duration": 48,
    "start_time": "2023-06-27T17:43:34.599Z"
   },
   {
    "duration": 241,
    "start_time": "2023-06-27T17:43:38.683Z"
   },
   {
    "duration": 238,
    "start_time": "2023-06-27T17:43:39.988Z"
   },
   {
    "duration": 17,
    "start_time": "2023-06-27T17:44:12.807Z"
   },
   {
    "duration": 13,
    "start_time": "2023-06-27T17:44:23.167Z"
   },
   {
    "duration": 261,
    "start_time": "2023-06-27T17:44:39.293Z"
   },
   {
    "duration": 53,
    "start_time": "2023-06-27T17:45:02.266Z"
   },
   {
    "duration": 348,
    "start_time": "2023-06-27T17:45:14.730Z"
   },
   {
    "duration": 3229,
    "start_time": "2023-06-27T17:45:24.163Z"
   },
   {
    "duration": 66,
    "start_time": "2023-06-27T17:45:31.886Z"
   },
   {
    "duration": 2,
    "start_time": "2023-06-27T17:45:40.121Z"
   },
   {
    "duration": 67,
    "start_time": "2023-06-27T17:45:45.366Z"
   },
   {
    "duration": 11,
    "start_time": "2023-06-27T17:45:58.727Z"
   },
   {
    "duration": 11,
    "start_time": "2023-06-27T17:46:02.354Z"
   },
   {
    "duration": 30,
    "start_time": "2023-06-27T17:46:05.358Z"
   },
   {
    "duration": 36,
    "start_time": "2023-06-27T17:46:05.629Z"
   },
   {
    "duration": 4,
    "start_time": "2023-06-27T17:46:56.571Z"
   },
   {
    "duration": 35,
    "start_time": "2023-06-27T17:48:15.960Z"
   },
   {
    "duration": 37,
    "start_time": "2023-06-27T17:51:14.492Z"
   },
   {
    "duration": 2071,
    "start_time": "2023-06-27T17:51:37.511Z"
   },
   {
    "duration": 37,
    "start_time": "2023-06-27T17:51:44.378Z"
   },
   {
    "duration": 36,
    "start_time": "2023-06-27T17:52:05.514Z"
   },
   {
    "duration": 22,
    "start_time": "2023-06-27T17:52:47.586Z"
   },
   {
    "duration": 10,
    "start_time": "2023-06-27T17:53:08.093Z"
   },
   {
    "duration": 29,
    "start_time": "2023-06-27T17:53:13.555Z"
   },
   {
    "duration": 30,
    "start_time": "2023-06-27T17:54:16.415Z"
   },
   {
    "duration": 36,
    "start_time": "2023-06-27T17:54:21.870Z"
   },
   {
    "duration": 38,
    "start_time": "2023-06-27T17:54:44.041Z"
   },
   {
    "duration": 105,
    "start_time": "2023-06-27T17:55:08.751Z"
   },
   {
    "duration": 120,
    "start_time": "2023-06-27T17:56:26.322Z"
   },
   {
    "duration": 128,
    "start_time": "2023-06-27T17:57:09.248Z"
   },
   {
    "duration": 4,
    "start_time": "2023-06-27T17:57:24.360Z"
   },
   {
    "duration": 1205,
    "start_time": "2023-06-27T17:57:24.873Z"
   },
   {
    "duration": 919,
    "start_time": "2023-06-27T17:57:26.080Z"
   },
   {
    "duration": 42,
    "start_time": "2023-06-27T17:57:27.001Z"
   },
   {
    "duration": 11,
    "start_time": "2023-06-27T17:57:27.045Z"
   },
   {
    "duration": 115,
    "start_time": "2023-06-27T17:57:27.059Z"
   },
   {
    "duration": 84,
    "start_time": "2023-06-27T17:57:27.175Z"
   },
   {
    "duration": 81,
    "start_time": "2023-06-27T17:57:28.084Z"
   },
   {
    "duration": 205,
    "start_time": "2023-06-27T17:57:29.650Z"
   },
   {
    "duration": 42,
    "start_time": "2023-06-27T17:57:31.971Z"
   },
   {
    "duration": 26,
    "start_time": "2023-06-27T17:57:32.481Z"
   },
   {
    "duration": 36,
    "start_time": "2023-06-27T17:57:33.493Z"
   },
   {
    "duration": 78,
    "start_time": "2023-06-27T17:57:35.964Z"
   },
   {
    "duration": 62,
    "start_time": "2023-06-27T17:57:36.756Z"
   },
   {
    "duration": 7,
    "start_time": "2023-06-27T17:57:36.975Z"
   },
   {
    "duration": 76,
    "start_time": "2023-06-27T17:57:37.348Z"
   },
   {
    "duration": 51,
    "start_time": "2023-06-27T17:57:38.681Z"
   },
   {
    "duration": 390,
    "start_time": "2023-06-27T17:57:39.172Z"
   },
   {
    "duration": 67,
    "start_time": "2023-06-27T17:57:40.324Z"
   },
   {
    "duration": 13,
    "start_time": "2023-06-27T17:57:43.153Z"
   },
   {
    "duration": 88,
    "start_time": "2023-06-27T17:57:43.783Z"
   },
   {
    "duration": 207,
    "start_time": "2023-06-27T17:57:45.148Z"
   },
   {
    "duration": 48,
    "start_time": "2023-06-27T17:57:47.032Z"
   },
   {
    "duration": 234,
    "start_time": "2023-06-27T17:57:48.528Z"
   },
   {
    "duration": 232,
    "start_time": "2023-06-27T17:57:49.076Z"
   },
   {
    "duration": 16,
    "start_time": "2023-06-27T17:57:52.032Z"
   },
   {
    "duration": 14,
    "start_time": "2023-06-27T17:57:52.531Z"
   },
   {
    "duration": 228,
    "start_time": "2023-06-27T17:57:54.900Z"
   },
   {
    "duration": 50,
    "start_time": "2023-06-27T17:57:55.861Z"
   },
   {
    "duration": 518,
    "start_time": "2023-06-27T17:57:57.693Z"
   },
   {
    "duration": 3190,
    "start_time": "2023-06-27T17:57:58.212Z"
   },
   {
    "duration": 64,
    "start_time": "2023-06-27T17:58:01.403Z"
   },
   {
    "duration": 30,
    "start_time": "2023-06-27T17:58:01.470Z"
   },
   {
    "duration": 89,
    "start_time": "2023-06-27T17:58:01.502Z"
   },
   {
    "duration": 12,
    "start_time": "2023-06-27T17:58:01.594Z"
   },
   {
    "duration": 31,
    "start_time": "2023-06-27T17:58:01.608Z"
   },
   {
    "duration": 60,
    "start_time": "2023-06-27T17:58:01.641Z"
   },
   {
    "duration": 34,
    "start_time": "2023-06-27T17:58:01.703Z"
   },
   {
    "duration": 5,
    "start_time": "2023-06-27T17:58:06.261Z"
   },
   {
    "duration": 123,
    "start_time": "2023-06-27T17:58:32.324Z"
   },
   {
    "duration": 148,
    "start_time": "2023-06-27T17:59:55.746Z"
   },
   {
    "duration": 6,
    "start_time": "2023-06-27T18:00:33.650Z"
   },
   {
    "duration": 8,
    "start_time": "2023-06-27T18:00:40.621Z"
   },
   {
    "duration": 9,
    "start_time": "2023-06-27T18:00:44.648Z"
   },
   {
    "duration": 20,
    "start_time": "2023-06-27T18:00:51.958Z"
   },
   {
    "duration": 106,
    "start_time": "2023-06-27T18:02:04.528Z"
   },
   {
    "duration": 21,
    "start_time": "2023-06-27T18:02:33.324Z"
   },
   {
    "duration": 26,
    "start_time": "2023-06-27T18:03:09.123Z"
   },
   {
    "duration": 69,
    "start_time": "2023-06-27T18:03:14.980Z"
   },
   {
    "duration": 16,
    "start_time": "2023-06-27T18:03:15.172Z"
   },
   {
    "duration": 11,
    "start_time": "2023-06-27T18:03:15.423Z"
   },
   {
    "duration": 28,
    "start_time": "2023-06-27T18:03:15.635Z"
   },
   {
    "duration": 30,
    "start_time": "2023-06-27T18:03:16.020Z"
   },
   {
    "duration": 121,
    "start_time": "2023-06-27T18:03:46.793Z"
   },
   {
    "duration": 82,
    "start_time": "2023-06-27T18:03:54.651Z"
   },
   {
    "duration": 4,
    "start_time": "2023-06-27T18:03:57.880Z"
   },
   {
    "duration": 114,
    "start_time": "2023-06-27T18:04:14.622Z"
   },
   {
    "duration": 118,
    "start_time": "2023-06-27T18:06:05.631Z"
   },
   {
    "duration": 103,
    "start_time": "2023-06-27T18:06:25.032Z"
   },
   {
    "duration": 118,
    "start_time": "2023-06-27T18:06:54.823Z"
   },
   {
    "duration": 105,
    "start_time": "2023-06-27T18:07:12.850Z"
   },
   {
    "duration": 7,
    "start_time": "2023-06-27T18:09:51.014Z"
   },
   {
    "duration": 108,
    "start_time": "2023-06-27T18:11:18.846Z"
   },
   {
    "duration": 130,
    "start_time": "2023-06-27T18:11:48.916Z"
   },
   {
    "duration": 8,
    "start_time": "2023-06-27T18:11:50.114Z"
   },
   {
    "duration": 138,
    "start_time": "2023-06-27T18:11:51.193Z"
   },
   {
    "duration": 9,
    "start_time": "2023-06-27T18:15:59.251Z"
   },
   {
    "duration": 118,
    "start_time": "2023-06-27T18:16:01.283Z"
   },
   {
    "duration": 91,
    "start_time": "2023-06-27T18:16:24.831Z"
   },
   {
    "duration": 113,
    "start_time": "2023-06-27T18:16:40.359Z"
   },
   {
    "duration": 545,
    "start_time": "2023-06-27T18:17:03.416Z"
   },
   {
    "duration": 86,
    "start_time": "2023-06-27T18:17:16.935Z"
   },
   {
    "duration": 300,
    "start_time": "2023-06-27T18:18:49.529Z"
   },
   {
    "duration": 60,
    "start_time": "2023-06-27T18:19:00.331Z"
   },
   {
    "duration": 46,
    "start_time": "2023-06-27T18:19:17.243Z"
   },
   {
    "duration": 51,
    "start_time": "2023-06-27T18:19:25.328Z"
   },
   {
    "duration": 1607,
    "start_time": "2023-06-27T18:49:53.734Z"
   },
   {
    "duration": 1628,
    "start_time": "2023-06-27T18:49:55.343Z"
   },
   {
    "duration": 1115,
    "start_time": "2023-06-27T18:49:56.972Z"
   },
   {
    "duration": 57,
    "start_time": "2023-06-27T18:49:58.089Z"
   },
   {
    "duration": 16,
    "start_time": "2023-06-27T18:49:58.151Z"
   },
   {
    "duration": 128,
    "start_time": "2023-06-27T18:49:58.169Z"
   },
   {
    "duration": 129,
    "start_time": "2023-06-27T18:49:58.311Z"
   },
   {
    "duration": 117,
    "start_time": "2023-06-27T18:49:58.445Z"
   },
   {
    "duration": 479,
    "start_time": "2023-06-27T18:49:58.564Z"
   },
   {
    "duration": 48,
    "start_time": "2023-06-27T18:49:59.046Z"
   },
   {
    "duration": 44,
    "start_time": "2023-06-27T18:49:59.095Z"
   },
   {
    "duration": 34,
    "start_time": "2023-06-27T18:49:59.141Z"
   },
   {
    "duration": 84,
    "start_time": "2023-06-27T18:49:59.176Z"
   },
   {
    "duration": 82,
    "start_time": "2023-06-27T18:49:59.263Z"
   },
   {
    "duration": 6,
    "start_time": "2023-06-27T18:49:59.347Z"
   },
   {
    "duration": 127,
    "start_time": "2023-06-27T18:49:59.354Z"
   },
   {
    "duration": 79,
    "start_time": "2023-06-27T18:49:59.483Z"
   },
   {
    "duration": 374,
    "start_time": "2023-06-27T18:49:59.564Z"
   },
   {
    "duration": 90,
    "start_time": "2023-06-27T18:49:59.939Z"
   },
   {
    "duration": 17,
    "start_time": "2023-06-27T18:50:00.031Z"
   },
   {
    "duration": 190,
    "start_time": "2023-06-27T18:50:00.050Z"
   },
   {
    "duration": 229,
    "start_time": "2023-06-27T18:50:00.242Z"
   },
   {
    "duration": 64,
    "start_time": "2023-06-27T18:50:00.473Z"
   },
   {
    "duration": 314,
    "start_time": "2023-06-27T18:50:00.538Z"
   },
   {
    "duration": 282,
    "start_time": "2023-06-27T18:50:00.854Z"
   },
   {
    "duration": 19,
    "start_time": "2023-06-27T18:50:01.137Z"
   },
   {
    "duration": 82,
    "start_time": "2023-06-27T18:50:01.158Z"
   },
   {
    "duration": 394,
    "start_time": "2023-06-27T18:50:01.242Z"
   },
   {
    "duration": 56,
    "start_time": "2023-06-27T18:50:01.638Z"
   },
   {
    "duration": 544,
    "start_time": "2023-06-27T18:50:01.696Z"
   },
   {
    "duration": 3618,
    "start_time": "2023-06-27T18:50:02.242Z"
   },
   {
    "duration": 105,
    "start_time": "2023-06-27T18:50:05.862Z"
   },
   {
    "duration": 168,
    "start_time": "2023-06-27T18:50:05.969Z"
   },
   {
    "duration": 8,
    "start_time": "2023-06-27T18:50:06.140Z"
   },
   {
    "duration": 364,
    "start_time": "2023-06-27T18:50:06.149Z"
   },
   {
    "duration": 33,
    "start_time": "2023-06-27T18:50:06.515Z"
   },
   {
    "duration": 32,
    "start_time": "2023-06-27T18:50:06.550Z"
   },
   {
    "duration": 6,
    "start_time": "2023-06-27T18:50:06.584Z"
   },
   {
    "duration": 303,
    "start_time": "2023-06-27T18:50:06.592Z"
   },
   {
    "duration": 333,
    "start_time": "2023-06-27T18:50:06.896Z"
   },
   {
    "duration": 2,
    "start_time": "2023-06-27T18:50:07.233Z"
   },
   {
    "duration": 34,
    "start_time": "2023-06-27T18:50:07.237Z"
   },
   {
    "duration": 57,
    "start_time": "2023-06-27T18:50:07.272Z"
   },
   {
    "duration": 1403,
    "start_time": "2023-06-27T18:52:21.022Z"
   },
   {
    "duration": 1553,
    "start_time": "2023-06-27T18:52:22.438Z"
   },
   {
    "duration": 1191,
    "start_time": "2023-06-27T18:52:23.992Z"
   },
   {
    "duration": 63,
    "start_time": "2023-06-27T18:52:25.185Z"
   },
   {
    "duration": 18,
    "start_time": "2023-06-27T18:52:25.250Z"
   },
   {
    "duration": 127,
    "start_time": "2023-06-27T18:52:25.270Z"
   },
   {
    "duration": 146,
    "start_time": "2023-06-27T18:52:25.399Z"
   },
   {
    "duration": 121,
    "start_time": "2023-06-27T18:52:25.550Z"
   },
   {
    "duration": 486,
    "start_time": "2023-06-27T18:52:25.673Z"
   },
   {
    "duration": 72,
    "start_time": "2023-06-27T18:52:26.161Z"
   },
   {
    "duration": 19,
    "start_time": "2023-06-27T18:52:26.238Z"
   },
   {
    "duration": 62,
    "start_time": "2023-06-27T18:52:26.259Z"
   },
   {
    "duration": 121,
    "start_time": "2023-06-27T18:52:26.326Z"
   },
   {
    "duration": 96,
    "start_time": "2023-06-27T18:52:26.451Z"
   },
   {
    "duration": 7,
    "start_time": "2023-06-27T18:52:26.549Z"
   },
   {
    "duration": 105,
    "start_time": "2023-06-27T18:52:26.557Z"
   },
   {
    "duration": 75,
    "start_time": "2023-06-27T18:52:26.664Z"
   },
   {
    "duration": 307,
    "start_time": "2023-06-27T18:52:26.741Z"
   },
   {
    "duration": 93,
    "start_time": "2023-06-27T18:52:27.050Z"
   },
   {
    "duration": 15,
    "start_time": "2023-06-27T18:52:27.144Z"
   },
   {
    "duration": 126,
    "start_time": "2023-06-27T18:52:27.161Z"
   },
   {
    "duration": 282,
    "start_time": "2023-06-27T18:52:27.288Z"
   },
   {
    "duration": 80,
    "start_time": "2023-06-27T18:52:27.572Z"
   },
   {
    "duration": 293,
    "start_time": "2023-06-27T18:52:27.654Z"
   },
   {
    "duration": 288,
    "start_time": "2023-06-27T18:52:27.948Z"
   },
   {
    "duration": 25,
    "start_time": "2023-06-27T18:52:28.244Z"
   },
   {
    "duration": 21,
    "start_time": "2023-06-27T18:52:28.271Z"
   },
   {
    "duration": 443,
    "start_time": "2023-06-27T18:52:28.294Z"
   },
   {
    "duration": 67,
    "start_time": "2023-06-27T18:52:28.742Z"
   },
   {
    "duration": 571,
    "start_time": "2023-06-27T18:52:28.810Z"
   },
   {
    "duration": 3650,
    "start_time": "2023-06-27T18:52:29.383Z"
   },
   {
    "duration": 80,
    "start_time": "2023-06-27T18:52:33.035Z"
   },
   {
    "duration": 170,
    "start_time": "2023-06-27T18:52:33.118Z"
   },
   {
    "duration": 6,
    "start_time": "2023-06-27T18:52:33.290Z"
   },
   {
    "duration": 411,
    "start_time": "2023-06-27T18:52:33.306Z"
   },
   {
    "duration": 43,
    "start_time": "2023-06-27T18:52:33.729Z"
   },
   {
    "duration": 23,
    "start_time": "2023-06-27T18:52:33.773Z"
   },
   {
    "duration": 46,
    "start_time": "2023-06-27T18:52:33.798Z"
   },
   {
    "duration": 142,
    "start_time": "2023-06-27T18:52:33.846Z"
   },
   {
    "duration": 0,
    "start_time": "2023-06-27T18:52:33.990Z"
   },
   {
    "duration": 0,
    "start_time": "2023-06-27T18:52:33.992Z"
   },
   {
    "duration": 0,
    "start_time": "2023-06-27T18:52:33.993Z"
   },
   {
    "duration": 0,
    "start_time": "2023-06-27T18:52:33.999Z"
   },
   {
    "duration": 0,
    "start_time": "2023-06-27T18:52:34.000Z"
   },
   {
    "duration": 0,
    "start_time": "2023-06-27T18:52:34.001Z"
   },
   {
    "duration": 0,
    "start_time": "2023-06-27T18:52:34.001Z"
   },
   {
    "duration": 0,
    "start_time": "2023-06-27T18:52:34.002Z"
   },
   {
    "duration": 0,
    "start_time": "2023-06-27T18:52:34.003Z"
   },
   {
    "duration": 0,
    "start_time": "2023-06-27T18:52:34.003Z"
   },
   {
    "duration": 0,
    "start_time": "2023-06-27T18:52:34.004Z"
   },
   {
    "duration": 0,
    "start_time": "2023-06-27T18:52:34.004Z"
   },
   {
    "duration": 0,
    "start_time": "2023-06-27T18:52:34.005Z"
   },
   {
    "duration": 0,
    "start_time": "2023-06-27T18:52:34.006Z"
   },
   {
    "duration": 280,
    "start_time": "2023-06-27T18:54:58.977Z"
   },
   {
    "duration": 1487,
    "start_time": "2023-06-27T19:08:38.334Z"
   },
   {
    "duration": 1591,
    "start_time": "2023-06-27T19:08:39.830Z"
   },
   {
    "duration": 1224,
    "start_time": "2023-06-27T19:08:41.434Z"
   },
   {
    "duration": 74,
    "start_time": "2023-06-27T19:08:42.660Z"
   },
   {
    "duration": 18,
    "start_time": "2023-06-27T19:08:42.746Z"
   },
   {
    "duration": 125,
    "start_time": "2023-06-27T19:08:42.767Z"
   },
   {
    "duration": 125,
    "start_time": "2023-06-27T19:08:42.893Z"
   },
   {
    "duration": 123,
    "start_time": "2023-06-27T19:08:43.026Z"
   },
   {
    "duration": 494,
    "start_time": "2023-06-27T19:08:43.151Z"
   },
   {
    "duration": 83,
    "start_time": "2023-06-27T19:08:43.646Z"
   },
   {
    "duration": 23,
    "start_time": "2023-06-27T19:08:43.730Z"
   },
   {
    "duration": 32,
    "start_time": "2023-06-27T19:08:43.755Z"
   },
   {
    "duration": 87,
    "start_time": "2023-06-27T19:08:43.806Z"
   },
   {
    "duration": 86,
    "start_time": "2023-06-27T19:08:43.896Z"
   },
   {
    "duration": 47,
    "start_time": "2023-06-27T19:08:43.984Z"
   },
   {
    "duration": 103,
    "start_time": "2023-06-27T19:08:44.039Z"
   },
   {
    "duration": 55,
    "start_time": "2023-06-27T19:08:44.144Z"
   },
   {
    "duration": 304,
    "start_time": "2023-06-27T19:08:44.201Z"
   },
   {
    "duration": 75,
    "start_time": "2023-06-27T19:08:44.507Z"
   },
   {
    "duration": 33,
    "start_time": "2023-06-27T19:08:44.584Z"
   },
   {
    "duration": 133,
    "start_time": "2023-06-27T19:08:44.618Z"
   },
   {
    "duration": 223,
    "start_time": "2023-06-27T19:08:44.753Z"
   },
   {
    "duration": 72,
    "start_time": "2023-06-27T19:08:44.978Z"
   },
   {
    "duration": 279,
    "start_time": "2023-06-27T19:08:45.051Z"
   },
   {
    "duration": 306,
    "start_time": "2023-06-27T19:08:45.338Z"
   },
   {
    "duration": 23,
    "start_time": "2023-06-27T19:08:45.647Z"
   },
   {
    "duration": 24,
    "start_time": "2023-06-27T19:08:45.672Z"
   },
   {
    "duration": 356,
    "start_time": "2023-06-27T19:08:45.698Z"
   },
   {
    "duration": 82,
    "start_time": "2023-06-27T19:08:46.056Z"
   },
   {
    "duration": 620,
    "start_time": "2023-06-27T19:08:46.143Z"
   },
   {
    "duration": 3619,
    "start_time": "2023-06-27T19:08:46.765Z"
   },
   {
    "duration": 88,
    "start_time": "2023-06-27T19:08:50.385Z"
   },
   {
    "duration": 143,
    "start_time": "2023-06-27T19:08:50.474Z"
   },
   {
    "duration": 13,
    "start_time": "2023-06-27T19:08:50.629Z"
   },
   {
    "duration": 299,
    "start_time": "2023-06-27T19:08:50.643Z"
   },
   {
    "duration": 19,
    "start_time": "2023-06-27T19:08:50.943Z"
   },
   {
    "duration": 22,
    "start_time": "2023-06-27T19:08:50.963Z"
   },
   {
    "duration": 186,
    "start_time": "2023-06-27T19:08:50.986Z"
   },
   {
    "duration": 0,
    "start_time": "2023-06-27T19:08:51.174Z"
   },
   {
    "duration": 0,
    "start_time": "2023-06-27T19:08:51.176Z"
   },
   {
    "duration": 0,
    "start_time": "2023-06-27T19:08:51.177Z"
   },
   {
    "duration": 0,
    "start_time": "2023-06-27T19:08:51.178Z"
   },
   {
    "duration": 0,
    "start_time": "2023-06-27T19:08:51.180Z"
   },
   {
    "duration": 0,
    "start_time": "2023-06-27T19:08:51.181Z"
   },
   {
    "duration": 0,
    "start_time": "2023-06-27T19:08:51.182Z"
   },
   {
    "duration": 0,
    "start_time": "2023-06-27T19:08:51.183Z"
   },
   {
    "duration": 0,
    "start_time": "2023-06-27T19:08:51.184Z"
   },
   {
    "duration": 0,
    "start_time": "2023-06-27T19:08:51.185Z"
   },
   {
    "duration": 0,
    "start_time": "2023-06-27T19:08:51.187Z"
   },
   {
    "duration": 0,
    "start_time": "2023-06-27T19:08:51.188Z"
   },
   {
    "duration": 0,
    "start_time": "2023-06-27T19:08:51.190Z"
   },
   {
    "duration": 333,
    "start_time": "2023-06-27T19:09:53.026Z"
   },
   {
    "duration": 1924,
    "start_time": "2023-06-27T19:34:38.358Z"
   },
   {
    "duration": 1781,
    "start_time": "2023-06-27T19:34:40.284Z"
   },
   {
    "duration": 1294,
    "start_time": "2023-06-27T19:34:42.067Z"
   },
   {
    "duration": 76,
    "start_time": "2023-06-27T19:34:43.363Z"
   },
   {
    "duration": 33,
    "start_time": "2023-06-27T19:34:43.442Z"
   },
   {
    "duration": 152,
    "start_time": "2023-06-27T19:34:43.477Z"
   },
   {
    "duration": 129,
    "start_time": "2023-06-27T19:34:43.631Z"
   },
   {
    "duration": 118,
    "start_time": "2023-06-27T19:34:43.762Z"
   },
   {
    "duration": 494,
    "start_time": "2023-06-27T19:34:43.882Z"
   },
   {
    "duration": 94,
    "start_time": "2023-06-27T19:34:44.378Z"
   },
   {
    "duration": 26,
    "start_time": "2023-06-27T19:34:44.474Z"
   },
   {
    "duration": 132,
    "start_time": "2023-06-27T19:34:44.501Z"
   },
   {
    "duration": 113,
    "start_time": "2023-06-27T19:34:44.635Z"
   },
   {
    "duration": 80,
    "start_time": "2023-06-27T19:34:44.753Z"
   },
   {
    "duration": 14,
    "start_time": "2023-06-27T19:34:44.834Z"
   },
   {
    "duration": 102,
    "start_time": "2023-06-27T19:34:44.849Z"
   },
   {
    "duration": 76,
    "start_time": "2023-06-27T19:34:44.953Z"
   },
   {
    "duration": 323,
    "start_time": "2023-06-27T19:34:45.030Z"
   },
   {
    "duration": 99,
    "start_time": "2023-06-27T19:34:45.355Z"
   },
   {
    "duration": 17,
    "start_time": "2023-06-27T19:34:45.455Z"
   },
   {
    "duration": 160,
    "start_time": "2023-06-27T19:34:45.474Z"
   },
   {
    "duration": 231,
    "start_time": "2023-06-27T19:34:45.637Z"
   },
   {
    "duration": 75,
    "start_time": "2023-06-27T19:34:45.870Z"
   },
   {
    "duration": 336,
    "start_time": "2023-06-27T19:34:45.947Z"
   },
   {
    "duration": 327,
    "start_time": "2023-06-27T19:34:46.286Z"
   },
   {
    "duration": 30,
    "start_time": "2023-06-27T19:34:46.633Z"
   },
   {
    "duration": 37,
    "start_time": "2023-06-27T19:34:46.666Z"
   },
   {
    "duration": 377,
    "start_time": "2023-06-27T19:34:46.705Z"
   },
   {
    "duration": 82,
    "start_time": "2023-06-27T19:34:47.084Z"
   },
   {
    "duration": 592,
    "start_time": "2023-06-27T19:34:47.168Z"
   },
   {
    "duration": 3781,
    "start_time": "2023-06-27T19:34:47.763Z"
   },
   {
    "duration": 98,
    "start_time": "2023-06-27T19:34:51.548Z"
   },
   {
    "duration": 184,
    "start_time": "2023-06-27T19:34:51.649Z"
   },
   {
    "duration": 11,
    "start_time": "2023-06-27T19:34:51.846Z"
   },
   {
    "duration": 380,
    "start_time": "2023-06-27T19:34:51.859Z"
   },
   {
    "duration": 26,
    "start_time": "2023-06-27T19:34:52.240Z"
   },
   {
    "duration": 45,
    "start_time": "2023-06-27T19:34:52.268Z"
   },
   {
    "duration": 374,
    "start_time": "2023-06-27T19:34:52.315Z"
   },
   {
    "duration": 21,
    "start_time": "2023-06-27T19:34:52.691Z"
   },
   {
    "duration": 378,
    "start_time": "2023-06-27T19:34:52.714Z"
   },
   {
    "duration": 90,
    "start_time": "2023-06-27T19:34:53.100Z"
   },
   {
    "duration": 1224,
    "start_time": "2023-06-27T19:39:10.444Z"
   },
   {
    "duration": 1411,
    "start_time": "2023-06-27T19:39:11.670Z"
   },
   {
    "duration": 983,
    "start_time": "2023-06-27T19:39:13.082Z"
   },
   {
    "duration": 64,
    "start_time": "2023-06-27T19:39:14.068Z"
   },
   {
    "duration": 20,
    "start_time": "2023-06-27T19:39:14.136Z"
   },
   {
    "duration": 113,
    "start_time": "2023-06-27T19:39:14.157Z"
   },
   {
    "duration": 99,
    "start_time": "2023-06-27T19:39:14.271Z"
   },
   {
    "duration": 107,
    "start_time": "2023-06-27T19:39:14.371Z"
   },
   {
    "duration": 401,
    "start_time": "2023-06-27T19:39:14.479Z"
   },
   {
    "duration": 80,
    "start_time": "2023-06-27T19:39:14.882Z"
   },
   {
    "duration": 17,
    "start_time": "2023-06-27T19:39:14.964Z"
   },
   {
    "duration": 114,
    "start_time": "2023-06-27T19:39:14.983Z"
   },
   {
    "duration": 87,
    "start_time": "2023-06-27T19:39:15.099Z"
   },
   {
    "duration": 73,
    "start_time": "2023-06-27T19:39:15.190Z"
   },
   {
    "duration": 6,
    "start_time": "2023-06-27T19:39:15.265Z"
   },
   {
    "duration": 145,
    "start_time": "2023-06-27T19:39:15.272Z"
   },
   {
    "duration": 68,
    "start_time": "2023-06-27T19:39:15.418Z"
   },
   {
    "duration": 295,
    "start_time": "2023-06-27T19:39:15.488Z"
   },
   {
    "duration": 83,
    "start_time": "2023-06-27T19:39:15.785Z"
   },
   {
    "duration": 11,
    "start_time": "2023-06-27T19:39:15.870Z"
   },
   {
    "duration": 107,
    "start_time": "2023-06-27T19:39:15.882Z"
   },
   {
    "duration": 242,
    "start_time": "2023-06-27T19:39:15.991Z"
   },
   {
    "duration": 56,
    "start_time": "2023-06-27T19:39:16.235Z"
   },
   {
    "duration": 299,
    "start_time": "2023-06-27T19:39:16.293Z"
   },
   {
    "duration": 270,
    "start_time": "2023-06-27T19:39:16.593Z"
   },
   {
    "duration": 15,
    "start_time": "2023-06-27T19:39:16.864Z"
   },
   {
    "duration": 32,
    "start_time": "2023-06-27T19:39:16.881Z"
   },
   {
    "duration": 367,
    "start_time": "2023-06-27T19:39:16.914Z"
   },
   {
    "duration": 72,
    "start_time": "2023-06-27T19:39:17.282Z"
   },
   {
    "duration": 477,
    "start_time": "2023-06-27T19:39:17.356Z"
   },
   {
    "duration": 3555,
    "start_time": "2023-06-27T19:39:17.835Z"
   },
   {
    "duration": 135,
    "start_time": "2023-06-27T19:39:21.392Z"
   },
   {
    "duration": 141,
    "start_time": "2023-06-27T19:39:21.542Z"
   },
   {
    "duration": 6,
    "start_time": "2023-06-27T19:39:21.684Z"
   },
   {
    "duration": 441,
    "start_time": "2023-06-27T19:39:21.692Z"
   },
   {
    "duration": 24,
    "start_time": "2023-06-27T19:39:22.146Z"
   },
   {
    "duration": 22,
    "start_time": "2023-06-27T19:39:22.172Z"
   },
   {
    "duration": 358,
    "start_time": "2023-06-27T19:39:22.195Z"
   },
   {
    "duration": 3,
    "start_time": "2023-06-27T19:39:22.554Z"
   },
   {
    "duration": 335,
    "start_time": "2023-06-27T19:39:22.559Z"
   },
   {
    "duration": 87,
    "start_time": "2023-06-27T19:39:22.899Z"
   },
   {
    "duration": 1559,
    "start_time": "2023-06-27T20:04:50.554Z"
   },
   {
    "duration": 1671,
    "start_time": "2023-06-27T20:04:52.115Z"
   },
   {
    "duration": 1294,
    "start_time": "2023-06-27T20:04:53.788Z"
   },
   {
    "duration": 73,
    "start_time": "2023-06-27T20:04:55.084Z"
   },
   {
    "duration": 15,
    "start_time": "2023-06-27T20:04:55.161Z"
   },
   {
    "duration": 146,
    "start_time": "2023-06-27T20:04:55.177Z"
   },
   {
    "duration": 128,
    "start_time": "2023-06-27T20:04:55.345Z"
   },
   {
    "duration": 188,
    "start_time": "2023-06-27T20:04:55.475Z"
   },
   {
    "duration": 581,
    "start_time": "2023-06-27T20:04:55.666Z"
   },
   {
    "duration": 68,
    "start_time": "2023-06-27T20:04:56.249Z"
   },
   {
    "duration": 36,
    "start_time": "2023-06-27T20:04:56.319Z"
   },
   {
    "duration": 84,
    "start_time": "2023-06-27T20:04:56.357Z"
   },
   {
    "duration": 147,
    "start_time": "2023-06-27T20:04:56.443Z"
   },
   {
    "duration": 101,
    "start_time": "2023-06-27T20:04:56.595Z"
   },
   {
    "duration": 14,
    "start_time": "2023-06-27T20:04:56.698Z"
   },
   {
    "duration": 201,
    "start_time": "2023-06-27T20:04:56.714Z"
   },
   {
    "duration": 99,
    "start_time": "2023-06-27T20:04:56.934Z"
   },
   {
    "duration": 422,
    "start_time": "2023-06-27T20:04:57.035Z"
   },
   {
    "duration": 90,
    "start_time": "2023-06-27T20:04:57.459Z"
   },
   {
    "duration": 14,
    "start_time": "2023-06-27T20:04:57.551Z"
   },
   {
    "duration": 124,
    "start_time": "2023-06-27T20:04:57.568Z"
   },
   {
    "duration": 287,
    "start_time": "2023-06-27T20:04:57.694Z"
   },
   {
    "duration": 75,
    "start_time": "2023-06-27T20:04:57.983Z"
   },
   {
    "duration": 403,
    "start_time": "2023-06-27T20:04:58.061Z"
   },
   {
    "duration": 292,
    "start_time": "2023-06-27T20:04:58.467Z"
   },
   {
    "duration": 18,
    "start_time": "2023-06-27T20:04:58.761Z"
   },
   {
    "duration": 86,
    "start_time": "2023-06-27T20:04:58.781Z"
   },
   {
    "duration": 419,
    "start_time": "2023-06-27T20:04:58.870Z"
   },
   {
    "duration": 83,
    "start_time": "2023-06-27T20:04:59.291Z"
   },
   {
    "duration": 624,
    "start_time": "2023-06-27T20:04:59.375Z"
   },
   {
    "duration": 3924,
    "start_time": "2023-06-27T20:05:00.009Z"
   },
   {
    "duration": 70,
    "start_time": "2023-06-27T20:05:03.943Z"
   },
   {
    "duration": 173,
    "start_time": "2023-06-27T20:05:04.017Z"
   },
   {
    "duration": 37,
    "start_time": "2023-06-27T20:05:04.192Z"
   },
   {
    "duration": 313,
    "start_time": "2023-06-27T20:05:04.241Z"
   },
   {
    "duration": 25,
    "start_time": "2023-06-27T20:05:04.555Z"
   },
   {
    "duration": 64,
    "start_time": "2023-06-27T20:05:04.581Z"
   },
   {
    "duration": 322,
    "start_time": "2023-06-27T20:05:04.651Z"
   },
   {
    "duration": 3,
    "start_time": "2023-06-27T20:05:04.975Z"
   },
   {
    "duration": 299,
    "start_time": "2023-06-27T20:05:04.980Z"
   },
   {
    "duration": 107,
    "start_time": "2023-06-27T20:05:05.283Z"
   },
   {
    "duration": 101588,
    "start_time": "2023-06-27T20:05:05.399Z"
   },
   {
    "duration": 144,
    "start_time": "2023-06-27T20:06:46.989Z"
   },
   {
    "duration": 12,
    "start_time": "2023-06-27T20:06:47.136Z"
   },
   {
    "duration": 0,
    "start_time": "2023-06-27T20:06:47.150Z"
   },
   {
    "duration": 0,
    "start_time": "2023-06-27T20:06:47.151Z"
   },
   {
    "duration": 0,
    "start_time": "2023-06-27T20:06:47.152Z"
   },
   {
    "duration": 0,
    "start_time": "2023-06-27T20:06:47.155Z"
   },
   {
    "duration": 0,
    "start_time": "2023-06-27T20:06:47.156Z"
   },
   {
    "duration": 0,
    "start_time": "2023-06-27T20:06:47.157Z"
   },
   {
    "duration": 0,
    "start_time": "2023-06-27T20:06:47.158Z"
   },
   {
    "duration": 0,
    "start_time": "2023-06-27T20:06:47.159Z"
   },
   {
    "duration": 126,
    "start_time": "2023-06-27T20:07:11.560Z"
   },
   {
    "duration": 142,
    "start_time": "2023-06-27T20:07:30.387Z"
   },
   {
    "duration": 4487,
    "start_time": "2023-06-27T20:08:05.434Z"
   },
   {
    "duration": 5917,
    "start_time": "2023-06-27T20:09:13.331Z"
   },
   {
    "duration": 9892,
    "start_time": "2023-06-27T20:09:36.054Z"
   },
   {
    "duration": 805,
    "start_time": "2023-06-27T20:17:42.945Z"
   },
   {
    "duration": 28,
    "start_time": "2023-06-27T20:17:51.987Z"
   },
   {
    "duration": 4,
    "start_time": "2023-06-27T20:17:55.946Z"
   },
   {
    "duration": 1352,
    "start_time": "2023-06-28T06:33:13.814Z"
   },
   {
    "duration": 3593,
    "start_time": "2023-06-28T06:33:15.169Z"
   },
   {
    "duration": 1115,
    "start_time": "2023-06-28T06:33:18.766Z"
   },
   {
    "duration": 52,
    "start_time": "2023-06-28T06:33:19.883Z"
   },
   {
    "duration": 31,
    "start_time": "2023-06-28T06:33:19.937Z"
   },
   {
    "duration": 111,
    "start_time": "2023-06-28T06:33:19.970Z"
   },
   {
    "duration": 99,
    "start_time": "2023-06-28T06:33:20.083Z"
   },
   {
    "duration": 125,
    "start_time": "2023-06-28T06:33:20.184Z"
   },
   {
    "duration": 732,
    "start_time": "2023-06-28T06:33:20.311Z"
   },
   {
    "duration": 82,
    "start_time": "2023-06-28T06:33:21.047Z"
   },
   {
    "duration": 18,
    "start_time": "2023-06-28T06:33:21.132Z"
   },
   {
    "duration": 46,
    "start_time": "2023-06-28T06:33:21.152Z"
   },
   {
    "duration": 112,
    "start_time": "2023-06-28T06:33:21.200Z"
   },
   {
    "duration": 93,
    "start_time": "2023-06-28T06:33:21.314Z"
   },
   {
    "duration": 7,
    "start_time": "2023-06-28T06:33:21.409Z"
   },
   {
    "duration": 117,
    "start_time": "2023-06-28T06:33:21.417Z"
   },
   {
    "duration": 60,
    "start_time": "2023-06-28T06:33:21.537Z"
   },
   {
    "duration": 298,
    "start_time": "2023-06-28T06:33:21.599Z"
   },
   {
    "duration": 101,
    "start_time": "2023-06-28T06:33:21.899Z"
   },
   {
    "duration": 14,
    "start_time": "2023-06-28T06:33:22.002Z"
   },
   {
    "duration": 142,
    "start_time": "2023-06-28T06:33:22.018Z"
   },
   {
    "duration": 259,
    "start_time": "2023-06-28T06:33:22.162Z"
   },
   {
    "duration": 65,
    "start_time": "2023-06-28T06:33:22.424Z"
   },
   {
    "duration": 380,
    "start_time": "2023-06-28T06:33:22.491Z"
   },
   {
    "duration": 278,
    "start_time": "2023-06-28T06:33:22.872Z"
   },
   {
    "duration": 22,
    "start_time": "2023-06-28T06:33:23.153Z"
   },
   {
    "duration": 17,
    "start_time": "2023-06-28T06:33:23.178Z"
   },
   {
    "duration": 340,
    "start_time": "2023-06-28T06:33:23.199Z"
   },
   {
    "duration": 63,
    "start_time": "2023-06-28T06:33:23.541Z"
   },
   {
    "duration": 561,
    "start_time": "2023-06-28T06:33:23.606Z"
   },
   {
    "duration": 3343,
    "start_time": "2023-06-28T06:33:24.169Z"
   },
   {
    "duration": 70,
    "start_time": "2023-06-28T06:33:27.514Z"
   },
   {
    "duration": 182,
    "start_time": "2023-06-28T06:33:27.586Z"
   },
   {
    "duration": 6,
    "start_time": "2023-06-28T06:33:27.772Z"
   },
   {
    "duration": 311,
    "start_time": "2023-06-28T06:33:27.780Z"
   },
   {
    "duration": 22,
    "start_time": "2023-06-28T06:33:28.093Z"
   },
   {
    "duration": 41,
    "start_time": "2023-06-28T06:33:28.117Z"
   },
   {
    "duration": 282,
    "start_time": "2023-06-28T06:33:28.160Z"
   },
   {
    "duration": 2,
    "start_time": "2023-06-28T06:33:28.444Z"
   },
   {
    "duration": 332,
    "start_time": "2023-06-28T06:33:28.448Z"
   },
   {
    "duration": 101,
    "start_time": "2023-06-28T06:33:28.783Z"
   },
   {
    "duration": 49085,
    "start_time": "2023-06-28T06:33:28.886Z"
   },
   {
    "duration": 710,
    "start_time": "2023-06-28T06:34:17.973Z"
   },
   {
    "duration": 81,
    "start_time": "2023-06-28T06:34:18.686Z"
   },
   {
    "duration": 399,
    "start_time": "2023-06-28T06:34:18.769Z"
   },
   {
    "duration": 101,
    "start_time": "2023-06-28T06:34:19.170Z"
   },
   {
    "duration": 5,
    "start_time": "2023-06-28T06:34:19.273Z"
   },
   {
    "duration": 10087,
    "start_time": "2023-06-28T06:34:19.367Z"
   },
   {
    "duration": 848,
    "start_time": "2023-06-28T06:34:29.456Z"
   },
   {
    "duration": 22,
    "start_time": "2023-06-28T06:34:30.305Z"
   },
   {
    "duration": 20,
    "start_time": "2023-06-28T06:34:30.329Z"
   },
   {
    "duration": 140,
    "start_time": "2023-06-28T06:49:42.014Z"
   },
   {
    "duration": 36,
    "start_time": "2023-06-28T06:52:06.798Z"
   },
   {
    "duration": 38,
    "start_time": "2023-06-28T06:52:34.631Z"
   },
   {
    "duration": 37,
    "start_time": "2023-06-28T07:01:47.195Z"
   },
   {
    "duration": 1399,
    "start_time": "2023-06-28T07:02:47.091Z"
   },
   {
    "duration": 1646,
    "start_time": "2023-06-28T07:02:48.493Z"
   },
   {
    "duration": 1335,
    "start_time": "2023-06-28T07:02:50.142Z"
   },
   {
    "duration": 62,
    "start_time": "2023-06-28T07:02:51.480Z"
   },
   {
    "duration": 35,
    "start_time": "2023-06-28T07:02:51.544Z"
   },
   {
    "duration": 169,
    "start_time": "2023-06-28T07:02:51.581Z"
   },
   {
    "duration": 102,
    "start_time": "2023-06-28T07:02:51.752Z"
   },
   {
    "duration": 159,
    "start_time": "2023-06-28T07:02:51.856Z"
   },
   {
    "duration": 530,
    "start_time": "2023-06-28T07:02:52.017Z"
   },
   {
    "duration": 77,
    "start_time": "2023-06-28T07:02:52.551Z"
   },
   {
    "duration": 38,
    "start_time": "2023-06-28T07:02:52.630Z"
   },
   {
    "duration": 39,
    "start_time": "2023-06-28T07:02:52.671Z"
   },
   {
    "duration": 135,
    "start_time": "2023-06-28T07:02:52.712Z"
   },
   {
    "duration": 103,
    "start_time": "2023-06-28T07:02:52.851Z"
   },
   {
    "duration": 12,
    "start_time": "2023-06-28T07:02:52.956Z"
   },
   {
    "duration": 118,
    "start_time": "2023-06-28T07:02:52.969Z"
   },
   {
    "duration": 58,
    "start_time": "2023-06-28T07:02:53.089Z"
   },
   {
    "duration": 328,
    "start_time": "2023-06-28T07:02:53.149Z"
   },
   {
    "duration": 96,
    "start_time": "2023-06-28T07:02:53.480Z"
   },
   {
    "duration": 15,
    "start_time": "2023-06-28T07:02:53.579Z"
   },
   {
    "duration": 141,
    "start_time": "2023-06-28T07:02:53.597Z"
   },
   {
    "duration": 312,
    "start_time": "2023-06-28T07:02:53.740Z"
   },
   {
    "duration": 81,
    "start_time": "2023-06-28T07:02:54.055Z"
   },
   {
    "duration": 362,
    "start_time": "2023-06-28T07:02:54.138Z"
   },
   {
    "duration": 279,
    "start_time": "2023-06-28T07:02:54.502Z"
   },
   {
    "duration": 19,
    "start_time": "2023-06-28T07:02:54.782Z"
   },
   {
    "duration": 39,
    "start_time": "2023-06-28T07:02:54.803Z"
   },
   {
    "duration": 311,
    "start_time": "2023-06-28T07:02:54.847Z"
   },
   {
    "duration": 62,
    "start_time": "2023-06-28T07:02:55.160Z"
   },
   {
    "duration": 584,
    "start_time": "2023-06-28T07:02:55.224Z"
   },
   {
    "duration": 3361,
    "start_time": "2023-06-28T07:02:55.810Z"
   },
   {
    "duration": 112,
    "start_time": "2023-06-28T07:02:59.174Z"
   },
   {
    "duration": 196,
    "start_time": "2023-06-28T07:02:59.289Z"
   },
   {
    "duration": 6,
    "start_time": "2023-06-28T07:02:59.488Z"
   },
   {
    "duration": 370,
    "start_time": "2023-06-28T07:02:59.497Z"
   },
   {
    "duration": 27,
    "start_time": "2023-06-28T07:02:59.870Z"
   },
   {
    "duration": 36,
    "start_time": "2023-06-28T07:02:59.900Z"
   },
   {
    "duration": 365,
    "start_time": "2023-06-28T07:02:59.939Z"
   },
   {
    "duration": 3,
    "start_time": "2023-06-28T07:03:00.307Z"
   },
   {
    "duration": 426,
    "start_time": "2023-06-28T07:03:00.312Z"
   },
   {
    "duration": 77,
    "start_time": "2023-06-28T07:03:00.740Z"
   },
   {
    "duration": 849788,
    "start_time": "2023-06-28T07:03:00.819Z"
   },
   {
    "duration": 123,
    "start_time": "2023-06-28T07:17:10.609Z"
   },
   {
    "duration": 12,
    "start_time": "2023-06-28T07:17:10.734Z"
   },
   {
    "duration": 0,
    "start_time": "2023-06-28T07:17:10.748Z"
   },
   {
    "duration": 0,
    "start_time": "2023-06-28T07:17:10.749Z"
   },
   {
    "duration": 0,
    "start_time": "2023-06-28T07:17:10.751Z"
   },
   {
    "duration": 0,
    "start_time": "2023-06-28T07:17:10.753Z"
   },
   {
    "duration": 0,
    "start_time": "2023-06-28T07:17:10.754Z"
   },
   {
    "duration": 0,
    "start_time": "2023-06-28T07:17:10.755Z"
   },
   {
    "duration": 0,
    "start_time": "2023-06-28T07:17:10.756Z"
   },
   {
    "duration": 0,
    "start_time": "2023-06-28T07:17:10.757Z"
   },
   {
    "duration": 49,
    "start_time": "2023-06-28T07:17:34.732Z"
   },
   {
    "duration": 37,
    "start_time": "2023-06-28T07:18:47.212Z"
   },
   {
    "duration": 111,
    "start_time": "2023-06-28T07:19:21.050Z"
   },
   {
    "duration": 105,
    "start_time": "2023-06-28T07:20:04.424Z"
   },
   {
    "duration": 18121,
    "start_time": "2023-06-28T07:20:10.992Z"
   },
   {
    "duration": 17897,
    "start_time": "2023-06-28T07:22:53.343Z"
   },
   {
    "duration": 147175,
    "start_time": "2023-06-28T07:30:19.152Z"
   },
   {
    "duration": 0,
    "start_time": "2023-06-28T07:33:41.849Z"
   },
   {
    "duration": 156481,
    "start_time": "2023-06-28T07:33:45.740Z"
   },
   {
    "duration": 1685,
    "start_time": "2023-06-28T07:48:27.376Z"
   },
   {
    "duration": 1723,
    "start_time": "2023-06-28T07:48:29.064Z"
   },
   {
    "duration": 1492,
    "start_time": "2023-06-28T07:48:30.789Z"
   },
   {
    "duration": 58,
    "start_time": "2023-06-28T07:48:32.285Z"
   },
   {
    "duration": 39,
    "start_time": "2023-06-28T07:48:32.345Z"
   },
   {
    "duration": 134,
    "start_time": "2023-06-28T07:48:32.387Z"
   },
   {
    "duration": 109,
    "start_time": "2023-06-28T07:48:32.523Z"
   },
   {
    "duration": 163,
    "start_time": "2023-06-28T07:48:32.635Z"
   },
   {
    "duration": 554,
    "start_time": "2023-06-28T07:48:32.801Z"
   },
   {
    "duration": 67,
    "start_time": "2023-06-28T07:48:33.358Z"
   },
   {
    "duration": 39,
    "start_time": "2023-06-28T07:48:33.428Z"
   },
   {
    "duration": 34,
    "start_time": "2023-06-28T07:48:33.469Z"
   },
   {
    "duration": 139,
    "start_time": "2023-06-28T07:48:33.505Z"
   },
   {
    "duration": 93,
    "start_time": "2023-06-28T07:48:33.648Z"
   },
   {
    "duration": 8,
    "start_time": "2023-06-28T07:48:33.744Z"
   },
   {
    "duration": 154,
    "start_time": "2023-06-28T07:48:33.754Z"
   },
   {
    "duration": 93,
    "start_time": "2023-06-28T07:48:33.910Z"
   },
   {
    "duration": 436,
    "start_time": "2023-06-28T07:48:34.005Z"
   },
   {
    "duration": 103,
    "start_time": "2023-06-28T07:48:34.443Z"
   },
   {
    "duration": 27,
    "start_time": "2023-06-28T07:48:34.548Z"
   },
   {
    "duration": 132,
    "start_time": "2023-06-28T07:48:34.578Z"
   },
   {
    "duration": 348,
    "start_time": "2023-06-28T07:48:34.713Z"
   },
   {
    "duration": 87,
    "start_time": "2023-06-28T07:48:35.066Z"
   },
   {
    "duration": 359,
    "start_time": "2023-06-28T07:48:35.157Z"
   },
   {
    "duration": 429,
    "start_time": "2023-06-28T07:48:35.519Z"
   },
   {
    "duration": 25,
    "start_time": "2023-06-28T07:48:35.951Z"
   },
   {
    "duration": 40,
    "start_time": "2023-06-28T07:48:35.978Z"
   },
   {
    "duration": 508,
    "start_time": "2023-06-28T07:48:36.022Z"
   },
   {
    "duration": 96,
    "start_time": "2023-06-28T07:48:36.533Z"
   },
   {
    "duration": 828,
    "start_time": "2023-06-28T07:48:36.632Z"
   },
   {
    "duration": 3816,
    "start_time": "2023-06-28T07:48:37.462Z"
   },
   {
    "duration": 69,
    "start_time": "2023-06-28T07:48:41.280Z"
   },
   {
    "duration": 178,
    "start_time": "2023-06-28T07:48:41.367Z"
   },
   {
    "duration": 6,
    "start_time": "2023-06-28T07:48:41.547Z"
   },
   {
    "duration": 473,
    "start_time": "2023-06-28T07:48:41.555Z"
   },
   {
    "duration": 25,
    "start_time": "2023-06-28T07:48:42.032Z"
   },
   {
    "duration": 35,
    "start_time": "2023-06-28T07:48:42.059Z"
   },
   {
    "duration": 348,
    "start_time": "2023-06-28T07:48:42.096Z"
   },
   {
    "duration": 5,
    "start_time": "2023-06-28T07:48:42.447Z"
   },
   {
    "duration": 427,
    "start_time": "2023-06-28T07:48:42.454Z"
   },
   {
    "duration": 118,
    "start_time": "2023-06-28T07:48:42.897Z"
   },
   {
    "duration": 11118,
    "start_time": "2023-06-28T08:08:28.014Z"
   },
   {
    "duration": 6642,
    "start_time": "2023-06-28T08:08:54.203Z"
   },
   {
    "duration": 8377,
    "start_time": "2023-06-28T08:09:21.917Z"
   },
   {
    "duration": 6897,
    "start_time": "2023-06-28T08:10:44.918Z"
   },
   {
    "duration": 12018,
    "start_time": "2023-06-28T08:11:33.069Z"
   },
   {
    "duration": 7962,
    "start_time": "2023-06-28T08:12:08.407Z"
   },
   {
    "duration": 8351,
    "start_time": "2023-06-28T08:12:21.266Z"
   },
   {
    "duration": 11562,
    "start_time": "2023-06-28T08:12:40.742Z"
   },
   {
    "duration": 12562,
    "start_time": "2023-06-28T08:13:00.759Z"
   },
   {
    "duration": 6460,
    "start_time": "2023-06-28T08:13:35.342Z"
   },
   {
    "duration": 19645,
    "start_time": "2023-06-28T08:14:24.803Z"
   },
   {
    "duration": 20119,
    "start_time": "2023-06-28T08:16:27.275Z"
   },
   {
    "duration": 20276,
    "start_time": "2023-06-28T08:17:15.571Z"
   },
   {
    "duration": 17457,
    "start_time": "2023-06-28T08:19:03.117Z"
   },
   {
    "duration": 53583,
    "start_time": "2023-06-28T08:20:23.255Z"
   },
   {
    "duration": 53236,
    "start_time": "2023-06-28T08:26:37.110Z"
   },
   {
    "duration": 911,
    "start_time": "2023-06-28T08:28:59.111Z"
   },
   {
    "duration": 27,
    "start_time": "2023-06-28T08:29:11.219Z"
   },
   {
    "duration": 22,
    "start_time": "2023-06-28T08:32:49.689Z"
   },
   {
    "duration": 5,
    "start_time": "2023-06-28T08:32:50.815Z"
   },
   {
    "duration": 307911,
    "start_time": "2023-06-28T08:34:14.471Z"
   },
   {
    "duration": 711,
    "start_time": "2023-06-28T08:39:33.399Z"
   },
   {
    "duration": 5,
    "start_time": "2023-06-28T08:39:37.203Z"
   },
   {
    "duration": 368,
    "start_time": "2023-06-28T08:40:22.703Z"
   },
   {
    "duration": 15,
    "start_time": "2023-06-28T08:40:24.007Z"
   },
   {
    "duration": 5,
    "start_time": "2023-06-28T08:40:25.474Z"
   },
   {
    "duration": 983,
    "start_time": "2023-06-28T09:06:33.332Z"
   },
   {
    "duration": 22,
    "start_time": "2023-06-28T09:06:37.660Z"
   },
   {
    "duration": 5,
    "start_time": "2023-06-28T09:06:38.310Z"
   },
   {
    "duration": 4,
    "start_time": "2023-06-28T09:06:42.056Z"
   },
   {
    "duration": 9,
    "start_time": "2023-06-28T09:06:43.314Z"
   },
   {
    "duration": 48982,
    "start_time": "2023-06-28T09:21:56.393Z"
   },
   {
    "duration": 796,
    "start_time": "2023-06-28T09:22:45.377Z"
   },
   {
    "duration": 7,
    "start_time": "2023-06-28T09:22:46.176Z"
   },
   {
    "duration": 1374,
    "start_time": "2023-06-28T09:24:40.396Z"
   },
   {
    "duration": 1595,
    "start_time": "2023-06-28T09:24:41.773Z"
   },
   {
    "duration": 1214,
    "start_time": "2023-06-28T09:24:43.369Z"
   },
   {
    "duration": 48,
    "start_time": "2023-06-28T09:24:44.585Z"
   },
   {
    "duration": 36,
    "start_time": "2023-06-28T09:24:44.636Z"
   },
   {
    "duration": 100,
    "start_time": "2023-06-28T09:24:44.674Z"
   },
   {
    "duration": 107,
    "start_time": "2023-06-28T09:24:44.776Z"
   },
   {
    "duration": 130,
    "start_time": "2023-06-28T09:24:44.885Z"
   },
   {
    "duration": 481,
    "start_time": "2023-06-28T09:24:45.017Z"
   },
   {
    "duration": 67,
    "start_time": "2023-06-28T09:24:45.500Z"
   },
   {
    "duration": 668,
    "start_time": "2023-06-28T09:24:45.569Z"
   },
   {
    "duration": 251,
    "start_time": "2023-06-28T09:24:46.239Z"
   },
   {
    "duration": 198,
    "start_time": "2023-06-28T09:24:46.492Z"
   },
   {
    "duration": 89,
    "start_time": "2023-06-28T09:24:46.693Z"
   },
   {
    "duration": 9,
    "start_time": "2023-06-28T09:24:46.784Z"
   },
   {
    "duration": 112,
    "start_time": "2023-06-28T09:24:46.795Z"
   },
   {
    "duration": 63,
    "start_time": "2023-06-28T09:24:46.909Z"
   },
   {
    "duration": 317,
    "start_time": "2023-06-28T09:24:46.973Z"
   },
   {
    "duration": 93,
    "start_time": "2023-06-28T09:24:47.291Z"
   },
   {
    "duration": 14,
    "start_time": "2023-06-28T09:24:47.385Z"
   },
   {
    "duration": 154,
    "start_time": "2023-06-28T09:24:47.401Z"
   },
   {
    "duration": 249,
    "start_time": "2023-06-28T09:24:47.557Z"
   },
   {
    "duration": 70,
    "start_time": "2023-06-28T09:24:47.808Z"
   },
   {
    "duration": 284,
    "start_time": "2023-06-28T09:24:47.880Z"
   },
   {
    "duration": 269,
    "start_time": "2023-06-28T09:24:48.166Z"
   },
   {
    "duration": 284,
    "start_time": "2023-06-28T09:24:48.437Z"
   },
   {
    "duration": 213,
    "start_time": "2023-06-28T09:24:48.723Z"
   },
   {
    "duration": 396,
    "start_time": "2023-06-28T09:24:48.938Z"
   },
   {
    "duration": 66,
    "start_time": "2023-06-28T09:24:49.335Z"
   },
   {
    "duration": 606,
    "start_time": "2023-06-28T09:24:49.402Z"
   },
   {
    "duration": 3398,
    "start_time": "2023-06-28T09:24:50.010Z"
   },
   {
    "duration": 76,
    "start_time": "2023-06-28T09:24:53.410Z"
   },
   {
    "duration": 204,
    "start_time": "2023-06-28T09:24:53.488Z"
   },
   {
    "duration": 9,
    "start_time": "2023-06-28T09:24:53.694Z"
   },
   {
    "duration": 537,
    "start_time": "2023-06-28T09:24:53.705Z"
   },
   {
    "duration": 29,
    "start_time": "2023-06-28T09:24:54.245Z"
   },
   {
    "duration": 22,
    "start_time": "2023-06-28T09:24:54.275Z"
   },
   {
    "duration": 312,
    "start_time": "2023-06-28T09:24:54.299Z"
   },
   {
    "duration": 3,
    "start_time": "2023-06-28T09:24:54.613Z"
   },
   {
    "duration": 355,
    "start_time": "2023-06-28T09:24:54.618Z"
   },
   {
    "duration": 95,
    "start_time": "2023-06-28T09:24:54.977Z"
   },
   {
    "duration": 45509,
    "start_time": "2023-06-28T09:24:55.074Z"
   },
   {
    "duration": 801,
    "start_time": "2023-06-28T09:25:40.585Z"
   },
   {
    "duration": 6,
    "start_time": "2023-06-28T09:25:41.388Z"
   },
   {
    "duration": 478,
    "start_time": "2023-06-28T09:25:41.395Z"
   },
   {
    "duration": 95,
    "start_time": "2023-06-28T09:25:41.875Z"
   },
   {
    "duration": 6,
    "start_time": "2023-06-28T09:25:41.973Z"
   },
   {
    "duration": 49288,
    "start_time": "2023-06-28T09:25:41.981Z"
   },
   {
    "duration": 882,
    "start_time": "2023-06-28T09:26:31.272Z"
   },
   {
    "duration": 27,
    "start_time": "2023-06-28T09:26:32.156Z"
   },
   {
    "duration": 103,
    "start_time": "2023-06-28T09:26:32.185Z"
   },
   {
    "duration": 65,
    "start_time": "2023-06-28T09:26:32.291Z"
   },
   {
    "duration": 60,
    "start_time": "2023-06-28T09:26:32.358Z"
   },
   {
    "duration": 6,
    "start_time": "2023-06-28T09:29:30.704Z"
   },
   {
    "duration": 341,
    "start_time": "2023-06-28T09:29:33.327Z"
   },
   {
    "duration": 10,
    "start_time": "2023-06-28T09:29:35.127Z"
   },
   {
    "duration": 5,
    "start_time": "2023-06-28T09:29:36.221Z"
   },
   {
    "duration": 24,
    "start_time": "2023-06-28T09:31:59.229Z"
   },
   {
    "duration": 6,
    "start_time": "2023-06-28T09:31:59.964Z"
   },
   {
    "duration": 4,
    "start_time": "2023-06-28T10:29:31.462Z"
   },
   {
    "duration": 11,
    "start_time": "2023-06-28T10:29:33.202Z"
   },
   {
    "duration": 30,
    "start_time": "2023-06-28T10:33:07.080Z"
   },
   {
    "duration": 670,
    "start_time": "2023-06-28T10:34:58.229Z"
   },
   {
    "duration": 707,
    "start_time": "2023-06-28T10:35:21.604Z"
   },
   {
    "duration": 120,
    "start_time": "2023-06-28T10:43:56.440Z"
   },
   {
    "duration": 1318,
    "start_time": "2023-06-28T10:54:05.189Z"
   },
   {
    "duration": 1528,
    "start_time": "2023-06-28T10:54:06.509Z"
   },
   {
    "duration": 1266,
    "start_time": "2023-06-28T10:54:08.039Z"
   },
   {
    "duration": 64,
    "start_time": "2023-06-28T10:54:09.307Z"
   },
   {
    "duration": 21,
    "start_time": "2023-06-28T10:54:09.376Z"
   },
   {
    "duration": 119,
    "start_time": "2023-06-28T10:54:09.399Z"
   },
   {
    "duration": 101,
    "start_time": "2023-06-28T10:54:09.520Z"
   },
   {
    "duration": 131,
    "start_time": "2023-06-28T10:54:09.623Z"
   },
   {
    "duration": 501,
    "start_time": "2023-06-28T10:54:09.756Z"
   },
   {
    "duration": 69,
    "start_time": "2023-06-28T10:54:10.259Z"
   },
   {
    "duration": 16,
    "start_time": "2023-06-28T10:54:10.330Z"
   },
   {
    "duration": 74,
    "start_time": "2023-06-28T10:54:10.348Z"
   },
   {
    "duration": 122,
    "start_time": "2023-06-28T10:54:10.424Z"
   },
   {
    "duration": 89,
    "start_time": "2023-06-28T10:54:10.549Z"
   },
   {
    "duration": 8,
    "start_time": "2023-06-28T10:54:10.641Z"
   },
   {
    "duration": 131,
    "start_time": "2023-06-28T10:54:10.651Z"
   },
   {
    "duration": 89,
    "start_time": "2023-06-28T10:54:10.784Z"
   },
   {
    "duration": 328,
    "start_time": "2023-06-28T10:54:10.875Z"
   },
   {
    "duration": 132,
    "start_time": "2023-06-28T10:54:11.205Z"
   },
   {
    "duration": 36,
    "start_time": "2023-06-28T10:54:11.340Z"
   },
   {
    "duration": 108,
    "start_time": "2023-06-28T10:54:11.381Z"
   },
   {
    "duration": 292,
    "start_time": "2023-06-28T10:54:11.491Z"
   },
   {
    "duration": 67,
    "start_time": "2023-06-28T10:54:11.785Z"
   },
   {
    "duration": 304,
    "start_time": "2023-06-28T10:54:11.866Z"
   },
   {
    "duration": 303,
    "start_time": "2023-06-28T10:54:12.172Z"
   },
   {
    "duration": 26,
    "start_time": "2023-06-28T10:54:12.478Z"
   },
   {
    "duration": 27,
    "start_time": "2023-06-28T10:54:12.506Z"
   },
   {
    "duration": 400,
    "start_time": "2023-06-28T10:54:12.536Z"
   },
   {
    "duration": 78,
    "start_time": "2023-06-28T10:54:12.940Z"
   },
   {
    "duration": 737,
    "start_time": "2023-06-28T10:54:13.020Z"
   },
   {
    "duration": 4142,
    "start_time": "2023-06-28T10:54:13.767Z"
   },
   {
    "duration": 93,
    "start_time": "2023-06-28T10:54:17.912Z"
   },
   {
    "duration": 201,
    "start_time": "2023-06-28T10:54:18.009Z"
   },
   {
    "duration": 8,
    "start_time": "2023-06-28T10:54:18.212Z"
   },
   {
    "duration": 423,
    "start_time": "2023-06-28T10:54:18.222Z"
   },
   {
    "duration": 31,
    "start_time": "2023-06-28T10:54:18.647Z"
   },
   {
    "duration": 26,
    "start_time": "2023-06-28T10:54:18.681Z"
   },
   {
    "duration": 353,
    "start_time": "2023-06-28T10:54:18.709Z"
   },
   {
    "duration": 6,
    "start_time": "2023-06-28T10:54:19.066Z"
   },
   {
    "duration": 545,
    "start_time": "2023-06-28T10:54:19.075Z"
   },
   {
    "duration": 74,
    "start_time": "2023-06-28T10:54:19.624Z"
   },
   {
    "duration": 268277,
    "start_time": "2023-06-28T10:54:19.700Z"
   },
   {
    "duration": 807,
    "start_time": "2023-06-28T10:58:47.979Z"
   },
   {
    "duration": 6,
    "start_time": "2023-06-28T10:58:48.788Z"
   },
   {
    "duration": 377,
    "start_time": "2023-06-28T10:58:48.796Z"
   },
   {
    "duration": 97,
    "start_time": "2023-06-28T10:58:49.175Z"
   },
   {
    "duration": 91,
    "start_time": "2023-06-28T10:58:49.278Z"
   },
   {
    "duration": 48880,
    "start_time": "2023-06-28T10:58:49.371Z"
   },
   {
    "duration": 940,
    "start_time": "2023-06-28T10:59:38.254Z"
   },
   {
    "duration": 27,
    "start_time": "2023-06-28T10:59:39.196Z"
   },
   {
    "duration": 21,
    "start_time": "2023-06-28T10:59:39.225Z"
   },
   {
    "duration": 104,
    "start_time": "2023-06-28T10:59:39.248Z"
   },
   {
    "duration": 0,
    "start_time": "2023-06-28T10:59:39.353Z"
   },
   {
    "duration": 0,
    "start_time": "2023-06-28T10:59:39.355Z"
   },
   {
    "duration": 0,
    "start_time": "2023-06-28T10:59:39.356Z"
   },
   {
    "duration": 7,
    "start_time": "2023-06-28T10:59:55.652Z"
   },
   {
    "duration": 10,
    "start_time": "2023-06-28T10:59:58.321Z"
   },
   {
    "duration": 692,
    "start_time": "2023-06-28T11:00:20.119Z"
   }
  ],
  "kernelspec": {
   "display_name": "Python 3 (ipykernel)",
   "language": "python",
   "name": "python3"
  },
  "language_info": {
   "codemirror_mode": {
    "name": "ipython",
    "version": 3
   },
   "file_extension": ".py",
   "mimetype": "text/x-python",
   "name": "python",
   "nbconvert_exporter": "python",
   "pygments_lexer": "ipython3",
   "version": "3.9.13"
  },
  "toc": {
   "base_numbering": 1,
   "nav_menu": {},
   "number_sections": true,
   "sideBar": true,
   "skip_h1_title": true,
   "title_cell": "Table of Contents",
   "title_sidebar": "Contents",
   "toc_cell": false,
   "toc_position": {},
   "toc_section_display": true,
   "toc_window_display": false
  }
 },
 "nbformat": 4,
 "nbformat_minor": 2
}
